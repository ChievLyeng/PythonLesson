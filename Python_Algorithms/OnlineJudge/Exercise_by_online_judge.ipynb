{
 "cells": [
  {
   "cell_type": "markdown",
   "id": "92fb9ff8",
   "metadata": {},
   "source": [
    "# 01-01"
   ]
  },
  {
   "cell_type": "code",
   "execution_count": 13,
   "id": "71075cef",
   "metadata": {},
   "outputs": [
    {
     "name": "stdout",
     "output_type": "stream",
     "text": [
      "Enter N,M : 1 100\n",
      "Sum from 1 to 100 : 5050\n"
     ]
    }
   ],
   "source": [
    "def sumNum (N,M) :\n",
    "    s = 0\n",
    "    for i in range(N,M+1) :\n",
    "        s += i\n",
    "    return s\n",
    "\n",
    "N,M = map(int, input(\"Enter N,M : \").split())\n",
    "\n",
    "print(f\"Sum from {N} to {M} : {sumNum(N,M)}\")\n",
    "        \n",
    "        \n",
    "        "
   ]
  },
  {
   "cell_type": "code",
   "execution_count": 14,
   "id": "10f134ed",
   "metadata": {},
   "outputs": [
    {
     "name": "stdout",
     "output_type": "stream",
     "text": [
      "Enter N,M : 1 100\n",
      "Sum from 1 to 100 : 5050\n"
     ]
    }
   ],
   "source": [
    "def sumNum (N,M) :\n",
    "    s = (M * (M + 1) // 2) - ((N - 1) * N // 2)\n",
    "    return s\n",
    "\n",
    "N,M = map(int, input(\"Enter N,M : \").split())\n",
    "\n",
    "print(f\"Sum from {N} to {M} : {sumNum(N,M)}\")"
   ]
  },
  {
   "cell_type": "code",
   "execution_count": 55,
   "id": "00080973",
   "metadata": {},
   "outputs": [
    {
     "name": "stdout",
     "output_type": "stream",
     "text": [
      "1 100\n",
      "5050\n"
     ]
    }
   ],
   "source": [
    "def sumNum (N,M) :\n",
    "    s = (( M - N +1 ) * ( N + M )) // 2\n",
    "    return s \n",
    "\n",
    "N,M = map(int, input().split())\n",
    "print(sumNum(N,M))"
   ]
  },
  {
   "cell_type": "markdown",
   "id": "8be4ab59",
   "metadata": {},
   "source": [
    "# 01-02"
   ]
  },
  {
   "cell_type": "code",
   "execution_count": 46,
   "id": "ab578eb1",
   "metadata": {},
   "outputs": [
    {
     "name": "stdout",
     "output_type": "stream",
     "text": [
      "1987 123 4567 89\n",
      "141 16\n"
     ]
    }
   ],
   "source": [
    "import random as rd\n",
    "\n",
    "def FindMin (SEED,MIN,MAX,N) :\n",
    "    rd.seed(SEED)\n",
    "    lst = rd.sample(range(MIN,MAX),N)\n",
    "    smallest = min(lst)\n",
    "    \n",
    "    return smallest,lst.index(smallest)\n",
    "\n",
    "SEED,MIN,MAX,N = map(int,input().split())\n",
    "smallest,smallest_index = FindMin(SEED,MIN,MAX,N)\n",
    "print(smallest,smallest_index)"
   ]
  },
  {
   "cell_type": "markdown",
   "id": "56449cfa",
   "metadata": {},
   "source": [
    "# 01-03"
   ]
  },
  {
   "cell_type": "code",
   "execution_count": 67,
   "id": "6d6d5ca7",
   "metadata": {},
   "outputs": [
    {
     "name": "stdout",
     "output_type": "stream",
     "text": [
      "1234567890\n",
      "3211610688\n"
     ]
    }
   ],
   "source": [
    "def sumDivisor(N) :\n",
    "    s = 0\n",
    "    sqrt = int(N ** 0.5)\n",
    "    \n",
    "    for i in range (1, sqrt+ 1):\n",
    "        if N % i == 0:\n",
    "            s += i\n",
    "            s += N // i\n",
    "            \n",
    "    return s \n",
    "\n",
    "N = int(input())\n",
    "print(sumDivisor(N))"
   ]
  },
  {
   "cell_type": "markdown",
   "id": "da5d2b35",
   "metadata": {},
   "source": [
    "# 01-04"
   ]
  },
  {
   "cell_type": "code",
   "execution_count": 36,
   "id": "65c3e0d1",
   "metadata": {},
   "outputs": [
    {
     "name": "stdout",
     "output_type": "stream",
     "text": [
      "2147483647 4294967295\n",
      "4294967291 4294967292 4294967293 4294967294 4294967295\n"
     ]
    }
   ],
   "source": [
    "def Is_PrimeNum (n,m) : \n",
    "    if n <= 1 :\n",
    "        return False\n",
    "    for i in range(2, int(m ** 0.5) + 1) :\n",
    "        if n % i == 0 :\n",
    "            return False\n",
    "    return True\n",
    "\n",
    "\n",
    "def findPrimeNum (m,n) :\n",
    "    largest_primes = []\n",
    "    for i in range(m, n -1, -1) :\n",
    "        if Is_PrimeNum(n,i) :\n",
    "            largest_primes.append(i)\n",
    "            if len(largest_primes) == 5:\n",
    "                break\n",
    "    largest_primes.reverse()\n",
    "    return largest_primes\n",
    "\n",
    "n,m = map(int, input().split())\n",
    "print(*findPrimeNum(m,n))\n"
   ]
  },
  {
   "cell_type": "markdown",
   "id": "45ebedf3",
   "metadata": {},
   "source": [
    "# 01-05"
   ]
  },
  {
   "cell_type": "code",
   "execution_count": 40,
   "id": "b9e4ecac",
   "metadata": {},
   "outputs": [
    {
     "name": "stdout",
     "output_type": "stream",
     "text": [
      "Enter the height of the odd pyramid: 10\n",
      "         1\n",
      "        357\n",
      "       911131517\n",
      "      19212325272931\n",
      "     333537394143454749\n",
      "    5153555759616365676971\n",
      "   73757779818385878991939597\n",
      "  99101103105107109111113115117119121123125127\n",
      " 129131133135137139141143145147149151153155157159161\n",
      "163165167169171173175177179181183185187189191193195197199\n"
     ]
    }
   ],
   "source": [
    "def print_odd_pyramid(height):\n",
    "    current_odd = 1\n",
    "    for i in range(1, height + 1):\n",
    "        # Print leading spaces\n",
    "        for j in range(height - i):\n",
    "            print(\" \", end=\"\")\n",
    "        \n",
    "        # Print odd numbers\n",
    "        for j in range(2 * i - 1):\n",
    "            print(current_odd, end=\"\")\n",
    "            current_odd += 2\n",
    "        \n",
    "        # Move to the next line\n",
    "        print()\n",
    "\n",
    "try:\n",
    "    height = int(input(\"Enter the height of the odd pyramid: \"))\n",
    "    print_odd_pyramid(height)\n",
    "except ValueError:\n",
    "    print(\"Please enter a valid integer for the height.\")\n"
   ]
  },
  {
   "cell_type": "markdown",
   "id": "27767fee",
   "metadata": {},
   "source": [
    "# 01-06"
   ]
  },
  {
   "cell_type": "code",
   "execution_count": 60,
   "id": "121688e8",
   "metadata": {},
   "outputs": [
    {
     "name": "stdout",
     "output_type": "stream",
     "text": [
      "20\n",
      "42\n"
     ]
    }
   ],
   "source": [
    "def findDivisors(n) :\n",
    "    s = 0\n",
    "    for i in range(1, n + 1) :\n",
    "        if n % i == 0 :\n",
    "            s += i\n",
    "    return s\n",
    "            \n",
    "            \n",
    "n = int(input())\n",
    "print(findDivisors(n))"
   ]
  },
  {
   "cell_type": "markdown",
   "id": "f07196bc",
   "metadata": {},
   "source": [
    "# 01-07"
   ]
  },
  {
   "cell_type": "code",
   "execution_count": null,
   "id": "72e89e02",
   "metadata": {},
   "outputs": [],
   "source": []
  },
  {
   "cell_type": "code",
   "execution_count": 61,
   "id": "62afa62a",
   "metadata": {},
   "outputs": [
    {
     "name": "stdout",
     "output_type": "stream",
     "text": [
      "[(3, 5), (5, 7), (11, 13), (17, 19), (29, 31), (41, 43), (59, 61), (71, 73)]\n"
     ]
    }
   ],
   "source": [
    "def is_prime(n):\n",
    "    if n <= 1:\n",
    "        return False\n",
    "    if n <= 3:\n",
    "        return True\n",
    "    if n % 2 == 0 or n % 3 == 0:\n",
    "        return False\n",
    "    i = 5\n",
    "    while i * i <= n:\n",
    "        if n % i == 0 or n % (i + 2) == 0:\n",
    "            return False\n",
    "        i += 6\n",
    "    return True\n",
    "\n",
    "def find_twin_primes(limit):\n",
    "    twin_primes = []\n",
    "    for num in range(3, limit - 1):\n",
    "        if is_prime(num) and is_prime(num + 2):\n",
    "            twin_primes.append((num, num + 2))\n",
    "    return twin_primes\n",
    "\n",
    "# Example: Find twin primes up to a limit (e.g., 100)\n",
    "limit = 100\n",
    "twin_prime_pairs = find_twin_primes(limit)\n",
    "print(twin_prime_pairs)\n"
   ]
  },
  {
   "cell_type": "code",
   "execution_count": null,
   "id": "da6083b3",
   "metadata": {},
   "outputs": [],
   "source": []
  },
  {
   "cell_type": "code",
   "execution_count": null,
   "id": "5a0e889d",
   "metadata": {},
   "outputs": [],
   "source": []
  },
  {
   "cell_type": "code",
   "execution_count": null,
   "id": "0c7cf4f1",
   "metadata": {},
   "outputs": [],
   "source": []
  },
  {
   "cell_type": "code",
   "execution_count": null,
   "id": "004ffa43",
   "metadata": {},
   "outputs": [],
   "source": []
  },
  {
   "cell_type": "code",
   "execution_count": null,
   "id": "2f802092",
   "metadata": {},
   "outputs": [],
   "source": []
  },
  {
   "cell_type": "code",
   "execution_count": null,
   "id": "7cf49ef4",
   "metadata": {},
   "outputs": [],
   "source": []
  },
  {
   "cell_type": "code",
   "execution_count": null,
   "id": "b719e9b2",
   "metadata": {},
   "outputs": [],
   "source": []
  },
  {
   "cell_type": "code",
   "execution_count": null,
   "id": "b66d117f",
   "metadata": {},
   "outputs": [],
   "source": []
  },
  {
   "cell_type": "code",
   "execution_count": null,
   "id": "64ac9fb1",
   "metadata": {},
   "outputs": [],
   "source": []
  }
 ],
 "metadata": {
  "kernelspec": {
   "display_name": "Python 3 (ipykernel)",
   "language": "python",
   "name": "python3"
  },
  "language_info": {
   "codemirror_mode": {
    "name": "ipython",
    "version": 3
   },
   "file_extension": ".py",
   "mimetype": "text/x-python",
   "name": "python",
   "nbconvert_exporter": "python",
   "pygments_lexer": "ipython3",
   "version": "3.10.9"
  }
 },
 "nbformat": 4,
 "nbformat_minor": 5
}
