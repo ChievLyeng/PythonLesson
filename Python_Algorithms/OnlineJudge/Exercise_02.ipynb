{
 "cells": [
  {
   "cell_type": "markdown",
   "id": "b5a1686f",
   "metadata": {},
   "source": [
    "# 02_01"
   ]
  },
  {
   "cell_type": "code",
   "execution_count": 12,
   "id": "58e58759",
   "metadata": {},
   "outputs": [
    {
     "name": "stdout",
     "output_type": "stream",
     "text": [
      "77 11\n",
      "266711567621704128000\n"
     ]
    }
   ],
   "source": [
    "def perm(n, r):\n",
    "    result = 1\n",
    "    for i in range(r):\n",
    "        result *= (n - i)\n",
    "    return result\n",
    "\n",
    "n,r = map(int,input().split())\n",
    "\n",
    "if n >= r:\n",
    "    result = perm(n, r)\n",
    "    print(result)\n"
   ]
  },
  {
   "cell_type": "code",
   "execution_count": 11,
   "id": "9e8a4549",
   "metadata": {},
   "outputs": [
    {
     "name": "stdout",
     "output_type": "stream",
     "text": [
      "77 11\n",
      "266711567621704128000\n"
     ]
    }
   ],
   "source": [
    "import math\n",
    "def perm(a , b):\n",
    "    result = math.factorial(a) // math.factorial(a-b)\n",
    "    return result\n",
    "a , b = map(int , input().split())\n",
    "print(perm(a,b))"
   ]
  },
  {
   "cell_type": "markdown",
   "id": "959a920e",
   "metadata": {},
   "source": [
    "# 02_03"
   ]
  },
  {
   "cell_type": "code",
   "execution_count": 46,
   "id": "338cc0f2",
   "metadata": {},
   "outputs": [
    {
     "ename": "IndentationError",
     "evalue": "expected an indented block after 'for' statement on line 6 (3527609772.py, line 11)",
     "output_type": "error",
     "traceback": [
      "\u001b[0;36m  Cell \u001b[0;32mIn[46], line 11\u001b[0;36m\u001b[0m\n\u001b[0;31m    return lst\u001b[0m\n\u001b[0m    ^\u001b[0m\n\u001b[0;31mIndentationError\u001b[0m\u001b[0;31m:\u001b[0m expected an indented block after 'for' statement on line 6\n"
     ]
    }
   ],
   "source": [
    "import math\n",
    "\n",
    "def lcm(X) :\n",
    "    return X * \n",
    "\n",
    "X = [1, 3, 5, 7, 9, 11, 13, 15, 17, 19]       \n",
    "print(lcm(X))\n"
   ]
  },
  {
   "cell_type": "code",
   "execution_count": 21,
   "id": "f71233d9",
   "metadata": {},
   "outputs": [
    {
     "name": "stdout",
     "output_type": "stream",
     "text": [
      "1\n"
     ]
    }
   ],
   "source": [
    "print (math.gcd(5, 7))"
   ]
  },
  {
   "cell_type": "markdown",
   "id": "b419a622",
   "metadata": {},
   "source": [
    "# 02_04"
   ]
  },
  {
   "cell_type": "code",
   "execution_count": null,
   "id": "28429f33",
   "metadata": {},
   "outputs": [],
   "source": []
  },
  {
   "cell_type": "markdown",
   "id": "52a71b87",
   "metadata": {},
   "source": [
    "# 02_05"
   ]
  },
  {
   "cell_type": "code",
   "execution_count": null,
   "id": "801e32ff",
   "metadata": {},
   "outputs": [],
   "source": []
  },
  {
   "cell_type": "markdown",
   "id": "0c1bb4f6",
   "metadata": {},
   "source": [
    "# 02_06"
   ]
  },
  {
   "cell_type": "code",
   "execution_count": null,
   "id": "f6eb184e",
   "metadata": {},
   "outputs": [],
   "source": []
  },
  {
   "cell_type": "markdown",
   "id": "c06c3a1e",
   "metadata": {},
   "source": [
    "# 02_07"
   ]
  },
  {
   "cell_type": "code",
   "execution_count": null,
   "id": "78317686",
   "metadata": {},
   "outputs": [],
   "source": []
  },
  {
   "cell_type": "markdown",
   "id": "cd838bda",
   "metadata": {},
   "source": [
    "# 02_08"
   ]
  },
  {
   "cell_type": "code",
   "execution_count": null,
   "id": "8991a0cd",
   "metadata": {},
   "outputs": [],
   "source": []
  },
  {
   "cell_type": "markdown",
   "id": "2879962f",
   "metadata": {},
   "source": [
    "# 02_09"
   ]
  },
  {
   "cell_type": "code",
   "execution_count": null,
   "id": "ce7b9ee7",
   "metadata": {},
   "outputs": [],
   "source": []
  },
  {
   "cell_type": "markdown",
   "id": "05884dc9",
   "metadata": {},
   "source": [
    "# 02_10"
   ]
  },
  {
   "cell_type": "code",
   "execution_count": null,
   "id": "e5d4a62a",
   "metadata": {},
   "outputs": [],
   "source": []
  },
  {
   "cell_type": "markdown",
   "id": "cdd38ac2",
   "metadata": {},
   "source": [
    "# 02_11"
   ]
  },
  {
   "cell_type": "code",
   "execution_count": null,
   "id": "fba4b366",
   "metadata": {},
   "outputs": [],
   "source": []
  },
  {
   "cell_type": "markdown",
   "id": "bd958cf5",
   "metadata": {},
   "source": [
    "# 02_12"
   ]
  },
  {
   "cell_type": "code",
   "execution_count": null,
   "id": "4c6289c9",
   "metadata": {},
   "outputs": [],
   "source": []
  },
  {
   "cell_type": "markdown",
   "id": "6a43c97b",
   "metadata": {},
   "source": [
    "# 02_13"
   ]
  },
  {
   "cell_type": "code",
   "execution_count": null,
   "id": "bf948de7",
   "metadata": {},
   "outputs": [],
   "source": []
  },
  {
   "cell_type": "markdown",
   "id": "9c6e3bb6",
   "metadata": {},
   "source": [
    "# 02_14"
   ]
  },
  {
   "cell_type": "code",
   "execution_count": null,
   "id": "d972dd2f",
   "metadata": {},
   "outputs": [],
   "source": []
  },
  {
   "cell_type": "markdown",
   "id": "ae2ed6df",
   "metadata": {},
   "source": [
    "# 02_15"
   ]
  },
  {
   "cell_type": "code",
   "execution_count": null,
   "id": "03a0407e",
   "metadata": {},
   "outputs": [],
   "source": []
  },
  {
   "cell_type": "markdown",
   "id": "a99162b8",
   "metadata": {},
   "source": [
    "# 02_16"
   ]
  },
  {
   "cell_type": "code",
   "execution_count": null,
   "id": "16e6f853",
   "metadata": {},
   "outputs": [],
   "source": []
  },
  {
   "cell_type": "markdown",
   "id": "2f4250f5",
   "metadata": {},
   "source": [
    "# 02_17"
   ]
  },
  {
   "cell_type": "code",
   "execution_count": null,
   "id": "e02fc8ab",
   "metadata": {},
   "outputs": [],
   "source": []
  },
  {
   "cell_type": "markdown",
   "id": "59735dd1",
   "metadata": {},
   "source": [
    "# 02_18"
   ]
  },
  {
   "cell_type": "code",
   "execution_count": null,
   "id": "0df33be6",
   "metadata": {},
   "outputs": [],
   "source": []
  },
  {
   "cell_type": "markdown",
   "id": "6a63498b",
   "metadata": {},
   "source": [
    "# 02_19"
   ]
  },
  {
   "cell_type": "code",
   "execution_count": null,
   "id": "7abdf086",
   "metadata": {},
   "outputs": [],
   "source": []
  },
  {
   "cell_type": "markdown",
   "id": "b7db5255",
   "metadata": {},
   "source": [
    "# 02_20"
   ]
  },
  {
   "cell_type": "code",
   "execution_count": null,
   "id": "581e09ad",
   "metadata": {},
   "outputs": [],
   "source": []
  },
  {
   "cell_type": "markdown",
   "id": "e6e00057",
   "metadata": {},
   "source": [
    "# 02_21"
   ]
  },
  {
   "cell_type": "code",
   "execution_count": null,
   "id": "b8550e0a",
   "metadata": {},
   "outputs": [],
   "source": []
  },
  {
   "cell_type": "markdown",
   "id": "729fbc0e",
   "metadata": {},
   "source": [
    "# 02_22"
   ]
  },
  {
   "cell_type": "code",
   "execution_count": null,
   "id": "9567910a",
   "metadata": {},
   "outputs": [],
   "source": []
  },
  {
   "cell_type": "markdown",
   "id": "a81b2c1b",
   "metadata": {},
   "source": [
    "# 02_23"
   ]
  },
  {
   "cell_type": "code",
   "execution_count": null,
   "id": "cb776ac5",
   "metadata": {},
   "outputs": [],
   "source": []
  },
  {
   "cell_type": "markdown",
   "id": "eb9039f8",
   "metadata": {},
   "source": [
    "# 02_24"
   ]
  },
  {
   "cell_type": "code",
   "execution_count": null,
   "id": "4b8a312e",
   "metadata": {},
   "outputs": [],
   "source": []
  },
  {
   "cell_type": "markdown",
   "id": "d51bce67",
   "metadata": {},
   "source": [
    "# 02_25"
   ]
  },
  {
   "cell_type": "code",
   "execution_count": null,
   "id": "e5ba2c0a",
   "metadata": {},
   "outputs": [],
   "source": []
  },
  {
   "cell_type": "markdown",
   "id": "dfe2472b",
   "metadata": {},
   "source": [
    "# 02_26"
   ]
  },
  {
   "cell_type": "code",
   "execution_count": null,
   "id": "0ca664fe",
   "metadata": {},
   "outputs": [],
   "source": []
  }
 ],
 "metadata": {
  "kernelspec": {
   "display_name": "Python 3 (ipykernel)",
   "language": "python",
   "name": "python3"
  },
  "language_info": {
   "codemirror_mode": {
    "name": "ipython",
    "version": 3
   },
   "file_extension": ".py",
   "mimetype": "text/x-python",
   "name": "python",
   "nbconvert_exporter": "python",
   "pygments_lexer": "ipython3",
   "version": "3.10.9"
  }
 },
 "nbformat": 4,
 "nbformat_minor": 5
}
