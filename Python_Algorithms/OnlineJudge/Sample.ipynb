{
 "cells": [
  {
   "cell_type": "markdown",
   "id": "b5a1686f",
   "metadata": {},
   "source": [
    "# 03_01"
   ]
  },
  {
   "cell_type": "code",
   "execution_count": null,
   "id": "58e58759",
   "metadata": {},
   "outputs": [],
   "source": [
    "\n"
   ]
  },
  {
   "cell_type": "markdown",
   "id": "f834b7e7",
   "metadata": {},
   "source": [
    "# 03_02"
   ]
  },
  {
   "cell_type": "markdown",
   "id": "959a920e",
   "metadata": {},
   "source": [
    "# 03_03"
   ]
  },
  {
   "cell_type": "markdown",
   "id": "b419a622",
   "metadata": {},
   "source": [
    "# 03_04"
   ]
  },
  {
   "cell_type": "code",
   "execution_count": null,
   "id": "28429f33",
   "metadata": {},
   "outputs": [],
   "source": []
  },
  {
   "cell_type": "markdown",
   "id": "52a71b87",
   "metadata": {},
   "source": [
    "# 03_05"
   ]
  },
  {
   "cell_type": "markdown",
   "id": "0c1bb4f6",
   "metadata": {},
   "source": [
    "# 03_06"
   ]
  },
  {
   "cell_type": "markdown",
   "id": "c06c3a1e",
   "metadata": {},
   "source": [
    "# 03_07"
   ]
  },
  {
   "cell_type": "markdown",
   "id": "cd838bda",
   "metadata": {},
   "source": [
    "# 03_08"
   ]
  },
  {
   "cell_type": "markdown",
   "id": "2879962f",
   "metadata": {},
   "source": [
    "# 03_09"
   ]
  },
  {
   "cell_type": "markdown",
   "id": "05884dc9",
   "metadata": {},
   "source": [
    "# 03_10"
   ]
  },
  {
   "cell_type": "markdown",
   "id": "cdd38ac2",
   "metadata": {},
   "source": [
    "# 02_11"
   ]
  },
  {
   "cell_type": "code",
   "execution_count": null,
   "id": "fba4b366",
   "metadata": {},
   "outputs": [],
   "source": []
  },
  {
   "cell_type": "markdown",
   "id": "bd958cf5",
   "metadata": {},
   "source": [
    "# 02_12"
   ]
  },
  {
   "cell_type": "markdown",
   "id": "6a43c97b",
   "metadata": {},
   "source": [
    "# 02_13"
   ]
  },
  {
   "cell_type": "markdown",
   "id": "9c6e3bb6",
   "metadata": {},
   "source": [
    "# 02_14"
   ]
  },
  {
   "cell_type": "markdown",
   "id": "ae2ed6df",
   "metadata": {},
   "source": [
    "# 03_15"
   ]
  },
  {
   "cell_type": "markdown",
   "id": "a99162b8",
   "metadata": {},
   "source": [
    "# 02_16"
   ]
  },
  {
   "cell_type": "markdown",
   "id": "2f4250f5",
   "metadata": {},
   "source": [
    "# 03_17"
   ]
  },
  {
   "cell_type": "markdown",
   "id": "59735dd1",
   "metadata": {},
   "source": [
    "# 03_18"
   ]
  },
  {
   "cell_type": "markdown",
   "id": "6a63498b",
   "metadata": {},
   "source": [
    "# 02_19"
   ]
  },
  {
   "cell_type": "code",
   "execution_count": null,
   "id": "7abdf086",
   "metadata": {},
   "outputs": [],
   "source": []
  },
  {
   "cell_type": "markdown",
   "id": "b7db5255",
   "metadata": {},
   "source": [
    "# 02_20"
   ]
  },
  {
   "cell_type": "code",
   "execution_count": null,
   "id": "581e09ad",
   "metadata": {},
   "outputs": [],
   "source": []
  },
  {
   "cell_type": "markdown",
   "id": "e6e00057",
   "metadata": {},
   "source": [
    "# 02_21"
   ]
  },
  {
   "cell_type": "markdown",
   "id": "729fbc0e",
   "metadata": {},
   "source": [
    "# 02_22"
   ]
  },
  {
   "cell_type": "markdown",
   "id": "a81b2c1b",
   "metadata": {},
   "source": [
    "# 02_23"
   ]
  },
  {
   "cell_type": "markdown",
   "id": "eb9039f8",
   "metadata": {},
   "source": [
    "# 02_24"
   ]
  },
  {
   "cell_type": "markdown",
   "id": "d51bce67",
   "metadata": {},
   "source": [
    "# 02_25"
   ]
  },
  {
   "cell_type": "markdown",
   "id": "dfe2472b",
   "metadata": {},
   "source": [
    "# 02_26"
   ]
  }
 ],
 "metadata": {
  "kernelspec": {
   "display_name": "Python 3 (ipykernel)",
   "language": "python",
   "name": "python3"
  },
  "language_info": {
   "codemirror_mode": {
    "name": "ipython",
    "version": 3
   },
   "file_extension": ".py",
   "mimetype": "text/x-python",
   "name": "python",
   "nbconvert_exporter": "python",
   "pygments_lexer": "ipython3",
   "version": "3.10.9"
  }
 },
 "nbformat": 4,
 "nbformat_minor": 5
}
