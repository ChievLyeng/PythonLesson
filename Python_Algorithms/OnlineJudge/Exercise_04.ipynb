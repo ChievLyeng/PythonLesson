{
 "cells": [
  {
   "cell_type": "markdown",
   "id": "b5a1686f",
   "metadata": {},
   "source": [
    "# 04_01"
   ]
  },
  {
   "cell_type": "code",
   "execution_count": 8,
   "id": "58e58759",
   "metadata": {},
   "outputs": [
    {
     "name": "stdout",
     "output_type": "stream",
     "text": [
      "2022 10 30 10\n",
      "-1 -1 8 1 2 5 0 -1 -1 3 "
     ]
    }
   ],
   "source": [
    "import random\n",
    "\n",
    "\n",
    "def seqsearch(X,N,S) :\n",
    "    for i in range(0,N-1) :\n",
    "        if X == S[i] :\n",
    "            return i \n",
    "    return -1\n",
    "\n",
    "def solve(N,S,X) :\n",
    "    for i in range(N) :\n",
    "        print(seqsearch(X[i],N,S),end=\" \")\n",
    "\n",
    "\n",
    "SEED, MIN, MAX, N = map(int,input().split())\n",
    "random.seed(SEED)\n",
    "\n",
    "S = random.sample(range(MIN, MAX), N)\n",
    "X = random.sample(range(MIN, MAX), N)\n",
    "\n",
    "solve(N,S,X)"
   ]
  },
  {
   "cell_type": "markdown",
   "id": "f834b7e7",
   "metadata": {},
   "source": [
    "# 04_02"
   ]
  },
  {
   "cell_type": "code",
   "execution_count": 16,
   "id": "591800e9",
   "metadata": {},
   "outputs": [
    {
     "name": "stdout",
     "output_type": "stream",
     "text": [
      "7\n",
      "3903 4090 1991 801 1365 899 55709\n",
      "5\n"
     ]
    }
   ],
   "source": [
    "def is_hexadecimal_palindrome(num):\n",
    "    hex_num = hex(num)[2:]  \n",
    "    return hex_num == hex_num[::-1] \n",
    "\n",
    "\n",
    "N = int(input())\n",
    "numbers = list(map(int, input().split()))\n",
    "\n",
    "count = 0\n",
    "for num in numbers:\n",
    "    if is_hexadecimal_palindrome(num):\n",
    "        count += 1\n",
    "\n",
    "print(count)"
   ]
  },
  {
   "cell_type": "markdown",
   "id": "959a920e",
   "metadata": {},
   "source": [
    "# 04_03"
   ]
  },
  {
   "cell_type": "code",
   "execution_count": 35,
   "id": "f450a9af",
   "metadata": {},
   "outputs": [
    {
     "name": "stdout",
     "output_type": "stream",
     "text": [
      "1 100\n",
      "5\n"
     ]
    }
   ],
   "source": [
    "def is_prime(num):\n",
    "    if num < 2:\n",
    "        return False\n",
    "    for i in range(2, int(num**0.5) + 1):\n",
    "        if num % i == 0:\n",
    "            return False\n",
    "    return True\n",
    "\n",
    "def is_palindrome(num):\n",
    "    return str(num) == str(num)[::-1]\n",
    "\n",
    "def solve(N,M) :\n",
    "    count = 0\n",
    "    for num in range(N, M + 1):\n",
    "        if is_palindrome(num):\n",
    "            # sum palindrom number (digit is just a variable like i)\n",
    "            digit_sum = sum(int(digit) for digit in str(num)) \n",
    "            \n",
    "            # then we check the sum if it prime or not\n",
    "            if is_prime(digit_sum):\n",
    "                count += 1\n",
    "    return count\n",
    "\n",
    "N, M = map(int, input().split())\n",
    "print(solve(N,M))"
   ]
  },
  {
   "cell_type": "markdown",
   "id": "b419a622",
   "metadata": {},
   "source": [
    "# 04_04"
   ]
  },
  {
   "cell_type": "code",
   "execution_count": 36,
   "id": "28429f33",
   "metadata": {},
   "outputs": [
    {
     "name": "stdout",
     "output_type": "stream",
     "text": [
      "1 10\n",
      "9\n"
     ]
    }
   ],
   "source": [
    "def sieve_eratosthenes(limit):\n",
    "    primes = [True] * (limit + 1)\n",
    "    p = 2\n",
    "    while p * p <= limit:\n",
    "        if primes[p]:\n",
    "            for i in range(p * p, limit + 1, p):\n",
    "                primes[i] = False\n",
    "        p += 1\n",
    "    return [i for i in range(2, limit + 1) if primes[i]]\n",
    "\n",
    "def count_prime_factors(num, prime_list):\n",
    "    count = 0\n",
    "    for prime in prime_list:\n",
    "        while num % prime == 0:\n",
    "            num //= prime\n",
    "            count += 1\n",
    "        if num == 1:\n",
    "            break\n",
    "    return count\n",
    "\n",
    "def count_numbers_with_prime_factors(N, M):\n",
    "    primes = sieve_eratosthenes(10000)\n",
    "    count = 0\n",
    "    for num in range(N, M + 1):\n",
    "        prime_factor_count = count_prime_factors(num, primes)\n",
    "        if prime_factor_count > 0 and all(primes[i] for i in range(2, prime_factor_count + 1)):\n",
    "            count += 1\n",
    "    return count\n",
    "\n",
    "N, M = map(int, input().split())\n",
    "result = count_numbers_with_prime_factors(N, M)\n",
    "print(result)\n"
   ]
  },
  {
   "cell_type": "code",
   "execution_count": 37,
   "id": "29d09491",
   "metadata": {},
   "outputs": [
    {
     "name": "stdout",
     "output_type": "stream",
     "text": [
      "10\n",
      "Prime fatorize : 2 5\n"
     ]
    }
   ],
   "source": [
    "def factorize(n) :\n",
    "    if n < 2 :\n",
    "        return []\n",
    "    else:\n",
    "        for i in range(2,int(n ** 0.5) + 1) :\n",
    "            if n % i == 0 :\n",
    "                # print(\"Prime :\",[i] + factorize(n // i))\n",
    "                return [i] + factorize(n // i)\n",
    "        return [n]\n",
    "    \n",
    "n = int(input())\n",
    "factors = factorize(n)\n",
    "print(\"Prime fatorize :\",\" \".join(map(str,factors)))\n",
    "        "
   ]
  },
  {
   "cell_type": "markdown",
   "id": "52a71b87",
   "metadata": {},
   "source": [
    "# 04_05"
   ]
  },
  {
   "cell_type": "code",
   "execution_count": null,
   "id": "2416955d",
   "metadata": {},
   "outputs": [],
   "source": []
  },
  {
   "cell_type": "markdown",
   "id": "0c1bb4f6",
   "metadata": {},
   "source": [
    "# 04_06"
   ]
  },
  {
   "cell_type": "code",
   "execution_count": null,
   "id": "0e330b3f",
   "metadata": {},
   "outputs": [],
   "source": []
  },
  {
   "cell_type": "markdown",
   "id": "c06c3a1e",
   "metadata": {},
   "source": [
    "# 04_07"
   ]
  },
  {
   "cell_type": "code",
   "execution_count": null,
   "id": "6efa6a44",
   "metadata": {},
   "outputs": [],
   "source": []
  },
  {
   "cell_type": "markdown",
   "id": "cd838bda",
   "metadata": {},
   "source": [
    "# 04_08"
   ]
  },
  {
   "cell_type": "code",
   "execution_count": null,
   "id": "398f41ca",
   "metadata": {},
   "outputs": [],
   "source": []
  },
  {
   "cell_type": "markdown",
   "id": "2879962f",
   "metadata": {},
   "source": [
    "# 04_09"
   ]
  },
  {
   "cell_type": "code",
   "execution_count": null,
   "id": "5b67130a",
   "metadata": {},
   "outputs": [],
   "source": []
  },
  {
   "cell_type": "markdown",
   "id": "05884dc9",
   "metadata": {},
   "source": [
    "# 04_10"
   ]
  },
  {
   "cell_type": "code",
   "execution_count": null,
   "id": "2c9d5ad0",
   "metadata": {},
   "outputs": [],
   "source": []
  },
  {
   "cell_type": "markdown",
   "id": "cdd38ac2",
   "metadata": {},
   "source": [
    "# 04_11"
   ]
  },
  {
   "cell_type": "code",
   "execution_count": null,
   "id": "fba4b366",
   "metadata": {},
   "outputs": [],
   "source": []
  },
  {
   "cell_type": "markdown",
   "id": "bd958cf5",
   "metadata": {},
   "source": [
    "# 04_12"
   ]
  },
  {
   "cell_type": "code",
   "execution_count": null,
   "id": "5b3afa90",
   "metadata": {},
   "outputs": [],
   "source": []
  },
  {
   "cell_type": "markdown",
   "id": "6a43c97b",
   "metadata": {},
   "source": [
    "# 04_13"
   ]
  },
  {
   "cell_type": "code",
   "execution_count": null,
   "id": "3d61d75f",
   "metadata": {},
   "outputs": [],
   "source": []
  },
  {
   "cell_type": "markdown",
   "id": "9c6e3bb6",
   "metadata": {},
   "source": [
    "# 04_14"
   ]
  },
  {
   "cell_type": "code",
   "execution_count": null,
   "id": "a7effae7",
   "metadata": {},
   "outputs": [],
   "source": []
  },
  {
   "cell_type": "markdown",
   "id": "ae2ed6df",
   "metadata": {},
   "source": [
    "# 04_15"
   ]
  },
  {
   "cell_type": "code",
   "execution_count": null,
   "id": "072cae7c",
   "metadata": {},
   "outputs": [],
   "source": []
  },
  {
   "cell_type": "markdown",
   "id": "a99162b8",
   "metadata": {},
   "source": [
    "# 04_16"
   ]
  },
  {
   "cell_type": "code",
   "execution_count": null,
   "id": "a38b1ac5",
   "metadata": {},
   "outputs": [],
   "source": []
  },
  {
   "cell_type": "markdown",
   "id": "2f4250f5",
   "metadata": {},
   "source": [
    "# 04_17"
   ]
  },
  {
   "cell_type": "code",
   "execution_count": null,
   "id": "eb946e55",
   "metadata": {},
   "outputs": [],
   "source": []
  },
  {
   "cell_type": "markdown",
   "id": "59735dd1",
   "metadata": {},
   "source": [
    "# 04_18"
   ]
  },
  {
   "cell_type": "code",
   "execution_count": null,
   "id": "ccd819be",
   "metadata": {},
   "outputs": [],
   "source": []
  },
  {
   "cell_type": "markdown",
   "id": "6a63498b",
   "metadata": {},
   "source": [
    "# 04_19"
   ]
  },
  {
   "cell_type": "code",
   "execution_count": null,
   "id": "7abdf086",
   "metadata": {},
   "outputs": [],
   "source": []
  },
  {
   "cell_type": "markdown",
   "id": "b7db5255",
   "metadata": {},
   "source": [
    "# 04_20"
   ]
  },
  {
   "cell_type": "code",
   "execution_count": null,
   "id": "581e09ad",
   "metadata": {},
   "outputs": [],
   "source": []
  },
  {
   "cell_type": "markdown",
   "id": "e6e00057",
   "metadata": {},
   "source": [
    "# 04_21"
   ]
  },
  {
   "cell_type": "code",
   "execution_count": null,
   "id": "a5e23201",
   "metadata": {},
   "outputs": [],
   "source": []
  },
  {
   "cell_type": "markdown",
   "id": "729fbc0e",
   "metadata": {},
   "source": [
    "# 04_22"
   ]
  },
  {
   "cell_type": "code",
   "execution_count": null,
   "id": "cf3ec571",
   "metadata": {},
   "outputs": [],
   "source": []
  },
  {
   "cell_type": "markdown",
   "id": "a81b2c1b",
   "metadata": {},
   "source": [
    "# 04_23"
   ]
  },
  {
   "cell_type": "code",
   "execution_count": null,
   "id": "aabb2bc4",
   "metadata": {},
   "outputs": [],
   "source": []
  },
  {
   "cell_type": "markdown",
   "id": "2e0f2014",
   "metadata": {},
   "source": [
    "# 04_23"
   ]
  },
  {
   "cell_type": "code",
   "execution_count": null,
   "id": "02994157",
   "metadata": {},
   "outputs": [],
   "source": []
  },
  {
   "cell_type": "markdown",
   "id": "d51bce67",
   "metadata": {},
   "source": [
    "# 04_25"
   ]
  },
  {
   "cell_type": "code",
   "execution_count": null,
   "id": "73f05493",
   "metadata": {},
   "outputs": [],
   "source": []
  },
  {
   "cell_type": "markdown",
   "id": "dfe2472b",
   "metadata": {},
   "source": [
    "# 04_26"
   ]
  },
  {
   "cell_type": "code",
   "execution_count": null,
   "id": "ebce2b68",
   "metadata": {},
   "outputs": [],
   "source": []
  },
  {
   "cell_type": "code",
   "execution_count": null,
   "id": "35362eda",
   "metadata": {},
   "outputs": [],
   "source": []
  },
  {
   "cell_type": "code",
   "execution_count": null,
   "id": "53085ef4",
   "metadata": {},
   "outputs": [],
   "source": []
  }
 ],
 "metadata": {
  "kernelspec": {
   "display_name": "Python 3 (ipykernel)",
   "language": "python",
   "name": "python3"
  },
  "language_info": {
   "codemirror_mode": {
    "name": "ipython",
    "version": 3
   },
   "file_extension": ".py",
   "mimetype": "text/x-python",
   "name": "python",
   "nbconvert_exporter": "python",
   "pygments_lexer": "ipython3",
   "version": "3.10.9"
  }
 },
 "nbformat": 4,
 "nbformat_minor": 5
}
