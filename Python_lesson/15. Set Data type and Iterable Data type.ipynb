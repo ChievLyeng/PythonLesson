{
 "cells": [
  {
   "cell_type": "markdown",
   "id": "19e77b34",
   "metadata": {},
   "source": [
    "1. Iterable data types and iterator"
   ]
  },
  {
   "cell_type": "markdown",
   "id": "5db75d14",
   "metadata": {},
   "source": [
    "1.2 Checking if it's an iterable data type"
   ]
  },
  {
   "cell_type": "code",
   "execution_count": 1,
   "id": "d8690dd5",
   "metadata": {},
   "outputs": [
    {
     "name": "stdout",
     "output_type": "stream",
     "text": [
      "Number is not iterable data type.\n"
     ]
    }
   ],
   "source": [
    "try: \n",
    "    n=100\n",
    "    iterator = iter(n)\n",
    "except TypeError:\n",
    "    print(\"Number is not iterable data type.\")\n",
    "else:\n",
    "    print(\"Number is iterable data type.\")"
   ]
  },
  {
   "cell_type": "code",
   "execution_count": 2,
   "id": "c8b90f39",
   "metadata": {},
   "outputs": [
    {
     "name": "stdout",
     "output_type": "stream",
     "text": [
      "list is iterable data type.\n"
     ]
    }
   ],
   "source": [
    "try: \n",
    "    l = [10,20,30]\n",
    "    iterator = iter(l)\n",
    "except TypeError:\n",
    "    print(\"list is not iterable data type.\")\n",
    "else:\n",
    "    print(\"list is iterable data type.\")"
   ]
  },
  {
   "cell_type": "code",
   "execution_count": 3,
   "id": "b64f45e5",
   "metadata": {},
   "outputs": [
    {
     "name": "stdout",
     "output_type": "stream",
     "text": [
      "tuple is iterable data type.\n"
     ]
    }
   ],
   "source": [
    "try: \n",
    "    t = (10,20,30)\n",
    "    iterator = iter(t)\n",
    "except TypeError:\n",
    "    print(\"tuple is not iterable data type.\")\n",
    "else:\n",
    "    print(\"tuple is iterable data type.\")"
   ]
  },
  {
   "cell_type": "code",
   "execution_count": 4,
   "id": "16d5459c",
   "metadata": {},
   "outputs": [
    {
     "name": "stdout",
     "output_type": "stream",
     "text": [
      "String is iterable data type.\n"
     ]
    }
   ],
   "source": [
    "try:\n",
    "    s= \"string\"\n",
    "    iterator = iter(s)\n",
    "except TypeError : \n",
    "    print(\"String is not iterable data type.\")\n",
    "else: \n",
    "    print(\"String is iterable data type.\")"
   ]
  },
  {
   "cell_type": "code",
   "execution_count": 7,
   "id": "acdce8c1",
   "metadata": {},
   "outputs": [
    {
     "name": "stdout",
     "output_type": "stream",
     "text": [
      "'int' object is not iterable\n"
     ]
    }
   ],
   "source": [
    "try: \n",
    "    n=100\n",
    "    iterator = iter(n)\n",
    "except Exception as e:\n",
    "    print(e)"
   ]
  },
  {
   "cell_type": "markdown",
   "id": "e09c3947",
   "metadata": {},
   "source": [
    "1.3 Built-in functions that take iterable data types as parameters"
   ]
  },
  {
   "cell_type": "markdown",
   "id": "2b26f16a",
   "metadata": {},
   "source": [
    "* The all function returns True only if all elements in the iterable are true. if there is a 0,\", or none value inside, it returns False."
   ]
  },
  {
   "cell_type": "code",
   "execution_count": 8,
   "id": "8536924f",
   "metadata": {},
   "outputs": [
    {
     "name": "stdout",
     "output_type": "stream",
     "text": [
      "True\n",
      "False\n",
      "False\n"
     ]
    }
   ],
   "source": [
    "#all function\n",
    "\n",
    "l1 = [1,2,3,4]\n",
    "l2 = [0,2,4,8]\n",
    "l3 = [0,0,0,0]\n",
    "\n",
    "print(all(l1))\n",
    "print(all(l2))\n",
    "print(all(l3))"
   ]
  },
  {
   "cell_type": "markdown",
   "id": "e2266f16",
   "metadata": {},
   "source": [
    "* The any function returns True if at least one element in the iterable is true."
   ]
  },
  {
   "cell_type": "code",
   "execution_count": 9,
   "id": "4739b0ed",
   "metadata": {},
   "outputs": [
    {
     "name": "stdout",
     "output_type": "stream",
     "text": [
      "True\n",
      "True\n",
      "False\n"
     ]
    }
   ],
   "source": [
    "#any function\n",
    "\n",
    "l1 = [1,2,3,4]\n",
    "l2 = [0,2,4,8]\n",
    "l3 = [0,0,0,0]\n",
    "\n",
    "print(any(l1))\n",
    "print(any(l2))\n",
    "print(any(l3))"
   ]
  },
  {
   "cell_type": "markdown",
   "id": "9188db9a",
   "metadata": {},
   "source": [
    "1.4 The iter function and the next function"
   ]
  },
  {
   "cell_type": "markdown",
   "id": "d97914d6",
   "metadata": {},
   "source": [
    ". We can see that the list data type with elements [10,20,30] is converted   to an iterator using the iter function.\n",
    ". The iter function takes an iterable data type as agrument and returns an   iterator.\n",
    ". The iter function is usually used together with the next function.\n",
    ". The next function takes an iterator as agrument and returns the next       element to be output."
   ]
  },
  {
   "cell_type": "code",
   "execution_count": 20,
   "id": "d2807237",
   "metadata": {},
   "outputs": [
    {
     "name": "stdout",
     "output_type": "stream",
     "text": [
      "10\n",
      "20\n",
      "30\n"
     ]
    }
   ],
   "source": [
    "iter_a = iter([10,20,30])\n",
    "\n",
    "print(next(iter_a))\n",
    "print(next(iter_a))\n",
    "print(next(iter_a))\n",
    "# print(next(iter_a)) # stop iteration error because it out of list index range\n",
    "\n",
    "\n",
    "#The code below is error because list do not have built-in feature\n",
    "#to output elements in order (if we want to use next use iter() to convert list first)\n",
    "\n",
    "# a=[10,20,30]\n",
    "# print(next(a))\n",
    "\n"
   ]
  },
  {
   "cell_type": "code",
   "execution_count": 25,
   "id": "5a1ae5d5",
   "metadata": {},
   "outputs": [
    {
     "name": "stdout",
     "output_type": "stream",
     "text": [
      "<class 'list_iterator'>\n",
      "10\n",
      "20\n",
      "30\n"
     ]
    }
   ],
   "source": [
    "lst = [10,20,30]\n",
    "l_iter = iter(lst)\n",
    "\n",
    "print(type(l_iter))\n",
    "\n",
    "print(next(l_iter))\n",
    "print(next(l_iter))\n",
    "print(next(l_iter))\n"
   ]
  },
  {
   "cell_type": "markdown",
   "id": "e8d2d3b1",
   "metadata": {},
   "source": [
    "1.6 Converting an iterator, which can only read values once, into an           iterable data type"
   ]
  },
  {
   "cell_type": "markdown",
   "id": "f15e428c",
   "metadata": {},
   "source": [
    "However, once it has been converted using a data type conversion function,\n",
    "it cannot be used again with the data type conversion function.\n",
    "\n",
    "An empty data type is returned because all elements have been consumed and \n",
    "there are no more elements to return."
   ]
  },
  {
   "cell_type": "code",
   "execution_count": 32,
   "id": "f3d7de94",
   "metadata": {},
   "outputs": [
    {
     "name": "stdout",
     "output_type": "stream",
     "text": [
      "<list_iterator object at 0x109c5c9d0>\n",
      "(10, 20, 30)\n",
      "[]\n"
     ]
    }
   ],
   "source": [
    "iter1 = iter([10,20,30])\n",
    "\n",
    "print(iter1)\n",
    "print(list(iter1)) #type conversion only use once\n",
    "print(tuple(iter1))"
   ]
  },
  {
   "cell_type": "markdown",
   "id": "290af787",
   "metadata": {},
   "source": [
    "Since an iterator consumes all elements once it has been traversed, once it has been converted using a data type conversion function, it cannot be\n",
    "used again with the data type conversion function. To use it again, a new iterator must be created."
   ]
  },
  {
   "cell_type": "code",
   "execution_count": 33,
   "id": "79702f6a",
   "metadata": {},
   "outputs": [
    {
     "name": "stdout",
     "output_type": "stream",
     "text": [
      "<list_iterator object at 0x108eb9a80>\n",
      "(10, 20, 30)\n"
     ]
    }
   ],
   "source": [
    "iter1 = iter([10,20,30])\n",
    "\n",
    "print(iter1)\n",
    "print(tuple(iter1))"
   ]
  },
  {
   "cell_type": "markdown",
   "id": "b6fac5f3",
   "metadata": {},
   "source": [
    "2. Set"
   ]
  },
  {
   "cell_type": "markdown",
   "id": "49a4eb60",
   "metadata": {},
   "source": [
    "2.1 Set, collection of unordered objects"
   ]
  },
  {
   "cell_type": "markdown",
   "id": "34d69ea9",
   "metadata": {},
   "source": [
    ". set used in python are similar to mathematical set and can perform         various set operations such as intersection,unioun,difference, and         summetric differnce.\n",
    ". Set has the characteristic of not allowing duplicates of items with the   value, and unlike sequence type like list or tuple, it is unordered data   type."
   ]
  },
  {
   "cell_type": "markdown",
   "id": "e7639d1b",
   "metadata": {},
   "source": [
    "2.2 Defining a set"
   ]
  },
  {
   "cell_type": "code",
   "execution_count": 34,
   "id": "eeb70106",
   "metadata": {},
   "outputs": [
    {
     "name": "stdout",
     "output_type": "stream",
     "text": [
      "set()\n"
     ]
    }
   ],
   "source": [
    "#empty set\n",
    "numbers = set()\n",
    "print(numbers)\n"
   ]
  },
  {
   "cell_type": "code",
   "execution_count": 35,
   "id": "e4793e0d",
   "metadata": {},
   "outputs": [
    {
     "name": "stdout",
     "output_type": "stream",
     "text": [
      "{'Fri', 'Sun', 'Mon', 'Sat', 'Wed', 'Tue', 'Thu'}\n"
     ]
    }
   ],
   "source": [
    "days_list = [\"Mon\",\"Tue\",\"Wed\",\"Thu\",\"Fri\",\"Sat\",\"Sun\"]\n",
    "days_set = set(days_list)\n",
    "print(days_set) \n",
    "#since the set is a collection of unordered elements, indexing cannot be used"
   ]
  },
  {
   "cell_type": "code",
   "execution_count": 36,
   "id": "4f5edbc1",
   "metadata": {},
   "outputs": [
    {
     "name": "stdout",
     "output_type": "stream",
     "text": [
      "{'orange', 'apple', 'water melon'}\n"
     ]
    }
   ],
   "source": [
    "fruits_tuple = (\"apple\",\"orange\",\"water melon\")\n",
    "fruits_set = set(fruits_tuple)\n",
    "print(fruits_set)"
   ]
  },
  {
   "cell_type": "code",
   "execution_count": 37,
   "id": "172bcf3a",
   "metadata": {},
   "outputs": [
    {
     "name": "stdout",
     "output_type": "stream",
     "text": [
      "{1, 2, 3}\n"
     ]
    }
   ],
   "source": [
    "print(set([1,2,3,1,2]))\n",
    "\n",
    "#It is also posible to create a set from a list as shown above.\n",
    "#However, in the set data type,\n",
    "#it there are duplicate elements, they are automatically removed"
   ]
  },
  {
   "cell_type": "code",
   "execution_count": 38,
   "id": "0a914e98",
   "metadata": {},
   "outputs": [
    {
     "name": "stdout",
     "output_type": "stream",
     "text": [
      "{'d', 'b', 'f', 'a', 'e', 'c'}\n"
     ]
    }
   ],
   "source": [
    "# It is also possible to create a set from a string\n",
    "# In this case, each character becomes a single element.\n",
    "\n",
    "print(set(\"abcdefa\"))"
   ]
  },
  {
   "cell_type": "code",
   "execution_count": 39,
   "id": "634d6bd9",
   "metadata": {},
   "outputs": [
    {
     "name": "stdout",
     "output_type": "stream",
     "text": [
      "{'o', 'e', 'h', 'l'}\n"
     ]
    }
   ],
   "source": [
    "h_str = \"hello\"\n",
    "h_set = set(h_str)\n",
    "\n",
    "print(h_set)"
   ]
  },
  {
   "cell_type": "markdown",
   "id": "f1d23663",
   "metadata": {},
   "source": [
    "2.3 Membership operators for searching specific elements: in,not in"
   ]
  },
  {
   "cell_type": "code",
   "execution_count": 41,
   "id": "4f7c3781",
   "metadata": {},
   "outputs": [
    {
     "name": "stdout",
     "output_type": "stream",
     "text": [
      "There is a 1 in the set.\n",
      "There is not a 7 in the set.\n"
     ]
    }
   ],
   "source": [
    "numbers = {2,1,3}\n",
    "\n",
    "if 1 in numbers:\n",
    "    print(\"There is a 1 in the set.\")\n",
    "    \n",
    "if 7 not in numbers:\n",
    "    print(\"There is not a 7 in the set.\")"
   ]
  },
  {
   "cell_type": "markdown",
   "id": "87b4f798",
   "metadata": {},
   "source": [
    "2.4 Difference between a set and a sequence data type\n",
    "\n",
    ". sets are unordered collections of unique elements and do not allow         duplicates. Therefore, a set is not a sequence data type and do not have   the index. (indexing and slicing are meaningless)"
   ]
  },
  {
   "cell_type": "code",
   "execution_count": 43,
   "id": "847604f2",
   "metadata": {},
   "outputs": [
    {
     "name": "stdout",
     "output_type": "stream",
     "text": [
      "{1, 2, 3, 4}\n",
      "{2, 3, 4}\n"
     ]
    }
   ],
   "source": [
    "numbers = {1,2,3}\n",
    "\n",
    "numbers.add(4) #add element to set \n",
    "print(numbers)\n",
    "\n",
    "numbers.remove(1) #remove element to set \n",
    "print(numbers)"
   ]
  },
  {
   "cell_type": "markdown",
   "id": "e640e3cb",
   "metadata": {},
   "source": [
    "2.5 Accessing sets using loops with iterable data type"
   ]
  },
  {
   "cell_type": "code",
   "execution_count": 52,
   "id": "ed67f6a5",
   "metadata": {},
   "outputs": [
    {
     "name": "stdout",
     "output_type": "stream",
     "text": [
      "2 3 4 5 6 7 9 \n",
      "\n",
      "sorted set\n",
      "2 3 4 5 6 7 9 "
     ]
    }
   ],
   "source": [
    "numbers = {2,3,6,5,9,4,7}\n",
    "\n",
    "for x in numbers :\n",
    "    print(x,end=\" \")\n",
    "          \n",
    "print()\n",
    "print()\n",
    "print(\"sorted set\")\n",
    "\n",
    "for x in sorted(numbers):\n",
    "    print(x,end=\" \")"
   ]
  },
  {
   "cell_type": "markdown",
   "id": "3d14ce1d",
   "metadata": {},
   "source": [
    "2.6 Sorting with the sorted function"
   ]
  },
  {
   "cell_type": "code",
   "execution_count": 57,
   "id": "5262b040",
   "metadata": {},
   "outputs": [
    {
     "name": "stdout",
     "output_type": "stream",
     "text": [
      "<class 'set'>\n",
      "{2, 3, 4, 5, 6, 7, 9}\n",
      "<class 'list'>\n",
      "[2, 3, 4, 5, 6, 7, 9]\n",
      "After sorted it become a list\n"
     ]
    }
   ],
   "source": [
    "numbers = {2,3,6,5,9,4,7}\n",
    "print(type(numbers))\n",
    "print(numbers)\n",
    "\n",
    "numbers = sorted(numbers)\n",
    "print(type(numbers))\n",
    "print(numbers)\n",
    "print(\"After sorted it become a list\")"
   ]
  },
  {
   "cell_type": "markdown",
   "id": "b36a4e37",
   "metadata": {},
   "source": [
    "2.7 Creating sets using one-liner loop "
   ]
  },
  {
   "cell_type": "code",
   "execution_count": 58,
   "id": "2357bc41",
   "metadata": {},
   "outputs": [
    {
     "name": "stdout",
     "output_type": "stream",
     "text": [
      "{'e', 'a', 'l', 'p'}\n"
     ]
    }
   ],
   "source": [
    "a = {i for i in \"apple\"}\n",
    "\n",
    "print(a)"
   ]
  },
  {
   "cell_type": "markdown",
   "id": "9fe9cd36",
   "metadata": {},
   "source": [
    "2.8 Creating sets using one-line expressions with loops and conditions"
   ]
  },
  {
   "cell_type": "code",
   "execution_count": 60,
   "id": "4f2f57ac",
   "metadata": {},
   "outputs": [
    {
     "name": "stdout",
     "output_type": "stream",
     "text": [
      "{'e', 'n', 'i'}\n"
     ]
    }
   ],
   "source": [
    "a = {i for i in \"pineapple\" if i not in \"apl\"}\n",
    "\n",
    "print(a)"
   ]
  },
  {
   "cell_type": "markdown",
   "id": "2609ed6c",
   "metadata": {},
   "source": [
    "2.9 Built-in functions that take a set as parameter "
   ]
  },
  {
   "cell_type": "code",
   "execution_count": 63,
   "id": "6c4af264",
   "metadata": {},
   "outputs": [
    {
     "name": "stdout",
     "output_type": "stream",
     "text": [
      "5\n",
      "7\n",
      "1\n",
      "[1, 3, 4, 5, 7]\n",
      "20\n",
      "False True\n"
     ]
    }
   ],
   "source": [
    "a_set = {1,5,4,3,7,4}\n",
    "print(len(a_set))\n",
    "\n",
    "print(max(a_set))\n",
    "print(min(a_set))\n",
    "print(sorted(a_set))\n",
    "print(sum(a_set))\n",
    "\n",
    "b_set = {1,0,2,3,3}\n",
    "print(all(b_set), any(b_set))"
   ]
  },
  {
   "cell_type": "markdown",
   "id": "4cd45fdb",
   "metadata": {},
   "source": [
    "3.2 Union operator and method"
   ]
  },
  {
   "cell_type": "code",
   "execution_count": 69,
   "id": "ac218242",
   "metadata": {},
   "outputs": [
    {
     "name": "stdout",
     "output_type": "stream",
     "text": [
      "s1 union s2 : {1, 2, 3, 4, 5, 6, 7, 8, 9}\n",
      "s1 union s2 : {1, 2, 3, 4, 5, 6, 7, 8, 9}\n"
     ]
    }
   ],
   "source": [
    "s1={1,2,3,4,5,6}\n",
    "s2={4,5,6,7,8,9}\n",
    "print(\"s1 union s2 :\",s1|s2)\n",
    "print(\"s1 union s2 :\",s1.union(s2))"
   ]
  },
  {
   "cell_type": "code",
   "execution_count": 70,
   "id": "04dc7e43",
   "metadata": {},
   "outputs": [
    {
     "name": "stdout",
     "output_type": "stream",
     "text": [
      "s1 intersection s2 : {4, 5, 6}\n",
      "s1 intersection s2 : {4, 5, 6}\n"
     ]
    }
   ],
   "source": [
    "s1={1,2,3,4,5,6}\n",
    "s2={4,5,6,7,8,9}\n",
    "print(\"s1 intersection s2 :\",s1&s2)\n",
    "print(\"s1 intersection s2 :\",s1.intersection(s2))"
   ]
  },
  {
   "cell_type": "code",
   "execution_count": 75,
   "id": "b962a782",
   "metadata": {},
   "outputs": [
    {
     "name": "stdout",
     "output_type": "stream",
     "text": [
      "s1 difference s2 : {1, 2, 3}\n",
      "s1 difference s2 : {1, 2, 3}\n",
      "==============================\n",
      "s2 difference s1 : {8, 9, 7}\n",
      "s2 difference s1 : {8, 9, 7}\n"
     ]
    }
   ],
   "source": [
    "s1={1,2,3,4,5,6}\n",
    "s2={4,5,6,7,8,9}\n",
    "print(\"s1 difference s2 :\",s1-s2)\n",
    "print(\"s1 difference s2 :\",s1.difference(s2))\n",
    "print(\"=\"*30)\n",
    "print(\"s2 difference s1 :\",s2-s1)\n",
    "print(\"s2 difference s1 :\",s2.difference(s1))"
   ]
  },
  {
   "cell_type": "code",
   "execution_count": 76,
   "id": "e87b057f",
   "metadata": {},
   "outputs": [
    {
     "name": "stdout",
     "output_type": "stream",
     "text": [
      "s1 symmetric_difference s2 : {1, 2, 3, 7, 8, 9}\n",
      "s1 symmetric_difference s2 : {1, 2, 3, 7, 8, 9}\n"
     ]
    }
   ],
   "source": [
    "s1={1,2,3,4,5,6}\n",
    "s2={4,5,6,7,8,9}\n",
    "print(\"s1 symmetric_difference s2 :\",s1^s2)\n",
    "print(\"s1 symmetric_difference s2 :\",s1.symmetric_difference(s2))"
   ]
  },
  {
   "cell_type": "markdown",
   "id": "a7ad134b",
   "metadata": {},
   "source": [
    "3.6 Set operator practice"
   ]
  },
  {
   "cell_type": "code",
   "execution_count": 77,
   "id": "4179d993",
   "metadata": {},
   "outputs": [
    {
     "name": "stdout",
     "output_type": "stream",
     "text": [
      "s1 union s2 : {1, 2, 3, 4, 5, 6, 7, 8, 9}\n",
      "s1 intersection s2 : {4, 5, 6}\n",
      "s1 difference s2 : {1, 2, 3}\n",
      "s1 symmetric_difference s2 : {1, 2, 3, 7, 8, 9}\n"
     ]
    }
   ],
   "source": [
    "s1={1,2,3,4,5,6}\n",
    "s2={4,5,6,7,8,9}\n",
    "\n",
    "print(\"s1 union s2 :\",s1|s2)\n",
    "print(\"s1 intersection s2 :\",s1&s2)\n",
    "print(\"s1 difference s2 :\",s1-s2)\n",
    "print(\"s1 symmetric_difference s2 :\",s1^s2)"
   ]
  },
  {
   "cell_type": "markdown",
   "id": "b5df5836",
   "metadata": {},
   "source": [
    "3.7 Set method practice"
   ]
  },
  {
   "cell_type": "code",
   "execution_count": 78,
   "id": "07e8028c",
   "metadata": {},
   "outputs": [
    {
     "name": "stdout",
     "output_type": "stream",
     "text": [
      "s1 union s2 : {1, 2, 3, 4, 5, 6, 7, 8, 9}\n",
      "s1 intersection s2 : {4, 5, 6}\n",
      "s1 difference s2 : {1, 2, 3}\n",
      "s1 symmetric_difference s2 : {1, 2, 3, 7, 8, 9}\n"
     ]
    }
   ],
   "source": [
    "s1={1,2,3,4,5,6}\n",
    "s2={4,5,6,7,8,9}\n",
    "\n",
    "print(\"s1 union s2 :\",s1.union(s2))\n",
    "print(\"s1 intersection s2 :\",s1.intersection(s2))\n",
    "print(\"s1 difference s2 :\",s1.difference(s2))\n",
    "print(\"s1 symmetric_difference s2 :\",s1.symmetric_difference(s2))"
   ]
  },
  {
   "cell_type": "markdown",
   "id": "d3931c3d",
   "metadata": {},
   "source": [
    "3.8 Using sequential operators"
   ]
  },
  {
   "cell_type": "code",
   "execution_count": 79,
   "id": "783920da",
   "metadata": {},
   "outputs": [
    {
     "name": "stdout",
     "output_type": "stream",
     "text": [
      "{5, 6}\n",
      "{1, 2, 3}\n"
     ]
    }
   ],
   "source": [
    "s1 = {1,2,3,4,5,6}\n",
    "s2 = {4,5,6,7,8,9}\n",
    "s3 = {5,6,9,10,11}\n",
    "\n",
    "print(s1&s2&s3)\n",
    "print(s1-s2-s3)\n"
   ]
  },
  {
   "cell_type": "markdown",
   "id": "e48e11ad",
   "metadata": {},
   "source": [
    "3.10 Subset method and superset method"
   ]
  },
  {
   "cell_type": "markdown",
   "id": "5799c8b3",
   "metadata": {},
   "source": [
    "subset : If every element of set A belongs to another set B, then A is subset of B\n",
    "\n",
    ". Since B contains everything that A has, B is a superset of A\n",
    "\n",
    "Ex : A = {1,2} , B = {1,2,3} A is subset of B"
   ]
  },
  {
   "cell_type": "code",
   "execution_count": 84,
   "id": "730beea0",
   "metadata": {},
   "outputs": [
    {
     "name": "stdout",
     "output_type": "stream",
     "text": [
      "s2 is subset of s1 : True\n",
      "s3 is subset of s1 : False\n",
      "s1 is superset of s2 : True\n",
      "s1 is superset of s3 : False\n"
     ]
    }
   ],
   "source": [
    "s1 = {1,2,3,4,5}\n",
    "s2 = {1,2,3}\n",
    "s3 = {1,2,6}\n",
    "\n",
    "print(\"s2 is subset of s1 :\",s2.issubset(s1))\n",
    "print(\"s3 is subset of s1 :\",s3.issubset(s1))\n",
    "print(\"s1 is superset of s2 :\",s1.issuperset(s2))\n",
    "print(\"s1 is superset of s3 :\",s1.issuperset(s3))"
   ]
  },
  {
   "cell_type": "code",
   "execution_count": 86,
   "id": "25fd7ffe",
   "metadata": {},
   "outputs": [
    {
     "name": "stdout",
     "output_type": "stream",
     "text": [
      "s1 is disjoint s2 : True\n"
     ]
    }
   ],
   "source": [
    "# Disjoint method\n",
    "\n",
    "s1 = {1,2,3}\n",
    "s2 = {10,20,30}\n",
    "\n",
    "print(\"s1 is disjoint s2 :\",s1.isdisjoint(s2))"
   ]
  },
  {
   "cell_type": "markdown",
   "id": "ef079339",
   "metadata": {},
   "source": [
    "3.12 Cartesian product or cartesian multiplication example"
   ]
  },
  {
   "cell_type": "code",
   "execution_count": 2,
   "id": "a7958f03",
   "metadata": {},
   "outputs": [
    {
     "name": "stdout",
     "output_type": "stream",
     "text": [
      "{(3, 2), (1, 2), (3, 4), (1, 4)}\n",
      "A = {1, 3}\n",
      "B = {2, 4}\n",
      "AxB = {(3, 2), (1, 2), (3, 4), (1, 4)}\n"
     ]
    }
   ],
   "source": [
    "A = {1,3}\n",
    "B = {2,4}\n",
    "\n",
    "res = set()\n",
    "for i in A:\n",
    "    for j in B:\n",
    "        res = res | {(i,j)}\n",
    "        \n",
    "print(res)\n",
    "AxB = res\n",
    "print(\"A =\",A)\n",
    "print(\"B =\",B)\n",
    "print(\"AxB =\",AxB)"
   ]
  },
  {
   "cell_type": "markdown",
   "id": "fc250251",
   "metadata": {},
   "source": [
    "3.13 set and comparison operator"
   ]
  },
  {
   "cell_type": "code",
   "execution_count": 98,
   "id": "744d56f5",
   "metadata": {},
   "outputs": [
    {
     "name": "stdout",
     "output_type": "stream",
     "text": [
      "True\n",
      "False\n"
     ]
    }
   ],
   "source": [
    "A={1,2,3}\n",
    "B={1,2,3}\n",
    "print(A==B)\n",
    "print(A!=B)"
   ]
  },
  {
   "cell_type": "markdown",
   "id": "1987413d",
   "metadata": {},
   "source": [
    ". other operators like <,<= can be used to check if a set is proper subset   or a subset.\n",
    ". A proper subset refers to a subset of the universal set that excludes     the set itself\n",
    ". In the following code, B is a subset of A, but B is not equal to A. In     this case B is called a proper subset."
   ]
  },
  {
   "cell_type": "code",
   "execution_count": 5,
   "id": "ebe41134",
   "metadata": {},
   "outputs": [
    {
     "name": "stdout",
     "output_type": "stream",
     "text": [
      "True\n"
     ]
    }
   ],
   "source": [
    "A={1,2,3,4,5}\n",
    "B={1,2,3}\n",
    "\n",
    "print(B<A)"
   ]
  },
  {
   "cell_type": "markdown",
   "id": "9d5ab0f5",
   "metadata": {},
   "source": [
    "3.14 Example of finding divisors and greatest common divisor of two numbers"
   ]
  },
  {
   "cell_type": "code",
   "execution_count": 6,
   "id": "c84a9c23",
   "metadata": {},
   "outputs": [
    {
     "name": "stdout",
     "output_type": "stream",
     "text": [
      "proper divisor of 10 : [2, 5]\n"
     ]
    }
   ],
   "source": [
    "num = 10\n",
    "divisors = []\n",
    "\n",
    "for i in range(2,num):\n",
    "    if num % i == 0:\n",
    "        divisors.append(i)\n",
    "        \n",
    "print(\"proper divisor of\",num,\":\",divisors)"
   ]
  },
  {
   "cell_type": "code",
   "execution_count": 11,
   "id": "148d5f97",
   "metadata": {},
   "outputs": [
    {
     "name": "stdout",
     "output_type": "stream",
     "text": [
      "proper divisors of , 48 : {2, 3, 4, 6, 8, 12, 16, 24}\n",
      "proper divisors of , 60 : {2, 3, 4, 5, 6, 10, 12, 15, 20, 30}\n",
      "{2, 3, 4, 6, 12}\n",
      "The common factor of 48 60 : 12\n"
     ]
    }
   ],
   "source": [
    "num1 = 48 \n",
    "divisors1 = set()\n",
    "num2 = 60\n",
    "divisors2 = set()\n",
    "\n",
    "for i in range(2,num1):\n",
    "    if num1 % i == 0 :\n",
    "        divisors1.add(i)\n",
    "print(\"proper divisors of ,\",num1,\":\",divisors1)\n",
    "\n",
    "for i in range(2,num2):\n",
    "    if num2 % i == 0:\n",
    "        divisors2.add(i)\n",
    "print(\"proper divisors of ,\",num2,\":\",divisors2)\n",
    "\n",
    "common_divisor=divisors1.intersection(divisors2)\n",
    "print(common_divisor)\n",
    "print(\"The common factor of\",num1,num2,\":\",max(common_divisor))"
   ]
  },
  {
   "cell_type": "markdown",
   "id": "ceb4c49d",
   "metadata": {},
   "source": [
    "4. Aggregation using the zip function"
   ]
  },
  {
   "cell_type": "markdown",
   "id": "cce54d12",
   "metadata": {},
   "source": [
    "4.1 Iterable data types as parameters of the zip function\n",
    "\n",
    ". Iterable data types incluse lists, dictionaries,sets and tuples.\n",
    ". When multiple tierable data types are passed to the zip function, it       returns an iterator form of tuple aggregates(zip) of these iterable data   types. This is called aggregation.\n",
    ". If only one iterable data type argument is passed, the zip function       aggregates each element of the iterable data type into a single tuple     element.\n",
    ". If multiple iterable data type arguments are passed, it aggregates them   into tuples ass many as the number of agruments.\n",
    ". The i-th tuple, whick is aggregated, is filled wiht the i-th elements of   the iterable data types passed as the parameters of the zip function."
   ]
  },
  {
   "cell_type": "code",
   "execution_count": 12,
   "id": "bfba6678",
   "metadata": {},
   "outputs": [
    {
     "name": "stdout",
     "output_type": "stream",
     "text": [
      "set()\n"
     ]
    }
   ],
   "source": [
    "empty_iterator = zip() # if no agruments are passed to the zip function returns empty tuple elements\n",
    "result = set(empty_iterator)\n",
    "print(result)"
   ]
  },
  {
   "cell_type": "code",
   "execution_count": 18,
   "id": "45863489",
   "metadata": {},
   "outputs": [
    {
     "name": "stdout",
     "output_type": "stream",
     "text": [
      "(10, 'ten')\n",
      "(20, 'twenty')\n",
      "(30, 'thirty')\n"
     ]
    }
   ],
   "source": [
    "a = [10,20,30]\n",
    "b = (\"ten\",\"twenty\",\"thirty\")\n",
    "\n",
    "for val in zip(a,b):\n",
    "    print(val)"
   ]
  },
  {
   "cell_type": "code",
   "execution_count": 26,
   "id": "d348af93",
   "metadata": {},
   "outputs": [
    {
     "name": "stdout",
     "output_type": "stream",
     "text": [
      "[('hello', 1, 400), ('world', 2, 500), ('python', 3, 600)]\n"
     ]
    }
   ],
   "source": [
    "str_list = [\"hello\",\"world\",\"python\",\"rocks\"]\n",
    "int_tuple = (1,2,3) # it zip follow the minimum index of agruments that pass to function\n",
    "int_list = [400,500,600,700,800]\n",
    "my_iterator = zip(str_list, int_tuple,int_list)\n",
    "print(list(my_iterator))"
   ]
  },
  {
   "cell_type": "code",
   "execution_count": 28,
   "id": "ddf23f39",
   "metadata": {},
   "outputs": [
    {
     "name": "stdout",
     "output_type": "stream",
     "text": [
      "{('b',), ('a',), ('this',), ('hello',)}\n"
     ]
    }
   ],
   "source": [
    "lst = [\"a\",\"b\",\"hello\",\"this\"]\n",
    "my_iterator = zip(lst)\n",
    "result = set(my_iterator)\n",
    "print(result)"
   ]
  },
  {
   "cell_type": "code",
   "execution_count": 32,
   "id": "e1e80110",
   "metadata": {},
   "outputs": [
    {
     "name": "stdout",
     "output_type": "stream",
     "text": [
      "[('hello', 1, 400), ('world', 2, 500), ('python', 3, 600)]\n",
      "('hello', 'world', 'python') (1, 2, 3) (400, 500, 600)\n"
     ]
    }
   ],
   "source": [
    "#unpacking zip\n",
    "\n",
    "str_list = [\"hello\",\"world\",\"python\",\"rocks\"]\n",
    "int_tuple = (1,2,3) \n",
    "int_list = [400,500,600,700,800]\n",
    "\n",
    "zip_lst = list(zip(str_list,int_tuple,int_list))\n",
    "print(zip_lst)\n",
    "\n",
    "a,b,c = zip(*zip_lst)\n",
    "print(a,b,c)"
   ]
  },
  {
   "cell_type": "markdown",
   "id": "cff07843",
   "metadata": {},
   "source": [
    "Paper coding"
   ]
  },
  {
   "cell_type": "code",
   "execution_count": 33,
   "id": "639ff7c0",
   "metadata": {},
   "outputs": [
    {
     "name": "stdout",
     "output_type": "stream",
     "text": [
      "{'mango', 'banana', 'apple'}\n"
     ]
    }
   ],
   "source": [
    "#Q1\n",
    "lst =[\"apple\",\"mango\",\"banana\"]\n",
    "\n",
    "s1=set(lst)\n",
    "print(s1)"
   ]
  },
  {
   "cell_type": "code",
   "execution_count": 36,
   "id": "5c9ee5c1",
   "metadata": {},
   "outputs": [
    {
     "name": "stdout",
     "output_type": "stream",
     "text": [
      "[10, 20, 30, 40, 50, 60, 70]\n",
      "{40, 30}\n",
      "{10, 20}\n",
      "{50, 20, 70, 10, 60}\n",
      "False\n",
      "False\n",
      "False\n"
     ]
    }
   ],
   "source": [
    "#Q2\n",
    "s1 = {10,20,30,40}\n",
    "s2 = {30,40,50,60,70}\n",
    "\n",
    "print(sorted(s1 | s2))\n",
    "print(s1 & s2)\n",
    "print(s1 - s2)\n",
    "print(s1 ^ s2)\n",
    "print(s1.issubset(s2))\n",
    "print(s1.issubset(s2))\n",
    "print(s1.isdisjoint(s2))"
   ]
  },
  {
   "cell_type": "markdown",
   "id": "5240fa8e",
   "metadata": {},
   "source": [
    "Let's code"
   ]
  },
  {
   "cell_type": "code",
   "execution_count": 36,
   "id": "505d6d6c",
   "metadata": {},
   "outputs": [
    {
     "name": "stdout",
     "output_type": "stream",
     "text": [
      "There are : 56 cases\n",
      "Probability of obtaining more than 3  by the sum of the sports of a dice 100.00%\n",
      "Probability of obtaining more than 4  by the sum of the sports of a dice 98.21%\n",
      "Probability of obtaining more than 5  by the sum of the sports of a dice 96.43%\n",
      "Probability of obtaining more than 6  by the sum of the sports of a dice 92.86%\n",
      "Probability of obtaining more than 7  by the sum of the sports of a dice 87.50%\n",
      "Probability of obtaining more than 8  by the sum of the sports of a dice 80.36%\n",
      "Probability of obtaining more than 9  by the sum of the sports of a dice 71.43%\n",
      "Probability of obtaining more than 10 by the sum of the sports of a dice 60.71%\n",
      "Probability of obtaining more than 11 by the sum of the sports of a dice 50.00%\n",
      "Probability of obtaining more than 12 by the sum of the sports of a dice 39.29%\n",
      "Probability of obtaining more than 13 by the sum of the sports of a dice 28.57%\n",
      "Probability of obtaining more than 14 by the sum of the sports of a dice 19.64%\n",
      "Probability of obtaining more than 15 by the sum of the sports of a dice 12.50%\n",
      "Probability of obtaining more than 16 by the sum of the sports of a dice 7.14%\n",
      "Probability of obtaining more than 17 by the sum of the sports of a dice 3.57%\n",
      "Probability of obtaining more than 18 by the sum of the sports of a dice 1.79%\n"
     ]
    }
   ],
   "source": [
    "cases = []\n",
    "\n",
    "for i in range(1,7):\n",
    "    for j in range(i,7):\n",
    "            cases.append((i,j,k))\n",
    "            \n",
    "print(\"There are :\",len(cases),\"cases that can occur by throwing the dice three times.\")           \n",
    "\n",
    "total_cases = len(cases)\n",
    "\n",
    "for i in range(3,19):\n",
    "    n_cases = 0\n",
    "    for c in cases:\n",
    "        if sum(c) >= i:\n",
    "            n_cases += 1\n",
    "    prob = n_cases * 100/ total_cases\n",
    "    print(\"Probability of obtaining more than {:^2} by the sum of the sports of a dice {:3.2f}%\".format(i,prob))"
   ]
  },
  {
   "cell_type": "markdown",
   "id": "1be83bee",
   "metadata": {},
   "source": [
    "Pair programming"
   ]
  },
  {
   "cell_type": "code",
   "execution_count": 2,
   "id": "7af1dcfa",
   "metadata": {},
   "outputs": [
    {
     "name": "stdout",
     "output_type": "stream",
     "text": [
      "Enter two integer : 1 2\n",
      "There is a (1, 2) element at the 1 position.\n"
     ]
    }
   ],
   "source": [
    "mylist = [(1,2),(4,5),(4,2),(3,1),(9,3)]\n",
    "\n",
    "a,b = input(\"Enter two integer : \").split()\n",
    "a,b =int(a),int(b)\n",
    "# print(set(mylist))\n",
    "# print(set([a,b]))\n",
    "\n",
    "for i in range(len(mylist)):\n",
    "    if (a,b) in mylist:\n",
    "        print(f\"There is a {(a,b)} element at the {i+1} position.\")\n",
    "        break\n",
    "    elif \n"
   ]
  },
  {
   "cell_type": "code",
   "execution_count": null,
   "id": "28e8c356",
   "metadata": {},
   "outputs": [],
   "source": []
  },
  {
   "cell_type": "code",
   "execution_count": null,
   "id": "e8fa5c8f",
   "metadata": {},
   "outputs": [],
   "source": []
  },
  {
   "cell_type": "code",
   "execution_count": null,
   "id": "a48bde26",
   "metadata": {},
   "outputs": [],
   "source": []
  },
  {
   "cell_type": "code",
   "execution_count": null,
   "id": "bf5e71b3",
   "metadata": {},
   "outputs": [],
   "source": []
  }
 ],
 "metadata": {
  "kernelspec": {
   "display_name": "Python 3 (ipykernel)",
   "language": "python",
   "name": "python3"
  },
  "language_info": {
   "codemirror_mode": {
    "name": "ipython",
    "version": 3
   },
   "file_extension": ".py",
   "mimetype": "text/x-python",
   "name": "python",
   "nbconvert_exporter": "python",
   "pygments_lexer": "ipython3",
   "version": "3.11.3"
  }
 },
 "nbformat": 4,
 "nbformat_minor": 5
}
