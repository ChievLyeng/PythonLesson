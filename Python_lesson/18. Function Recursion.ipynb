{
 "cells": [
  {
   "cell_type": "markdown",
   "id": "420f9d4e",
   "metadata": {},
   "source": [
    "18. Function Recursion"
   ]
  },
  {
   "cell_type": "markdown",
   "id": "ce636257",
   "metadata": {},
   "source": [
    "1. Calculating factorial"
   ]
  },
  {
   "cell_type": "markdown",
   "id": "db2a7bbf",
   "metadata": {},
   "source": [
    "1.2 Factorial and loops"
   ]
  },
  {
   "cell_type": "code",
   "execution_count": 1,
   "id": "4d415d1d",
   "metadata": {},
   "outputs": [
    {
     "name": "stdout",
     "output_type": "stream",
     "text": [
      "Enter a number : 5\n",
      "5! = 120\n"
     ]
    }
   ],
   "source": [
    "n = int(input(\"Enter a number : \"))\n",
    "fact = 1\n",
    "\n",
    "for i in range(1,n+1) :\n",
    "    fact = fact * i\n",
    "    \n",
    "print(\"{}! = {}\".format(n,fact))"
   ]
  },
  {
   "cell_type": "markdown",
   "id": "13e068b0",
   "metadata": {},
   "source": [
    "1.3 Factorial and recursion"
   ]
  },
  {
   "cell_type": "markdown",
   "id": "f49b07ac",
   "metadata": {},
   "source": [
    "* The recursion refers to a function that calls itself from withing its     own body.\n",
    "* Recursion is a very useful problem-solving technique that allows us to     solve complex problems in a intuitive and simple way, which be difficult   to solve using procedural techniques."
   ]
  },
  {
   "cell_type": "markdown",
   "id": "4485e772",
   "metadata": {},
   "source": [
    "### The flow of the factorial recursion is as follows\n",
    "\n",
    "factorial(5) \n",
    "    return 5 * factorial(4) = 120\n",
    "        return 4 * factorial(3) = 24\n",
    "            return 3 * factorial(2) = 6\n",
    "                return 2 * factorial(1) = 2\n",
    "                \n",
    "* If factorial(1) returns 1, then factorial(2), which called factorial(1),follows the flow of '2 * factorial(1) = 2*1'.\n",
    "* The final result obtained through repetitive returns is 120"
   ]
  },
  {
   "cell_type": "code",
   "execution_count": 10,
   "id": "fda371dd",
   "metadata": {},
   "outputs": [
    {
     "name": "stdout",
     "output_type": "stream",
     "text": [
      "5! = 120\n"
     ]
    }
   ],
   "source": [
    "def factorial(n) :\n",
    "    if n <= 1:\n",
    "        return 1\n",
    "    else:\n",
    "        return n * factorial(n-1)\n",
    "\n",
    "    \n",
    "n = 5\n",
    "print('{}! = {}'.format(n,factorial(n)))\n"
   ]
  },
  {
   "cell_type": "markdown",
   "id": "76e661ce",
   "metadata": {},
   "source": [
    "A termination condition is essential in a recursive function.\n",
    "\n",
    "* The important point in recursive functions is when the program             terminates.\n",
    "* According to the definition, if n is less than or equal to 1, we don't     need to define factorial for values less than 1.\n",
    "* Therefore, if the 'n' in the if statement becomes 1 or less, we can       simply return 1."
   ]
  },
  {
   "cell_type": "markdown",
   "id": "bbe16442",
   "metadata": {},
   "source": [
    "### Recursive calls and divide-and-conquer\n",
    "* Recursion is a technique where a function calls itself, and it is common   to break down a problem of size n into smaller subproblems of size less   than n and call them.\n",
    "* This solving approach is closely related to the divide-and-conquer         algorithm.\n",
    "* The divide-and-conquer algorithm can be considered as multiple-branch     recursion, since it only invloves a single recursive call.\n",
    "* If the problem size is 'n', dividing the problem into n/2 and             recursively calling each will result in a typical divide-and-conquer       algorithm.\n",
    "* There are also ways that divide the problem into more than two smaller     problems and apply recursive calls, All of these ways are condidered       divide-and-conquer algorithms.\n",
    "* In divide-and-conquer problems, the sum of all the split problems should     not be larger than the original problem."
   ]
  },
  {
   "cell_type": "markdown",
   "id": "d1a99f2f",
   "metadata": {},
   "source": [
    "### 1.4 Pros and Cons of Recursive Calls and Loops\n",
    "\n",
    "* Recursive Function\n",
    "Pros : Relatively consise code\n",
    "Cons : Requires more memory Relatively slower execution speed\n",
    "* Loop\n",
    "Pros : Relatively faster execution speed\n",
    "Cons : Relatively complex code"
   ]
  },
  {
   "cell_type": "markdown",
   "id": "9c9a5ed3",
   "metadata": {},
   "source": [
    "### 2. Calculating Fibonacci sequence"
   ]
  },
  {
   "cell_type": "markdown",
   "id": "3b483345",
   "metadata": {},
   "source": [
    "#### 2.1 What is the Fibonacci sequence ?"
   ]
  },
  {
   "cell_type": "markdown",
   "id": "86515a1c",
   "metadata": {},
   "source": [
    "* The first term of the Fibonacci sequence, F0, is 0, F1 is 1, and Fn is     defined as follows. Fn = Fn-1 + Fn-2\n",
    "* According to this definition, the Fibonacci sequence is as follows."
   ]
  },
  {
   "cell_type": "markdown",
   "id": "c3ae002d",
   "metadata": {},
   "source": [
    "### 2.2 Fibonacci sequence and recursion "
   ]
  },
  {
   "cell_type": "code",
   "execution_count": 15,
   "id": "a4c99ad5",
   "metadata": {},
   "outputs": [
    {
     "name": "stdout",
     "output_type": "stream",
     "text": [
      "How many Fibonacci number do you want?10\n",
      "Fibonacci Sequence : 0 1 1 2 3 5 8 13 21 34 "
     ]
    }
   ],
   "source": [
    "def fibonacci(n) :\n",
    "    if n <= 1 :\n",
    "        return n\n",
    "    else:\n",
    "        return fibonacci(n-1) + fibonacci(n-2)\n",
    "    \n",
    "nterms = int(input(\"How many Fibonacci number do you want?\"))\n",
    "\n",
    "if nterms <= 0 :\n",
    "    print(\"Error : Enter positive number.\")\n",
    "else:\n",
    "    print(\"Fibonacci Sequence : \",end=\"\")\n",
    "    for i in range(nterms) :\n",
    "        print(fibonacci(i),end=\" \")"
   ]
  },
  {
   "cell_type": "markdown",
   "id": "cdc26e29",
   "metadata": {},
   "source": [
    "* Let's examine the process of executing the fib(5) fibonacci function.\n",
    "* fib(5) calls fib(4) and fib(3), and fib(4 recursivly calls fib(3) and     fib(2), resulting in a very large execution tree structure."
   ]
  },
  {
   "cell_type": "code",
   "execution_count": 16,
   "id": "13844694",
   "metadata": {},
   "outputs": [
    {
     "name": "stdout",
     "output_type": "stream",
     "text": [
      "55\n"
     ]
    }
   ],
   "source": [
    "def fibonacci(n) :\n",
    "    if n == 0 :\n",
    "        return 0\n",
    "    elif n == 1 :\n",
    "        return 1 \n",
    "    else :\n",
    "        return fibonacci(n-1) + fibonacci(n-2)\n",
    "\n",
    "print(fibonacci(10))"
   ]
  },
  {
   "cell_type": "markdown",
   "id": "1b9b8071",
   "metadata": {},
   "source": [
    "#### 2.3 Efficiency of Fibonacci Sequence Funtion Implemented with Recursive calls"
   ]
  },
  {
   "cell_type": "markdown",
   "id": "80fe0b51",
   "metadata": {},
   "source": [
    "* The biggest issue with recursive functions is their inefficiency because   they unnecessarily repeat calculations even for values that have already   been computed.\n",
    "* Let's take the process of finding the 30th Fibonacci number as an         example."
   ]
  },
  {
   "cell_type": "code",
   "execution_count": 20,
   "id": "95d89bdb",
   "metadata": {},
   "outputs": [
    {
     "name": "stdout",
     "output_type": "stream",
     "text": [
      "fibonacci_1(30) * 20 times :  2.895427292000022 seconds\n"
     ]
    }
   ],
   "source": [
    "from timeit import *\n",
    "\n",
    "def fibonacci_1(n) :\n",
    "    if n== 0 :\n",
    "        return 0\n",
    "    elif n == 1 :\n",
    "        return 1\n",
    "    else:\n",
    "        return fibonacci_1(n-1) + fibonacci_1(n-2)\n",
    "    \n",
    "t3 = Timer(\"fibonacci_1(30)\",\"from __main__ import fibonacci_1\")\n",
    "print(\"fibonacci_1(30) * 20 times : \",t3.timeit(number = 20),\"seconds\")"
   ]
  },
  {
   "cell_type": "markdown",
   "id": "eb9645dd",
   "metadata": {},
   "source": [
    "#### 2.4 Fibonacci Sequence Function and Memoization"
   ]
  },
  {
   "cell_type": "markdown",
   "id": "cea72f08",
   "metadata": {},
   "source": [
    "Memoization is an optimization technique that involves strong previously calculated values to avoid redundant calculations when they are repeated and their results remain unchanged."
   ]
  },
  {
   "cell_type": "code",
   "execution_count": 12,
   "id": "0d85b3a9",
   "metadata": {},
   "outputs": [
    {
     "name": "stdout",
     "output_type": "stream",
     "text": [
      "fibonacci_2(30) * 20 times 4.6208000185288256e-05 seconds\n"
     ]
    }
   ],
   "source": [
    "from timeit import * \n",
    "\n",
    "dic = {0 : 0, 1 : 1}\n",
    "def fibonacci_2(n) :\n",
    "    if n in dic : \n",
    "        return dic[n]\n",
    "    \n",
    "    dic[n] = fibonacci_2(n-1) + fibonacci_2(n-2)\n",
    "    return dic[n]\n",
    "\n",
    "t2 = Timer(\"fibonacci_2(30)\",\"from __main__ import fibonacci_2\")\n",
    "print(\"fibonacci_2(30) * 20 times\",t2.timeit(number = 20), \"seconds\")"
   ]
  },
  {
   "cell_type": "markdown",
   "id": "813aef0d",
   "metadata": {},
   "source": [
    "#### 18.3 Paper Coding"
   ]
  },
  {
   "cell_type": "code",
   "execution_count": 15,
   "id": "aa38a4b1",
   "metadata": {},
   "outputs": [
    {
     "name": "stdout",
     "output_type": "stream",
     "text": [
      "Enter the number : 10\n",
      "55\n"
     ]
    }
   ],
   "source": [
    "#Q1\n",
    "n = int(input(\"Enter the number : \"))\n",
    "\n",
    "def sum_num(n) :\n",
    "    if n == 1:\n",
    "        return 1\n",
    "    else :\n",
    "        return n + sum_num(n-1)\n",
    "    \n",
    "print(sum_num(n))"
   ]
  },
  {
   "cell_type": "code",
   "execution_count": 25,
   "id": "d7078da6",
   "metadata": {},
   "outputs": [
    {
     "name": "stdout",
     "output_type": "stream",
     "text": [
      "Enter the values x : 2\n",
      "Enter the values n : 10\n",
      "1024\n"
     ]
    }
   ],
   "source": [
    "#Q2\n",
    "from math import pow\n",
    "\n",
    "x = int(input(\"Enter the values x : \"))\n",
    "n = int(input(\"Enter the values n : \"))\n",
    "\n",
    "def exponential (x,n) :\n",
    "    if n == 1 :\n",
    "        return pow(x,1)\n",
    "    else :\n",
    "        return x * exponential(x,n-1)\n",
    "    \n",
    "print(int(exponential(x,n)))"
   ]
  },
  {
   "cell_type": "markdown",
   "id": "acb6487b",
   "metadata": {},
   "source": [
    "#### 18.4 Let's code"
   ]
  },
  {
   "cell_type": "code",
   "execution_count": 31,
   "id": "6ec58af2",
   "metadata": {},
   "outputs": [
    {
     "name": "stdout",
     "output_type": "stream",
     "text": [
      "Move disk 1 from A to C\n",
      "Move disk 2 from A to B\n",
      "Move disk 1 from C to B\n",
      "Move disk 3 from A to C\n",
      "Move disk 1 from B to A\n",
      "Move disk 2 from B to C\n",
      "Move disk 1 from A to C\n"
     ]
    }
   ],
   "source": [
    "def hanoi (n,from_,to_,via_) :\n",
    "    if n== 1 : \n",
    "        print(\"Move disk {} from {} to {}\".format(n,from_,to_))\n",
    "    else :\n",
    "        hanoi(n-1,from_,via_,to_)\n",
    "        print(\"Move disk {} from {} to {}\".format(n,from_,to_))\n",
    "        hanoi(n-1,via_,to_,from_)\n",
    "        \n",
    "hanoi(3,'A','C','B')"
   ]
  },
  {
   "cell_type": "markdown",
   "id": "4ffdd0a4",
   "metadata": {},
   "source": [
    "#### 18.5 Pair Programming"
   ]
  },
  {
   "cell_type": "code",
   "execution_count": 54,
   "id": "9066c994",
   "metadata": {},
   "outputs": [
    {
     "name": "stdout",
     "output_type": "stream",
     "text": [
      "2.7182818284590455\n"
     ]
    }
   ],
   "source": [
    "\n",
    "def factorial(k) :\n",
    "    if k <= 1 :\n",
    "        return 1\n",
    "    else :\n",
    "        return k * factorial(k-1)\n",
    "    \n",
    "def euler(n) :\n",
    "    if n == 1:\n",
    "        return 1 \n",
    "    else :\n",
    "        return 1/factorial(n-1) + euler(n-1)\n",
    "    \n",
    "print(euler(20))"
   ]
  },
  {
   "cell_type": "code",
   "execution_count": 55,
   "id": "ab67e652",
   "metadata": {},
   "outputs": [
    {
     "name": "stdout",
     "output_type": "stream",
     "text": [
      "Enter the number : 48\n",
      "Enter the number : 60\n",
      "12\n"
     ]
    }
   ],
   "source": [
    "#Q2\n",
    "def gcd(a,b) :\n",
    "    if b == 0 :\n",
    "        return a\n",
    "    else : \n",
    "        return (gcd(b,a%b))\n",
    "    \n",
    "a = int(input(\"Enter the number : \"))\n",
    "b = int(input(\"Enter the number : \"))\n",
    "\n",
    "\n",
    "print(gcd(a,b))"
   ]
  },
  {
   "cell_type": "code",
   "execution_count": null,
   "id": "e0ee842b",
   "metadata": {},
   "outputs": [],
   "source": []
  }
 ],
 "metadata": {
  "kernelspec": {
   "display_name": "Python 3 (ipykernel)",
   "language": "python",
   "name": "python3"
  },
  "language_info": {
   "codemirror_mode": {
    "name": "ipython",
    "version": 3
   },
   "file_extension": ".py",
   "mimetype": "text/x-python",
   "name": "python",
   "nbconvert_exporter": "python",
   "pygments_lexer": "ipython3",
   "version": "3.10.9"
  }
 },
 "nbformat": 4,
 "nbformat_minor": 5
}
