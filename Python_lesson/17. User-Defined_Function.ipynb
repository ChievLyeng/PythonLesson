{
 "cells": [
  {
   "cell_type": "markdown",
   "id": "92478cab",
   "metadata": {},
   "source": [
    "17.1 Objective"
   ]
  },
  {
   "cell_type": "markdown",
   "id": "5660e335",
   "metadata": {},
   "source": [
    "1.2 Caesar cipher"
   ]
  },
  {
   "cell_type": "markdown",
   "id": "49d7d99b",
   "metadata": {},
   "source": [
    ". The Caesar cipher is a type of simple substitution cipher used in         cryptography.\n",
    ". In fact, the Roman emperor Caesar himself used this Caesar cipher.\n",
    ". The Caesar cipher is a method of substituting each letter by shifting it   a certain number of positions down the alphabet."
   ]
  },
  {
   "cell_type": "code",
   "execution_count": 2,
   "id": "ba8c224f",
   "metadata": {},
   "outputs": [
    {
     "name": "stdout",
     "output_type": "stream",
     "text": [
      "src_str : ABCDEFGHIJKLMNOPQRSTUVWXYZ\n",
      "dst_str : DEFGHIJKLMNOPQRSTUVWXYZDEFGHIJKLMNOPQRSTUVWXYZ\n"
     ]
    }
   ],
   "source": [
    "import string\n",
    "\n",
    "src_str = string.ascii_uppercase\n",
    "dst_str = src_str[3:] + src_str[3:]\n",
    "\n",
    "print(\"src_str :\",src_str)\n",
    "print(\"dst_str :\",dst_str)"
   ]
  },
  {
   "cell_type": "markdown",
   "id": "fea89fa1",
   "metadata": {},
   "source": [
    "17.2 Key Concept"
   ]
  },
  {
   "cell_type": "markdown",
   "id": "8edd64f2",
   "metadata": {},
   "source": [
    "1. Use-defined Function"
   ]
  },
  {
   "cell_type": "markdown",
   "id": "facde698",
   "metadata": {},
   "source": [
    "1.1 What is a Function"
   ]
  },
  {
   "cell_type": "markdown",
   "id": "edabcd86",
   "metadata": {},
   "source": [
    "    Functions provide the following advantages\n",
    "1. Structural programming is possible because a large program can be          divided into multiple parts and written separately\n",
    "2. Reusing functions in different programs is possible.\n",
    "3. The readability of the code increases.\n",
    "5. Maintenance becomes easier as only specific functions need to be          modified when updating a program\n",
    "5. Utiilizing already developed functions can save time and cost in          program development."
   ]
  },
  {
   "cell_type": "markdown",
   "id": "d3a8d5d7",
   "metadata": {},
   "source": [
    "1.2 Definning a Function"
   ]
  },
  {
   "cell_type": "markdown",
   "id": "b978ed24",
   "metadata": {},
   "source": [
    "1. To defined a function, the def keyword is required. There should be one    space after the def keyword.\n",
    "2. The function name should be meaningful and followed by parentheses().\n",
    "3. Parameters for the function can be omitted.\n",
    "4. A colon (:) must be placed at the end of the first line of the            function.\n",
    "5. The function code block must be indented.\n",
    "6. The return statement, which returns the result after the function performs its task, can be omitted."
   ]
  },
  {
   "cell_type": "markdown",
   "id": "b170a9a1",
   "metadata": {},
   "source": [
    "def func_name (x1,x2,...) :\n",
    "    code1\n",
    "    code2\n",
    "    ...\n",
    "    return n1[, n2,...]"
   ]
  },
  {
   "cell_type": "markdown",
   "id": "4e8d0b73",
   "metadata": {},
   "source": [
    "1.3 The pass keyword"
   ]
  },
  {
   "cell_type": "markdown",
   "id": "08cd1e82",
   "metadata": {},
   "source": [
    ". When implementing a function, you can use the pass statement to define     only the name and postpone implementing the functionality for later.\n",
    ". The following function is intended to define only the name and postpone   implementing the functionality for later."
   ]
  },
  {
   "cell_type": "code",
   "execution_count": 5,
   "id": "e76bf6c6",
   "metadata": {},
   "outputs": [],
   "source": [
    "def func():\n",
    "    pass\n",
    "\n",
    "func()"
   ]
  },
  {
   "cell_type": "markdown",
   "id": "637cda19",
   "metadata": {},
   "source": [
    "1.4 Parameters and Agruments\n",
    "\n",
    "* Parameter\n",
    ". Variable defined in the function or method header that recieve the actual value when the functions is called.\n",
    "\n",
    "* Argument\n",
    ". The actual value passed when a function or method is called."
   ]
  },
  {
   "cell_type": "code",
   "execution_count": 6,
   "id": "cb34da22",
   "metadata": {},
   "outputs": [
    {
     "name": "stdout",
     "output_type": "stream",
     "text": [
      "3\n"
     ]
    }
   ],
   "source": [
    "def sum_num (x1,x2): # x1,x2 is parameter\n",
    "    return x1+x2\n",
    "\n",
    "print(sum_num(1,2)) # 1 and 2 is arguments"
   ]
  },
  {
   "cell_type": "markdown",
   "id": "a3c1b8fd",
   "metadata": {},
   "source": [
    "1.5 Function call without parameters"
   ]
  },
  {
   "cell_type": "code",
   "execution_count": 9,
   "id": "0640a524",
   "metadata": {},
   "outputs": [
    {
     "name": "stdout",
     "output_type": "stream",
     "text": [
      "**********\n",
      "**********\n",
      "**********\n",
      "**********\n",
      "**********\n"
     ]
    }
   ],
   "source": [
    "def print_star():\n",
    "    print(\"*\"*10)\n",
    "    \n",
    "print_star()\n",
    "print_star()\n",
    "print_star()\n",
    "print_star()\n",
    "print_star()"
   ]
  },
  {
   "cell_type": "markdown",
   "id": "22a3bef6",
   "metadata": {},
   "source": [
    "1.6 Function call with parameters"
   ]
  },
  {
   "cell_type": "code",
   "execution_count": 14,
   "id": "5f8aa79b",
   "metadata": {},
   "outputs": [
    {
     "name": "stdout",
     "output_type": "stream",
     "text": [
      "*****\n",
      "*****\n",
      "*****\n",
      "*****\n",
      "*****\n",
      "*****\n",
      "*****\n"
     ]
    }
   ],
   "source": [
    "def print_star(n) :\n",
    "    for _ in range(n):\n",
    "        print(\"*\"*5)\n",
    "        \n",
    "print_star(2)\n",
    "print_star(5)"
   ]
  },
  {
   "cell_type": "code",
   "execution_count": 16,
   "id": "cf1c9e11",
   "metadata": {},
   "outputs": [
    {
     "name": "stdout",
     "output_type": "stream",
     "text": [
      "Print Hello twice.\n",
      "Hello Hello \n",
      "Print Hello three times.\n",
      "Hello Hello Hello \n",
      "Print Hello four times.\n",
      "Hello Hello Hello Hello \n"
     ]
    }
   ],
   "source": [
    "def print_hello(n) :\n",
    "    print(\"Hello \" * n)\n",
    "    \n",
    "print(\"Print Hello twice.\")\n",
    "print_hello(2)\n",
    "print(\"Print Hello three times.\")\n",
    "print_hello(3)\n",
    "print(\"Print Hello four times.\")\n",
    "print_hello(4)"
   ]
  },
  {
   "cell_type": "markdown",
   "id": "40f63e73",
   "metadata": {},
   "source": [
    "1.7 Caution when calling a function"
   ]
  },
  {
   "cell_type": "code",
   "execution_count": 20,
   "id": "21f653d3",
   "metadata": {},
   "outputs": [
    {
     "name": "stdout",
     "output_type": "stream",
     "text": [
      "The sum of 10 and 10 is 20 .\n",
      "The sum of 10 and 100 is 110 .\n"
     ]
    }
   ],
   "source": [
    "def print_sum (a,b):\n",
    "    result = a+b\n",
    "    print(f\"The sum of {a} and {b} is {result} .\")\n",
    "    \n",
    "print_sum(10,10)\n",
    "print_sum(10,100)\n",
    "# print_sum(10) make sure to pass the right amount of agrument accordingly to parameter"
   ]
  },
  {
   "cell_type": "markdown",
   "id": "dfddc0a9",
   "metadata": {},
   "source": [
    "1.8 Using the return statement to return results"
   ]
  },
  {
   "cell_type": "code",
   "execution_count": 21,
   "id": "a21b1a55",
   "metadata": {},
   "outputs": [
    {
     "name": "stdout",
     "output_type": "stream",
     "text": [
      "10\n"
     ]
    }
   ],
   "source": [
    "def get_sum(start,end) :\n",
    "    s=0\n",
    "    for i in range(start,end+1):\n",
    "        s+=1\n",
    "    return s\n",
    "\n",
    "\n",
    "x=get_sum(1,10)\n",
    "\n",
    "print(x)"
   ]
  },
  {
   "cell_type": "code",
   "execution_count": 23,
   "id": "25d6fc27",
   "metadata": {},
   "outputs": [
    {
     "name": "stdout",
     "output_type": "stream",
     "text": [
      "Sum of the two numbers 300\n"
     ]
    }
   ],
   "source": [
    "def get_sum(a,b):\n",
    "    return a+b\n",
    "\n",
    "result = get_sum(100,200)\n",
    "print(\"Sum of the two numbers\",result)"
   ]
  },
  {
   "cell_type": "markdown",
   "id": "72389ecb",
   "metadata": {},
   "source": [
    "1.9 Multiple returns"
   ]
  },
  {
   "cell_type": "code",
   "execution_count": 24,
   "id": "26733425",
   "metadata": {},
   "outputs": [
    {
     "name": "stdout",
     "output_type": "stream",
     "text": [
      "The solution is 2.0 'or' -4.0\n"
     ]
    }
   ],
   "source": [
    "def get_root(a,b,c) :\n",
    "    r1 = (-b + (b**2 - 4 * a * c) ** 0.5)/(2*a)\n",
    "    r2 = (-b - (b**2 - 4 * a * c) ** 0.5)/(2*a)\n",
    "    return r1,r2\n",
    "\n",
    "result1,result2 = get_root(1,2,-8)\n",
    "print(f\"The solution is {result1} 'or' {result2}\")"
   ]
  },
  {
   "cell_type": "code",
   "execution_count": 29,
   "id": "04a9a714",
   "metadata": {},
   "outputs": [
    {
     "name": "stdout",
     "output_type": "stream",
     "text": [
      "The area of a circle with radius 10 is 314.0, the circumference of the circle is 62.8\n"
     ]
    }
   ],
   "source": [
    "def circle_area_circum(radius) :\n",
    "    area = 3.14 * radius ** 2\n",
    "    circum = 2 * 3.14 * radius\n",
    "    return area,circum\n",
    "\n",
    "radius = 10\n",
    "area,circum = circle_area_circum(radius)\n",
    "print(\"The area of a circle with radius {} is {:.1f}, the circumference of the circle is {:.1f}\".format(radius,area,circum))"
   ]
  },
  {
   "cell_type": "markdown",
   "id": "d8dab861",
   "metadata": {},
   "source": [
    "1.10 Variable-length parameter"
   ]
  },
  {
   "cell_type": "markdown",
   "id": "7006c621",
   "metadata": {},
   "source": [
    ". There are cases where the number of arguments is not fixed when using     functions, and this is called the variable-length argument.\n",
    ". When receiving variable arguments in a function, an asterisk (*) is       placed before the parameter.\n",
    ". The variable inside a function that recieves variable-length arguments     is a variable-length parameter."
   ]
  },
  {
   "cell_type": "code",
   "execution_count": 1,
   "id": "ac3f2c2a",
   "metadata": {},
   "outputs": [
    {
     "name": "stdout",
     "output_type": "stream",
     "text": [
      "Hello A !\n",
      "Hello B !\n",
      "Hello C !\n",
      "Hello James !\n",
      "Hello Thomas !\n",
      "Hello 1 !\n",
      "Hello 2 !\n",
      "Hello 3 !\n",
      "Hello 4 !\n"
     ]
    }
   ],
   "source": [
    "# the loop inside function will run according to the agrument that pass into the function\n",
    "def greet(*names) :\n",
    "    for name in names :\n",
    "        print(\"Hello\",name,\"!\")\n",
    "        \n",
    "greet('A','B','C')\n",
    "greet(\"James\",\"Thomas\")\n",
    "greet(1,2,3,4)  "
   ]
  },
  {
   "cell_type": "code",
   "execution_count": 2,
   "id": "98717da2",
   "metadata": {},
   "outputs": [
    {
     "name": "stdout",
     "output_type": "stream",
     "text": [
      "The number of arguments : 3\n",
      "arguments : (10, 20, 30)\n",
      "The number of arguments : 6\n",
      "arguments : (10, 20, 30, 40, 50, 60)\n"
     ]
    }
   ],
   "source": [
    "def foo(*args) :\n",
    "    print(\"The number of arguments :\",len(args))\n",
    "    print(\"arguments :\",args)\n",
    "    \n",
    "    \n",
    "foo(10,20,30)\n",
    "foo(10,20,30,40,50,60)"
   ]
  },
  {
   "cell_type": "code",
   "execution_count": 32,
   "id": "bf066520",
   "metadata": {},
   "outputs": [
    {
     "name": "stdout",
     "output_type": "stream",
     "text": [
      "60\n",
      "150\n"
     ]
    }
   ],
   "source": [
    "def sum_nums(*numbers) :\n",
    "    result = 0\n",
    "    for n in numbers :\n",
    "        result += n\n",
    "    return result\n",
    "\n",
    "print(sum_nums(10,20,30))\n",
    "print(sum_nums(10,20,30,40,50))"
   ]
  },
  {
   "cell_type": "markdown",
   "id": "d3eadfd1",
   "metadata": {},
   "source": [
    "1.11 Default parameter"
   ]
  },
  {
   "cell_type": "code",
   "execution_count": 6,
   "id": "2cc4a1d2",
   "metadata": {},
   "outputs": [
    {
     "name": "stdout",
     "output_type": "stream",
     "text": [
      "Default Value\n",
      "***********\n",
      "Passing agrument\n",
      "***********\n",
      "***********\n",
      "***********\n",
      "***********\n"
     ]
    }
   ],
   "source": [
    "def print_star(n=1):\n",
    "    for _ in range(n):\n",
    "        print(\"***********\")\n",
    "\n",
    "print(\"Default Value\")\n",
    "print_star() # if we do not pass the agrument it will take the default value\n",
    "\n",
    "print(\"Passing agrument\")\n",
    "print_star(4) # if we pass the agrument it will ignore the default value and execute by the passed agrument"
   ]
  },
  {
   "cell_type": "markdown",
   "id": "b2c49947",
   "metadata": {},
   "source": [
    "1.12 Precautions when using default arguments"
   ]
  },
  {
   "cell_type": "code",
   "execution_count": 7,
   "id": "51fb6b61",
   "metadata": {},
   "outputs": [
    {
     "name": "stdout",
     "output_type": "stream",
     "text": [
      "div() = 0.5\n",
      "div(4) = 2.0\n",
      "div(6,3) = 2.0\n"
     ]
    }
   ],
   "source": [
    "def div(a = 1,b = 2) :\n",
    "    return a/b\n",
    "\n",
    "print(\"div() =\",div()) #if not pass the agrument it will take the default value\n",
    "print(\"div(4) =\",div(4)) # if pass one another one is default value\n",
    "print(\"div(6,3) =\",div(6,3)) # it take the passed argument"
   ]
  },
  {
   "cell_type": "code",
   "execution_count": 8,
   "id": "1cea9349",
   "metadata": {},
   "outputs": [
    {
     "name": "stdout",
     "output_type": "stream",
     "text": [
      "div(4) = 2.0\n",
      "div(6,3) = 2.0\n"
     ]
    }
   ],
   "source": [
    "def div(a,b = 2) :\n",
    "    return a/b\n",
    "\n",
    "print(\"div(4) =\",div(4))\n",
    "print(\"div(6,3) =\",div(6,3))"
   ]
  },
  {
   "cell_type": "markdown",
   "id": "970c562f",
   "metadata": {},
   "source": [
    "1.13 Keyword parameter\n",
    "\n",
    ". In the following code, when providing -8,2,1 as arguments, the result     differs from providing 1,2,-8 as arguments.\n",
    ". Values are passed to parameters based on the order of 'a','b','c'.\n",
    "  Therefore, the positional argument passing approach depends on the order   of the arguments."
   ]
  },
  {
   "cell_type": "code",
   "execution_count": 11,
   "id": "b8146c23",
   "metadata": {},
   "outputs": [
    {
     "name": "stdout",
     "output_type": "stream",
     "text": [
      "The solution is 2.0 or -4.0\n",
      "The solution is -0.25 or 0.5\n"
     ]
    }
   ],
   "source": [
    "def get_root(a,b,c) :\n",
    "    r1 = (-b + (b**2 -4 * a*c) ** 0.5)/(2 * a)\n",
    "    r2 = (-b - (b**2 -4 * a*c) ** 0.5)/(2 * a)\n",
    "    \n",
    "    return r1,r2\n",
    "\n",
    "result1,result2 = get_root(1,2,-8) # positional argument\n",
    "print(\"The solution is\",result1,\"or\",result2)\n",
    "\n",
    "result1,result2 = get_root(-8,2,1)\n",
    "print(\"The solution is\",result1,\"or\",result2)"
   ]
  },
  {
   "cell_type": "markdown",
   "id": "6539187e",
   "metadata": {},
   "source": [
    ". Keyword parameter passing approach\n",
    ". When calling a function, both the parameter name and its value are         specified together."
   ]
  },
  {
   "cell_type": "code",
   "execution_count": null,
   "id": "e77e00cc",
   "metadata": {},
   "outputs": [],
   "source": [
    "def get_root(a,b,c) :\n",
    "    r1 = (-b + (b**2 -4 * a*c) ** 0.5)/(2 * a)\n",
    "    r2 = (-b - (b**2 -4 * a*c) ** 0.5)/(2 * a)\n",
    "    \n",
    "    return r1,r2\n",
    "\n",
    "result1,result2 = get_root(a=1,b=2,c=-8) # keyword parameter passing approach\n",
    "print(\"The solution is\",result1,\"or\",result2)\n",
    "\n",
    "result1,result2 = get_root(c=-8,a=1,b=2)  # using keyword arguments the order doesn't matter. \n",
    "print(\"The solution is\",result1,\"or\",result2)\n",
    "\n",
    "result1,result2 = get_root(a=1,c=-8,b=2) \n",
    "print(\"The solution is\",result1,\"or\",result2)"
   ]
  },
  {
   "cell_type": "markdown",
   "id": "863a24c5",
   "metadata": {},
   "source": [
    "1.14 Precautions when using keyword arguments"
   ]
  },
  {
   "cell_type": "markdown",
   "id": "dc4db4c6",
   "metadata": {},
   "source": [
    ". It is also possible to mix these two methods.\n",
    ". However, when mixing these two methods, the keyword arguments must come   after the positional arguments."
   ]
  },
  {
   "cell_type": "code",
   "execution_count": 14,
   "id": "5438ebe3",
   "metadata": {},
   "outputs": [
    {
     "name": "stdout",
     "output_type": "stream",
     "text": [
      "The solution is 2.0 or -4.0\n"
     ]
    }
   ],
   "source": [
    "result1,result2 = get_root(1,2,c = -8)\n",
    "print(\"The solution is\",result1,'or',result2)"
   ]
  },
  {
   "cell_type": "code",
   "execution_count": 18,
   "id": "b72d11fb",
   "metadata": {},
   "outputs": [
    {
     "name": "stdout",
     "output_type": "stream",
     "text": [
      "1\n"
     ]
    }
   ],
   "source": [
    "def func(a,b,c=3,d=4,e=5):\n",
    "    return a + b + c + d\n",
    "\n",
    "print(func(1,2,e=0,d = -5))"
   ]
  },
  {
   "cell_type": "markdown",
   "id": "399b33b9",
   "metadata": {},
   "source": [
    "1.15 Example of creatingh a Cartesian product function"
   ]
  },
  {
   "cell_type": "code",
   "execution_count": 21,
   "id": "1b3fd7c5",
   "metadata": {},
   "outputs": [
    {
     "name": "stdout",
     "output_type": "stream",
     "text": [
      "{((3, 3), (1, 3)), ((1, 1), (1, 1)), ((1, 3), (1, 3)), ((1, 3), (3, 3)), ((3, 1), (3, 3)), ((3, 3), (3, 1)), ((1, 1), (1, 3)), ((3, 1), (1, 1)), ((3, 3), (3, 3)), ((1, 1), (3, 1)), ((1, 3), (1, 1)), ((3, 1), (1, 3)), ((3, 3), (1, 1)), ((1, 1), (3, 3)), ((1, 3), (3, 1)), ((3, 1), (3, 1))}\n"
     ]
    }
   ],
   "source": [
    "def product_set(set1,set2) :\n",
    "    res = set()\n",
    "    for i in set1 :\n",
    "        for j in set1 :\n",
    "            res = res |{(i,j)}\n",
    "    return res\n",
    "\n",
    "def exp(input_set,exponent) :\n",
    "    res = input_set\n",
    "    for _ in range(exponent - 1) :\n",
    "        res = product_set(res,input_set)\n",
    "    return res\n",
    "\n",
    "A = {1,3}\n",
    "A3 = exp(A,3)\n",
    "print(A3)"
   ]
  },
  {
   "cell_type": "code",
   "execution_count": 22,
   "id": "1e7553ed",
   "metadata": {},
   "outputs": [
    {
     "name": "stdout",
     "output_type": "stream",
     "text": [
      "{(3, 4), (4, 3), (3, 1), (5, 4), (4, 6), (5, 1), (2, 2), (1, 6), (2, 5), (1, 3), (6, 2), (6, 5), (4, 2), (4, 5), (3, 3), (5, 6), (3, 6), (5, 3), (2, 4), (1, 2), (2, 1), (1, 5), (6, 1), (6, 4), (3, 2), (4, 1), (3, 5), (5, 2), (4, 4), (5, 5), (1, 1), (1, 4), (2, 3), (2, 6), (6, 6), (6, 3)}\n"
     ]
    }
   ],
   "source": [
    "def product_set(set1,set2) :\n",
    "    res = set()\n",
    "    for i in set1 :\n",
    "        for j in set1 :\n",
    "            res = res |{(i,j)}\n",
    "    return res\n",
    "\n",
    "cases = {1,2,3,4,5,6}\n",
    "cases_2times = product_set(cases,cases)\n",
    "print(cases_2times)"
   ]
  },
  {
   "cell_type": "markdown",
   "id": "b1812a6c",
   "metadata": {},
   "source": [
    "2.1 What are golbal variables?"
   ]
  },
  {
   "cell_type": "markdown",
   "id": "a5e5c2b9",
   "metadata": {},
   "source": [
    ". Global variable is a variable declared outside of a function, which can   be accessed throughout the code"
   ]
  },
  {
   "cell_type": "code",
   "execution_count": 23,
   "id": "a9a02cd6",
   "metadata": {},
   "outputs": [
    {
     "name": "stdout",
     "output_type": "stream",
     "text": [
      "print_sum() internal : The sum of 10 and 20 is 30 .\n",
      "print_sum() internal : The sum of 10 and 20 is 30 .\n"
     ]
    }
   ],
   "source": [
    "def print_sum() :\n",
    "    result = a + b\n",
    "    print(\"print_sum() internal :\",\"The sum of\",a,\"and\",b,\"is\",result,\".\")\n",
    "    \n",
    "a = 10\n",
    "b = 20\n",
    "print_sum()\n",
    "result = a + b\n",
    "print(\"print_sum() internal :\",\"The sum of\",a,\"and\",b,\"is\",result,\".\")"
   ]
  },
  {
   "cell_type": "markdown",
   "id": "216ac578",
   "metadata": {},
   "source": [
    "2.2 What are local variables ?"
   ]
  },
  {
   "cell_type": "code",
   "execution_count": 25,
   "id": "28c50a52",
   "metadata": {},
   "outputs": [
    {
     "name": "stdout",
     "output_type": "stream",
     "text": [
      "print_sum() internal : The sum of 100 and 200 is 300 .\n",
      "print_sum() internal : The sum of 10 and 20 is 30 .\n"
     ]
    }
   ],
   "source": [
    "def print_sum() :\n",
    "    a = 100\n",
    "    b = 200\n",
    "    result = a + b\n",
    "    print(\"print_sum() internal :\",\"The sum of\",a,\"and\",b,\"is\",result,\".\")\n",
    "    \n",
    "a = 10\n",
    "b = 20\n",
    "\n",
    "# this use the local variable value in function\n",
    "print_sum()\n",
    "\n",
    "# this use the global variale value\n",
    "result = a + b\n",
    "print(\"print_sum() internal :\",\"The sum of\",a,\"and\",b,\"is\",result,\".\")"
   ]
  },
  {
   "cell_type": "markdown",
   "id": "02c1ea43",
   "metadata": {},
   "source": [
    "2.3 global keyword"
   ]
  },
  {
   "cell_type": "code",
   "execution_count": 26,
   "id": "80e1d2e1",
   "metadata": {},
   "outputs": [
    {
     "name": "stdout",
     "output_type": "stream",
     "text": [
      "print_sum() internal : The sum of 100 and 200 is 300 .\n",
      "print_sum() internal : The sum of 100 and 200 is 300 .\n"
     ]
    }
   ],
   "source": [
    "def print_sum() :\n",
    "    global a,b\n",
    "    a = 100\n",
    "    b = 200\n",
    "    result = a + b\n",
    "    print(\"print_sum() internal :\",\"The sum of\",a,\"and\",b,\"is\",result,\".\")\n",
    "    \n",
    "a = 10\n",
    "b = 20\n",
    "\n",
    "# both use the global variable value that assign by global keyword \n",
    "print_sum()\n",
    "result = a + b\n",
    "print(\"print_sum() internal :\",\"The sum of\",a,\"and\",b,\"is\",result,\".\")"
   ]
  },
  {
   "cell_type": "markdown",
   "id": "f799a13d",
   "metadata": {},
   "source": [
    "2.4 Utilizing Global Variables as Global Constants"
   ]
  },
  {
   "cell_type": "markdown",
   "id": "87ead53b",
   "metadata": {},
   "source": [
    ". Using global variables is a bad habit not only in python but also in all   programming languages.\n",
    ". Especially when the code becomes lengthy, global variables become a       major cause of errors.\n",
    ". However, this cannot be said for global constants.\n",
    ". Global constants are variables that can be accessed from anywhere in the   program, just like global vairables, but a constant that does not change   their values.\n",
    ". These variables are typically defined in the module's global scope and     should not be modified."
   ]
  },
  {
   "cell_type": "code",
   "execution_count": 30,
   "id": "0842c7ac",
   "metadata": {},
   "outputs": [
    {
     "name": "stdout",
     "output_type": "stream",
     "text": [
      "102400\n"
     ]
    }
   ],
   "source": [
    "GLOBAL_VALUE = 1024\n",
    "\n",
    "def foo() :\n",
    "    global GLOBAL_VALUE\n",
    "    a = GLOBAL_VALUE * 100\n",
    "    print(a)\n",
    "    \n",
    "foo()"
   ]
  },
  {
   "cell_type": "markdown",
   "id": "48441e63",
   "metadata": {},
   "source": [
    "17.3 Paper Coding"
   ]
  },
  {
   "cell_type": "code",
   "execution_count": 32,
   "id": "bf3c8e44",
   "metadata": {},
   "outputs": [
    {
     "name": "stdout",
     "output_type": "stream",
     "text": [
      "Welcome.\n",
      "Welcome.\n"
     ]
    }
   ],
   "source": [
    "#Q1\n",
    "def my_greet() :\n",
    "    print(\"Welcome.\")\n",
    "    \n",
    "my_greet()\n",
    "my_greet()"
   ]
  },
  {
   "cell_type": "code",
   "execution_count": 34,
   "id": "f9198fa9",
   "metadata": {},
   "outputs": [
    {
     "name": "stdout",
     "output_type": "stream",
     "text": [
      "The larger number between 100 and 200 is 200\n",
      "The smaller number between 100 and 200 is 100\n"
     ]
    }
   ],
   "source": [
    "#Q2\n",
    "\n",
    "def max2(m,n) :\n",
    "    if m > n :\n",
    "        print(f\"The larger number between {m} and {n} is {m}\")\n",
    "    else:\n",
    "        print(f\"The larger number between {m} and {n} is {n}\")\n",
    "        \n",
    "def min2(m,n) :\n",
    "    if m < n :\n",
    "        print(f\"The smaller number between {m} and {n} is {m}\")\n",
    "    else:\n",
    "        print(f\"The smaller number between {m} and {n} is {n}\")\n",
    "        \n",
    "max2(100,200)\n",
    "min2(100,200)"
   ]
  },
  {
   "cell_type": "code",
   "execution_count": 37,
   "id": "9906618d",
   "metadata": {},
   "outputs": [
    {
     "name": "stdout",
     "output_type": "stream",
     "text": [
      "1 mile = 1.61 kilometers\n",
      "2 miles = 3.22 kilometers\n",
      "3 miles = 4.83 kilometers\n",
      "4 miles = 6.44 kilometers\n",
      "5 miles = 8.05 kilometers\n"
     ]
    }
   ],
   "source": [
    "#Q3\n",
    "\n",
    "def mile2km(mi) :\n",
    "    return mi * 1.61\n",
    "\n",
    "for i in range(1,6) :\n",
    "    if i == 1 :\n",
    "        print(f\"{i} mile = {mile2km(i)} kilometers\")\n",
    "    else:\n",
    "        print(f\"{i} miles = {mile2km(i)} kilometers\")\n",
    "        "
   ]
  },
  {
   "cell_type": "code",
   "execution_count": 38,
   "id": "a07ae922",
   "metadata": {},
   "outputs": [
    {
     "name": "stdout",
     "output_type": "stream",
     "text": [
      "10 degrees celsius = 50.0 degrees Fahrenheit\n",
      "20 degrees celsius = 68.0 degrees Fahrenheit\n",
      "30 degrees celsius = 86.0 degrees Fahrenheit\n",
      "40 degrees celsius = 104.0 degrees Fahrenheit\n",
      "50 degrees celsius = 122.0 degrees Fahrenheit\n"
     ]
    }
   ],
   "source": [
    "#Q4\n",
    "\n",
    "def cel2fah(cel) :\n",
    "    return cel * 9/5 +32\n",
    "\n",
    "for i in range(10,60,10):\n",
    "    print(f\"{i} degrees celsius = {cel2fah(i)} degrees Fahrenheit\")"
   ]
  },
  {
   "cell_type": "markdown",
   "id": "193637f5",
   "metadata": {},
   "source": [
    "17.4 Let's code"
   ]
  },
  {
   "cell_type": "code",
   "execution_count": 62,
   "id": "09f9b269",
   "metadata": {},
   "outputs": [
    {
     "name": "stdout",
     "output_type": "stream",
     "text": [
      "Enter a sentence : ATTaK TONIGHT\n",
      "Encrypted sentence : DWWaN WRQLJKW"
     ]
    }
   ],
   "source": [
    "import string\n",
    "\n",
    "src = string.ascii_uppercase\n",
    "src2 = string.ascii_lowercase\n",
    "\n",
    "text = input(\"Enter a sentence : \")\n",
    "\n",
    "print(\"Encrypted sentence : \",end=\"\")\n",
    "for i in text :\n",
    "    if i in src :\n",
    "        print(chr(ord(i)+3),end = \"\")\n",
    "    elif i in src2 or i == \" \":\n",
    "        print(i,end = \"\")\n"
   ]
  },
  {
   "cell_type": "code",
   "execution_count": 2,
   "id": "7066bf97",
   "metadata": {},
   "outputs": [
    {
     "name": "stdout",
     "output_type": "stream",
     "text": [
      "Enter a sentence : ATTaK TONIGHT\n",
      "Encrypted sentence :DWWaN WRQLJKW\n"
     ]
    }
   ],
   "source": [
    "import string\n",
    "\n",
    "src = string.ascii_uppercase\n",
    "dst = src[3:] + src[:3]\n",
    "\n",
    "def cipher(a):\n",
    "    idx = src.index(a)\n",
    "    return dst[idx]\n",
    "\n",
    "\n",
    "text = input(\"Enter a sentence : \")\n",
    "print(\"Encrypted sentence :\",end=\"\")\n",
    "\n",
    "for ch in text :\n",
    "    if ch in src :\n",
    "        print(cipher(ch),end=\"\")\n",
    "    else:\n",
    "        print(ch,end=\"\")\n",
    "        \n",
    "print()"
   ]
  },
  {
   "cell_type": "markdown",
   "id": "fdb85118",
   "metadata": {},
   "source": [
    "17.5 Pair Programming"
   ]
  },
  {
   "cell_type": "code",
   "execution_count": 11,
   "id": "1bc32778",
   "metadata": {},
   "outputs": [
    {
     "name": "stdout",
     "output_type": "stream",
     "text": [
      "Enter three numbers : 9 2 6\n",
      "The average number of 9,2,6 is 5.6667\n",
      "The average number of 9,2,6 is 9\n",
      "The average number of 9,2,6 is 2\n"
     ]
    }
   ],
   "source": [
    "#Q1\n",
    "a,b,c = input(\"Enter three numbers : \").split()\n",
    "a,b,c = int(a),int(b),int(c)\n",
    "\n",
    "def average(a,b,c) :\n",
    "    return (a+b+c)/3\n",
    "\n",
    "def maximum (a,b,c) :\n",
    "    max_num = a \n",
    "    if b > max_num :\n",
    "        max_num = b\n",
    "    if c > max_num :\n",
    "        max_num = c\n",
    "        \n",
    "    return max_num\n",
    "\n",
    "def minimum (a,b,c) :\n",
    "    min_num = a\n",
    "    \n",
    "    if b < min_num :\n",
    "        min_num = b\n",
    "    if c < min_num :\n",
    "        min_num = c\n",
    "        \n",
    "    return min_num\n",
    "\n",
    "\n",
    "print(\"The average number of {},{},{} is {:.4f}\".format(a,b,c,average(a,b,c)))\n",
    "print(\"The maximum number of {},{},{} is {}\".format(a,b,c,maximum(a,b,c)))\n",
    "print(\"The minimum number of {},{},{} is {}\".format(a,b,c,minimum(a,b,c)))"
   ]
  },
  {
   "cell_type": "code",
   "execution_count": 26,
   "id": "a6f6c1be",
   "metadata": {},
   "outputs": [
    {
     "name": "stdout",
     "output_type": "stream",
     "text": [
      "Enter multiple integers : 3 45 32 5 7 8 4 44 5 90 17\n",
      "The average value is 23.64\n",
      "The maximum value is 90\n",
      "The minimum value is 3\n"
     ]
    }
   ],
   "source": [
    "#Q2\n",
    "\n",
    "lst = input(\"Enter multiple integers : \").split()\n",
    "\n",
    "for i in range(len(lst)):\n",
    "    lst[i] = int(lst[i])\n",
    "    \n",
    "def average(l) :\n",
    "    s=0\n",
    "    for i in range(len(l)) :\n",
    "        s+=l[i]\n",
    "        \n",
    "    return s/len(l)\n",
    "    \n",
    "def maximum(l) :\n",
    "    max_num=l[0]\n",
    "    for j in range(len(l)):\n",
    "        if l[j] > max_num :\n",
    "            max_num = l[j]\n",
    "    return max_num\n",
    "\n",
    "def minimum(l) :\n",
    "    min_num=l[0]\n",
    "    for j in range(len(l)):\n",
    "        if l[j] < min_num :\n",
    "            min_num = l[j]\n",
    "    return min_num\n",
    "\n",
    "print(\"The average value is {:.2f}\".format(average(lst)))\n",
    "print(\"The maximum value is {}\".format(maximum(lst)))\n",
    "print(\"The minimum value is {}\".format(minimum(lst)))"
   ]
  },
  {
   "cell_type": "code",
   "execution_count": null,
   "id": "2c7e7bee",
   "metadata": {},
   "outputs": [],
   "source": []
  },
  {
   "cell_type": "code",
   "execution_count": null,
   "id": "492b4bfc",
   "metadata": {},
   "outputs": [],
   "source": []
  },
  {
   "cell_type": "code",
   "execution_count": null,
   "id": "ca3d2ac0",
   "metadata": {},
   "outputs": [],
   "source": []
  }
 ],
 "metadata": {
  "kernelspec": {
   "display_name": "Python 3 (ipykernel)",
   "language": "python",
   "name": "python3"
  },
  "language_info": {
   "codemirror_mode": {
    "name": "ipython",
    "version": 3
   },
   "file_extension": ".py",
   "mimetype": "text/x-python",
   "name": "python",
   "nbconvert_exporter": "python",
   "pygments_lexer": "ipython3",
   "version": "3.10.9"
  }
 },
 "nbformat": 4,
 "nbformat_minor": 5
}
