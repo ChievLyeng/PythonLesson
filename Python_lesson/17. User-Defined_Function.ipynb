{
 "cells": [
  {
   "cell_type": "markdown",
   "id": "92478cab",
   "metadata": {},
   "source": [
    "17.1 Objective"
   ]
  },
  {
   "cell_type": "markdown",
   "id": "5660e335",
   "metadata": {},
   "source": [
    "1.2 Caesar cipher"
   ]
  },
  {
   "cell_type": "markdown",
   "id": "49d7d99b",
   "metadata": {},
   "source": [
    ". The Caesar cipher is a type of simple substitution cipher used in         cryptography.\n",
    ". In fact, the Roman emperor Caesar himself used this Caesar cipher.\n",
    ". The Caesar cipher is a method of substituting each letter by shifting it   a certain number of positions down the alphabet."
   ]
  },
  {
   "cell_type": "code",
   "execution_count": 2,
   "id": "ba8c224f",
   "metadata": {},
   "outputs": [
    {
     "name": "stdout",
     "output_type": "stream",
     "text": [
      "src_str : ABCDEFGHIJKLMNOPQRSTUVWXYZ\n",
      "dst_str : DEFGHIJKLMNOPQRSTUVWXYZDEFGHIJKLMNOPQRSTUVWXYZ\n"
     ]
    }
   ],
   "source": [
    "import string\n",
    "\n",
    "src_str = string.ascii_uppercase\n",
    "dst_str = src_str[3:] + src_str[3:]\n",
    "\n",
    "print(\"src_str :\",src_str)\n",
    "print(\"dst_str :\",dst_str)"
   ]
  },
  {
   "cell_type": "markdown",
   "id": "fea89fa1",
   "metadata": {},
   "source": [
    "17.2 Key Concept"
   ]
  },
  {
   "cell_type": "markdown",
   "id": "8edd64f2",
   "metadata": {},
   "source": [
    "1. Use-defined Function"
   ]
  },
  {
   "cell_type": "markdown",
   "id": "facde698",
   "metadata": {},
   "source": [
    "1.1 What is a Function"
   ]
  },
  {
   "cell_type": "markdown",
   "id": "edabcd86",
   "metadata": {},
   "source": [
    "    Functions provide the following advantages\n",
    "1. Structural programming is possible because a large program can be          divided into multiple parts and written separately\n",
    "2. Reusing functions in different programs is possible.\n",
    "3. The readability of the code increases.\n",
    "5. Maintenance becomes easier as only specific functions need to be          modified when updating a program\n",
    "5. Utiilizing already developed functions can save time and cost in          program development."
   ]
  },
  {
   "cell_type": "markdown",
   "id": "d3a8d5d7",
   "metadata": {},
   "source": [
    "1.2 Definning a Function"
   ]
  },
  {
   "cell_type": "markdown",
   "id": "b978ed24",
   "metadata": {},
   "source": [
    "1. To defined a function, the def keyword is required. There should be one    space after the def keyword.\n",
    "2. The function name should be meaningful and followed by parentheses().\n",
    "3. Parameters for the function can be omitted.\n",
    "4. A colon (:) must be placed at the end of the first line of the            function.\n",
    "5. The function code block must be indented.\n",
    "6. The return statement, which returns the result after the function performs its task, can be omitted."
   ]
  },
  {
   "cell_type": "markdown",
   "id": "b170a9a1",
   "metadata": {},
   "source": [
    "def func_name (x1,x2,...) :\n",
    "    code1\n",
    "    code2\n",
    "    ...\n",
    "    return n1[, n2,...]"
   ]
  },
  {
   "cell_type": "markdown",
   "id": "4e8d0b73",
   "metadata": {},
   "source": [
    "1.3 The pass keyword"
   ]
  },
  {
   "cell_type": "markdown",
   "id": "08cd1e82",
   "metadata": {},
   "source": [
    ". When implementing a function, you can use the pass statement to define     only the name and postpone implementing the functionality for later.\n",
    ". The following function is intended to define only the name and postpone   implementing the functionality for later."
   ]
  },
  {
   "cell_type": "code",
   "execution_count": 5,
   "id": "e76bf6c6",
   "metadata": {},
   "outputs": [],
   "source": [
    "def func():\n",
    "    pass\n",
    "\n",
    "func()"
   ]
  },
  {
   "cell_type": "markdown",
   "id": "637cda19",
   "metadata": {},
   "source": [
    "1.4 Parameters and Agruments\n",
    "\n",
    "* Parameter\n",
    ". Variable defined in the function or method header that recieve the actual value when the functions is called.\n",
    "\n",
    "* Argument\n",
    ". The actual value passed when a function or method is called."
   ]
  },
  {
   "cell_type": "code",
   "execution_count": 6,
   "id": "cb34da22",
   "metadata": {},
   "outputs": [
    {
     "name": "stdout",
     "output_type": "stream",
     "text": [
      "3\n"
     ]
    }
   ],
   "source": [
    "def sum_num (x1,x2): # x1,x2 is parameter\n",
    "    return x1+x2\n",
    "\n",
    "print(sum_num(1,2)) # 1 and 2 is arguments"
   ]
  },
  {
   "cell_type": "markdown",
   "id": "a3c1b8fd",
   "metadata": {},
   "source": [
    "1.5 Function call without parameters"
   ]
  },
  {
   "cell_type": "code",
   "execution_count": 9,
   "id": "0640a524",
   "metadata": {},
   "outputs": [
    {
     "name": "stdout",
     "output_type": "stream",
     "text": [
      "**********\n",
      "**********\n",
      "**********\n",
      "**********\n",
      "**********\n"
     ]
    }
   ],
   "source": [
    "def print_star():\n",
    "    print(\"*\"*10)\n",
    "    \n",
    "print_star()\n",
    "print_star()\n",
    "print_star()\n",
    "print_star()\n",
    "print_star()"
   ]
  },
  {
   "cell_type": "markdown",
   "id": "22a3bef6",
   "metadata": {},
   "source": [
    "1.6 Function call with parameters"
   ]
  },
  {
   "cell_type": "code",
   "execution_count": 14,
   "id": "5f8aa79b",
   "metadata": {},
   "outputs": [
    {
     "name": "stdout",
     "output_type": "stream",
     "text": [
      "*****\n",
      "*****\n",
      "*****\n",
      "*****\n",
      "*****\n",
      "*****\n",
      "*****\n"
     ]
    }
   ],
   "source": [
    "def print_star(n) :\n",
    "    for _ in range(n):\n",
    "        print(\"*\"*5)\n",
    "        \n",
    "print_star(2)\n",
    "print_star(5)"
   ]
  },
  {
   "cell_type": "code",
   "execution_count": 16,
   "id": "cf1c9e11",
   "metadata": {},
   "outputs": [
    {
     "name": "stdout",
     "output_type": "stream",
     "text": [
      "Print Hello twice.\n",
      "Hello Hello \n",
      "Print Hello three times.\n",
      "Hello Hello Hello \n",
      "Print Hello four times.\n",
      "Hello Hello Hello Hello \n"
     ]
    }
   ],
   "source": [
    "def print_hello(n) :\n",
    "    print(\"Hello \" * n)\n",
    "    \n",
    "print(\"Print Hello twice.\")\n",
    "print_hello(2)\n",
    "print(\"Print Hello three times.\")\n",
    "print_hello(3)\n",
    "print(\"Print Hello four times.\")\n",
    "print_hello(4)"
   ]
  },
  {
   "cell_type": "markdown",
   "id": "40f63e73",
   "metadata": {},
   "source": [
    "1.7 Caution when calling a function"
   ]
  },
  {
   "cell_type": "code",
   "execution_count": 20,
   "id": "21f653d3",
   "metadata": {},
   "outputs": [
    {
     "name": "stdout",
     "output_type": "stream",
     "text": [
      "The sum of 10 and 10 is 20 .\n",
      "The sum of 10 and 100 is 110 .\n"
     ]
    }
   ],
   "source": [
    "def print_sum (a,b):\n",
    "    result = a+b\n",
    "    print(f\"The sum of {a} and {b} is {result} .\")\n",
    "    \n",
    "print_sum(10,10)\n",
    "print_sum(10,100)\n",
    "# print_sum(10) make sure to pass the right amount of agrument accordingly to parameter"
   ]
  },
  {
   "cell_type": "markdown",
   "id": "dfddc0a9",
   "metadata": {},
   "source": [
    "1.8 Using the return statement to return results"
   ]
  },
  {
   "cell_type": "code",
   "execution_count": 21,
   "id": "a21b1a55",
   "metadata": {},
   "outputs": [
    {
     "name": "stdout",
     "output_type": "stream",
     "text": [
      "10\n"
     ]
    }
   ],
   "source": [
    "def get_sum(start,end) :\n",
    "    s=0\n",
    "    for i in range(start,end+1):\n",
    "        s+=1\n",
    "    return s\n",
    "\n",
    "\n",
    "x=get_sum(1,10)\n",
    "\n",
    "print(x)"
   ]
  },
  {
   "cell_type": "code",
   "execution_count": 23,
   "id": "25d6fc27",
   "metadata": {},
   "outputs": [
    {
     "name": "stdout",
     "output_type": "stream",
     "text": [
      "Sum of the two numbers 300\n"
     ]
    }
   ],
   "source": [
    "def get_sum(a,b):\n",
    "    return a+b\n",
    "\n",
    "result = get_sum(100,200)\n",
    "print(\"Sum of the two numbers\",result)"
   ]
  },
  {
   "cell_type": "markdown",
   "id": "72389ecb",
   "metadata": {},
   "source": [
    "1.9 Multiple returns"
   ]
  },
  {
   "cell_type": "code",
   "execution_count": 24,
   "id": "26733425",
   "metadata": {},
   "outputs": [
    {
     "name": "stdout",
     "output_type": "stream",
     "text": [
      "The solution is 2.0 'or' -4.0\n"
     ]
    }
   ],
   "source": [
    "def get_root(a,b,c) :\n",
    "    r1 = (-b + (b**2 - 4 * a * c) ** 0.5)/(2*a)\n",
    "    r2 = (-b - (b**2 - 4 * a * c) ** 0.5)/(2*a)\n",
    "    return r1,r2\n",
    "\n",
    "result1,result2 = get_root(1,2,-8)\n",
    "print(f\"The solution is {result1} 'or' {result2}\")"
   ]
  },
  {
   "cell_type": "code",
   "execution_count": 29,
   "id": "04a9a714",
   "metadata": {},
   "outputs": [
    {
     "name": "stdout",
     "output_type": "stream",
     "text": [
      "The area of a circle with radius 10 is 314.0, the circumference of the circle is 62.8\n"
     ]
    }
   ],
   "source": [
    "def circle_area_circum(radius) :\n",
    "    area = 3.14 * radius ** 2\n",
    "    circum = 2 * 3.14 * radius\n",
    "    return area,circum\n",
    "\n",
    "radius = 10\n",
    "area,circum = circle_area_circum(radius)\n",
    "print(\"The area of a circle with radius {} is {:.1f}, the circumference of the circle is {:.1f}\".format(radius,area,circum))"
   ]
  },
  {
   "cell_type": "markdown",
   "id": "d8dab861",
   "metadata": {},
   "source": [
    "1.10 Variable-length parameter"
   ]
  },
  {
   "cell_type": "markdown",
   "id": "7006c621",
   "metadata": {},
   "source": [
    ". There are cases where the number of arguments is not fixed when using     functions, and this is called the variable-length argument.\n",
    ". When receiving variable arguments in a function, an asterisk (*) is       placed before the parameter.\n",
    ". The variable inside a function that recieves variable-length arguments     is a variable-length parameter."
   ]
  },
  {
   "cell_type": "code",
   "execution_count": 30,
   "id": "ac3f2c2a",
   "metadata": {},
   "outputs": [
    {
     "name": "stdout",
     "output_type": "stream",
     "text": [
      "Hello A !\n",
      "Hello B !\n",
      "Hello C !\n",
      "Hello James !\n",
      "Hello Thomas !\n"
     ]
    }
   ],
   "source": [
    "def greet(*names) :\n",
    "    for name in names :\n",
    "        print(\"Hello\",name,\"!\")\n",
    "        \n",
    "greet('A','B','C')\n",
    "greet(\"James\",\"Thomas\")"
   ]
  },
  {
   "cell_type": "code",
   "execution_count": 31,
   "id": "98717da2",
   "metadata": {},
   "outputs": [
    {
     "name": "stdout",
     "output_type": "stream",
     "text": [
      "The number of arguments : 3\n",
      "arguments : (10, 20, 30)\n"
     ]
    }
   ],
   "source": [
    "def foo(*args) :\n",
    "    print(\"The number of arguments :\",len(args))\n",
    "    print(\"arguments :\",args)\n",
    "    \n",
    "    \n",
    "foo(10,20,30)"
   ]
  },
  {
   "cell_type": "code",
   "execution_count": 32,
   "id": "bf066520",
   "metadata": {},
   "outputs": [
    {
     "name": "stdout",
     "output_type": "stream",
     "text": [
      "60\n",
      "150\n"
     ]
    }
   ],
   "source": [
    "def sum_nums(*numbers) :\n",
    "    result = 0\n",
    "    for n in numbers :\n",
    "        result += n\n",
    "    return result\n",
    "\n",
    "print(sum_nums(10,20,30))\n",
    "print(sum_nums(10,20,30,40,50))"
   ]
  },
  {
   "cell_type": "code",
   "execution_count": null,
   "id": "bc5a8e93",
   "metadata": {},
   "outputs": [],
   "source": []
  },
  {
   "cell_type": "code",
   "execution_count": null,
   "id": "2cc4a1d2",
   "metadata": {},
   "outputs": [],
   "source": []
  },
  {
   "cell_type": "code",
   "execution_count": null,
   "id": "afe402cd",
   "metadata": {},
   "outputs": [],
   "source": []
  },
  {
   "cell_type": "code",
   "execution_count": null,
   "id": "51fb6b61",
   "metadata": {},
   "outputs": [],
   "source": []
  },
  {
   "cell_type": "code",
   "execution_count": null,
   "id": "1cea9349",
   "metadata": {},
   "outputs": [],
   "source": []
  },
  {
   "cell_type": "code",
   "execution_count": null,
   "id": "bc7c085d",
   "metadata": {},
   "outputs": [],
   "source": []
  },
  {
   "cell_type": "code",
   "execution_count": null,
   "id": "b8146c23",
   "metadata": {},
   "outputs": [],
   "source": []
  },
  {
   "cell_type": "code",
   "execution_count": null,
   "id": "38828669",
   "metadata": {},
   "outputs": [],
   "source": []
  },
  {
   "cell_type": "code",
   "execution_count": null,
   "id": "47d08a41",
   "metadata": {},
   "outputs": [],
   "source": []
  },
  {
   "cell_type": "code",
   "execution_count": null,
   "id": "e77e00cc",
   "metadata": {},
   "outputs": [],
   "source": []
  },
  {
   "cell_type": "code",
   "execution_count": null,
   "id": "eb6aaf33",
   "metadata": {},
   "outputs": [],
   "source": []
  },
  {
   "cell_type": "code",
   "execution_count": null,
   "id": "492b4bfc",
   "metadata": {},
   "outputs": [],
   "source": []
  },
  {
   "cell_type": "code",
   "execution_count": null,
   "id": "ca3d2ac0",
   "metadata": {},
   "outputs": [],
   "source": []
  }
 ],
 "metadata": {
  "kernelspec": {
   "display_name": "Python 3 (ipykernel)",
   "language": "python",
   "name": "python3"
  },
  "language_info": {
   "codemirror_mode": {
    "name": "ipython",
    "version": 3
   },
   "file_extension": ".py",
   "mimetype": "text/x-python",
   "name": "python",
   "nbconvert_exporter": "python",
   "pygments_lexer": "ipython3",
   "version": "3.10.9"
  }
 },
 "nbformat": 4,
 "nbformat_minor": 5
}
