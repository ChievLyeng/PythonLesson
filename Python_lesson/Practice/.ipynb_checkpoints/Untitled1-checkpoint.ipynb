{
 "cells": [
  {
   "cell_type": "code",
   "execution_count": null,
   "id": "04e52ac1",
   "metadata": {},
   "outputs": [],
   "source": [
    "matrix1 = [[1, 2, 3],   [4, 5, 6], [7, 8, 9]]\n",
    "matrix2 = [[9, 8, 7], [6, 5, 4], [3, 2, 1]]\n",
    "\n",
    "\n",
    "print(\"1) Matrix1 + Matrix2\")\n",
    "print(\"2) Matrix1 - Matrix2\")\n",
    "print(\"3) Matrix1 * Matrix2\")\n",
    "print(\"4) Press other keys to exit.\")\n",
    "print(\"=\"*30)\n",
    "\n",
    "while True:\n",
    "    try: \n",
    "        choice=int(input(\"Enter your choice 1-5 : \"))\n",
    "        if 1>= choice <4:\n",
    "            break\n",
    "    except:\n",
    "        print(\"Hello kon papa!\")\n",
    "        \n"
   ]
  },
  {
   "cell_type": "code",
   "execution_count": null,
   "id": "6eec1ab3",
   "metadata": {},
   "outputs": [],
   "source": []
  }
 ],
 "metadata": {
  "kernelspec": {
   "display_name": "Python 3 (ipykernel)",
   "language": "python",
   "name": "python3"
  },
  "language_info": {
   "codemirror_mode": {
    "name": "ipython",
    "version": 3
   },
   "file_extension": ".py",
   "mimetype": "text/x-python",
   "name": "python",
   "nbconvert_exporter": "python",
   "pygments_lexer": "ipython3",
   "version": "3.10.9"
  }
 },
 "nbformat": 4,
 "nbformat_minor": 5
}
