{
 "cells": [
  {
   "cell_type": "markdown",
   "id": "e2bfd201",
   "metadata": {},
   "source": [
    "1. lis1 = [10, 20, [300, 400, [5000, 6000, 7000], 500 ], 30, 40] \n"
   ]
  },
  {
   "cell_type": "code",
   "execution_count": 5,
   "id": "ff82be05",
   "metadata": {},
   "outputs": [
    {
     "name": "stdout",
     "output_type": "stream",
     "text": [
      "[10, 20, [300, 400, [5000, 6000, 7000], 500], 30, 40]\n"
     ]
    }
   ],
   "source": [
    "list1=[10, 20, [300, 400, [5000, 6000], 500 ], 30, 40] \n",
    "\n",
    "# temp=list1[2][2]\n",
    "# temp.append(7000)\n",
    "# list1[2][2]=temp\n",
    "\n",
    "list1[2][2].append(7000)\n",
    "\n",
    "print(list1)"
   ]
  },
  {
   "cell_type": "markdown",
   "id": "3d9a337f",
   "metadata": {},
   "source": [
    "2. Output:\n",
    "\tList1 = [5, 15, 25, 50]"
   ]
  },
  {
   "cell_type": "code",
   "execution_count": 77,
   "id": "1ab6fcff",
   "metadata": {},
   "outputs": [
    {
     "name": "stdout",
     "output_type": "stream",
     "text": [
      "Enter n : 20\n",
      "List1   : [5, 15, 25, 50]\n"
     ]
    }
   ],
   "source": [
    "list1 = [5,20,15,20,25,50,20,20,20,20] \n",
    "n=int(input(\"Enter n : \"))\n",
    "\n",
    "while n in list1:\n",
    "    list1.remove(n)\n",
    "\n",
    "print(\"List1   :\",list1)"
   ]
  },
  {
   "cell_type": "markdown",
   "id": "4a7112d4",
   "metadata": {},
   "source": [
    "3. Output: \n",
    "\tc = [1, 2, 3, 5, 8, 13]"
   ]
  },
  {
   "cell_type": "code",
   "execution_count": 6,
   "id": "d4d2a4aa",
   "metadata": {},
   "outputs": [
    {
     "name": "stdout",
     "output_type": "stream",
     "text": [
      "C = [1, 2, 3, 5, 8, 13]\n"
     ]
    }
   ],
   "source": [
    "a = [1, 1, 2, 3, 5, 8, 13, 21, 34, 55, 89]\n",
    "b = [1, 2, 3, 4, 5, 6, 7, 8, 9, 10, 11, 12, 13]\n",
    "c=[]\n",
    "\n",
    "for i in range(len(a)):\n",
    "    for j in range(len(b)):\n",
    "        if a[i] == b[j] and a[i] not in c:\n",
    "            c.append(a[i])\n",
    "            \n",
    "print(\"C =\",c)"
   ]
  },
  {
   "cell_type": "markdown",
   "id": "9bf22e63",
   "metadata": {},
   "source": [
    "4. Output: \n",
    "\n",
    "   ----- \t  -----   ----- \n",
    "  |   \t|   |   \t|       |\n",
    "   ----- \t  -----   ----- \n",
    "  |   \t|   |   \t|       |\n",
    "   ----- \t  -----   ----- \n",
    "  |   \t|   |   \t|       |\n",
    "   -----      -----   -----\n"
   ]
  },
  {
   "cell_type": "code",
   "execution_count": 161,
   "id": "0b0a07f2",
   "metadata": {},
   "outputs": [
    {
     "name": "stdout",
     "output_type": "stream",
     "text": [
      " ---  ---  --- \n",
      "|    |    |    |    \n",
      " ---  ---  --- \n",
      "|    |    |    |    \n",
      " ---  ---  --- \n",
      "|    |    |    |    \n",
      " ---  ---  --- \n"
     ]
    }
   ],
   "source": [
    "# n = int(input(\"Enter n : \"))\n",
    "\n",
    "for i in range(4):\n",
    "    print(\" --- \" * 3)\n",
    "    if i==3:\n",
    "        break\n",
    "    for j in range(4):\n",
    "        print(\"|\",end=\"    \")\n",
    "    print()\n",
    "    "
   ]
  },
  {
   "cell_type": "code",
   "execution_count": 5,
   "id": "5ee1c16e",
   "metadata": {},
   "outputs": [
    {
     "name": "stdout",
     "output_type": "stream",
     "text": [
      "Enter n : 3\n",
      " ---  ---  --- \n",
      "|    |    |    |    \n",
      " ---  ---  --- \n",
      "|    |    |    |    \n",
      " ---  ---  --- \n",
      "|    |    |    |    \n",
      " ---  ---  --- \n"
     ]
    }
   ],
   "source": [
    "n = int(input(\"Enter n : \"))\n",
    "\n",
    "for i in range(n+1):\n",
    "    print(\" --- \" * (n))\n",
    "    if i == n:\n",
    "        break\n",
    "    for j in range(n+1):\n",
    "        print(\"|\",end=\"    \")\n",
    "    print()"
   ]
  },
  {
   "cell_type": "markdown",
   "id": "42309065",
   "metadata": {},
   "source": [
    "5. [[1, 2, 0],\n",
    "   [2, 1, 0],\n",
    "   [2, 1, 1]]"
   ]
  },
  {
   "cell_type": "code",
   "execution_count": null,
   "id": "941b0b65",
   "metadata": {},
   "outputs": [],
   "source": []
  },
  {
   "cell_type": "markdown",
   "id": "3c39ebdb",
   "metadata": {},
   "source": [
    "6. Expected Result : {1: 10, 2: 20, 3: 30, 4: 40, 5: 50, 6: 60}"
   ]
  },
  {
   "cell_type": "code",
   "execution_count": 71,
   "id": "d417a2f4",
   "metadata": {},
   "outputs": [
    {
     "name": "stdout",
     "output_type": "stream",
     "text": [
      "New Dic : {1: 10, 2: 20, 3: 30, 4: 40, 5: 50, 6: 60}\n"
     ]
    }
   ],
   "source": [
    "dic1={1:10, 2:20}\n",
    "dic2={3:30, 4:40}\n",
    "dic3={5:50, 6:60}\n",
    "dic={}\n",
    "\n",
    "dic.update(dic1)\n",
    "dic.update(dic2)\n",
    "dic.update(dic3)\n",
    "\n",
    "print(\"New Dic :\",dic)"
   ]
  },
  {
   "cell_type": "markdown",
   "id": "123f73ff",
   "metadata": {},
   "source": [
    "7. Expected Output : {1: 1, 2: 4, 3: 9, 4: 16, 5: 25}"
   ]
  },
  {
   "cell_type": "code",
   "execution_count": 1,
   "id": "77ab0ff1",
   "metadata": {},
   "outputs": [
    {
     "name": "stdout",
     "output_type": "stream",
     "text": [
      "Enter n : 5\n",
      "{1: 1, 2: 4, 3: 9, 4: 16, 5: 25}\n"
     ]
    }
   ],
   "source": [
    "n=int(input(\"Enter n : \"))\n",
    "\n",
    "dic={}\n",
    "\n",
    "for i in range(1,n+1):\n",
    "#     dic.update([[i,i**2]])\n",
    "    dic[i]=i**2\n",
    "\n",
    "print(dic)"
   ]
  },
  {
   "cell_type": "markdown",
   "id": "9505f1b6",
   "metadata": {},
   "source": [
    "Tic Tac Toe"
   ]
  },
  {
   "cell_type": "code",
   "execution_count": 7,
   "id": "ea81b5c4",
   "metadata": {},
   "outputs": [
    {
     "name": "stdout",
     "output_type": "stream",
     "text": [
      "Game board : 5\n",
      "====================\n",
      "0 0 0 0 0 \n",
      "0 0 0 0 0 \n",
      "0 0 0 0 0 \n",
      "0 0 0 0 0 \n",
      "0 0 0 0 0 \n",
      "==================== \n",
      "\n",
      "Enter your move,Player1 : 1 2\n",
      "Enter your move,Player2 : 1 4\n",
      "1 2\n",
      "1 4\n",
      "==================== \n",
      "\n",
      "0 X 0 Y 0 \n",
      "0 0 0 0 0 \n",
      "0 0 0 0 0 \n",
      "0 0 0 0 0 \n",
      "0 0 0 0 0 \n",
      "==================== \n",
      "\n"
     ]
    }
   ],
   "source": [
    "n=int(input(\"Game board : \"))\n",
    "print(\"=\"*20)\n",
    "\n",
    "lst=[]\n",
    "\n",
    "for i in range(1,n+1):\n",
    "    line=[]\n",
    "    for j in range(1,n+1):\n",
    "        line.append(0)\n",
    "    lst.append(line)\n",
    "    \n",
    "for i in range(len(lst)):\n",
    "    for j in range(len(lst[i])):\n",
    "        print(lst[i][j],end=\" \")\n",
    "    print()\n",
    "print(\"=\"*20,\"\\n\")\n",
    "\n",
    "r1,c1=input(\"Enter your move,Player1 : \").split(\" \")\n",
    "r1,c1=int(r1),int(c1)\n",
    "r2,c2=input(\"Enter your move,Player2 : \").split(\" \")\n",
    "r2,c2=int(r2),int(c2)\n",
    "print(r1,c1)\n",
    "print(r2,c2)\n",
    "print(\"=\"*20,\"\\n\")\n",
    "\n",
    "lst[r1-1][c1-1]=\"X\"\n",
    "lst[r2-1][c2-1]=\"Y\"\n",
    "\n",
    "for i in range(len(lst)):\n",
    "    for j in range(len(lst[i])):\n",
    "        print(lst[i][j],end=\" \")\n",
    "    print()\n",
    "print(\"=\"*20,\"\\n\")"
   ]
  },
  {
   "cell_type": "code",
   "execution_count": null,
   "id": "e1db7de7",
   "metadata": {},
   "outputs": [],
   "source": []
  },
  {
   "cell_type": "code",
   "execution_count": null,
   "id": "9ac2e6ff",
   "metadata": {},
   "outputs": [],
   "source": []
  }
 ],
 "metadata": {
  "kernelspec": {
   "display_name": "Python 3 (ipykernel)",
   "language": "python",
   "name": "python3"
  },
  "language_info": {
   "codemirror_mode": {
    "name": "ipython",
    "version": 3
   },
   "file_extension": ".py",
   "mimetype": "text/x-python",
   "name": "python",
   "nbconvert_exporter": "python",
   "pygments_lexer": "ipython3",
   "version": "3.10.9"
  }
 },
 "nbformat": 4,
 "nbformat_minor": 5
}
