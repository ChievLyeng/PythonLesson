{
 "cells": [
  {
   "cell_type": "code",
   "execution_count": 8,
   "id": "83b29bec",
   "metadata": {},
   "outputs": [
    {
     "name": "stdout",
     "output_type": "stream",
     "text": [
      "Americano        price : 3000 won\n",
      "Iced Americano   price : 3500 won\n",
      "Cappuccino       price : 4000 won\n",
      "Ice Latte        price : 4500 won\n",
      "Espresso         price : 3600 won\n",
      "Please choose one of the above menu: Americano\n",
      "the price of Americano is 3000 won. Please pay the amount.\n"
     ]
    }
   ],
   "source": [
    "cafeMenu={\n",
    "    \"Americano\":3000,\n",
    "    \"Iced Americano\":3500,\n",
    "    \"Cappuccino\":4000,\n",
    "    \"Ice Latte\":4500,\n",
    "    \"Espresso\":3600}\n",
    "\n",
    "for i,j in cafeMenu.items():\n",
    "    print(\"{:16s} price : {} won\".format(i,j))\n",
    "    \n",
    "    \n",
    "choice=input(\"Please choose one of the above menu: \")\n",
    "choice=choice.title()\n",
    "\n",
    "if choice in cafeMenu.keys():\n",
    "    print(\"the price of {} is {} won. Please pay the amount.\".format(choice,cafeMenu[choice]))\n",
    "else:\n",
    "    print(\"Sorry. Coffee is not in the menu\")"
   ]
  },
  {
   "cell_type": "code",
   "execution_count": 48,
   "id": "4260e53d",
   "metadata": {},
   "outputs": [
    {
     "name": "stdout",
     "output_type": "stream",
     "text": [
      "   ********Lyeng Coffee shop********\n",
      "\n",
      "========================================\n",
      "              Coffee Menu               \n",
      "\n",
      "Americano        price : 3000 won\n",
      "Iced Americano   price : 3500 won\n",
      "Cappuccino       price : 4000 won\n",
      "Ice Latte        price : 4500 won\n",
      "Espresso         price : 3600 won\n",
      "\n",
      "======================================== \n",
      "\n",
      "Please choose one of the above menu: Ice Latte\n",
      "\n",
      "======================================== \n",
      "\n",
      "              Today Order               \n",
      "\n",
      "Ice Latte,4500\n",
      "Americano,3000\n",
      "Cappuccino,4000\n",
      "Iced Americano,3500\n",
      "Iced Americano,3500\n",
      "Iced Americano,3500\n",
      "Iced Americano,3500\n",
      "Iced Americano,3500\n",
      "Espresso,3600\n",
      "Ice Latte,4500\n",
      "Espresso,3600\n",
      "Americano,3000\n",
      "Cappuccino,4000\n",
      "Espresso,3600\n",
      "Ice Latte,4500\n",
      "\n"
     ]
    }
   ],
   "source": [
    "cafeMenu={\n",
    "    \"Americano\":3000,\n",
    "    \"Iced Americano\":3500,\n",
    "    \"Cappuccino\":4000,\n",
    "    \"Ice Latte\":4500,\n",
    "    \"Espresso\":3600}\n",
    "\n",
    "print(\"   ********Lyeng Coffee shop********\\n\")\n",
    "print(\"=\"*40)\n",
    "print(\"{:^40}\\n\".format(\"Coffee Menu\"))\n",
    "\n",
    "for i,j in cafeMenu.items():\n",
    "    print(\"{:16s} price : {} won\".format(i,j))\n",
    "\n",
    "print()\n",
    "print(\"=\"*40,\"\\n\")    \n",
    "choice=input(\"Please choose one of the above menu: \")\n",
    "choice=choice.title()\n",
    "print()\n",
    "print(\"=\"*40,\"\\n\") \n",
    "print(\"{:^40}\\n\".format(\"Today Order\"))\n",
    "\n",
    "# order_list=[choice,cafeMenu.get(choice)]\n",
    "# print(order_list)\n",
    "\n",
    "with open(\"data/coffee.txt\",\"a+\") as f:\n",
    "    f.write(f\"{choice},{cafeMenu.get(choice)}\\n\")\n",
    "    \n",
    "with open(\"data/coffee.txt\",\"r\") as f:\n",
    "    order=f.read()\n",
    "    \n",
    "print(order)"
   ]
  },
  {
   "cell_type": "code",
   "execution_count": null,
   "id": "31a118ba",
   "metadata": {},
   "outputs": [],
   "source": []
  },
  {
   "cell_type": "code",
   "execution_count": null,
   "id": "a743c014",
   "metadata": {},
   "outputs": [],
   "source": []
  }
 ],
 "metadata": {
  "kernelspec": {
   "display_name": "Python 3 (ipykernel)",
   "language": "python",
   "name": "python3"
  },
  "language_info": {
   "codemirror_mode": {
    "name": "ipython",
    "version": 3
   },
   "file_extension": ".py",
   "mimetype": "text/x-python",
   "name": "python",
   "nbconvert_exporter": "python",
   "pygments_lexer": "ipython3",
   "version": "3.10.9"
  }
 },
 "nbformat": 4,
 "nbformat_minor": 5
}
