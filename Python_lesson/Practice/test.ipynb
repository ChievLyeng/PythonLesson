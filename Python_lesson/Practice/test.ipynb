{
 "cells": [
  {
   "cell_type": "markdown",
   "id": "57fbc304",
   "metadata": {},
   "source": [
    "Lyeng"
   ]
  },
  {
   "cell_type": "code",
   "execution_count": 18,
   "id": "2b6c4967",
   "metadata": {},
   "outputs": [
    {
     "name": "stdout",
     "output_type": "stream",
     "text": [
      "1) Matrix1 + Matrix2\n",
      "2) Matrix1 - Matrix2\n",
      "3) Matrix1 * Matrix2\n",
      "4) Press other keys to exit.\n",
      "==============================\n",
      "Enter your choice 1-4 : 1\n",
      "you have : matrix 2 \n",
      "1 2 3 \n",
      "4 5 6 \n",
      "7 8 9 \n",
      "you have : matrix 2 \n",
      "[9, 8, 7]\n",
      "[6, 5, 4]\n",
      "[3, 2, 1]\n",
      "Matrix1 + Matrix2\n",
      "[10, 10, 10]\n",
      "[10, 10, 10]\n",
      "[10, 10, 10]\n"
     ]
    }
   ],
   "source": [
    "matrix1 = [[1, 2, 3],   [4, 5, 6], [7, 8, 9]]\n",
    "matrix2 = [[9, 8, 7], [6, 5, 4], [3, 2, 1]]\n",
    "lst=[]\n",
    "\n",
    "print(\"1) Matrix1 + Matrix2\")\n",
    "print(\"2) Matrix1 - Matrix2\")\n",
    "print(\"3) Matrix1 * Matrix2\")\n",
    "print(\"4) Press other keys to exit.\")\n",
    "print(\"=\"*30)\n",
    "\n",
    "try:\n",
    "    choice=int(input(\"Enter your choice 1-4 : \"))\n",
    "except:\n",
    "    print(\"Hello kon papa!\")\n",
    "\n",
    "print(\"you have : matrix 2 \")\n",
    "for i in range(len(matrix1)):\n",
    "    for j in range(len(matrix2[i])):\n",
    "        print(matrix1[i][j],end=\" \")\n",
    "    print()\n",
    "\n",
    "print(\"you have : matrix 2 \")\n",
    "for i in range(len(matrix2)):\n",
    "    print(matrix2[i])\n",
    "\n",
    "\n",
    "#addition\n",
    "if choice == 1 :\n",
    "    print(\"Matrix1 + Matrix2\")\n",
    "    for i in range(len(matrix1)):\n",
    "        line = []\n",
    "        for j in range(len(matrix2)):\n",
    "            line.append(matrix1[i][j] + matrix2[i][j])\n",
    "        lst.append(line)\n",
    "\n",
    "    for i in range(len(lst)):\n",
    "        print(lst[i])\n",
    "\n",
    "#substraction\n",
    "elif choice == 2 :\n",
    "    print(\"Matrix1 - Matrix2\")\n",
    "    for i in range(len(matrix1)):\n",
    "        line = []\n",
    "        for j in range(len(matrix2)):\n",
    "            line.append(matrix1[i][j] - matrix2[i][j])\n",
    "        lst.append(line)\n",
    "\n",
    "    for i in range(len(lst)):\n",
    "        print(lst[i])\n",
    "\n",
    "#multiplication\n",
    "elif choice == 3 :\n",
    "    # a=[]\n",
    "    b=[]\n",
    "    c=[]\n",
    "    print(\"Matrix1 * Matrix2\")\n",
    "    for i in range(len(matrix1)):\n",
    "        for j in range(len(matrix1)):\n",
    "            # print(matrix2[i][j], end=\" \")\n",
    "            # b.append(matrix2[i][j])\n",
    "            d=[]\n",
    "            for k in range(len(matrix1)):\n",
    "                # print(\"M1\",matrix1[i][k],end=\" \")\n",
    "                # a.append(matrix1[i][k])\n",
    "                # print(matrix1[i][k],matrix2[k][j])\n",
    "                d.append(matrix1[i][k]*matrix2[k][j])\n",
    "            c.append(d)\n",
    "\n",
    "    result = []\n",
    "    for i in range(len(c)):\n",
    "        s=sum(c[i])\n",
    "        result.append(sum(c[i]))\n",
    "\n",
    "    print(result)"
   ]
  },
  {
   "cell_type": "code",
   "execution_count": 23,
   "id": "af27b36e",
   "metadata": {},
   "outputs": [
    {
     "name": "stdout",
     "output_type": "stream",
     "text": [
      "File does not exist !\n",
      "Create a Python script that reads the content of an existing text file named \"source.txt\" and copies its content to a new file named \"copied.txt\".\n"
     ]
    }
   ],
   "source": []
  },
  {
   "cell_type": "code",
   "execution_count": 29,
   "id": "290db6da",
   "metadata": {},
   "outputs": [
    {
     "name": "stdout",
     "output_type": "stream",
     "text": [
      "File does not exist !\n",
      "Hello Hello\n"
     ]
    }
   ],
   "source": [
    "try:\n",
    "    with open (\"source.txt\",'r') as f:\n",
    "        a=f.read()\n",
    "except:\n",
    "    print(\"File does not exist !\")\n",
    "    \n",
    "with open(\"copied.txt\",\"w\") as f:\n",
    "    f.write(a)\n",
    "    \n",
    "with open(\"copied.txt\",\"r\") as f:\n",
    "    print(f.read())"
   ]
  },
  {
   "cell_type": "code",
   "execution_count": null,
   "id": "70918c7e",
   "metadata": {},
   "outputs": [],
   "source": []
  }
 ],
 "metadata": {
  "kernelspec": {
   "display_name": "Python 3 (ipykernel)",
   "language": "python",
   "name": "python3"
  },
  "language_info": {
   "codemirror_mode": {
    "name": "ipython",
    "version": 3
   },
   "file_extension": ".py",
   "mimetype": "text/x-python",
   "name": "python",
   "nbconvert_exporter": "python",
   "pygments_lexer": "ipython3",
   "version": "3.10.9"
  }
 },
 "nbformat": 4,
 "nbformat_minor": 5
}
