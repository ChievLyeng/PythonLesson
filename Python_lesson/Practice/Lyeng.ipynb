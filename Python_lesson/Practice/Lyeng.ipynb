{
 "cells": [
  {
   "cell_type": "markdown",
   "id": "6c9d9ce7",
   "metadata": {},
   "source": [
    "Day1"
   ]
  },
  {
   "cell_type": "code",
   "execution_count": 150,
   "id": "43fbad37",
   "metadata": {},
   "outputs": [
    {
     "name": "stdout",
     "output_type": "stream",
     "text": [
      "[10, 20, [300, 400, [5000, 6000, 7000], 500], 30, 40]\n"
     ]
    }
   ],
   "source": [
    "list1=[10, 20, [300, 400, [5000, 6000], 500 ], 30, 40] \n",
    "\n",
    "# temp=list1[2][2]\n",
    "# temp.append(7000)\n",
    "# list1[2][2]=temp\n",
    "\n",
    "list1[2][2].append(7000)\n",
    "\n",
    "print(list1)"
   ]
  },
  {
   "cell_type": "code",
   "execution_count": 148,
   "id": "cd832d3f",
   "metadata": {},
   "outputs": [
    {
     "name": "stdout",
     "output_type": "stream",
     "text": [
      "Enter n : 20\n",
      "List1   : [5, 15, 25, 50]\n"
     ]
    }
   ],
   "source": [
    "list1 = [5,20,15,20,25,50,20,20,20,20] \n",
    "n=int(input(\"Enter n : \"))\n",
    "\n",
    "while n in list1:\n",
    "    list1.remove(n)\n",
    "\n",
    "print(\"List1   :\",list1)"
   ]
  },
  {
   "cell_type": "code",
   "execution_count": 146,
   "id": "d53cd1cd",
   "metadata": {},
   "outputs": [
    {
     "name": "stdout",
     "output_type": "stream",
     "text": [
      "C = [1, 2, 3, 5, 8, 13]\n"
     ]
    }
   ],
   "source": [
    "a = [1, 1, 2, 3, 5, 8, 13, 21, 34, 55, 89]\n",
    "b = [1, 2, 3, 4, 5, 6, 7, 8, 9, 10, 11, 12, 13]\n",
    "c=[]\n",
    "\n",
    "for i in range(len(a)):\n",
    "    for j in range(len(b)):\n",
    "        if a[i] == b[j] and a[i] not in c:\n",
    "            c.append(a[i])\n",
    "            \n",
    "print(\"C =\",c)"
   ]
  },
  {
   "cell_type": "code",
   "execution_count": 151,
   "id": "31eab790",
   "metadata": {},
   "outputs": [
    {
     "name": "stdout",
     "output_type": "stream",
     "text": [
      "Enter n : 3\n",
      " ---  ---  --- \n",
      "|    |    |    |    \n",
      " ---  ---  --- \n",
      "|    |    |    |    \n",
      " ---  ---  --- \n",
      "|    |    |    |    \n",
      " ---  ---  --- \n"
     ]
    }
   ],
   "source": [
    "n = int(input(\"Enter n : \"))\n",
    "\n",
    "for i in range(n+1):\n",
    "    print(\" --- \" * (n))\n",
    "    if i == n:\n",
    "        break\n",
    "    for j in range(n+1):\n",
    "        print(\"|\",end=\"    \")\n",
    "    print()"
   ]
  },
  {
   "cell_type": "markdown",
   "id": "e486dfb8",
   "metadata": {},
   "source": [
    "5"
   ]
  },
  {
   "cell_type": "code",
   "execution_count": 144,
   "id": "61e5e61a",
   "metadata": {},
   "outputs": [
    {
     "name": "stdout",
     "output_type": "stream",
     "text": [
      "New Dic : {1: 10, 2: 20, 3: 30, 4: 40, 5: 50, 6: 60}\n"
     ]
    }
   ],
   "source": [
    "dic1={1:10, 2:20}\n",
    "dic2={3:30, 4:40}\n",
    "dic3={5:50, 6:60}\n",
    "dic={}\n",
    "\n",
    "dic.update(dic1)\n",
    "dic.update(dic2)\n",
    "dic.update(dic3)\n",
    "\n",
    "print(\"New Dic :\",dic)"
   ]
  },
  {
   "cell_type": "code",
   "execution_count": 143,
   "id": "513734dd",
   "metadata": {},
   "outputs": [
    {
     "name": "stdout",
     "output_type": "stream",
     "text": [
      "Enter n : 5\n",
      "{1: 1, 2: 4, 3: 9, 4: 16, 5: 25}\n"
     ]
    }
   ],
   "source": [
    "n=int(input(\"Enter n : \"))\n",
    "\n",
    "dic={}\n",
    "\n",
    "for i in range(1,n+1):\n",
    "#     dic.update([[i,i**2]])\n",
    "    dic[i]=i**2\n",
    "\n",
    "print(dic)"
   ]
  },
  {
   "cell_type": "code",
   "execution_count": 142,
   "id": "7957425c",
   "metadata": {},
   "outputs": [
    {
     "name": "stdout",
     "output_type": "stream",
     "text": [
      "Game board : 5\n",
      "====================\n",
      "0 0 0 0 0 \n",
      "0 0 0 0 0 \n",
      "0 0 0 0 0 \n",
      "0 0 0 0 0 \n",
      "0 0 0 0 0 \n",
      "==================== \n",
      "\n",
      "Enter your move,Player1 : 1 2\n",
      "Enter your move,Player2 : 2 5\n",
      "1 2\n",
      "2 5\n",
      "==================== \n",
      "\n",
      "0 X 0 0 0 \n",
      "0 0 0 0 Y \n",
      "0 0 0 0 0 \n",
      "0 0 0 0 0 \n",
      "0 0 0 0 0 \n",
      "==================== \n",
      "\n"
     ]
    }
   ],
   "source": [
    "n=int(input(\"Game board : \"))\n",
    "print(\"=\"*20)\n",
    "\n",
    "lst=[]\n",
    "\n",
    "for i in range(1,n+1):\n",
    "    line=[]\n",
    "    for j in range(1,n+1):\n",
    "        line.append(0)\n",
    "    lst.append(line)\n",
    "    \n",
    "for i in range(len(lst)):\n",
    "    for j in range(len(lst[i])):\n",
    "        print(lst[i][j],end=\" \")\n",
    "    print()\n",
    "print(\"=\"*20,\"\\n\")\n",
    "\n",
    "r1,c1=input(\"Enter your move,Player1 : \").split(\" \")\n",
    "r1,c1=int(r1),int(c1)\n",
    "r2,c2=input(\"Enter your move,Player2 : \").split(\" \")\n",
    "r2,c2=int(r2),int(c2)\n",
    "print(r1,c1)\n",
    "print(r2,c2)\n",
    "print(\"=\"*20,\"\\n\")\n",
    "\n",
    "lst[r1-1][c1-1]=\"X\"\n",
    "lst[r2-1][c2-1]=\"Y\"\n",
    "\n",
    "for i in range(len(lst)):\n",
    "    for j in range(len(lst[i])):\n",
    "        print(lst[i][j],end=\" \")\n",
    "    print()\n",
    "print(\"=\"*20,\"\\n\")"
   ]
  },
  {
   "cell_type": "markdown",
   "id": "4c8f288d",
   "metadata": {},
   "source": [
    "Day2"
   ]
  },
  {
   "cell_type": "markdown",
   "id": "4190206e",
   "metadata": {},
   "source": [
    "List"
   ]
  },
  {
   "cell_type": "markdown",
   "id": "099d03d4",
   "metadata": {},
   "source": [
    "1. Expected Result : 2"
   ]
  },
  {
   "cell_type": "code",
   "execution_count": 25,
   "id": "3e07fa57",
   "metadata": {},
   "outputs": [
    {
     "name": "stdout",
     "output_type": "stream",
     "text": [
      "aba 1221 bab hellh \n",
      "4\n"
     ]
    }
   ],
   "source": [
    "lst = ['abc', 'xyz','aba', '1221',\"bab\",\"hellh\"]\n",
    "count=0\n",
    "\n",
    "for i in lst:\n",
    "    if i[0] == i[-1]:\n",
    "        print(i,end=\" \")\n",
    "        count+=1\n",
    "print()\n",
    "print(count)"
   ]
  },
  {
   "cell_type": "markdown",
   "id": "fd07cfd6",
   "metadata": {},
   "source": [
    "2.Expected Result : [(2, 1), (1, 2), (2, 3), (4, 4), (2, 5)]"
   ]
  },
  {
   "cell_type": "code",
   "execution_count": 64,
   "id": "183670c0",
   "metadata": {},
   "outputs": [
    {
     "name": "stdout",
     "output_type": "stream",
     "text": [
      "[[2, 5], [1, 2], [4, 4], [2, 3], [2, 1]]\n",
      "2 5 1 2 4 4 2 3 2 1 "
     ]
    }
   ],
   "source": [
    "lst = [(2, 5), (1, 2), (4, 4), (2, 3), (2, 1)]\n",
    "\n",
    "# for i in range(len(lst)):\n",
    "#     for j in range(len(lst[i])):\n",
    "#         print(lst[i],end=\" \")\n",
    "#         if lst[i][j]\n",
    "for i in range(len(lst)):\n",
    "    lst[i]=list(lst[i])\n",
    "    \n",
    "print(lst)\n",
    "\n",
    "for i in range(len(lst)):\n",
    "    for j in range(len(lst[i])):\n",
    "        print(lst[i][j],end=\" \")\n",
    "\n",
    "\n",
    "\n",
    "\n"
   ]
  },
  {
   "cell_type": "markdown",
   "id": "e39c1198",
   "metadata": {},
   "source": [
    "3. Expected Result: [10, 8, 7, 4, 3, 2, 1]\n"
   ]
  },
  {
   "cell_type": "code",
   "execution_count": 12,
   "id": "c2471bcd",
   "metadata": {},
   "outputs": [
    {
     "name": "stdout",
     "output_type": "stream",
     "text": [
      "Result : [10, 8, 7, 4, 3, 2, 1]\n"
     ]
    }
   ],
   "source": [
    "lst = [1, 2, 4 , 3, 3, 4, 8, 7, 10, 1]\n",
    "a=[]\n",
    "\n",
    "for i in lst:\n",
    "    if lst.count(i) >=2 and i not in a:\n",
    "        a.append(i)\n",
    "        \n",
    "for i in a:\n",
    "    for j in lst:\n",
    "        if i == j and lst.count(i) >=2 :\n",
    "            lst.remove(i)\n",
    "            \n",
    "lst.sort(reverse=True)\n",
    "print(\"Result :\",lst)"
   ]
  },
  {
   "cell_type": "markdown",
   "id": "78b47587",
   "metadata": {},
   "source": [
    "2-D List"
   ]
  },
  {
   "cell_type": "markdown",
   "id": "ebe9ba80",
   "metadata": {},
   "source": [
    "4. New List : [[10, 20], [30, 56, 25], [33], [40]]"
   ]
  },
  {
   "cell_type": "code",
   "execution_count": 1,
   "id": "a2a14115",
   "metadata": {},
   "outputs": [
    {
     "name": "stdout",
     "output_type": "stream",
     "text": [
      "Enter row : 5\n",
      "Enter col : 5\n",
      "* * * * * \n",
      "* * * * * \n",
      "* * * * * \n",
      "* * * * * \n",
      "* * * * * \n"
     ]
    }
   ],
   "source": [
    "\n",
    "lst=[]\n",
    "r=int(input(\"Enter row : \"))\n",
    "c=int(input(\"Enter col : \"))\n",
    "\n",
    "for i in range(r):\n",
    "    line=[]\n",
    "    for j in range(c):\n",
    "        line.append(\"* \")\n",
    "    lst.append(line)\n",
    "    \n",
    "for k in range(len(lst)):\n",
    "    for l in range(len(lst[k])):\n",
    "        print(lst[k][l],end=\"\")\n",
    "    print()\n",
    "    "
   ]
  },
  {
   "cell_type": "markdown",
   "id": "c30a888d",
   "metadata": {},
   "source": [
    "5. Expected Result: \n",
    "    descending= {1: 5, 0: 4, 2: 3, 4: 2, 3: 1}\n",
    "    ascending= {3: 1, 4: 2, 2: 3, 0: 4, 1: 5}"
   ]
  },
  {
   "cell_type": "code",
   "execution_count": 132,
   "id": "c12570d6",
   "metadata": {},
   "outputs": [
    {
     "name": "stdout",
     "output_type": "stream",
     "text": [
      "[10, 9, 9]\n",
      "0\n"
     ]
    }
   ],
   "source": [
    "lst =  [[10,9,9],\n",
    "        [1, 2, 3], \n",
    "        [4, 5, 6], \n",
    "        [10, 8, 7], \n",
    "        [8, 7, 9],\n",
    "        [10, 8, 7],\n",
    "        [9,9,9]] \n",
    "a=[]\n",
    "\n",
    "for i in range(len(lst)): \n",
    "    a.append(sum(lst[i]))\n",
    "\n",
    "for j in range(len(lst)):\n",
    "    if a[j] == max(a):\n",
    "        print(lst[j])\n",
    "        break\n"
   ]
  },
  {
   "cell_type": "markdown",
   "id": "34fc250d",
   "metadata": {},
   "source": [
    "6.Sample list : [[10, 20], [40], [30, 56, 25], [10, 20], [33], [40]]\n",
    "  New List : [[10, 20], [30, 56, 25], [33], [40]]"
   ]
  },
  {
   "cell_type": "code",
   "execution_count": 99,
   "id": "b8f17c1e",
   "metadata": {},
   "outputs": [
    {
     "name": "stdout",
     "output_type": "stream",
     "text": [
      "Old List : [[10, 20], [40], [30, 56, 25], [10, 20], [33], [40]]\n",
      "New List : [[10, 20], [30, 56, 25], [33], [40]]\n",
      "Remvoed Items : [[10, 20], [40]]\n"
     ]
    }
   ],
   "source": [
    "lst = [[10, 20], [40], [30, 56, 25], [10, 20], [33], [40]]\n",
    "a=[]\n",
    "print(\"Old List :\",lst)\n",
    "\n",
    "for i in range(len(lst)):\n",
    "    if lst.count(lst[i]) >=2 and lst[i] not in a:\n",
    "        a.append(lst[i])\n",
    "\n",
    "for i in a:\n",
    "    if i in lst:\n",
    "        lst.remove(i)\n",
    "\n",
    "lst.sort()\n",
    "print(\"New List :\",lst)\n",
    "print(\"Remvoed Items :\",a)\n"
   ]
  },
  {
   "cell_type": "markdown",
   "id": "79c6c8cb",
   "metadata": {},
   "source": [
    "Dictionary"
   ]
  },
  {
   "cell_type": "markdown",
   "id": "df5010ea",
   "metadata": {},
   "source": [
    "7. Sample dic: {1: 5, 3: 1, 4: 2, 2: 3, 0: 4}\n",
    "   Expected Result: descending= {1: 5, 0: 4, 2: 3, 4: 2, 3: 1}\n",
    "   ascending= {3: 1, 4: 2, 2: 3, 0: 4, 1: 5}"
   ]
  },
  {
   "cell_type": "code",
   "execution_count": null,
   "id": "26b49bd6",
   "metadata": {},
   "outputs": [],
   "source": []
  },
  {
   "cell_type": "markdown",
   "id": "4735dc4e",
   "metadata": {},
   "source": [
    "8. Sample dic: d = {1: 10, 2: 20, 3: 30, 4: 40, 5: 50, 6: 60}\n",
    "   Expected Result: 30 exists in the dictionary with the key= 3.\n",
    "\t35 doesn’t exist in the dictionary."
   ]
  },
  {
   "cell_type": "code",
   "execution_count": 130,
   "id": "156989d3",
   "metadata": {},
   "outputs": [
    {
     "name": "stdout",
     "output_type": "stream",
     "text": [
      "30 doesn't exist in the dictionary\n",
      "35 exists in the dictionary with the key = 3\n"
     ]
    }
   ],
   "source": [
    "dic = {1: 10, 2: 20, 3: 30, 4: 40, 5: 50, 6: 60}\n",
    "a=0\n",
    "b=0\n",
    "\n",
    "for i,j in dic.items():\n",
    "    if 30 == j :\n",
    "        a=i\n",
    "    if 35 == j:\n",
    "        b=i\n",
    "    \n",
    "if a != 0:\n",
    "    print(\"30 exists in the dictionary with the key =\",a)\n",
    "else:\n",
    "    print(\"30 doesn't exist in the dictionary\")\n",
    "if b!=0:\n",
    "    print(\"35 exists in the dictionary with the key =\",b)\n",
    "else:\n",
    "    print(\"35 doesn't exist in the dictionary\")"
   ]
  },
  {
   "cell_type": "markdown",
   "id": "154f21cb",
   "metadata": {},
   "source": [
    "9. Sample dic: dic =\n",
    "   { ‘firstname’: ‘K-boy’ , ‘middlename’ : ‘Cambo’,    ‘lastname’:          ‘Ti’, ‘job’: ‘reporter’, age: 25, ‘idealType’:                        ‘Tiktoker’ \n",
    "   }\n",
    "\n",
    "   Expected Result: dic = \n",
    "   { \n",
    "   ‘firstname’: ‘K-boy’ , ‘lastname’: ‘Ti’,      ‘job’: ‘reporter’,       age: 25\n",
    "   } "
   ]
  },
  {
   "cell_type": "code",
   "execution_count": 141,
   "id": "6f50c985",
   "metadata": {},
   "outputs": [
    {
     "name": "stdout",
     "output_type": "stream",
     "text": [
      "{'firstname': 'K-boy', 'lastname': 'Ti', 'job': 'reporter', 'age': '25'}\n"
     ]
    }
   ],
   "source": [
    "dic = {\n",
    "    \"firstname\" : \"K-boy\",\n",
    "    \"middlename\" : \"Cambo\",\n",
    "    \"lastname\"   : \"Ti\",\n",
    "    \"job\" : \"reporter\",\n",
    "    \"age\" : \"25\",\n",
    "    \"idealType\" : \"Tiktoker\"\n",
    "}\n",
    "\n",
    "del dic[\"middlename\"]\n",
    "del dic[\"idealType\"]\n",
    "\n",
    "print(dic)"
   ]
  },
  {
   "cell_type": "code",
   "execution_count": 5,
   "id": "1829c1e8",
   "metadata": {},
   "outputs": [
    {
     "name": "stdout",
     "output_type": "stream",
     "text": [
      "[1, 3, 4]\n"
     ]
    }
   ],
   "source": [
    "a=[1,2,4,3,3,4,8,7,10,1]\n",
    "\n",
    "a.sort()\n",
    "b=[]\n",
    "\n",
    "for i in range(len(a)-1):\n",
    "    if a[i] == a[i+1]:\n",
    "        b.append(a[i+1])\n",
    "        \n",
    "print(b)"
   ]
  },
  {
   "cell_type": "code",
   "execution_count": null,
   "id": "495bf771",
   "metadata": {},
   "outputs": [],
   "source": []
  }
 ],
 "metadata": {
  "kernelspec": {
   "display_name": "Python 3 (ipykernel)",
   "language": "python",
   "name": "python3"
  },
  "language_info": {
   "codemirror_mode": {
    "name": "ipython",
    "version": 3
   },
   "file_extension": ".py",
   "mimetype": "text/x-python",
   "name": "python",
   "nbconvert_exporter": "python",
   "pygments_lexer": "ipython3",
   "version": "3.10.9"
  }
 },
 "nbformat": 4,
 "nbformat_minor": 5
}
