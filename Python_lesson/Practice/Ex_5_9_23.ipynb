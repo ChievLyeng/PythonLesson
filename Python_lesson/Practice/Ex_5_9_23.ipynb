{
 "cells": [
  {
   "cell_type": "code",
   "execution_count": null,
   "id": "da32124a",
   "metadata": {},
   "outputs": [],
   "source": [
    "Lyeng"
   ]
  },
  {
   "cell_type": "markdown",
   "id": "12298f39",
   "metadata": {},
   "source": [
    "1. Create a set with random numbers from 1 to 10. Add 20 to the set. Check if the number 9 is in the set and remove the number 9 and 11 if it is in the set; otherwise, print it is not in the set.\n",
    "Note: Sets have distinct elements, and are unordered, so make sure to have all different elements.\n",
    "Expected Output:\n",
    "\t\tRandom set:\n",
    " \t\t{9, 8, 7, 6, 5,  3, 4, 2, 1, 10 } \n",
    "\t\tAdded set: \n",
    "\t\t{9, 8, 7, 6, 5,  3, 4, 2, 1, 10, 20}\n",
    "\t\tNumber 9 is in the set.\n",
    "\t\tNumber 11 is not in the set.\n",
    "\t\tResult set:\n",
    "\t\t{8, 7, 6, 5,  3, 4, 2, 1, 10, 20}"
   ]
  },
  {
   "cell_type": "code",
   "execution_count": 157,
   "id": "02730424",
   "metadata": {
    "scrolled": true
   },
   "outputs": [
    {
     "name": "stdout",
     "output_type": "stream",
     "text": [
      "Random set : {1, 2, 3, 4, 5, 6, 7, 8, 10, 20}\n",
      "Added set : {1, 2, 3, 4, 5, 6, 7, 8, 10, 20}\n",
      "Number 11 is not in the set.\n",
      "Result set : {1, 2, 3, 4, 5, 6, 7, 8, 10, 20}\n"
     ]
    }
   ],
   "source": [
    "import random\n",
    "\n",
    "while len(set_num)<10:\n",
    "    set_num.add(random.randint(1,10))\n",
    "    \n",
    "print(\"Random set :\",set_num)\n",
    "\n",
    "set_num.add(20)\n",
    "print(\"Added set :\",set_num)\n",
    "\n",
    "if 9 in set_num :\n",
    "    print(\"Number 9 is in the set.\")\n",
    "    set_num.remove(9)\n",
    "if 11 in set_num :\n",
    "    set_num.remove(11)\n",
    "else:\n",
    "    print(\"Number 11 is not in the set.\")\n",
    "    \n",
    "print(\"Result set :\",set_num)"
   ]
  },
  {
   "cell_type": "markdown",
   "id": "6cf7d42d",
   "metadata": {},
   "source": [
    "2. We have 2 sets:\n",
    "   - Set A : \"green\", \"blue\", “gray”, “black”, “red”\n",
    "   - Set B : “green”, “blue”, “pink”\n",
    "   Find the difference of set B- set A. Find the symmetric difference of      set A- set B"
   ]
  },
  {
   "cell_type": "code",
   "execution_count": 94,
   "id": "f8422841",
   "metadata": {},
   "outputs": [
    {
     "name": "stdout",
     "output_type": "stream",
     "text": [
      "set B difference of set B : {'pink'}\n",
      "\n",
      "set A symmetric difference of set B : {'pink', 'gray', 'red', 'black'}\n"
     ]
    }
   ],
   "source": [
    "set_A = {\"green\",\"blue\",\"gray\",\"black\",\"red\"}\n",
    "set_B = {\"green\",\"blue\",\"pink\"}\n",
    "\n",
    "print(\"set B difference of set B :\",set_B-set_A)\n",
    "print()\n",
    "print(\"set A symmetric difference of set B :\",set_A^set_B)"
   ]
  },
  {
   "cell_type": "markdown",
   "id": "96b92d47",
   "metadata": {},
   "source": [
    "3. Find all the unique words out of the given string and count its occurrence:\n",
    "   words = ['Red', 'Green', 'Red', 'Blue', 'Red', 'Red', 'Green']\n",
    "   Expected Output:\n",
    "   {'Red': 4, 'Blue': 1, 'Green': 2}\n",
    "\n",
    "Hint: Use set(), count() and print the result in the form of a dictionary\n"
   ]
  },
  {
   "cell_type": "code",
   "execution_count": 136,
   "id": "73736043",
   "metadata": {},
   "outputs": [
    {
     "name": "stdout",
     "output_type": "stream",
     "text": [
      "{'Blue': 1, 'Red': 4, 'Green': 2}\n"
     ]
    }
   ],
   "source": [
    "words = ['Red', 'Green', 'Red', 'Blue', 'Red', 'Red', 'Green']\n",
    "set_word =set(words)\n",
    "result={}\n",
    "\n",
    "for i in set_word:\n",
    "    result.setdefault(i,words.count(i))\n",
    "    \n",
    "print(result)"
   ]
  },
  {
   "cell_type": "code",
   "execution_count": null,
   "id": "7f99323c",
   "metadata": {},
   "outputs": [],
   "source": []
  }
 ],
 "metadata": {
  "kernelspec": {
   "display_name": "Python 3 (ipykernel)",
   "language": "python",
   "name": "python3"
  },
  "language_info": {
   "codemirror_mode": {
    "name": "ipython",
    "version": 3
   },
   "file_extension": ".py",
   "mimetype": "text/x-python",
   "name": "python",
   "nbconvert_exporter": "python",
   "pygments_lexer": "ipython3",
   "version": "3.10.9"
  }
 },
 "nbformat": 4,
 "nbformat_minor": 5
}
