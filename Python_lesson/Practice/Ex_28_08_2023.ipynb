{
 "cells": [
  {
   "cell_type": "code",
   "execution_count": 2,
   "id": "78dc92a7",
   "metadata": {},
   "outputs": [
    {
     "name": "stdout",
     "output_type": "stream",
     "text": [
      "10\n",
      "20\n",
      "Exception occured : Unable to convert X to an integer .\n",
      "30\n",
      "40\n",
      "50\n",
      "Exception occured : Unable to convert ABC to an integer .\n"
     ]
    }
   ],
   "source": [
    "lst = [\"10\",\"20\",\"X\",\"30\",\"40\",\"50\",\"ABC\"]\n",
    "\n",
    "\n",
    "for i in lst:\n",
    "    try:\n",
    "        print(int(i))\n",
    "    except:\n",
    "        print(f\"Exception occured : Unable to convert {i} to an integer .\")"
   ]
  },
  {
   "cell_type": "code",
   "execution_count": null,
   "id": "595e7b83",
   "metadata": {},
   "outputs": [],
   "source": []
  }
 ],
 "metadata": {
  "kernelspec": {
   "display_name": "Python 3 (ipykernel)",
   "language": "python",
   "name": "python3"
  },
  "language_info": {
   "codemirror_mode": {
    "name": "ipython",
    "version": 3
   },
   "file_extension": ".py",
   "mimetype": "text/x-python",
   "name": "python",
   "nbconvert_exporter": "python",
   "pygments_lexer": "ipython3",
   "version": "3.10.9"
  }
 },
 "nbformat": 4,
 "nbformat_minor": 5
}
