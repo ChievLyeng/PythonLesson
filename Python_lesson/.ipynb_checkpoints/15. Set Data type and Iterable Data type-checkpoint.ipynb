{
 "cells": [
  {
   "cell_type": "markdown",
   "id": "7a8fe0e8",
   "metadata": {},
   "source": [
    "1. Iterable data types and iterator"
   ]
  },
  {
   "cell_type": "markdown",
   "id": "92331afd",
   "metadata": {},
   "source": [
    "1.2 Checking if it's an iterable data type"
   ]
  },
  {
   "cell_type": "code",
   "execution_count": 1,
   "id": "2f84e94a",
   "metadata": {},
   "outputs": [
    {
     "name": "stdout",
     "output_type": "stream",
     "text": [
      "Number is not iterable data type.\n"
     ]
    }
   ],
   "source": [
    "try: \n",
    "    n=100\n",
    "    iterator = iter(n)\n",
    "except TypeError:\n",
    "    print(\"Number is not iterable data type.\")\n",
    "else:\n",
    "    print(\"Number is iterable data type.\")"
   ]
  },
  {
   "cell_type": "code",
   "execution_count": 2,
   "id": "ec5f7c4f",
   "metadata": {},
   "outputs": [
    {
     "name": "stdout",
     "output_type": "stream",
     "text": [
      "list is iterable data type.\n"
     ]
    }
   ],
   "source": [
    "try: \n",
    "    l = [10,20,30]\n",
    "    iterator = iter(l)\n",
    "except TypeError:\n",
    "    print(\"list is not iterable data type.\")\n",
    "else:\n",
    "    print(\"list is iterable data type.\")"
   ]
  },
  {
   "cell_type": "code",
   "execution_count": 3,
   "id": "b1368131",
   "metadata": {},
   "outputs": [
    {
     "name": "stdout",
     "output_type": "stream",
     "text": [
      "tuple is iterable data type.\n"
     ]
    }
   ],
   "source": [
    "try: \n",
    "    t = (10,20,30)\n",
    "    iterator = iter(t)\n",
    "except TypeError:\n",
    "    print(\"tuple is not iterable data type.\")\n",
    "else:\n",
    "    print(\"tuple is iterable data type.\")"
   ]
  },
  {
   "cell_type": "code",
   "execution_count": 4,
   "id": "4036e065",
   "metadata": {},
   "outputs": [
    {
     "name": "stdout",
     "output_type": "stream",
     "text": [
      "String is iterable data type.\n"
     ]
    }
   ],
   "source": [
    "try:\n",
    "    s= \"string\"\n",
    "    iterator = iter(s)\n",
    "except TypeError : \n",
    "    print(\"String is not iterable data type.\")\n",
    "else: \n",
    "    print(\"String is iterable data type.\")"
   ]
  },
  {
   "cell_type": "code",
   "execution_count": 7,
   "id": "336d83fc",
   "metadata": {},
   "outputs": [
    {
     "name": "stdout",
     "output_type": "stream",
     "text": [
      "'int' object is not iterable\n"
     ]
    }
   ],
   "source": [
    "try: \n",
    "    n=100\n",
    "    iterator = iter(n)\n",
    "except Exception as e:\n",
    "    print(e)"
   ]
  },
  {
   "cell_type": "markdown",
   "id": "52b7d159",
   "metadata": {},
   "source": [
    "1.3 Built-in functions that take iterable data types as parameters"
   ]
  },
  {
   "cell_type": "markdown",
   "id": "5bd4bb0a",
   "metadata": {},
   "source": [
    "* The all function returns True only if all elements in the iterable are true. if there is a 0,\", or none value inside, it returns False."
   ]
  },
  {
   "cell_type": "code",
   "execution_count": 8,
   "id": "706a6d87",
   "metadata": {},
   "outputs": [
    {
     "name": "stdout",
     "output_type": "stream",
     "text": [
      "True\n",
      "False\n",
      "False\n"
     ]
    }
   ],
   "source": [
    "#all function\n",
    "\n",
    "l1 = [1,2,3,4]\n",
    "l2 = [0,2,4,8]\n",
    "l3 = [0,0,0,0]\n",
    "\n",
    "print(all(l1))\n",
    "print(all(l2))\n",
    "print(all(l3))"
   ]
  },
  {
   "cell_type": "markdown",
   "id": "6c06dc30",
   "metadata": {},
   "source": [
    "* The any function returns True if at least one element in the iterable is true."
   ]
  },
  {
   "cell_type": "code",
   "execution_count": 9,
   "id": "fdeda3dc",
   "metadata": {},
   "outputs": [
    {
     "name": "stdout",
     "output_type": "stream",
     "text": [
      "True\n",
      "True\n",
      "False\n"
     ]
    }
   ],
   "source": [
    "#any function\n",
    "\n",
    "l1 = [1,2,3,4]\n",
    "l2 = [0,2,4,8]\n",
    "l3 = [0,0,0,0]\n",
    "\n",
    "print(any(l1))\n",
    "print(any(l2))\n",
    "print(any(l3))"
   ]
  },
  {
   "cell_type": "markdown",
   "id": "16658923",
   "metadata": {},
   "source": [
    "1.4 The iter function and the next function"
   ]
  },
  {
   "cell_type": "markdown",
   "id": "eaf2df4b",
   "metadata": {},
   "source": [
    ". We can see that the list data type with elements [10,20,30] is converted   to an iterator using the iter function.\n",
    ". The iter function takes an iterable data type as agrument and returns an   iterator.\n",
    ". The iter function is usually used together with the next function.\n",
    ". The next function takes an iterator as agrument and returns the next       element to be output."
   ]
  },
  {
   "cell_type": "code",
   "execution_count": 20,
   "id": "b2a7109a",
   "metadata": {},
   "outputs": [
    {
     "name": "stdout",
     "output_type": "stream",
     "text": [
      "10\n",
      "20\n",
      "30\n"
     ]
    }
   ],
   "source": [
    "iter_a = iter([10,20,30])\n",
    "\n",
    "print(next(iter_a))\n",
    "print(next(iter_a))\n",
    "print(next(iter_a))\n",
    "# print(next(iter_a)) # stop iteration error because it out of list index range\n",
    "\n",
    "\n",
    "#The code below is error because list do not have built-in feature\n",
    "#to output elements in order (if we want to use next use iter() to convert list first)\n",
    "\n",
    "# a=[10,20,30]\n",
    "# print(next(a))\n",
    "\n"
   ]
  },
  {
   "cell_type": "code",
   "execution_count": 25,
   "id": "37c44bad",
   "metadata": {},
   "outputs": [
    {
     "name": "stdout",
     "output_type": "stream",
     "text": [
      "<class 'list_iterator'>\n",
      "10\n",
      "20\n",
      "30\n"
     ]
    }
   ],
   "source": [
    "lst = [10,20,30]\n",
    "l_iter = iter(lst)\n",
    "\n",
    "print(type(l_iter))\n",
    "\n",
    "print(next(l_iter))\n",
    "print(next(l_iter))\n",
    "print(next(l_iter))\n"
   ]
  },
  {
   "cell_type": "markdown",
   "id": "52b790a4",
   "metadata": {},
   "source": [
    "1.6 Converting an iterator, which can only read values once, into an           iterable data type"
   ]
  },
  {
   "cell_type": "markdown",
   "id": "cb4bbe68",
   "metadata": {},
   "source": [
    "However, once it has been converted using a data type convesion function,\n",
    "it cannot be used again with the data type conversion function.\n",
    "\n",
    "An empty data type is returned because all elements have been consumed and \n",
    "there are no more elements to return."
   ]
  },
  {
   "cell_type": "code",
   "execution_count": 32,
   "id": "37214699",
   "metadata": {},
   "outputs": [
    {
     "name": "stdout",
     "output_type": "stream",
     "text": [
      "<list_iterator object at 0x109c5c9d0>\n",
      "(10, 20, 30)\n",
      "[]\n"
     ]
    }
   ],
   "source": [
    "iter1 = iter([10,20,30])\n",
    "\n",
    "print(iter1)\n",
    "print(list(iter1)) #type conversion only use once\n",
    "print(tuple(iter1))"
   ]
  },
  {
   "cell_type": "markdown",
   "id": "51ce6055",
   "metadata": {},
   "source": [
    "Since an iterator consumes all elements once it has been traversed, once it has been converted using a data type conversion function, it cannot be\n",
    "used again with the data type conversion function. To use it again, a new iterator must be created."
   ]
  },
  {
   "cell_type": "code",
   "execution_count": 33,
   "id": "50134dc3",
   "metadata": {},
   "outputs": [
    {
     "name": "stdout",
     "output_type": "stream",
     "text": [
      "<list_iterator object at 0x108eb9a80>\n",
      "(10, 20, 30)\n"
     ]
    }
   ],
   "source": [
    "iter1 = iter([10,20,30])\n",
    "\n",
    "print(iter1)\n",
    "print(tuple(iter1))"
   ]
  },
  {
   "cell_type": "markdown",
   "id": "e5746366",
   "metadata": {},
   "source": [
    "2. Set"
   ]
  },
  {
   "cell_type": "markdown",
   "id": "e932cbfd",
   "metadata": {},
   "source": [
    "2.1 Set, collection of unordered objects"
   ]
  },
  {
   "cell_type": "markdown",
   "id": "5e7d7f19",
   "metadata": {},
   "source": [
    ". set used in python are similar to mathematical set and can perform         various set operations such as intersection,unioun,difference, and         summetric differnce.\n",
    ". Set has the characteristic of not allowing duplicates of items with the   value, and unlike sequence type like list or tuple, it is unordered data   type."
   ]
  },
  {
   "cell_type": "markdown",
   "id": "7f026c2a",
   "metadata": {},
   "source": [
    "2.2 Defining a set"
   ]
  },
  {
   "cell_type": "code",
   "execution_count": 34,
   "id": "3d51d019",
   "metadata": {},
   "outputs": [
    {
     "name": "stdout",
     "output_type": "stream",
     "text": [
      "set()\n"
     ]
    }
   ],
   "source": [
    "#empty set\n",
    "numbers = set()\n",
    "print(numbers)\n"
   ]
  },
  {
   "cell_type": "code",
   "execution_count": 35,
   "id": "d0bc947e",
   "metadata": {},
   "outputs": [
    {
     "name": "stdout",
     "output_type": "stream",
     "text": [
      "{'Fri', 'Sun', 'Mon', 'Sat', 'Wed', 'Tue', 'Thu'}\n"
     ]
    }
   ],
   "source": [
    "days_list = [\"Mon\",\"Tue\",\"Wed\",\"Thu\",\"Fri\",\"Sat\",\"Sun\"]\n",
    "days_set = set(days_list)\n",
    "print(days_set) \n",
    "#since the set is a collection of unordered elements, indexing cannot be used"
   ]
  },
  {
   "cell_type": "code",
   "execution_count": 36,
   "id": "b3186979",
   "metadata": {},
   "outputs": [
    {
     "name": "stdout",
     "output_type": "stream",
     "text": [
      "{'orange', 'apple', 'water melon'}\n"
     ]
    }
   ],
   "source": [
    "fruits_tuple = (\"apple\",\"orange\",\"water melon\")\n",
    "fruits_set = set(fruits_tuple)\n",
    "print(fruits_set)"
   ]
  },
  {
   "cell_type": "code",
   "execution_count": 37,
   "id": "703611e2",
   "metadata": {},
   "outputs": [
    {
     "name": "stdout",
     "output_type": "stream",
     "text": [
      "{1, 2, 3}\n"
     ]
    }
   ],
   "source": [
    "print(set([1,2,3,1,2]))\n",
    "\n",
    "#It is also posible to create a set from a list as shown above.\n",
    "#However, in the set data type,\n",
    "#it there are duplicate elements, they are automatically removed"
   ]
  },
  {
   "cell_type": "code",
   "execution_count": 38,
   "id": "361e8007",
   "metadata": {},
   "outputs": [
    {
     "name": "stdout",
     "output_type": "stream",
     "text": [
      "{'d', 'b', 'f', 'a', 'e', 'c'}\n"
     ]
    }
   ],
   "source": [
    "# It is also possible to create a set from a string\n",
    "# In this case, each character becomes a single element.\n",
    "\n",
    "print(set(\"abcdefa\"))"
   ]
  },
  {
   "cell_type": "code",
   "execution_count": 39,
   "id": "68e49174",
   "metadata": {},
   "outputs": [
    {
     "name": "stdout",
     "output_type": "stream",
     "text": [
      "{'o', 'e', 'h', 'l'}\n"
     ]
    }
   ],
   "source": [
    "h_str = \"hello\"\n",
    "h_set = set(h_str)\n",
    "\n",
    "print(h_set)"
   ]
  },
  {
   "cell_type": "markdown",
   "id": "f6b3c322",
   "metadata": {},
   "source": [
    "2.3 Membership operators for searching specific elements: in,not in"
   ]
  },
  {
   "cell_type": "code",
   "execution_count": 41,
   "id": "ef73c5b0",
   "metadata": {},
   "outputs": [
    {
     "name": "stdout",
     "output_type": "stream",
     "text": [
      "There is a 1 in the set.\n",
      "There is not a 7 in the set.\n"
     ]
    }
   ],
   "source": [
    "numbers = {2,1,3}\n",
    "\n",
    "if 1 in numbers:\n",
    "    print(\"There is a 1 in the set.\")\n",
    "    \n",
    "if 7 not in numbers:\n",
    "    print(\"There is not a 7 in the set.\")"
   ]
  },
  {
   "cell_type": "markdown",
   "id": "5eebb516",
   "metadata": {},
   "source": [
    "2.4 Difference between a set and a sequence data type\n",
    "\n",
    ". sets are unordered collections of unique elements and do not allow         duplicates. Therefore, a set is not a sequence data type and do not have   the index. (indexing and slicing are meaningless)"
   ]
  },
  {
   "cell_type": "code",
   "execution_count": 43,
   "id": "ffd8802f",
   "metadata": {},
   "outputs": [
    {
     "name": "stdout",
     "output_type": "stream",
     "text": [
      "{1, 2, 3, 4}\n",
      "{2, 3, 4}\n"
     ]
    }
   ],
   "source": [
    "numbers = {1,2,3}\n",
    "\n",
    "numbers.add(4) #add element to set \n",
    "print(numbers)\n",
    "\n",
    "numbers.remove(1) #remove element to set \n",
    "print(numbers)"
   ]
  },
  {
   "cell_type": "markdown",
   "id": "f1ae5dfb",
   "metadata": {},
   "source": [
    "2.5 Accessing sets using loops with iterable data type"
   ]
  },
  {
   "cell_type": "code",
   "execution_count": 52,
   "id": "160094ef",
   "metadata": {},
   "outputs": [
    {
     "name": "stdout",
     "output_type": "stream",
     "text": [
      "2 3 4 5 6 7 9 \n",
      "\n",
      "sorted set\n",
      "2 3 4 5 6 7 9 "
     ]
    }
   ],
   "source": [
    "numbers = {2,3,6,5,9,4,7}\n",
    "\n",
    "for x in numbers :\n",
    "    print(x,end=\" \")\n",
    "          \n",
    "print()\n",
    "print()\n",
    "print(\"sorted set\")\n",
    "\n",
    "for x in sorted(numbers):\n",
    "    print(x,end=\" \")"
   ]
  },
  {
   "cell_type": "markdown",
   "id": "e69e6711",
   "metadata": {},
   "source": [
    "2.6 Sorting with the sorted function"
   ]
  },
  {
   "cell_type": "code",
   "execution_count": 57,
   "id": "5aafbf3e",
   "metadata": {},
   "outputs": [
    {
     "name": "stdout",
     "output_type": "stream",
     "text": [
      "<class 'set'>\n",
      "{2, 3, 4, 5, 6, 7, 9}\n",
      "<class 'list'>\n",
      "[2, 3, 4, 5, 6, 7, 9]\n",
      "After sorted it become a list\n"
     ]
    }
   ],
   "source": [
    "numbers = {2,3,6,5,9,4,7}\n",
    "print(type(numbers))\n",
    "print(numbers)\n",
    "\n",
    "numbers = sorted(numbers)\n",
    "print(type(numbers))\n",
    "print(numbers)\n",
    "print(\"After sorted it become a list\")"
   ]
  },
  {
   "cell_type": "markdown",
   "id": "44db08f7",
   "metadata": {},
   "source": [
    "2.7 Creating sets using one-liner loop "
   ]
  },
  {
   "cell_type": "code",
   "execution_count": 58,
   "id": "c7793572",
   "metadata": {},
   "outputs": [
    {
     "name": "stdout",
     "output_type": "stream",
     "text": [
      "{'e', 'a', 'l', 'p'}\n"
     ]
    }
   ],
   "source": [
    "a = {i for i in \"apple\"}\n",
    "\n",
    "print(a)"
   ]
  },
  {
   "cell_type": "markdown",
   "id": "9d40c6dd",
   "metadata": {},
   "source": [
    "2.8 Creating sets using one-line expressions with loops and conditions"
   ]
  },
  {
   "cell_type": "code",
   "execution_count": 60,
   "id": "1c950be9",
   "metadata": {},
   "outputs": [
    {
     "name": "stdout",
     "output_type": "stream",
     "text": [
      "{'e', 'n', 'i'}\n"
     ]
    }
   ],
   "source": [
    "a = {i for i in \"pineapple\" if i not in \"apl\"}\n",
    "\n",
    "print(a)"
   ]
  },
  {
   "cell_type": "markdown",
   "id": "39e0c430",
   "metadata": {},
   "source": [
    "2.9 Built-in functions that take a set as parameter "
   ]
  },
  {
   "cell_type": "code",
   "execution_count": 63,
   "id": "b939f52c",
   "metadata": {},
   "outputs": [
    {
     "name": "stdout",
     "output_type": "stream",
     "text": [
      "5\n",
      "7\n",
      "1\n",
      "[1, 3, 4, 5, 7]\n",
      "20\n",
      "False True\n"
     ]
    }
   ],
   "source": [
    "a_set = {1,5,4,3,7,4}\n",
    "print(len(a_set))\n",
    "\n",
    "print(max(a_set))\n",
    "print(min(a_set))\n",
    "print(sorted(a_set))\n",
    "print(sum(a_set))\n",
    "\n",
    "b_set = {1,0,2,3,3}\n",
    "print(all(b_set), any(b_set))"
   ]
  },
  {
   "cell_type": "markdown",
   "id": "556406d7",
   "metadata": {},
   "source": [
    "3.2 Union operator and method"
   ]
  },
  {
   "cell_type": "markdown",
   "id": "82a0105a",
   "metadata": {},
   "source": [
    "# "
   ]
  },
  {
   "cell_type": "code",
   "execution_count": null,
   "id": "df98524e",
   "metadata": {},
   "outputs": [],
   "source": []
  },
  {
   "cell_type": "code",
   "execution_count": null,
   "id": "ef4a34e8",
   "metadata": {},
   "outputs": [],
   "source": []
  },
  {
   "cell_type": "code",
   "execution_count": null,
   "id": "4b5d1027",
   "metadata": {},
   "outputs": [],
   "source": []
  },
  {
   "cell_type": "code",
   "execution_count": null,
   "id": "12cb7b9e",
   "metadata": {},
   "outputs": [],
   "source": []
  },
  {
   "cell_type": "code",
   "execution_count": null,
   "id": "7f73fbcc",
   "metadata": {},
   "outputs": [],
   "source": []
  },
  {
   "cell_type": "code",
   "execution_count": null,
   "id": "cee5b872",
   "metadata": {},
   "outputs": [],
   "source": []
  },
  {
   "cell_type": "code",
   "execution_count": null,
   "id": "b57ad6b3",
   "metadata": {},
   "outputs": [],
   "source": []
  },
  {
   "cell_type": "code",
   "execution_count": null,
   "id": "f2749315",
   "metadata": {},
   "outputs": [],
   "source": []
  },
  {
   "cell_type": "code",
   "execution_count": null,
   "id": "c952fcac",
   "metadata": {},
   "outputs": [],
   "source": []
  }
 ],
 "metadata": {
  "kernelspec": {
   "display_name": "Python 3 (ipykernel)",
   "language": "python",
   "name": "python3"
  },
  "language_info": {
   "codemirror_mode": {
    "name": "ipython",
    "version": 3
   },
   "file_extension": ".py",
   "mimetype": "text/x-python",
   "name": "python",
   "nbconvert_exporter": "python",
   "pygments_lexer": "ipython3",
   "version": "3.10.9"
  }
 },
 "nbformat": 4,
 "nbformat_minor": 5
}
