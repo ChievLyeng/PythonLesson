{
 "cells": [
  {
   "cell_type": "markdown",
   "id": "f3cad36d",
   "metadata": {},
   "source": [
    "Key Concept"
   ]
  },
  {
   "cell_type": "markdown",
   "id": "dc259f75",
   "metadata": {},
   "source": [
    "1.creating 2 dimensional list"
   ]
  },
  {
   "cell_type": "code",
   "execution_count": 2,
   "id": "3e8bbe85",
   "metadata": {},
   "outputs": [
    {
     "name": "stdout",
     "output_type": "stream",
     "text": [
      "[1, 2, 3]\n",
      "[4, 5, 6]\n",
      "[7, 8, 9]\n"
     ]
    }
   ],
   "source": [
    "list_arr=[[1,2,3],[4,5,6],[7,8,9]]\n",
    "\n",
    "print(list_arr[0])\n",
    "print(list_arr[1])\n",
    "print(list_arr[2])"
   ]
  },
  {
   "cell_type": "code",
   "execution_count": 3,
   "id": "38906e7e",
   "metadata": {},
   "outputs": [
    {
     "name": "stdout",
     "output_type": "stream",
     "text": [
      "[[0, 0], [0, 0], [0, 0]]\n"
     ]
    }
   ],
   "source": [
    "list1=[]\n",
    "\n",
    "for i in range(3):\n",
    "    line=[]\n",
    "    for j in range(2):\n",
    "        line.append(0)\n",
    "    list1.append(line)\n",
    "    \n",
    "print(list1)"
   ]
  },
  {
   "cell_type": "code",
   "execution_count": 10,
   "id": "022eb00c",
   "metadata": {},
   "outputs": [
    {
     "name": "stdout",
     "output_type": "stream",
     "text": [
      "List_arr : [[0, 0], [0, 0], [0, 0]]\n",
      "List_arr2 : [[0, 0], [0, 0], [0, 0]]\n"
     ]
    }
   ],
   "source": [
    "list_arr=[[0] * 2 for i in range(3)]\n",
    "\n",
    "print(\"List_arr :\",list_arr)\n",
    "\n",
    "list_arr2=[[0 for j in range(2)] for i in range(3)]\n",
    "print(\"List_arr2 :\",list_arr2)"
   ]
  },
  {
   "cell_type": "code",
   "execution_count": 8,
   "id": "4c3dab51",
   "metadata": {},
   "outputs": [
    {
     "name": "stdout",
     "output_type": "stream",
     "text": [
      "a : [1, 4, 9, 16, 25]\n",
      "b : [0, 2, 4, 6, 8]\n",
      "c : [1, 3, 5, 7, 9]\n"
     ]
    }
   ],
   "source": [
    "a=[i ** 2 for i in [1,2,3,4,5]]\n",
    "print(\"a :\",a)\n",
    "\n",
    "b=[i for i in range(10) if i%2 == 0]\n",
    "print(\"b :\",b)\n",
    "\n",
    "c=[i for i in range(10) if i%2==1]\n",
    "print(\"c :\",c)"
   ]
  },
  {
   "cell_type": "markdown",
   "id": "5c46bf0e",
   "metadata": {},
   "source": [
    "2. Accessing elements of a 2D list"
   ]
  },
  {
   "cell_type": "markdown",
   "id": "f177e661",
   "metadata": {},
   "source": [
    "2.1 Indexing for element access"
   ]
  },
  {
   "cell_type": "code",
   "execution_count": 17,
   "id": "0f8f3b3c",
   "metadata": {},
   "outputs": [
    {
     "name": "stdout",
     "output_type": "stream",
     "text": [
      "1\n",
      "2\n",
      "6\n",
      "9\n",
      "300\n",
      "[[1, 2, 3], [4, 300, 6], [7, 8, 9]]\n"
     ]
    }
   ],
   "source": [
    "list_arr=[[1,2,3],[4,5,6],[7,8,9]]\n",
    "\n",
    "print(list_arr[0][0]) #1\n",
    "print(list_arr[0][1])  #2\n",
    "print(list_arr[1][2]) #6\n",
    "print(list_arr[2][2]) #\n",
    "\n",
    "list_arr[1][1]=300\n",
    "\n",
    "print(list_arr[1][1])\n",
    "print(list_arr)"
   ]
  },
  {
   "cell_type": "markdown",
   "id": "96e47787",
   "metadata": {},
   "source": [
    "3.1 Using a for statement to print 2D list"
   ]
  },
  {
   "cell_type": "code",
   "execution_count": 18,
   "id": "0c960e48",
   "metadata": {},
   "outputs": [
    {
     "name": "stdout",
     "output_type": "stream",
     "text": [
      "item : [1, 2, 3]\n",
      "item : [4, 5, 6]\n",
      "item : [7, 8, 9]\n"
     ]
    }
   ],
   "source": [
    "list_arr=[[1,2,3],[4,5,6],[7,8,9]]\n",
    "\n",
    "for i in list_arr:\n",
    "    print(\"item :\",i)"
   ]
  },
  {
   "cell_type": "code",
   "execution_count": 20,
   "id": "d173e146",
   "metadata": {},
   "outputs": [
    {
     "name": "stdout",
     "output_type": "stream",
     "text": [
      "1 2 3\n",
      "4 5 6\n",
      "7 8 9\n"
     ]
    }
   ],
   "source": [
    "list_arr=[[1,2,3],[4,5,6],[7,8,9]]\n",
    "\n",
    "for i,j,k in list_arr:\n",
    "    print(i,j,k)"
   ]
  },
  {
   "cell_type": "markdown",
   "id": "b61c41ec",
   "metadata": {},
   "source": [
    "3.3 Print 2D list using nested loop"
   ]
  },
  {
   "cell_type": "code",
   "execution_count": 22,
   "id": "552d451b",
   "metadata": {},
   "outputs": [
    {
     "name": "stdout",
     "output_type": "stream",
     "text": [
      "1 2 3 \n",
      "4 5 6 \n",
      "7 8 9 \n",
      "==============================\n",
      "1 2 3 \n",
      "4 5 \n",
      "7 \n"
     ]
    }
   ],
   "source": [
    "list_arr=[[1,2,3],[4,5,6],[7,8,9]]\n",
    "\n",
    "for i in list_arr:\n",
    "    for j in i:\n",
    "        print(j,end=\" \")\n",
    "    print()\n",
    "    \n",
    "print(\"=\"*30)\n",
    "\n",
    "list_arr=[[1,2,3],[4,5],[7]]\n",
    "\n",
    "for i in list_arr:\n",
    "    for j in i:\n",
    "        print(j,end=\" \")\n",
    "    print()"
   ]
  },
  {
   "cell_type": "markdown",
   "id": "86b64dd7",
   "metadata": {},
   "source": [
    "3.4 Output using index"
   ]
  },
  {
   "cell_type": "code",
   "execution_count": 25,
   "id": "283f6cba",
   "metadata": {},
   "outputs": [
    {
     "name": "stdout",
     "output_type": "stream",
     "text": [
      "1 2 3 \n",
      "4 5 6 \n",
      "7 8 9 \n",
      "==============================\n",
      "1 2 3 \n",
      "4 5 \n",
      "7 \n"
     ]
    }
   ],
   "source": [
    "list_arr=[[1,2,3],[4,5,6],[7,8,9]]\n",
    "for i in range(len(list_arr)):\n",
    "    for j in range(len(list_arr[i])):\n",
    "        print(list_arr[i][j],end=\" \")\n",
    "    print()\n",
    "\n",
    "print(\"=\"*30)\n",
    "\n",
    "list_arr=[[1,2,3],[4,5],[7]]\n",
    "for i in range(len(list_arr)):\n",
    "    for j in range(len(list_arr[i])):\n",
    "        print(list_arr[i][j],end=\" \")\n",
    "    print()"
   ]
  },
  {
   "cell_type": "markdown",
   "id": "d126de36",
   "metadata": {},
   "source": [
    "3.5 Printing 2D list using while statement"
   ]
  },
  {
   "cell_type": "code",
   "execution_count": 26,
   "id": "3642cf91",
   "metadata": {},
   "outputs": [
    {
     "name": "stdout",
     "output_type": "stream",
     "text": [
      "1 2 3\n",
      "4 5 6\n",
      "7 8 9\n"
     ]
    }
   ],
   "source": [
    "list_arr=[[1,2,3],[4,5,6],[7,8,9]]\n",
    "\n",
    "i=0\n",
    "while i < len(list_arr):\n",
    "    a,b,c=list_arr[i]\n",
    "    print(a,b,c)\n",
    "    i+=1\n",
    "    \n"
   ]
  },
  {
   "cell_type": "markdown",
   "id": "997025c5",
   "metadata": {},
   "source": [
    "4.1 Reference vs Copy"
   ]
  },
  {
   "cell_type": "code",
   "execution_count": null,
   "id": "2f0a4856",
   "metadata": {},
   "outputs": [],
   "source": []
  },
  {
   "cell_type": "code",
   "execution_count": null,
   "id": "1218a6e4",
   "metadata": {},
   "outputs": [],
   "source": []
  },
  {
   "cell_type": "code",
   "execution_count": null,
   "id": "fc57eb92",
   "metadata": {},
   "outputs": [],
   "source": []
  },
  {
   "cell_type": "code",
   "execution_count": null,
   "id": "a057b18d",
   "metadata": {},
   "outputs": [],
   "source": []
  },
  {
   "cell_type": "code",
   "execution_count": null,
   "id": "1a11e691",
   "metadata": {},
   "outputs": [],
   "source": []
  }
 ],
 "metadata": {
  "kernelspec": {
   "display_name": "Python 3 (ipykernel)",
   "language": "python",
   "name": "python3"
  },
  "language_info": {
   "codemirror_mode": {
    "name": "ipython",
    "version": 3
   },
   "file_extension": ".py",
   "mimetype": "text/x-python",
   "name": "python",
   "nbconvert_exporter": "python",
   "pygments_lexer": "ipython3",
   "version": "3.10.9"
  }
 },
 "nbformat": 4,
 "nbformat_minor": 5
}
