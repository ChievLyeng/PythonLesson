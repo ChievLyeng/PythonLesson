{
 "cells": [
  {
   "cell_type": "markdown",
   "id": "cb67fd35",
   "metadata": {},
   "source": [
    "14. Dictionary Method"
   ]
  },
  {
   "cell_type": "markdown",
   "id": "38e487e8",
   "metadata": {},
   "source": [
    "1.1 Items Method"
   ]
  },
  {
   "cell_type": "code",
   "execution_count": 3,
   "id": "c89ae7d6",
   "metadata": {},
   "outputs": [
    {
     "name": "stdout",
     "output_type": "stream",
     "text": [
      "dict_items([('David Doe', '010-1234-5678'), ('John Smith', '010-1234-5679'), ('Jane Carter', '010-1234-5680')])\n",
      "David Doe : 010-1234-5678\n",
      "John Smith : 010-1234-5679\n",
      "Jane Carter : 010-1234-5680\n"
     ]
    }
   ],
   "source": [
    "#items method returns items that are seperated by parentheses and commas\n",
    "#the data type of the items returned by the items method is a tuple\n",
    "\n",
    "phone_book = {\"David Doe\" : \"010-1234-5678\",\n",
    "              \"John Smith\" : \"010-1234-5679\",\n",
    "              \"Jane Carter\" : \"010-1234-5680\"\n",
    "             }\n",
    "print(phone_book.items())\n",
    "\n",
    "\n",
    "#When the phone_book.items method is called in a loop, it returns \n",
    "# a (key,value) tuple that can be utilized in the loop\n",
    "for name,phone in phone_book.items():\n",
    "    print(name,\":\",phone)"
   ]
  },
  {
   "cell_type": "markdown",
   "id": "9c1bafac",
   "metadata": {},
   "source": [
    "1.2 keys method, value method"
   ]
  },
  {
   "cell_type": "code",
   "execution_count": 4,
   "id": "e036738a",
   "metadata": {},
   "outputs": [
    {
     "name": "stdout",
     "output_type": "stream",
     "text": [
      "dict_keys(['David Doe', 'John Smith', 'Jane Carter'])\n",
      "dict_values(['010-1234-5678', '010-1234-5679', '010-1234-5680'])\n"
     ]
    }
   ],
   "source": [
    "phone_book = {\"David Doe\" : \"010-1234-5678\",\n",
    "              \"John Smith\" : \"010-1234-5679\",\n",
    "              \"Jane Carter\" : \"010-1234-5680\"\n",
    "             }\n",
    "\n",
    "print(phone_book.keys())  #key method return all key in dic\n",
    "print(phone_book.values()) #value method return all value in dic"
   ]
  },
  {
   "cell_type": "markdown",
   "id": "5d2e6ce5",
   "metadata": {},
   "source": [
    "2.1 Output using for loop and items method "
   ]
  },
  {
   "cell_type": "code",
   "execution_count": 10,
   "id": "5c108b23",
   "metadata": {},
   "outputs": [
    {
     "name": "stdout",
     "output_type": "stream",
     "text": [
      "abcd\n",
      "a : 10\n",
      "b : 20\n",
      "c : 30\n",
      "d : 40\n"
     ]
    }
   ],
   "source": [
    "x={\"a\":10,\"b\":20,\"c\":30,\"d\":40}\n",
    "\n",
    "#this is only output the key of dic\n",
    "for i in x:\n",
    "    print(i,end=\"\")\n",
    "    \n",
    "print()\n",
    "for key,value in x.items():\n",
    "    print(key,\":\",value)"
   ]
  },
  {
   "cell_type": "code",
   "execution_count": 13,
   "id": "3c9dca63",
   "metadata": {},
   "outputs": [
    {
     "name": "stdout",
     "output_type": "stream",
     "text": [
      "a b c d \n",
      "10 20 30 40 "
     ]
    }
   ],
   "source": [
    "x={\"a\":10,\"b\":20,\"c\":30,\"d\":40}\n",
    "\n",
    "#print key using keys() method\n",
    "for key in x.keys():\n",
    "    print(key,end=\" \")\n",
    "    \n",
    "print()\n",
    "\n",
    "#print value using values() method\n",
    "for value in x.values():\n",
    "    print(value,end=\" \")"
   ]
  },
  {
   "cell_type": "markdown",
   "id": "18846a25",
   "metadata": {},
   "source": [
    "3.1 The setdefault mehthod"
   ]
  },
  {
   "cell_type": "code",
   "execution_count": 17,
   "id": "60ccfc79",
   "metadata": {},
   "outputs": [
    {
     "name": "stdout",
     "output_type": "stream",
     "text": [
      "1\n",
      "{'a': 1}\n",
      "1\n",
      "{'a': 1, 'b': 1}\n",
      "1\n",
      "{'a': 1, 'b': 1, 'c': 1}\n",
      "2\n",
      "{'a': 1, 'b': 2, 'c': 1}\n",
      "2\n",
      "{'a': 2, 'b': 2, 'c': 1}\n",
      "3\n",
      "{'a': 2, 'b': 3, 'c': 1}\n",
      "2\n",
      "{'a': 2, 'b': 3, 'c': 2}\n",
      "alphabet counting : {'a': 2, 'b': 3, 'c': 2}\n"
     ]
    }
   ],
   "source": [
    "str1 = [\"a\",\"b\",\"c\",\"b\",\"a\",\"b\",\"c\"]\n",
    "dic = {}\n",
    "\n",
    "for ch in str1:\n",
    "    if ch not in dic.keys() : \n",
    "        dic[ch] = 0\n",
    "    dic[ch] += 1\n",
    "    print(dic[ch])\n",
    "    print(dic)\n",
    "    \n",
    "print(\"alphabet counting :\",dic)"
   ]
  },
  {
   "cell_type": "code",
   "execution_count": 18,
   "id": "8f16c543",
   "metadata": {},
   "outputs": [
    {
     "name": "stdout",
     "output_type": "stream",
     "text": [
      "[('a', 1)]\n",
      "[('a', 1), ('b', 1)]\n",
      "[('a', 1), ('b', 1), ('c', 1)]\n",
      "[('a', 1), ('b', 2), ('c', 1)]\n",
      "[('a', 2), ('b', 2), ('c', 1)]\n",
      "[('a', 2), ('b', 3), ('c', 1)]\n",
      "[('a', 2), ('b', 3), ('c', 2)]\n",
      "\n",
      "alphabet counting : {'a': 2, 'b': 3, 'c': 2}\n"
     ]
    }
   ],
   "source": [
    "str1 = [\"a\",\"b\",\"c\",\"b\",\"a\",\"b\",\"c\"]\n",
    "dic = {}\n",
    "\n",
    "for ch in str1:\n",
    "    dic.setdefault(ch,0) #this is work only when the str1 is not yet a dic key\n",
    "    dic[ch] +=1\n",
    "    print(list(dic.items()))\n",
    "\n",
    "print()\n",
    "print(\"alphabet counting :\",dic)"
   ]
  },
  {
   "cell_type": "code",
   "execution_count": null,
   "id": "963c2216",
   "metadata": {},
   "outputs": [],
   "source": [
    "dic = {\"a\",\"b\",\"c\",\"b\",\"a\",\"b\",\"c\"}\n",
    "\n",
    " # f is not yet a dic key so it set the default value to 50\n",
    "dic.setdefault(\"f\",50)\n",
    "print(dic)"
   ]
  },
  {
   "cell_type": "markdown",
   "id": "ff70505c",
   "metadata": {},
   "source": [
    "4. Funtions of the dictionary data type"
   ]
  },
  {
   "cell_type": "markdown",
   "id": "8a1e9597",
   "metadata": {},
   "source": [
    "4.1 The formkeys function"
   ]
  },
  {
   "cell_type": "code",
   "execution_count": 21,
   "id": "082f52c5",
   "metadata": {},
   "outputs": [
    {
     "name": "stdout",
     "output_type": "stream",
     "text": [
      "\n",
      "Use List to create dictionary\n",
      "{'a': None, 'b': None, 'c': None, 'd': None}\n",
      "\n",
      "Use Tuple to create dictionary\n",
      "{'a': None, 'b': None, 'c': None, 'd': None}\n"
     ]
    }
   ],
   "source": [
    "print(\"\\nUse List to create dictionary\")\n",
    "keys = [\"a\",\"b\",\"c\",\"d\"]\n",
    "x = dict.fromkeys(keys)\n",
    "print(x)\n",
    "\n",
    "print(\"\\nUse Tuple to create dictionary\")\n",
    "keys = (\"a\",\"b\",\"c\",\"d\")\n",
    "x = dict.fromkeys(keys)\n",
    "print(x)"
   ]
  },
  {
   "cell_type": "code",
   "execution_count": 22,
   "id": "f4c2f851",
   "metadata": {},
   "outputs": [
    {
     "name": "stdout",
     "output_type": "stream",
     "text": [
      "\n",
      "Use List to create dictionary\n",
      "{'a': 100, 'b': 100, 'c': 100, 'd': 100}\n"
     ]
    }
   ],
   "source": [
    "keys = [\"a\",\"b\",\"c\",\"d\"]\n",
    "\n",
    "# when passing 2 arguments the second is the default value of all keys\n",
    "x = dict.fromkeys(keys,100) \n",
    "print(x)"
   ]
  },
  {
   "cell_type": "markdown",
   "id": "db212f18",
   "metadata": {},
   "source": [
    "5. Nested dictionary"
   ]
  },
  {
   "cell_type": "code",
   "execution_count": 23,
   "id": "579f1028",
   "metadata": {},
   "outputs": [
    {
     "name": "stdout",
     "output_type": "stream",
     "text": [
      "6051.8\n"
     ]
    }
   ],
   "source": [
    "terrestrial_planet = {\n",
    "    \"Mercury\":{\n",
    "        \"mean_radius\" : 2439.7,\n",
    "        \"mass\" : 3.3022E+23,\n",
    "        \"orbital_period\" : 87.969\n",
    "    },\n",
    "    \"Venus\" :{\n",
    "        \"mean_radius\" : 6051.8,\n",
    "        \"mass\" : 4.8676E+24,\n",
    "        \"orbital_period\" : 224.70069\n",
    "    },\n",
    "    \"Earth\" : {\n",
    "        \"mean_radius\" : 6371.0,\n",
    "        \"mass\" : 5.97219E+24,\n",
    "        \"orbital_period\" : 365.25641\n",
    "    },\n",
    "    \"Mars\" : {\n",
    "        \"mean_radius\" : 3389.5,\n",
    "        \"mass\" : 6.4185E+23,\n",
    "        \"orbital_period\" : 686.9600\n",
    "    }\n",
    "}\n",
    "\n",
    "print(terrestrial_planet[\"Venus\"][\"mean_radius\"])"
   ]
  },
  {
   "cell_type": "markdown",
   "id": "85a09ceb",
   "metadata": {},
   "source": [
    "6. Assignment and copying of dictionary"
   ]
  },
  {
   "cell_type": "markdown",
   "id": "7414c2e2",
   "metadata": {},
   "source": [
    "6.1 Assignment results in reference"
   ]
  },
  {
   "cell_type": "code",
   "execution_count": 1,
   "id": "a1c78dfb",
   "metadata": {},
   "outputs": [
    {
     "name": "stdout",
     "output_type": "stream",
     "text": [
      "True\n",
      "{'a': 99, 'b': 0, 'c': 0, 'd': 0}\n",
      "{'a': 99, 'b': 0, 'c': 0, 'd': 0}\n"
     ]
    }
   ],
   "source": [
    "x = {\"a\" : 0,\"b\" : 0,\"c\" : 0,\"d\" : 0}\n",
    "y=x\n",
    "print(x is y)\n",
    "\n",
    "y['a']=99 \n",
    "#x and y refer to the same obj, \n",
    "#if we change one of them the will be the same\n",
    "\n",
    "print(x)\n",
    "print(y)"
   ]
  },
  {
   "cell_type": "markdown",
   "id": "4215071a",
   "metadata": {},
   "source": [
    "6.2 Copying using copy"
   ]
  },
  {
   "cell_type": "code",
   "execution_count": 4,
   "id": "823e0644",
   "metadata": {},
   "outputs": [
    {
     "name": "stdout",
     "output_type": "stream",
     "text": [
      "{'a': 0, 'b': 0, 'c': 0, 'd': 0}\n",
      "{'a': 0, 'b': 0, 'c': 0, 'd': 0}\n",
      "x is y : False\n",
      "x == y : True\n",
      "{'a': 99, 'b': 0, 'c': 0, 'd': 0}\n",
      "{'a': 0, 'b': 0, 'c': 0, 'd': 0}\n"
     ]
    }
   ],
   "source": [
    "x = {\"a\" : 0,\"b\" : 0,\"c\" : 0,\"d\" : 0}\n",
    "y=x.copy()\n",
    "\n",
    "print(x)\n",
    "print(y)\n",
    "print(\"x is y :\",x is y)# x is not the same obj to y \n",
    "print(\"x == y :\",x == y) # they are not the same obj but they have the same value\n",
    "\n",
    "y[\"a\"] = 99\n",
    "print(y) #by assigning y, the elements values of x and y also differ.\n",
    "print(x)"
   ]
  },
  {
   "cell_type": "markdown",
   "id": "faf70cad",
   "metadata": {},
   "source": [
    "6.3 Deep Copy"
   ]
  },
  {
   "cell_type": "code",
   "execution_count": 8,
   "id": "bda61660",
   "metadata": {},
   "outputs": [
    {
     "name": "stdout",
     "output_type": "stream",
     "text": [
      "Before copy\n",
      "{'a': {'python': '2.7'}, 'b': {'Python': '3.6'}}\n",
      "{'a': {'python': '2.7'}, 'b': {'Python': '3.6'}}\n",
      "After copy\n",
      "{'a': {'python': '2.7.15'}, 'b': {'Python': '3.6'}}\n",
      "{'a': {'python': '2.7.15'}, 'b': {'Python': '3.6'}}\n"
     ]
    }
   ],
   "source": [
    "# It is not possible to make a complete copy of a nested dictionary \n",
    "#using the copy() \n",
    "\n",
    "x ={\"a\":{\"python\":\"2.7\"},\"b\":{\"Python\":'3.6'}}\n",
    "\n",
    "y=x.copy()\n",
    "\n",
    "print(\"Before copy\")\n",
    "print(x)\n",
    "print(y)\n",
    "\n",
    "y[\"a\"][\"python\"] = \"2.7.15\"\n",
    "#if we change an element of y, it will be reflected in both x and y.\n",
    "#This demonstrates that the copy of a nested dic with copy() is not possible\n",
    "print(\"After copy\")\n",
    "print(x)\n",
    "print(y)"
   ]
  },
  {
   "cell_type": "code",
   "execution_count": 9,
   "id": "75c7e9b2",
   "metadata": {},
   "outputs": [
    {
     "name": "stdout",
     "output_type": "stream",
     "text": [
      "Before copy\n",
      "{'a': {'python': '2.7'}, 'b': {'Python': '3.6'}}\n",
      "{'a': {'python': '2.7'}, 'b': {'Python': '3.6'}}\n",
      "After copy\n",
      "{'a': {'python': '2.7'}, 'b': {'Python': '3.6'}}\n",
      "{'a': {'python': '2.7.15'}, 'b': {'Python': '3.6'}}\n"
     ]
    }
   ],
   "source": [
    "from copy import deepcopy\n",
    "x ={\"a\":{\"python\":\"2.7\"},\"b\":{\"Python\":'3.6'}}\n",
    "y=deepcopy(x)\n",
    "\n",
    "print(\"Before copy\")\n",
    "print(x)\n",
    "print(y)\n",
    "\n",
    "#to make a complete copy of a nested dic,we need to use the deepcopy() function\n",
    "#from the copy module instead of the copy() method\n",
    "y[\"a\"][\"python\"] = \"2.7.15\"\n",
    "\n",
    "print(\"After copy\")\n",
    "print(x)\n",
    "print(y)\n",
    "\n",
    "# Deep copy means that it creates a separate copy of the data in a \n",
    "#separate memory location, rather than just sharing the memory address of the data"
   ]
  },
  {
   "cell_type": "markdown",
   "id": "1696200c",
   "metadata": {},
   "source": [
    "7. json Data and Dictionary"
   ]
  },
  {
   "cell_type": "markdown",
   "id": "2979868a",
   "metadata": {},
   "source": [
    "7.1 Web service standard Document\n",
    ". The standard document for web services that we commonly use in the format of HTML\n",
    "\n",
    "* This HTML format is a subset of a document forat called XML\n",
    "* XML(eXtensible Markup Language) is a file format that aims to         represent structured data through text-based documents"
   ]
  },
  {
   "cell_type": "markdown",
   "id": "91e8e053",
   "metadata": {},
   "source": [
    "7.2 json Format\n",
    "\n",
    ". json format is a prominent text format\n",
    ". json is a text format that allows for the efficient readingand         writing of data, faster than XML\n",
    "\n",
    "* JSON was developed to transmit data objects consisting of key-value   pairs.\n",
    "* This data is an open standard format that uses human-readable text     and serves as a major data format for communication between browsers   and servers.\n",
    "* It is particulary useful for representing data when exchanging         information over the internet.\n",
    "\n",
    "* JSON (JavaScript Object Notation)\n",
    "* There are no significant restrictions on the type of data it can       representing variable values in computer programs.\n",
    "* It was originally derived from the JavaScript language, following     its syntax format, but it is a language-independent data format."
   ]
  },
  {
   "cell_type": "markdown",
   "id": "adee724c",
   "metadata": {},
   "source": [
    "7.4 Converting json Data to a Dictionary"
   ]
  },
  {
   "cell_type": "code",
   "execution_count": 13,
   "id": "74aab612",
   "metadata": {},
   "outputs": [
    {
     "name": "stdout",
     "output_type": "stream",
     "text": [
      "<class 'dict'>\n",
      "David Doe\n",
      "{'father': 'John Doe', 'mother': 'Marry Doe'}\n",
      "True\n"
     ]
    }
   ],
   "source": [
    "import json\n",
    "\n",
    "data = '{\"Name\" : \"David Doe\",\"Age\" : 25,\"Hobby\": [\"basketball\"],\\\n",
    "\"Family\" : {\"father\" : \"John Doe\" , \"mother\" : \"Marry Doe\"},\"Married\" : true}'\n",
    "\n",
    "json_data = json.loads(data)\n",
    "\n",
    "print(type(json_data))\n",
    "print(json_data['Name'])\n",
    "print(json_data['Family'])\n",
    "print(json_data['Married'])\n"
   ]
  },
  {
   "cell_type": "code",
   "execution_count": 12,
   "id": "8dfae128",
   "metadata": {},
   "outputs": [
    {
     "name": "stdout",
     "output_type": "stream",
     "text": [
      "<class 'dict'>\n",
      "The Old man and The Sea\n",
      "12345\n",
      "Ernest Hemingway\n"
     ]
    }
   ],
   "source": [
    "import json\n",
    "\n",
    "data = '{\"title\" : \"The Old man and The Sea\", \"ISBN\" : \"12345\", \"Author\" : \"Ernest Hemingway\"}'\n",
    "json_data = json.loads(data)\n",
    "\n",
    "print(type(json_data))\n",
    "print(json_data['title'])\n",
    "print(json_data['ISBN'])\n",
    "print(json_data['Author'])"
   ]
  },
  {
   "cell_type": "markdown",
   "id": "e9bc2275",
   "metadata": {},
   "source": [
    "7.5 Openning a json file\n",
    "\n",
    "* When performing file handling operations in python, it is a advisble   to always perform exception checks as opening the file may fail.\n",
    "* Also, after opening the file and performing the given task, the file   should be closed.\n",
    "* Such file handling operations can be conveniently done using the       'with' statement."
   ]
  },
  {
   "cell_type": "markdown",
   "id": "14c926e7",
   "metadata": {},
   "source": [
    "7.6 Converting a Dictionary to json"
   ]
  },
  {
   "cell_type": "code",
   "execution_count": 14,
   "id": "663c7264",
   "metadata": {},
   "outputs": [],
   "source": [
    "import json \n",
    "data = '{\"title\" : \"The Old man and The Sea\", \"ISBN\" : \"12345\", \"Author\" : \"Ernest Hemingway\"}'\n",
    "json_data = json.loads(data)\n",
    "\n",
    "with open('data/book.json','w') as f:\n",
    "    json.dump(json_data,f,indent = '\\t') # dump use to write dic as a json format file\n",
    "\n"
   ]
  },
  {
   "cell_type": "markdown",
   "id": "eb67e29b",
   "metadata": {},
   "source": [
    "8.1 Difference between defaultdict and dictionary\n",
    "\n",
    "* if you access a dictionary with a key that doesn't exist, an error     occurs.\n",
    "* How can we prevent such errors? we can use the defaultdict data type"
   ]
  },
  {
   "cell_type": "markdown",
   "id": "d9038cba",
   "metadata": {},
   "source": [
    "8.2 How to use defaultdict Data Type"
   ]
  },
  {
   "cell_type": "code",
   "execution_count": 19,
   "id": "5fad3dba",
   "metadata": {},
   "outputs": [
    {
     "name": "stdout",
     "output_type": "stream",
     "text": [
      "0\n"
     ]
    }
   ],
   "source": [
    "from collections import defaultdict\n",
    "\n",
    "keys= (\"a\",\"b\",\"c\",\"d\")\n",
    "y = dict.fromkeys(keys,100)\n",
    "y = defaultdict(int) # int print 0 because int() return 0\n",
    "\n",
    "# print(int()) \n",
    "print(y['z'])"
   ]
  },
  {
   "cell_type": "code",
   "execution_count": 23,
   "id": "63d55a6c",
   "metadata": {},
   "outputs": [
    {
     "name": "stdout",
     "output_type": "stream",
     "text": [
      "defaultdict(<class 'int'>, {'a': 4, 'b': 3, 'c': 2})\n"
     ]
    }
   ],
   "source": [
    "from collections import defaultdict\n",
    "\n",
    "word = \"abcbaabca\"\n",
    "counter = defaultdict(int)\n",
    "for letter in word:\n",
    "    counter[letter] +=1\n",
    "    \n",
    "print(counter)"
   ]
  },
  {
   "cell_type": "code",
   "execution_count": 25,
   "id": "9a423f8e",
   "metadata": {},
   "outputs": [
    {
     "name": "stdout",
     "output_type": "stream",
     "text": [
      "defaultdict(<class 'list'>, {})\n",
      "[]\n"
     ]
    }
   ],
   "source": [
    "list_dict = defaultdict(list)\n",
    "print(list_dict)\n",
    "print(list_dict[\"list1\"])"
   ]
  },
  {
   "cell_type": "markdown",
   "id": "c726278c",
   "metadata": {},
   "source": [
    "14.3 Paper Coding"
   ]
  },
  {
   "cell_type": "code",
   "execution_count": 26,
   "id": "806e1e73",
   "metadata": {},
   "outputs": [
    {
     "name": "stdout",
     "output_type": "stream",
     "text": [
      "last Name : Doe\n",
      "First Name : David\n",
      "Company : Samsung\n"
     ]
    }
   ],
   "source": [
    "#Q1\n",
    "dic = {\"last Name\" : \"Doe\",\"First Name\" : \"David\",\"Company\" : \"Samsung\"}\n",
    "\n",
    "for key,value in dic.items():\n",
    "    print(key,\":\",value)"
   ]
  },
  {
   "cell_type": "code",
   "execution_count": 3,
   "id": "45701b90",
   "metadata": {},
   "outputs": [
    {
     "name": "stdout",
     "output_type": "stream",
     "text": [
      "Enter the of object : Milk\n",
      "1\n"
     ]
    }
   ],
   "source": [
    "#Q2\n",
    "storage = {\"Coffee drink\" : 7,\"Pen\" : 3,\"Paper cup\" : 2,\"Milk\" : 1,\"Coke\" : 4,\"Book\" : 5}\n",
    "\n",
    "check=input(\"Enter the of object : \")\n",
    "print(storage.get(check))"
   ]
  },
  {
   "cell_type": "code",
   "execution_count": 3,
   "id": "00606e69",
   "metadata": {},
   "outputs": [
    {
     "name": "stdout",
     "output_type": "stream",
     "text": [
      "('211101', ['David Doe', '010-1234-450'])\n",
      "('211102', ['Jonh Smith', '010-2230-6540'])\n",
      "('211103', ['Jane Carter', '010-3232-7788'])\n"
     ]
    }
   ],
   "source": [
    "#Q3\n",
    "\n",
    "student_tup = (\n",
    "    (\"211101\",\"David Doe\",\"010-1234-4500\"),\n",
    "    (\"211102\",\"John Smith\",\"010-2230-6540\"),\n",
    "    (\"211102\",\"Jane Carter\",\"010-3232-7788\"))\n",
    "\n",
    "\n",
    "s={}\n",
    "\n",
    "s.update([[\"211101\",[\"David Doe\",\"010-1234-450\"]],\n",
    "          [\"211102\",[\"Jonh Smith\",\"010-2230-6540\"]],\n",
    "          [\"211103\",[\"Jane Carter\",\"010-3232-7788\"]]\n",
    "         ])\n",
    "\n",
    "\n",
    "for i in s.items():\n",
    "    print(i)"
   ]
  },
  {
   "cell_type": "code",
   "execution_count": 6,
   "id": "3e77e3a9",
   "metadata": {},
   "outputs": [
    {
     "ename": "SyntaxError",
     "evalue": "incomplete input (3537296505.py, line 20)",
     "output_type": "error",
     "traceback": [
      "\u001b[0;36m  Cell \u001b[0;32mIn[6], line 20\u001b[0;36m\u001b[0m\n\u001b[0;31m    print(s)\u001b[0m\n\u001b[0m            ^\u001b[0m\n\u001b[0;31mSyntaxError\u001b[0m\u001b[0;31m:\u001b[0m incomplete input\n"
     ]
    }
   ],
   "source": [
    "# student_tup = (\n",
    "#     (\"211101\",\"David Doe\",\"010-1234-4500\"),\n",
    "#     (\"211102\",\"John Smith\",\"010-2230-6540\"),\n",
    "#     (\"211102\",\"Jane Carter\",\"010-3232-7788\"))\n",
    "\n",
    "\n",
    "s={\"211101\":[\"David Doe\",\"010-1234-450\"],\n",
    "   \"211102\":[\"David Doe\",\"010-1234-450\"],\n",
    "   \n",
    "\n",
    "\n",
    "# [\"211101\":[\"David Doe\",\"010-1234-450\"]],\n",
    "#     [\"211102\":[\"Jonh Smith\",\"010-2230-6540\"]],\n",
    "#     [\"211103\":[\"Jane Carter\",\"010-3232-7788\"]]\n",
    "# s.update([[\"211101\",[\"David Doe\",\"010-1234-450\"]],\n",
    "#           [\"211102\",[\"Jonh Smith\",\"010-2230-6540\"]],\n",
    "#           [\"211103\",[\"Jane Carter\",\"010-3232-7788\"]]\n",
    "#          ])\n",
    "    \n",
    "print(s)"
   ]
  },
  {
   "cell_type": "code",
   "execution_count": 2,
   "id": "cf4ce581",
   "metadata": {},
   "outputs": [
    {
     "name": "stdout",
     "output_type": "stream",
     "text": [
      "Enter your student number : 2111101\n",
      "None\n",
      "None\n",
      "None\n"
     ]
    }
   ],
   "source": [
    "s={\"211101\":[\"David Doe\",\"010-1234-450\"],\n",
    "   \"211102\":[\"David Doe\",\"010-1234-450\"],\n",
    "   \"211103\":[\"Jane Carter\",\"010-3232-7788\"]\n",
    "  }\n",
    "\n",
    "stu_id = input(\"Enter your student number : \")\n",
    "for i in s.items():\n",
    "    print(s.get(stu_id))"
   ]
  },
  {
   "cell_type": "markdown",
   "id": "ea3cb8cb",
   "metadata": {},
   "source": [
    "Let's Code"
   ]
  },
  {
   "cell_type": "code",
   "execution_count": 57,
   "id": "6fee06f8",
   "metadata": {},
   "outputs": [
    {
     "name": "stdout",
     "output_type": "stream",
     "text": [
      "Phone number before update\n",
      "Chinese Restaurant  : 010-1234-4500\n",
      "Japanese Restaurant  : 010-2230-6540\n",
      "Western Restaurant  : 010-3232-7788\n",
      "Enter the address and review of Chinese Restaurant : GangnamSeoul Normal\n",
      "Enter the address and review of Japanese Restaurant : Gang-dongSeoul Good\n",
      "Enter the address and review of Western Restaurant : GangbukSeoul VeryDelicous\n",
      "Phone number after update\n",
      "Chinese Restaurant  : ('010-1234-4500', 'GangnamSeoul', 'Normal')\n",
      "Japanese Restaurant  : ('010-2230-6540', 'Gang-dongSeoul', 'Good')\n",
      "Western Restaurant  : ('010-3232-7788', 'GangbukSeoul', 'VeryDelicous')\n"
     ]
    }
   ],
   "source": [
    "phone_book = {\"Chinese Restaurant\" :(\"010-1234-4500\"),\n",
    "              \"Japanese Restaurant\" : (\"010-2230-6540\"),\n",
    "              \"Western Restaurant\" : (\"010-3232-7788\")\n",
    "             }\n",
    "\n",
    "print(\"Phone number before update\")\n",
    "for key,value in phone_book.items():\n",
    "    print(key,\" :\",value)\n",
    "\n",
    "for key,value in phone_book.items():\n",
    "    address,review = input(f\"Enter the address and review of {key} : \").split()\n",
    "    update = (value,address,review)\n",
    "    phone_book[key] = update\n",
    "\n",
    "print(\"Phone number after update\")\n",
    "for key,value in phone_book.items():\n",
    "    print(key,\" :\",value)\n",
    "    \n"
   ]
  },
  {
   "cell_type": "markdown",
   "id": "3c8caeba",
   "metadata": {},
   "source": [
    "Pair Programming"
   ]
  },
  {
   "cell_type": "code",
   "execution_count": 86,
   "id": "3c185520",
   "metadata": {},
   "outputs": [
    {
     "name": "stdout",
     "output_type": "stream",
     "text": [
      "1) Inventory Inquiry\n",
      "2) Incoming stock\n",
      "3) Outing Stock\n",
      "4) Quit\n",
      "==============================\n",
      "Select a Menu : 2\n",
      "[Incoming Stock] Enter the name and the quantity of product : Coffeedrink 2\n",
      "Select a Menu : 1\n",
      "[Inventory inquiry] Enter the name of the product : Coffeedrink\n",
      "Inventory : 9\n",
      "Select a Menu : 3\n",
      "[Outing Stock] Enter the name and the quantity of product : Coffeedrink 5\n",
      "Select a Menu : 1\n",
      "[Inventory inquiry] Enter the name of the product : Coffeedrink\n",
      "Inventory : 4\n",
      "Select a Menu : 1\n",
      "[Inventory inquiry] Enter the name of the product : Book\n",
      "Inventory : 5\n",
      "Select a Menu : 2\n",
      "[Incoming Stock] Enter the name and the quantity of product : Book 10\n",
      "Select a Menu : 1\n",
      "[Inventory inquiry] Enter the name of the product : Book\n",
      "Inventory : 15\n",
      "Select a Menu : 3\n",
      "[Outing Stock] Enter the name and the quantity of product : Book 5\n",
      "Select a Menu : 1\n",
      "[Inventory inquiry] Enter the name of the product : Book\n",
      "Inventory : 10\n",
      "Select a Menu : 4\n"
     ]
    }
   ],
   "source": [
    "storage = {\"Coffeedrink\" : 7,\"Pen\" : 3,\"Paper cup\" : 2,\"Milk\" : 1,\"Coke\" : 4,\"Book\" : 5}\n",
    "\n",
    "print(\"1) Inventory Inquiry\")\n",
    "print(\"2) Incoming stock\")\n",
    "print(\"3) Outing Stock\")\n",
    "print(\"4) Quit\")\n",
    "print(\"=\"*30)\n",
    "\n",
    "while True:\n",
    "   \n",
    "    choice = int(input(\"Select a Menu : \"))\n",
    "    \n",
    "    if choice == 1:\n",
    "        check=input(\"[Inventory inquiry] Enter the name of the product : \")\n",
    "        print(\"Inventory :\",storage.get(check))\n",
    "    elif choice == 2:\n",
    "        p_name,p_quantity=input(\"[Incoming Stock] Enter the name and the quantity of product : \").split()\n",
    "        stock=storage.get(p_name)\n",
    "        storage[p_name]= stock + int(p_quantity)\n",
    "    elif choice == 3:\n",
    "        p_name,p_quantity=input(\"[Outing Stock] Enter the name and the quantity of product : \").split()\n",
    "        stock=storage.get(p_name)\n",
    "        storage[p_name]= stock - int(p_quantity)\n",
    "    else:\n",
    "        print(\"Thank You for using Our system !!!\")\n",
    "        break\n"
   ]
  },
  {
   "cell_type": "code",
   "execution_count": 1,
   "id": "d97c2bc4",
   "metadata": {},
   "outputs": [
    {
     "name": "stdout",
     "output_type": "stream",
     "text": [
      "211101 : David Doe\n",
      "211102 : Jonh Smith\n",
      "211103 : Jane Carter\n",
      "Enter the student number : 211101\n",
      "211103 student is David Doe and the phone number is 010-123-1111\n"
     ]
    }
   ],
   "source": [
    "student = [(\"211101\",\"David Doe\",\"010-123-1111\"),\n",
    "           (\"211102\",\"Jonh Smith\",\"010-123-2222\"),\n",
    "           (\"211103\",\"Jane Carter\",\"0100123-3333\")\n",
    "          ]\n",
    "dic ={}\n",
    "\n",
    "for i,j,k in student :\n",
    "    print(i,\":\",j)\n",
    "#     update = (j,k)\n",
    "    dic[i] = (j,k)\n",
    "    \n",
    "search =input(\"Enter the student number : \")\n",
    "\n",
    "for  num,info in dic.items():\n",
    "        if num == search : \n",
    "            print(i,\"student is\",info[0],\"and the phone number is\",info[1])\n"
   ]
  },
  {
   "cell_type": "code",
   "execution_count": null,
   "id": "1db419cb",
   "metadata": {},
   "outputs": [],
   "source": [
    "str1 = [\"a\",\"b\",\"c\",\"b\",\"a\",\"b\",\"c\"]\n",
    "dic = {}\n",
    "\n",
    "for ch in str1:\n",
    "    dic.setdefault(ch,0) #this is work only when the str1 is not yet a dic key\n",
    "    dic[ch] +=1\n",
    "    print(list(dic.items()))\n",
    "\n",
    "print()\n",
    "print(\"alphabet counting :\",dic)"
   ]
  },
  {
   "cell_type": "code",
   "execution_count": null,
   "id": "7448a492",
   "metadata": {},
   "outputs": [],
   "source": []
  },
  {
   "cell_type": "code",
   "execution_count": null,
   "id": "948a7949",
   "metadata": {},
   "outputs": [],
   "source": []
  }
 ],
 "metadata": {
  "kernelspec": {
   "display_name": "Python 3 (ipykernel)",
   "language": "python",
   "name": "python3"
  },
  "language_info": {
   "codemirror_mode": {
    "name": "ipython",
    "version": 3
   },
   "file_extension": ".py",
   "mimetype": "text/x-python",
   "name": "python",
   "nbconvert_exporter": "python",
   "pygments_lexer": "ipython3",
   "version": "3.10.9"
  }
 },
 "nbformat": 4,
 "nbformat_minor": 5
}
