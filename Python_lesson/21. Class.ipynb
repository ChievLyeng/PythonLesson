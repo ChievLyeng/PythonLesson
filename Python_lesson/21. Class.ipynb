{
 "cells": [
  {
   "cell_type": "markdown",
   "id": "5e83f215",
   "metadata": {},
   "source": [
    "# 1. Programming and Objects"
   ]
  },
  {
   "cell_type": "markdown",
   "id": "9ab58382",
   "metadata": {},
   "source": [
    "## 1.1 Classes,Instances,Objects"
   ]
  },
  {
   "cell_type": "code",
   "execution_count": 1,
   "id": "f216c5d6",
   "metadata": {},
   "outputs": [
    {
     "name": "stdout",
     "output_type": "stream",
     "text": [
      "300\n"
     ]
    }
   ],
   "source": [
    "n = (100).__add__(200)\n",
    "\n",
    "print(n)"
   ]
  },
  {
   "cell_type": "markdown",
   "id": "daaabd4b",
   "metadata": {},
   "source": [
    "* In other words, the integer object 100 uses the '__add__' method to add the object 200.\n",
    "* This object is then accessed through the variable n.\n",
    "* In this aspect, the addition(+) operator is essentially the same as the method invocation code 'animals.append('rabbit')' and its execution process."
   ]
  },
  {
   "cell_type": "markdown",
   "id": "2997a37d",
   "metadata": {},
   "source": [
    "* Class \n",
    "    - It is an abstract concept that represents a collection of attributes and behaviors used in a program.\n",
    "    - It serves as a design or template, a blueprint for objects.\n",
    "\n",
    "* Instance\n",
    "    - It is individual object created from a class.\n",
    "    - Different instances can have different specific attribute values."
   ]
  },
  {
   "cell_type": "markdown",
   "id": "3ff273ae",
   "metadata": {},
   "source": [
    "#### Summary\n",
    "\n",
    "* All data types in Python have objects\n",
    "* Objects are created from classes.\n",
    "* Instances are created from classes.\n",
    "* Python classes are objects.\n",
    "* 'nabi' is an object.\n",
    "* The instance of the 'Cat' class is 'nabi'.\n",
    "* 100 is a object of the int data type."
   ]
  },
  {
   "cell_type": "markdown",
   "id": "65a0c492",
   "metadata": {},
   "source": [
    "## 1.2 Comparison of Procedural Programming and Object-Oriented Programming"
   ]
  },
  {
   "cell_type": "markdown",
   "id": "0c07a1ec",
   "metadata": {},
   "source": [
    "* Object-Oriented Programming(oop)\n",
    "    * Expresses computer tasks as interactions between objects.\n",
    "    * Technique of modeling programs closely to the real world.\n",
    "    * Concept of developing software using the collection of classes or objects.\n",
    "    * Adopted in many programming languages such as Java,Python,C++,C#,Swift.\n",
    "    \n",
    "* Procedural Programming Language\n",
    "    * Involves creating functions or modules and calling them in the order of problem-solving steps.\n",
    "    * Used in classical programming languages like C, Fortran,Basic.\n",
    "    * In case where there are various graphical elements like GUI (graphic user interface) systems, it is difficult to solve problems effectively."
   ]
  },
  {
   "cell_type": "markdown",
   "id": "753a0259",
   "metadata": {},
   "source": [
    "## 2.1 Defining a Class"
   ]
  },
  {
   "cell_type": "markdown",
   "id": "c588610e",
   "metadata": {},
   "source": [
    "* A class is defined using the \"class\" keyword, a colon (:), and indentation.\n",
    "* After the \"class\" keyword, the name of the class is written."
   ]
  },
  {
   "cell_type": "code",
   "execution_count": null,
   "id": "7a65042d",
   "metadata": {},
   "outputs": [],
   "source": [
    "class Cat : \n",
    "    pass\n",
    "\n",
    "nabi = Cat()\n",
    "print(nabi)"
   ]
  },
  {
   "cell_type": "code",
   "execution_count": null,
   "id": "8822ddab",
   "metadata": {},
   "outputs": [],
   "source": [
    "class Cat : \n",
    "    def __init__(self,name,color) :\n",
    "        self.name = name \n",
    "        self.color = color\n",
    "        \n",
    "    def meow(self) :\n",
    "        pass\n",
    "    def run(self) :\n",
    "        pass\n",
    "    def walk(self) :\n",
    "        pass\n",
    "    \n",
    "nabi = Cat('Nabi','Black')\n",
    "nero = Cat(\"Nero\",\"White\")"
   ]
  },
  {
   "cell_type": "markdown",
   "id": "d4e23c85",
   "metadata": {},
   "source": [
    "* Constructor '__init__\"\n",
    "    * A method that assigned default values to the instance's internal variables when an object is created.\n",
    "    * It has the name '__init__'.\n",
    "    * Automatically executed when an object is created.\n",
    "    \n",
    "* The first parameter 'self' in the constructor '__init__' refers to the instance of the current class.\n",
    "* The second parameter 'name' and the third parameter 'color' are variables used to assign the names and colors corresponding to the attributes of the instance.\n",
    "* The 'instance variable','member variable', or 'field' refers to variables that store attributes specific to each instance.\n",
    "* In the 'Cat' class, 'name' and 'color' variables represent instance variables."
   ]
  },
  {
   "cell_type": "markdown",
   "id": "bde62f6f",
   "metadata": {},
   "source": [
    "#### Python's naming conventios for class names are as follows.\n",
    "\n",
    "* The first letter of function, object, and variable names is lowercase.\n",
    "* The first letter of class name is uppercase.\n",
    "* When using multiple words in a name, capitalize the first letter of the second word,\n",
    "* When defining protected attributes within a class or object, start the name with an underscore(_) .( Protected attributes are meant to be acessed indirectly by external classes and objects.)\n",
    "* If you want to use a variable name that is the same as a reserved word, add an underscore after the reserved word.\n",
    "* Private attributes of a class or object have a name that is changed to make it difficult to access directly from outside.\n",
    "    * This is achiecved by adding a double underscore(_) before the name, which automatically converts it to '_classname_name', making it harder to call directly by its original name.\n",
    "* Special attributes or dunder methods used internally by Python have a double underscore(_) before and after the name, such ad '__init__' for the constructor."
   ]
  },
  {
   "cell_type": "code",
   "execution_count": 8,
   "id": "1eae1361",
   "metadata": {},
   "outputs": [
    {
     "name": "stdout",
     "output_type": "stream",
     "text": [
      "My name is Nabi, color is Black, meow, meow~~\n",
      "My name is Nero, color is White, meow, meow~~\n",
      "My name is Mimi, color is Brown, meow, meow~~\n"
     ]
    }
   ],
   "source": [
    "class Cat : \n",
    "    def __init__(self,name,color) :\n",
    "        self.name = name \n",
    "        self.color = color\n",
    "        \n",
    "    def meow(self) :\n",
    "        print(\"My name is {}, color is {}, meow, meow~~\".format(self.name,self.color))\n",
    "\n",
    "    \n",
    "nabi = Cat('Nabi','Black')\n",
    "nero = Cat(\"Nero\",\"White\")\n",
    "mimi = Cat(\"Mimi\",\"Brown\")\n",
    "\n",
    "nabi.meow()\n",
    "nero.meow()\n",
    "mimi.meow()"
   ]
  },
  {
   "cell_type": "markdown",
   "id": "53e4db8e",
   "metadata": {},
   "source": [
    "* The method of an instance is called using the dot(.) operator. For example, the instance 'nabi' can use the method 'meow' of the 'Cat' class.\n",
    "* A funciton inside a class called method\n",
    "* To create an object of the class call a class name like function.\n",
    "* class method can be called by instances ('nabi','nero','mimi')"
   ]
  },
  {
   "cell_type": "markdown",
   "id": "c85bb581",
   "metadata": {},
   "source": [
    "# 3. Instance variables and class variables"
   ]
  },
  {
   "cell_type": "markdown",
   "id": "e2eab4a4",
   "metadata": {},
   "source": [
    "## 3.1 What are instance variables ?"
   ]
  },
  {
   "cell_type": "markdown",
   "id": "6f9ef8bf",
   "metadata": {},
   "source": [
    "* In python, both class variables and instance variables are used as attributes of a class or object.\n",
    "* However, their usages and scope are different."
   ]
  },
  {
   "cell_type": "code",
   "execution_count": 10,
   "id": "27f1fa92",
   "metadata": {},
   "outputs": [
    {
     "name": "stdout",
     "output_type": "stream",
     "text": [
      "Area of c1 : 50.24\n",
      "Area of c2 : 113.04\n",
      "Area of c3 : 78.5\n"
     ]
    }
   ],
   "source": [
    "class Circle :\n",
    "    def __init__(self,name,radius,PI) :\n",
    "        self.__name = name     # instance variable\n",
    "        self.__radius = radius # instance variable\n",
    "        self.__PI = PI\n",
    "        \n",
    "    def area(self) :\n",
    "        return self.__PI * self.__radius ** 2\n",
    "    \n",
    "c1 = Circle(\"C1\",4,3.14)\n",
    "print(\"Area of c1 :\",c1.area())\n",
    "c2 = Circle(\"C2\",6,3.14)\n",
    "print(\"Area of c2 :\",c2.area())\n",
    "c3 = Circle(\"C3\",5,3.14)\n",
    "print(\"Area of c3 :\",c3.area())"
   ]
  },
  {
   "cell_type": "markdown",
   "id": "6130dd3e",
   "metadata": {},
   "source": [
    "* '__name','__radius','__PI' can have different values for each individual instance. These variables are called instance variables.\n",
    "* The reason for having a double underscore before the variable name is to make it difficult to access this instance from outside."
   ]
  },
  {
   "cell_type": "markdown",
   "id": "03456dbd",
   "metadata": {},
   "source": [
    "## 3.2 What are class variables ?"
   ]
  },
  {
   "cell_type": "markdown",
   "id": "60eaba16",
   "metadata": {},
   "source": [
    "* Among the instance variables, there may be common  attributes that the class should share.\n",
    "* In the example code we will examine, the attribute representing the mathematical constant PI is designed to be shared by all individual instances.\n",
    "* If all individual instances share this attribute, it reduces data duplication and makes it easier to identify the cause of errors."
   ]
  },
  {
   "cell_type": "markdown",
   "id": "85ddca48",
   "metadata": {},
   "source": [
    "* The class variable 'PI' in 'Circle' is a variable shared by instances of this class, while the class attributes '__name' and '__raidus' are instance variables that each instance has."
   ]
  },
  {
   "cell_type": "code",
   "execution_count": 11,
   "id": "9fbe94b6",
   "metadata": {},
   "outputs": [
    {
     "name": "stdout",
     "output_type": "stream",
     "text": [
      "Area of c1 : 50.264\n",
      "Area of c2 : 113.09400000000001\n",
      "Area of c3 : 78.53750000000001\n"
     ]
    }
   ],
   "source": [
    "class Circle :\n",
    "    PI = 3.1415 # class variable\n",
    "    def __init__(self,name,radius) :\n",
    "        self.__name = name\n",
    "        self.__radius = radius\n",
    "        \n",
    "    def area(self) :\n",
    "        return Circle.PI * self.__radius ** 2\n",
    "    \n",
    "c1 = Circle(\"C1\",4,)\n",
    "print(\"Area of c1 :\",c1.area())\n",
    "c2 = Circle(\"C2\",6)\n",
    "print(\"Area of c2 :\",c2.area())\n",
    "c3 = Circle(\"C3\",5)\n",
    "print(\"Area of c3 :\",c3.area())"
   ]
  },
  {
   "cell_type": "markdown",
   "id": "7f512cab",
   "metadata": {},
   "source": [
    "# 4 Dunder Method"
   ]
  },
  {
   "cell_type": "markdown",
   "id": "53e35028",
   "metadata": {},
   "source": [
    "## 4.1 The Importance of Dunder Methods"
   ]
  },
  {
   "cell_type": "code",
   "execution_count": 18,
   "id": "19907f57",
   "metadata": {},
   "outputs": [
    {
     "name": "stdout",
     "output_type": "stream",
     "text": [
      "v1.add(v2) = (40, 60)\n"
     ]
    }
   ],
   "source": [
    "class Vector2D :\n",
    "    def __init__(self,x,y) :\n",
    "        self.x = x\n",
    "        self.y = y\n",
    "    def __str__(self) : \n",
    "        return \"({}, {})\".format(self.x,self.y)\n",
    "    def add(self,other) :\n",
    "        return Vector2D(self.x + other.x,self.y + other.y)\n",
    "    \n",
    "v1 = Vector2D(30,40) \n",
    "v2 = Vector2D(10,20)\n",
    "v3 = v1.add(v2)\n",
    "print('v1.add(v2) =',v3)"
   ]
  },
  {
   "cell_type": "markdown",
   "id": "6794a876",
   "metadata": {},
   "source": [
    "## 4.2 What are Dunder Methods ?"
   ]
  },
  {
   "cell_type": "markdown",
   "id": "828ab45c",
   "metadata": {},
   "source": [
    "* The 'dunder method' or the 'magic method', is a method that serves specific designated purposes in Python classes .\n",
    "* Dunder methods have a double underscore before and after the method name. \n",
    "* They are primarily used when redefining operators or functions, which are already defined and used in Python, within the class."
   ]
  },
  {
   "cell_type": "markdown",
   "id": "efc4d7a3",
   "metadata": {},
   "source": [
    "## 4.3 The __str__Method"
   ]
  },
  {
   "cell_type": "code",
   "execution_count": 14,
   "id": "92aca7da",
   "metadata": {},
   "outputs": [
    {
     "name": "stdout",
     "output_type": "stream",
     "text": [
      "v1.add(v2) = <__main__.Vector2D object at 0x109b7dfc0>\n"
     ]
    }
   ],
   "source": [
    "# The desired value is not printed as follows when removed __str__ method\n",
    "\n",
    "class Vector2D :\n",
    "    def __init__(self,x,y) :\n",
    "        self.x = x\n",
    "        self.y = y\n",
    "    def add(self,other) :\n",
    "        return Vector2D(self.x + other.x,self.y + other.y)\n",
    "    \n",
    "v1 = Vector2D(30,40) \n",
    "v2 = Vector2D(10,20)\n",
    "v3 = v1.add(v2)\n",
    "print('v1.add(v2) =',v3)"
   ]
  },
  {
   "cell_type": "markdown",
   "id": "6a113348",
   "metadata": {},
   "source": [
    "### __str__method\n",
    "* The '__str__' method is a method that provieds information about an object in the form of a string.\n",
    "* It is automatically called by the 'print' function.\n",
    "* It defines the string representation of an object and must return a string."
   ]
  },
  {
   "cell_type": "code",
   "execution_count": 21,
   "id": "584b7b34",
   "metadata": {},
   "outputs": [
    {
     "name": "stdout",
     "output_type": "stream",
     "text": [
      "v1 + v2 = (40, 60)\n",
      "v1.add(v2) = (40, 60)\n"
     ]
    }
   ],
   "source": [
    "class Vector2D :\n",
    "    def __init__(self,x,y) :\n",
    "        self.x = x\n",
    "        self.y = y\n",
    "    def __str__(self) : \n",
    "        return \"({}, {})\".format(self.x,self.y)\n",
    "    def __add__(self,other) :\n",
    "        return Vector2D(self.x + other.x, self.y + other.y)\n",
    "    def add(self,other) :\n",
    "        return Vector2D(self.x + other.x,self.y + other.y)\n",
    "    \n",
    "v1 = Vector2D(30,40) \n",
    "v2 = Vector2D(10,20)\n",
    "v3 = v1 + v2\n",
    "print('v1 + v2 =',v3)\n",
    "v3 = v1.add(v2)\n",
    "print('v1.add(v2) =',v3)"
   ]
  },
  {
   "cell_type": "code",
   "execution_count": 1,
   "id": "6a99051f",
   "metadata": {},
   "outputs": [
    {
     "name": "stdout",
     "output_type": "stream",
     "text": [
      "Cat(name =Nabi,color = Black)\n",
      "Cat(name =Nero,color = White)\n"
     ]
    }
   ],
   "source": [
    "class Cat :\n",
    "    def __init__(self,name,color) : # this method is called when 'Cat' instance is created to initialize the values.\n",
    "        self.name = name\n",
    "        self.color = color\n",
    "        \n",
    "    def __str__(self) :\n",
    "        return 'Cat(name =' + self.name + ',color = ' + self.color + ')' # Dunder method that defines the string representation of a 'Cat' object\n",
    "    \n",
    "nabi = Cat(\"Nabi\",\"Black\")\n",
    "nero = Cat(\"Nero\",\"White\")\n",
    "\n",
    "print(nabi)\n",
    "print(nero)"
   ]
  },
  {
   "cell_type": "markdown",
   "id": "8b37eab5",
   "metadata": {},
   "source": [
    "## 4.4 Operators and Dunder Methods"
   ]
  },
  {
   "cell_type": "code",
   "execution_count": null,
   "id": "2db57a8c",
   "metadata": {},
   "outputs": [],
   "source": [
    "class Vector2D :\n",
    "    def __init__(self,x,y) :\n",
    "        self.x = x\n",
    "        self.y = y\n",
    "    def __add__(self,other) :\n",
    "        return Vector2D(self.x + other.x, self.y + other.y)\n",
    "    def __sub__(self,other) :\n",
    "        return Vector2D(self.x - other.x, self.y - other.y) \n",
    "    def __mul__(self,other) :\n",
    "        return Vector2D(self.x * other.x, self.y * other.y)\n",
    "#     def __divide__(self,other) :\n",
    "#         return Vector2D(self.x % other.x, self.y % other.y)\n",
    "    def __pow__(self,other) :\n",
    "        return Vector2D(self.x ** other.x, self.y ** other.y)\n",
    "    def __str__(self) :\n",
    "        return \"({}, {})\".format(self.x,self.y)\n",
    "    \n",
    "v1 = Vector2D(30,40)\n",
    "v2 = Vector2D(10,20)\n",
    "v3 = v1 + v2\n",
    "print('v1 + v2 :',v3)\n",
    "v4 = v1 - v2\n",
    "print('v1 - v2 :',v4)\n",
    "v5 = v1 * v2\n",
    "print('v1 * v2 :',v5)\n",
    "# v6 = v1 % v2\n",
    "# print('v1 / v2 :',v6)\n",
    "\n",
    "v1 = Vector2D(3,4)\n",
    "v2 = Vector2D(2,2)\n",
    "v7 = v1 ** v2\n",
    "print('v1 ** v2 :',v7)\n"
   ]
  },
  {
   "cell_type": "markdown",
   "id": "0b696a1b",
   "metadata": {},
   "source": [
    "## 4.5 Built-in Functions and Dunder Methods"
   ]
  },
  {
   "cell_type": "markdown",
   "id": "007da8de",
   "metadata": {},
   "source": [
    "* In addition, Python has many built-in functions such ass len,float,int,str,abs,hash,and iter.\n",
    "* These built-in functions work by calling dunder methods such as __len__,__float__,....;\n",
    "* In other words, the 'len' built-in function works by calling the '__len__' dunder method.\n",
    "* The dunder method '__next__', which is a method of iterators, is called when the built-in function 'next()' is called.\n",
    "* When you use 'data type name. __next__, it works in the same way as calling the 'next' funciton, returning the iterable data type if it exists."
   ]
  },
  {
   "cell_type": "code",
   "execution_count": 21,
   "id": "29c416ef",
   "metadata": {},
   "outputs": [
    {
     "ename": "SyntaxError",
     "evalue": "invalid syntax. Perhaps you forgot a comma? (809774687.py, line 4)",
     "output_type": "error",
     "traceback": [
      "\u001b[1;36m  Cell \u001b[1;32mIn[21], line 4\u001b[1;36m\u001b[0m\n\u001b[1;33m    print(l_iter.__ next__())\u001b[0m\n\u001b[1;37m          ^\u001b[0m\n\u001b[1;31mSyntaxError\u001b[0m\u001b[1;31m:\u001b[0m invalid syntax. Perhaps you forgot a comma?\n"
     ]
    }
   ],
   "source": [
    "lst = [10,20,30]\n",
    "l_iter = iter(lst) \n",
    "print(next(l_iter))\n",
    "# print(l_iter.__ next__())"
   ]
  },
  {
   "cell_type": "markdown",
   "id": "dc2cd446",
   "metadata": {},
   "source": [
    "## 4.6 Using __dic__ to check attribute information of class objects"
   ]
  },
  {
   "cell_type": "code",
   "execution_count": 27,
   "id": "b5208359",
   "metadata": {},
   "outputs": [
    {
     "name": "stdout",
     "output_type": "stream",
     "text": [
      "Attributes of c1 : {'name': 'C1', 'radius': 4}\n",
      "Value of the 'name' variable in c1 : C1\n",
      "Value of the 'radius' variable in c1 : 4\n"
     ]
    }
   ],
   "source": [
    "class Circle :\n",
    "    PI = 3.1415 # class variable\n",
    "    def __init__(self,name,radius) :\n",
    "        self.name = name\n",
    "        self.radius = radius\n",
    "    \n",
    "c1 = Circle(\"C1\",4,)\n",
    "print('Attributes of c1 :',c1.__dict__)\n",
    "print(\"Value of the 'name' variable in c1 :\", c1.__dict__['name'])\n",
    "print(\"Value of the 'radius' variable in c1 :\", c1.__dict__['radius'])"
   ]
  },
  {
   "cell_type": "code",
   "execution_count": 32,
   "id": "a6761673",
   "metadata": {},
   "outputs": [
    {
     "name": "stdout",
     "output_type": "stream",
     "text": [
      "Attributes of c1 : {'_Circle__name': 'C1', '_Circle__radius': 4}\n",
      "Value of the 'name' variable in c1 : C1\n",
      "Value of the 'radius' variable in c1 : 4\n"
     ]
    }
   ],
   "source": [
    "class Circle :\n",
    "    PI = 3.1415 # class variable\n",
    "    def __init__(self,name,radius) :\n",
    "        self.__name = name\n",
    "        self.__radius = radius\n",
    "    \n",
    "c1 = Circle(\"C1\",4,)\n",
    "print('Attributes of c1 :',c1.__dict__)\n",
    "print(\"Value of the 'name' variable in c1 :\", c1.__dict__['_Circle__name'])\n",
    "print(\"Value of the 'radius' variable in c1 :\", c1.__dict__['_Circle__radius'])"
   ]
  },
  {
   "cell_type": "markdown",
   "id": "6a9a94ad",
   "metadata": {},
   "source": [
    "* As mentioned in the naming convention, when a __(double underscore) is added to the front of the name, it is automatically converted to '_classname__name', making it difficult to call directly with the original name from the outside.\n",
    "* The '__name' variable can be accessed using '_Circle__name' as the key.\n",
    "* The '__radius' variable can be accessed using '_Circle__radius' as the key."
   ]
  },
  {
   "cell_type": "markdown",
   "id": "84f5be7b",
   "metadata": {},
   "source": [
    "# 5. Class Design and Encapsulation"
   ]
  },
  {
   "cell_type": "markdown",
   "id": "7b89b6b6",
   "metadata": {},
   "source": [
    "## 5.1 What is Encapsulation"
   ]
  },
  {
   "cell_type": "markdown",
   "id": "674aff2c",
   "metadata": {},
   "source": [
    "* Encapsulation\n",
    "    * A method of reducing errors when accessing the attributes of a class from the outside.\n",
    "    * It involves specifying functions that restrict external modifiacation of the class's attributes.\n",
    "* The concept of encapsulation.\n",
    "    * It refers to the functionality of wrapping and restricting access to a class's methods and vairables from the outside.\n",
    "    * It restricts the manipulation of methods and variables from outside.\n",
    "    * It protects the data.\n",
    "    * It has the effect of preventing accidental changes in values."
   ]
  },
  {
   "cell_type": "markdown",
   "id": "12372681",
   "metadata": {},
   "source": [
    "## 5.2 Setter and Getter"
   ]
  },
  {
   "cell_type": "markdown",
   "id": "1588b950",
   "metadata": {},
   "source": [
    "* Conversely, it is also possible to read member values through methods starting with getXXX, called getters.\n",
    "    * By allowing values to be assigned only through setters and retrieved only through getters, the program become safer.\n",
    "    * Encapsulation allows for better protection of interval variables within members.\n",
    "* We created the setter method 'set_age', and by adding the condition 'if age > 0:', we prevent 'selt.__age = age' from executing when the age is negative."
   ]
  },
  {
   "cell_type": "code",
   "execution_count": 6,
   "id": "b14e850f",
   "metadata": {},
   "outputs": [
    {
     "name": "stdout",
     "output_type": "stream",
     "text": [
      "Cat(name : Nabi, age : 1)\n",
      "Cat(name : Nabi, age : 4)\n",
      "4\n"
     ]
    }
   ],
   "source": [
    "class Cat :\n",
    "    def __init__(self,name,age) :\n",
    "        self.__name = name\n",
    "        self.__age = age\n",
    "    def __str__(self) :\n",
    "        return 'Cat(name : ' + self.__name + ', age : ' + str(self.__age) + ')'\n",
    "    \n",
    "    def set_age(self,age):\n",
    "        if age > 0 :\n",
    "            self.__age = age\n",
    "    \n",
    "    def get_age(self) :\n",
    "        return self.__age\n",
    "    \n",
    "nabi = Cat('Nabi',1)\n",
    "print(nabi)\n",
    "nabi.set_age(4) # setter\n",
    "nabi.set_age(-5)\n",
    "print(nabi)\n",
    "\n",
    "print(nabi.get_age()) #getter"
   ]
  },
  {
   "cell_type": "markdown",
   "id": "4b6a33e1",
   "metadata": {},
   "source": [
    "# 6. Class Inheritance"
   ]
  },
  {
   "cell_type": "markdown",
   "id": "8bd826af",
   "metadata": {},
   "source": [
    "## 6.1 What is Class Inheritance ?"
   ]
  },
  {
   "cell_type": "markdown",
   "id": "420b3610",
   "metadata": {},
   "source": [
    "* Before using inheritance in Python program, let's first clarify the terminology.\n",
    "    * first of all, the upper class that passes on the attributes and methods of a class is referred to as the 'parent class' , 'supper class' or 'base class'\n",
    "    * The class that receives the inheritance is referred to as the 'child class', 'subclass' or 'derived class'."
   ]
  },
  {
   "cell_type": "markdown",
   "id": "1854c8b1",
   "metadata": {},
   "source": [
    "## 6.2 Class Inheritance Syntax"
   ]
  },
  {
   "cell_type": "code",
   "execution_count": 10,
   "id": "51f1a554",
   "metadata": {},
   "outputs": [],
   "source": [
    "class A :\n",
    "    # statements\n",
    "    pass\n",
    "class B(A) :\n",
    "    # statements\n",
    "    pass"
   ]
  },
  {
   "cell_type": "markdown",
   "id": "2eea4783",
   "metadata": {},
   "source": [
    "* In this way, the child class explicitly states that it is inheriting from its parent class by enclosing the parent class's name in parentheses.\n",
    "* In doing so, the child class B can directly inherit the attributes and methods of the parents class A, while also defining its own new attributes and methods."
   ]
  },
  {
   "cell_type": "code",
   "execution_count": 15,
   "id": "b161d8f4",
   "metadata": {},
   "outputs": [
    {
     "name": "stdout",
     "output_type": "stream",
     "text": [
      "a.PI : 3.14\n",
      "b.PI : 3.14\n",
      "b.s  : 9.42\n"
     ]
    }
   ],
   "source": [
    "class A :\n",
    "    PI = 3.14\n",
    "class B(A) :\n",
    "    s = 3 * a.PI \n",
    "    \n",
    "a = A()\n",
    "b = B()\n",
    "\n",
    "print('a.PI :',a.PI)\n",
    "print('b.PI :',b.PI)\n",
    "print('b.s  :',b.s)"
   ]
  },
  {
   "cell_type": "markdown",
   "id": "c854df8e",
   "metadata": {},
   "source": [
    "## 6.3 Example of implementing hierarchical class structure"
   ]
  },
  {
   "cell_type": "markdown",
   "id": "b19f5e70",
   "metadata": {},
   "source": [
    "* Let's consider a class with the following hierarchical structure.\n",
    "* By using the parent class 'Person', it is possible to implement the 'Manager' class, representing an employer, and the 'Employee' class, representing an employee, through inheritance.\n",
    "* Both the employer and the employee belong to the category of people, so the 'person' class neeeds to include the 'name' variable and the 'get_name()' method.\n",
    "* However, these variables and methods do not need to be implemented when 'Manager' and 'Employee' classes inherit from the 'Person' class.\n",
    "* The 'Manager' and 'Employee' classes include the member variables and member functions of the 'Person' class which are common attributes."
   ]
  },
  {
   "cell_type": "code",
   "execution_count": 21,
   "id": "ca5dfb3d",
   "metadata": {},
   "outputs": [
    {
     "name": "stdout",
     "output_type": "stream",
     "text": [
      "Employee :David Doe, Staff ID : 1111\n",
      "Employee :Paul Carter, Staff ID : 2222\n",
      "Employee :Anna smith, Position : CFO\n"
     ]
    }
   ],
   "source": [
    "class Person :\n",
    "    def __init__(self,name) :\n",
    "        self.name = name\n",
    "    def get_name(self) :\n",
    "        return self.name\n",
    "    \n",
    "class Employee(Person) :\n",
    "    def __init__(self,name,staff_id) :\n",
    "        Person.__init__(self,name)\n",
    "        self.staff_id = staff_id\n",
    "    def info(self) :\n",
    "        return 'Employee :' + self.get_name() + ', Staff ID : ' + str(self.staff_id)\n",
    "    \n",
    "class Manager(Person) :\n",
    "    def __init__(self,name,position) :\n",
    "        Person.__init__(self,name)\n",
    "        self.position = position\n",
    "    def info(self) :\n",
    "        return 'Employee :' + self.get_name() + ', Position : ' + str(self.position)\n",
    "        \n",
    "    \n",
    "worker1 = Employee('David Doe',1111)\n",
    "worker2 = Employee('Paul Carter',2222)\n",
    "cfo = Manager(\"Anna smith\",\"CFO\")\n",
    "\n",
    "print(worker1.info())\n",
    "print(worker2.info())\n",
    "print(cfo.info())"
   ]
  },
  {
   "cell_type": "markdown",
   "id": "33012dbd",
   "metadata": {},
   "source": [
    "# 21.3 Paper coding"
   ]
  },
  {
   "cell_type": "code",
   "execution_count": 36,
   "id": "ba7cfbce",
   "metadata": {},
   "outputs": [
    {
     "name": "stdout",
     "output_type": "stream",
     "text": [
      "Bow-wow\n"
     ]
    }
   ],
   "source": [
    "# Q1\n",
    "class Dog :\n",
    "    def __init__(self,bark):\n",
    "        self.__bark = bark\n",
    "    def bark(self):\n",
    "        return self.__bark\n",
    "    \n",
    "my_dog = Dog(\"Bow-wow\")\n",
    "print(my_dog.bark())"
   ]
  },
  {
   "cell_type": "code",
   "execution_count": 41,
   "id": "358a41ae",
   "metadata": {},
   "outputs": [
    {
     "name": "stdout",
     "output_type": "stream",
     "text": [
      "Bingo : Bow-wow\n"
     ]
    }
   ],
   "source": [
    "#Q2\n",
    "\n",
    "class Dog :\n",
    "    def __init__(self,name) :\n",
    "        self.__name = name \n",
    "    def bark(self) :\n",
    "        return self.__name + ' : ' + \"Bow-wow\"\n",
    "    \n",
    "my_dog = Dog(\"Bingo\")\n",
    "\n",
    "print(my_dog.bark())"
   ]
  },
  {
   "cell_type": "markdown",
   "id": "97d8e3ef",
   "metadata": {},
   "source": [
    "## 21.4 Let's code"
   ]
  },
  {
   "cell_type": "code",
   "execution_count": 17,
   "id": "b80a5e7c",
   "metadata": {},
   "outputs": [
    {
     "name": "stdout",
     "output_type": "stream",
     "text": [
      "The balance of Lyeng Chiev's account 500-002-625 is 0 $.\n",
      "2000 $ has been deposited. The balance is 2000 $.\n",
      "The balance of Lyeng Chiev's account 500-002-625 is 2,000 $.\n",
      "The 500 $ has been withdraw from account Lyeng Chiev 500-002-625.\n",
      "The balance of Lyeng Chiev's account 500-002-625 is 1,500 $.\n",
      "The account balance is 1500 $, which is less than the withdrawl amount of 5000 $.\n"
     ]
    }
   ],
   "source": [
    "class BankAccount :\n",
    "    def __init__(self,name,account_num,balance = 0):\n",
    "        self.name = name\n",
    "        self.account_num = account_num\n",
    "        self.balance = balance\n",
    "        \n",
    "    def get_name(self) :\n",
    "        return self.name\n",
    "    \n",
    "    def get_account_num(self) :\n",
    "        return self.account_num\n",
    "    \n",
    "    def get_balance(self) :\n",
    "        return self.balance\n",
    "    \n",
    "    def deposit(self,amount) :\n",
    "        self.balance += amount\n",
    "        print(\"{} $ has been deposited. The balance is {} $.\".format(amount,self.balance))\n",
    "        return self.balance\n",
    "        \n",
    "    def withdraw(self,amount) :\n",
    "        if self.balance - amount > 0 :\n",
    "            self.balance -= amount\n",
    "            print(\"The {} $ has been withdraw from account {} {}.\".format(amount,self.name,self.account_num))\n",
    "        else :\n",
    "            print(\"The account balance is {} $, which is less than the withdrawl amount of {} $.\".format(self.balance,amount))\n",
    "            \n",
    "    def __str__(self):\n",
    "        return \"The balance of {}'s account {} is {:,} $.\".format(self.name,self.account_num,self.balance)\n",
    "    \n",
    "    \n",
    "account1 = BankAccount(\"Lyeng Chiev\",\"500-002-625\")\n",
    "print(account1)\n",
    "account1.deposit(2000)\n",
    "print(account1)\n",
    "account1.withdraw(500)\n",
    "print(account1)\n",
    "account1.withdraw(5000)"
   ]
  },
  {
   "cell_type": "code",
   "execution_count": null,
   "id": "3a94be8c",
   "metadata": {},
   "outputs": [],
   "source": []
  },
  {
   "cell_type": "code",
   "execution_count": null,
   "id": "3ba9d027",
   "metadata": {},
   "outputs": [],
   "source": []
  },
  {
   "cell_type": "code",
   "execution_count": null,
   "id": "6500fe4f",
   "metadata": {},
   "outputs": [],
   "source": []
  },
  {
   "cell_type": "code",
   "execution_count": null,
   "id": "202431a5",
   "metadata": {},
   "outputs": [],
   "source": []
  },
  {
   "cell_type": "code",
   "execution_count": null,
   "id": "819b7cf1",
   "metadata": {},
   "outputs": [],
   "source": []
  },
  {
   "cell_type": "code",
   "execution_count": null,
   "id": "9c18ed62",
   "metadata": {},
   "outputs": [],
   "source": []
  },
  {
   "cell_type": "code",
   "execution_count": null,
   "id": "4e13912f",
   "metadata": {},
   "outputs": [],
   "source": []
  },
  {
   "cell_type": "code",
   "execution_count": null,
   "id": "ccb5f374",
   "metadata": {},
   "outputs": [],
   "source": []
  }
 ],
 "metadata": {
  "kernelspec": {
   "display_name": "Python 3 (ipykernel)",
   "language": "python",
   "name": "python3"
  },
  "language_info": {
   "codemirror_mode": {
    "name": "ipython",
    "version": 3
   },
   "file_extension": ".py",
   "mimetype": "text/x-python",
   "name": "python",
   "nbconvert_exporter": "python",
   "pygments_lexer": "ipython3",
   "version": "3.10.9"
  }
 },
 "nbformat": 4,
 "nbformat_minor": 5
}
