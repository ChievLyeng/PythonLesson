{
 "cells": [
  {
   "cell_type": "markdown",
   "id": "5e83f215",
   "metadata": {},
   "source": [
    "# 1. Programming and Objects"
   ]
  },
  {
   "cell_type": "markdown",
   "id": "9ab58382",
   "metadata": {},
   "source": [
    "## 1.1 Classes,Instances,Objects"
   ]
  },
  {
   "cell_type": "code",
   "execution_count": 1,
   "id": "f216c5d6",
   "metadata": {},
   "outputs": [
    {
     "name": "stdout",
     "output_type": "stream",
     "text": [
      "300\n"
     ]
    }
   ],
   "source": [
    "n = (100).__add__(200)\n",
    "\n",
    "print(n)"
   ]
  },
  {
   "cell_type": "markdown",
   "id": "daaabd4b",
   "metadata": {},
   "source": [
    "* In other words, the integer object 100 uses the '__add__' method to add the object 200.\n",
    "* This object is then accessed through the variable n.\n",
    "* In this aspect, the addition(+) operator is essentially the same as the method invocation code 'animals.append('rabbit')' and its execution process."
   ]
  },
  {
   "cell_type": "markdown",
   "id": "2997a37d",
   "metadata": {},
   "source": [
    "* Class \n",
    "    - It is an abstract concept that represents a collection of attributes and behaviors used in a program.\n",
    "    - It serves as a design or template, a blueprint for objects.\n",
    "\n",
    "* Instance\n",
    "    - It is individual object created from a class.\n",
    "    - Different instances can have different specific attribute values."
   ]
  },
  {
   "cell_type": "markdown",
   "id": "3ff273ae",
   "metadata": {},
   "source": [
    "#### Summary\n",
    "\n",
    "* All data types in Python have objects\n",
    "* Objects are created from classes.\n",
    "* Instances are created from classes.\n",
    "* Python classes are objects.\n",
    "* 'nabi' is an object.\n",
    "* The instance of the 'Cat' class is 'nabi'.\n",
    "* 100 is a object of the int data type."
   ]
  },
  {
   "cell_type": "markdown",
   "id": "65a0c492",
   "metadata": {},
   "source": [
    "## 1.2 Comparison of Procedural Programming and Object-Oriented Programming"
   ]
  },
  {
   "cell_type": "markdown",
   "id": "0c07a1ec",
   "metadata": {},
   "source": [
    "* Object-Oriented Programming(oop)\n",
    "    * Expresses computer tasks as interactions between objects.\n",
    "    * Technique of modeling programs closely to the real world.\n",
    "    * Concept of developing software using the collection of classes or objects.\n",
    "    * Adopted in many programming languages such as Java,Python,C++,C#,Swift.\n",
    "    \n",
    "* Procedural Programming Language\n",
    "    * Involves creating functions or modules and calling them in the order of problem-solving steps.\n",
    "    * Used in classical programming languages like C, Fortran,Basic.\n",
    "    * In case where there are various graphical elements like GUI (graphic user interface) systems, it is difficult to solve problems effectively."
   ]
  },
  {
   "cell_type": "markdown",
   "id": "753a0259",
   "metadata": {},
   "source": [
    "## 2.1 Defining a Class"
   ]
  },
  {
   "cell_type": "markdown",
   "id": "c588610e",
   "metadata": {},
   "source": [
    "* A class is defined using the \"class\" keyword, a colon (:), and indentation.\n",
    "* After the \"class\" keyword, the name of the class is written."
   ]
  },
  {
   "cell_type": "code",
   "execution_count": null,
   "id": "7a65042d",
   "metadata": {},
   "outputs": [],
   "source": [
    "class Cat : \n",
    "    pass\n",
    "\n",
    "nabi = Cat()\n",
    "print(nabi)"
   ]
  },
  {
   "cell_type": "code",
   "execution_count": null,
   "id": "8822ddab",
   "metadata": {},
   "outputs": [],
   "source": [
    "class Cat : \n",
    "    def __init__(self,name,color) :\n",
    "        self.name = name \n",
    "        self.color = color\n",
    "        \n",
    "    def meow(self) :\n",
    "        pass\n",
    "    def run(self) :\n",
    "        pass\n",
    "    def walk(self) :\n",
    "        pass\n",
    "    \n",
    "nabi = Cat('Nabi','Black')\n",
    "nero = Cat(\"Nero\",\"White\")"
   ]
  },
  {
   "cell_type": "markdown",
   "id": "d4e23c85",
   "metadata": {},
   "source": [
    "* Constructor '__init__\"\n",
    "    * A method that assigned default values to the instance's internal variables when an object is created.\n",
    "    * It has the name '__init__'.\n",
    "    * Automatically executed when an object is created.\n",
    "    \n",
    "* The first parameter 'self' in the constructor '__init__' refers to the instance of the current class.\n",
    "* The second parameter 'name' and the third parameter 'color' are variables used to assign the names and colors corresponding to the attributes of the instance.\n",
    "* The 'instance variable','member variable', or 'field' refers to variables that store attributes specific to each instance.\n",
    "* In the 'Cat' class, 'name' and 'color' variables represent instance variables."
   ]
  },
  {
   "cell_type": "markdown",
   "id": "bde62f6f",
   "metadata": {},
   "source": [
    "#### Python's naming conventios for class names are as follows.\n",
    "\n",
    "* The first letter of function, object, and variable names is lowercase.\n",
    "* The first letter of class name is uppercase.\n",
    "* When using multiple words in a name, capitalize the first letter of the second word,\n",
    "* When defining protected attributes within a class or object, start the name with an underscore(_) .( Protected attributes are meant to be acessed indirectly by external classes and objects.)\n",
    "* If you want to use a variable name that is the same as a reserved word, add an underscore after the reserved word.\n",
    "* Private attributes of a class or object have a name that is changed to make it difficult to access directly from outside.\n",
    "    * This is achiecved by adding a double underscore(_) before the name, which automatically converts it to '_classname_name', making it harder to call directly by its original name.\n",
    "* Special attributes or dunder methods used internally by Python have a double underscore(_) before and after the name, such ad '__init__' for the constructor."
   ]
  },
  {
   "cell_type": "code",
   "execution_count": 8,
   "id": "1eae1361",
   "metadata": {},
   "outputs": [
    {
     "name": "stdout",
     "output_type": "stream",
     "text": [
      "My name is Nabi, color is Black, meow, meow~~\n",
      "My name is Nero, color is White, meow, meow~~\n",
      "My name is Mimi, color is Brown, meow, meow~~\n"
     ]
    }
   ],
   "source": [
    "class Cat : \n",
    "    def __init__(self,name,color) :\n",
    "        self.name = name \n",
    "        self.color = color\n",
    "        \n",
    "    def meow(self) :\n",
    "        print(\"My name is {}, color is {}, meow, meow~~\".format(self.name,self.color))\n",
    "\n",
    "    \n",
    "nabi = Cat('Nabi','Black')\n",
    "nero = Cat(\"Nero\",\"White\")\n",
    "mimi = Cat(\"Mimi\",\"Brown\")\n",
    "\n",
    "nabi.meow()\n",
    "nero.meow()\n",
    "mimi.meow()"
   ]
  },
  {
   "cell_type": "markdown",
   "id": "53e4db8e",
   "metadata": {},
   "source": [
    "* The method of an instance is called using the dot(.) operator. For example, the instance 'nabi' can use the method 'meow' of the 'Cat' class.\n",
    "* A funciton inside a class called method\n",
    "* To create an object of the class call a class name like function.\n",
    "* class method can be called by instances ('nabi','nero','mimi')"
   ]
  },
  {
   "cell_type": "markdown",
   "id": "c85bb581",
   "metadata": {},
   "source": [
    "# 3. Instance variables and class variables"
   ]
  },
  {
   "cell_type": "markdown",
   "id": "e2eab4a4",
   "metadata": {},
   "source": [
    "## 3.1 What are instance variables ?"
   ]
  },
  {
   "cell_type": "markdown",
   "id": "6f9ef8bf",
   "metadata": {},
   "source": [
    "* In python, both class variables and instance variables are used as attributes of a class or object.\n",
    "* However, their usages and scope are different."
   ]
  },
  {
   "cell_type": "code",
   "execution_count": 10,
   "id": "27f1fa92",
   "metadata": {},
   "outputs": [
    {
     "name": "stdout",
     "output_type": "stream",
     "text": [
      "Area of c1 : 50.24\n",
      "Area of c2 : 113.04\n",
      "Area of c3 : 78.5\n"
     ]
    }
   ],
   "source": [
    "class Circle :\n",
    "    def __init__(self,name,radius,PI) :\n",
    "        self.__name = name     # instance variable\n",
    "        self.__radius = radius # instance variable\n",
    "        self.__PI = PI\n",
    "        \n",
    "    def area(self) :\n",
    "        return self.__PI * self.__radius ** 2\n",
    "    \n",
    "c1 = Circle(\"C1\",4,3.14)\n",
    "print(\"Area of c1 :\",c1.area())\n",
    "c2 = Circle(\"C2\",6,3.14)\n",
    "print(\"Area of c2 :\",c2.area())\n",
    "c3 = Circle(\"C3\",5,3.14)\n",
    "print(\"Area of c3 :\",c3.area())"
   ]
  },
  {
   "cell_type": "markdown",
   "id": "6130dd3e",
   "metadata": {},
   "source": [
    "* '__name','__radius','__PI' can have different values for each individual instance. These variables are called instance variables.\n",
    "* The reason for having a double underscore before the variable name is to make it difficult to access this instance from outside."
   ]
  },
  {
   "cell_type": "markdown",
   "id": "03456dbd",
   "metadata": {},
   "source": [
    "## 3.2 What are class variables ?"
   ]
  },
  {
   "cell_type": "markdown",
   "id": "60eaba16",
   "metadata": {},
   "source": [
    "* Among the instance variables, there may be common  attributes that the class should share.\n",
    "* In the example code we will examine, the attribute representing the mathematical constant PI is designed to be shared by all individual instances.\n",
    "* If all individual instances share this attribute, it reduces data duplication and makes it easier to identify the cause of errors."
   ]
  },
  {
   "cell_type": "markdown",
   "id": "85ddca48",
   "metadata": {},
   "source": [
    "* The class variable 'PI' in 'Circle' is a variable shared by instances of this class, while the class attributes '__name' and '__raidus' are instance variables that each instance has."
   ]
  },
  {
   "cell_type": "code",
   "execution_count": 11,
   "id": "9fbe94b6",
   "metadata": {},
   "outputs": [
    {
     "name": "stdout",
     "output_type": "stream",
     "text": [
      "Area of c1 : 50.264\n",
      "Area of c2 : 113.09400000000001\n",
      "Area of c3 : 78.53750000000001\n"
     ]
    }
   ],
   "source": [
    "class Circle :\n",
    "    PI = 3.1415 # class variable\n",
    "    def __init__(self,name,radius) :\n",
    "        self.__name = name\n",
    "        self.__radius = radius\n",
    "        \n",
    "    def area(self) :\n",
    "        return Circle.PI * self.__radius ** 2\n",
    "    \n",
    "c1 = Circle(\"C1\",4,)\n",
    "print(\"Area of c1 :\",c1.area())\n",
    "c2 = Circle(\"C2\",6)\n",
    "print(\"Area of c2 :\",c2.area())\n",
    "c3 = Circle(\"C3\",5)\n",
    "print(\"Area of c3 :\",c3.area())"
   ]
  },
  {
   "cell_type": "markdown",
   "id": "7f512cab",
   "metadata": {},
   "source": [
    "# 4 Dunder Method"
   ]
  },
  {
   "cell_type": "markdown",
   "id": "53e35028",
   "metadata": {},
   "source": [
    "## 4.1 The Importance of Dunder Methods"
   ]
  },
  {
   "cell_type": "code",
   "execution_count": 18,
   "id": "19907f57",
   "metadata": {},
   "outputs": [
    {
     "name": "stdout",
     "output_type": "stream",
     "text": [
      "v1.add(v2) = (40, 60)\n"
     ]
    }
   ],
   "source": [
    "class Vector2D :\n",
    "    def __init__(self,x,y) :\n",
    "        self.x = x\n",
    "        self.y = y\n",
    "    def __str__(self) : \n",
    "        return \"({}, {})\".format(self.x,self.y)\n",
    "    def add(self,other) :\n",
    "        return Vector2D(self.x + other.x,self.y + other.y)\n",
    "    \n",
    "v1 = Vector2D(30,40) \n",
    "v2 = Vector2D(10,20)\n",
    "v3 = v1.add(v2)\n",
    "print('v1.add(v2) =',v3)"
   ]
  },
  {
   "cell_type": "markdown",
   "id": "6794a876",
   "metadata": {},
   "source": [
    "## 4.2 What are Dunder Methods ?"
   ]
  },
  {
   "cell_type": "markdown",
   "id": "828ab45c",
   "metadata": {},
   "source": [
    "* The 'dunder method' or the 'magic method', is a method that serves specific designated purposes in Python classes .\n",
    "* Dunder methods have a double underscore before and after the method name. \n",
    "* They are primarily used when redefining operators or functions, which are already defined and used in Python, within the class."
   ]
  },
  {
   "cell_type": "markdown",
   "id": "efc4d7a3",
   "metadata": {},
   "source": [
    "## 4.3 The __str__Method"
   ]
  },
  {
   "cell_type": "code",
   "execution_count": 14,
   "id": "92aca7da",
   "metadata": {},
   "outputs": [
    {
     "name": "stdout",
     "output_type": "stream",
     "text": [
      "v1.add(v2) = <__main__.Vector2D object at 0x109b7dfc0>\n"
     ]
    }
   ],
   "source": [
    "# The desired value is not printed as follows when removed __str__ method\n",
    "\n",
    "class Vector2D :\n",
    "    def __init__(self,x,y) :\n",
    "        self.x = x\n",
    "        self.y = y\n",
    "    def add(self,other) :\n",
    "        return Vector2D(self.x + other.x,self.y + other.y)\n",
    "    \n",
    "v1 = Vector2D(30,40) \n",
    "v2 = Vector2D(10,20)\n",
    "v3 = v1.add(v2)\n",
    "print('v1.add(v2) =',v3)"
   ]
  },
  {
   "cell_type": "markdown",
   "id": "6a113348",
   "metadata": {},
   "source": [
    "### __str__method\n",
    "* The '__str__' method is a method that provieds information about an object in the form of a string.\n",
    "* It is automatically called by the 'print' function.\n",
    "* It defines the string representation of an object and must return a string."
   ]
  },
  {
   "cell_type": "code",
   "execution_count": 21,
   "id": "584b7b34",
   "metadata": {},
   "outputs": [
    {
     "name": "stdout",
     "output_type": "stream",
     "text": [
      "v1 + v2 = (40, 60)\n",
      "v1.add(v2) = (40, 60)\n"
     ]
    }
   ],
   "source": [
    "class Vector2D :\n",
    "    def __init__(self,x,y) :\n",
    "        self.x = x\n",
    "        self.y = y\n",
    "    def __str__(self) : \n",
    "        return \"({}, {})\".format(self.x,self.y)\n",
    "    def __add__(self,other) :\n",
    "        return Vector2D(self.x + other.x, self.y + other.y)\n",
    "    def add(self,other) :\n",
    "        return Vector2D(self.x + other.x,self.y + other.y)\n",
    "    \n",
    "v1 = Vector2D(30,40) \n",
    "v2 = Vector2D(10,20)\n",
    "v3 = v1 + v2\n",
    "print('v1 + v2 =',v3)\n",
    "v3 = v1.add(v2)\n",
    "print('v1.add(v2) =',v3)"
   ]
  },
  {
   "cell_type": "code",
   "execution_count": 22,
   "id": "6a99051f",
   "metadata": {},
   "outputs": [
    {
     "name": "stdout",
     "output_type": "stream",
     "text": [
      "Cat(name =Nabi,color = Black)\n",
      "Cat(name =Nero,color = White)\n"
     ]
    }
   ],
   "source": [
    "class Cat :\n",
    "    def __init__(self,name,color) :\n",
    "        self.name = name\n",
    "        self.color = color\n",
    "        \n",
    "    def __str__(self) :\n",
    "        return 'Cat(name =' + self.name + ',color = ' + self.color + ')'\n",
    "    \n",
    "nabi = Cat(\"Nabi\",\"Black\")\n",
    "nero = Cat(\"Nero\",\"White\")\n",
    "\n",
    "print(nabi)\n",
    "print(nero)"
   ]
  },
  {
   "cell_type": "code",
   "execution_count": null,
   "id": "6ff4aba5",
   "metadata": {},
   "outputs": [],
   "source": []
  },
  {
   "cell_type": "code",
   "execution_count": null,
   "id": "3c4ee738",
   "metadata": {},
   "outputs": [],
   "source": []
  },
  {
   "cell_type": "code",
   "execution_count": null,
   "id": "3f7d62c2",
   "metadata": {},
   "outputs": [],
   "source": []
  },
  {
   "cell_type": "code",
   "execution_count": null,
   "id": "9c18ed62",
   "metadata": {},
   "outputs": [],
   "source": []
  },
  {
   "cell_type": "code",
   "execution_count": null,
   "id": "4e13912f",
   "metadata": {},
   "outputs": [],
   "source": []
  },
  {
   "cell_type": "code",
   "execution_count": null,
   "id": "ccb5f374",
   "metadata": {},
   "outputs": [],
   "source": []
  }
 ],
 "metadata": {
  "kernelspec": {
   "display_name": "Python 3 (ipykernel)",
   "language": "python",
   "name": "python3"
  },
  "language_info": {
   "codemirror_mode": {
    "name": "ipython",
    "version": 3
   },
   "file_extension": ".py",
   "mimetype": "text/x-python",
   "name": "python",
   "nbconvert_exporter": "python",
   "pygments_lexer": "ipython3",
   "version": "3.10.9"
  }
 },
 "nbformat": 4,
 "nbformat_minor": 5
}
