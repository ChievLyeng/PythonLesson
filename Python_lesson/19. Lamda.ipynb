{
 "cells": [
  {
   "cell_type": "markdown",
   "id": "bc534450",
   "metadata": {},
   "source": [
    "# 1 Lambda Functions"
   ]
  },
  {
   "cell_type": "markdown",
   "id": "e02d81c3",
   "metadata": {},
   "source": [
    "## 1.3 Converting a regular function to lambda"
   ]
  },
  {
   "cell_type": "code",
   "execution_count": null,
   "id": "83f8e325",
   "metadata": {},
   "outputs": [],
   "source": [
    "def add (x,y) : \n",
    "    return x + y\n",
    "\n",
    "print(\"sum : \",add(100,200))"
   ]
  },
  {
   "cell_type": "code",
   "execution_count": 4,
   "id": "73c53e83",
   "metadata": {},
   "outputs": [
    {
     "name": "stdout",
     "output_type": "stream",
     "text": [
      "The sum of 100 and 200 : 300\n",
      "The sum of 100 and 200 :  20\n"
     ]
    }
   ],
   "source": [
    "#lambda function\n",
    "\n",
    "add = lambda x,y : x + y\n",
    "print(\"The sum of 100 and 200 :\",add(100,200))\n",
    "\n",
    "\n",
    "print(\"The sum of 100 and 200 : \",(lambda a,b : a * b)(10,2))"
   ]
  },
  {
   "cell_type": "markdown",
   "id": "44ecbf27",
   "metadata": {},
   "source": [
    "## 1.4 Functions that take 'iterable data type' and 'function' as parameters"
   ]
  },
  {
   "cell_type": "markdown",
   "id": "cc32d8f8",
   "metadata": {},
   "source": [
    "* Python provides built-in functions called 'filter' and 'map', which take two parameters that   are the iterable data type and a funciton referred to as 'mapping funciton'. The mapping       function is applied to each element of the iterable data type."
   ]
  },
  {
   "cell_type": "markdown",
   "id": "89ad1d05",
   "metadata": {},
   "source": [
    "* Using lambda as the mapping function in filter and map imporves performance reducing the       overhead of function calls.\n",
    "* However, there is a drawback if there are many funciton calls. Storing the state before a function call and restoring the previous state after the function call occurs frequently. This slows down the program's execution."
   ]
  },
  {
   "cell_type": "markdown",
   "id": "ea60df37",
   "metadata": {},
   "source": [
    "# 2. Lambda used as an argument in the filter function"
   ]
  },
  {
   "cell_type": "markdown",
   "id": "5ba8aa43",
   "metadata": {},
   "source": [
    "## 2.1 What is the filter function?"
   ]
  },
  {
   "cell_type": "markdown",
   "id": "d5fe97b7",
   "metadata": {},
   "source": [
    "* Python provides various types of functions. Let's learn about the filter function.\n",
    "* The filter function takes iterable elements,applies a function to them, and returns only the elements for which the function returns True.\n",
    "* The syntax of the filter function is as follows :\n",
    "    filter(function_to_apply, {iterable data type} )"
   ]
  },
  {
   "cell_type": "markdown",
   "id": "ae847211",
   "metadata": {},
   "source": [
    "## 2.2 Example of using the filter function : Regular function"
   ]
  },
  {
   "cell_type": "code",
   "execution_count": 5,
   "id": "39fb030e",
   "metadata": {},
   "outputs": [
    {
     "name": "stdout",
     "output_type": "stream",
     "text": [
      "The list of adult : \n",
      "34 39 20 54 "
     ]
    }
   ],
   "source": [
    "def adult_func(n) :\n",
    "    if n >= 19 :\n",
    "        return True\n",
    "    else :\n",
    "        return False\n",
    "    \n",
    "ages = [34,39,20,18,13,54]\n",
    "print(\"The list of adult : \")\n",
    "for a in filter(adult_func,ages) :\n",
    "    print(a,end=\" \")"
   ]
  },
  {
   "cell_type": "markdown",
   "id": "c41d08a8",
   "metadata": {},
   "source": [
    "## 2.3 Example of using the filter funciton:lambda"
   ]
  },
  {
   "cell_type": "code",
   "execution_count": 6,
   "id": "c86985d6",
   "metadata": {},
   "outputs": [
    {
     "name": "stdout",
     "output_type": "stream",
     "text": [
      "The list of adult : \n",
      "34 39 20 54 "
     ]
    }
   ],
   "source": [
    "ages = [34,39,20,18,13,54]\n",
    "print(\"The list of adult : \")\n",
    "for a in filter(lambda x : x >=19,ages) :\n",
    "    print(a,end=\" \")"
   ]
  },
  {
   "cell_type": "markdown",
   "id": "6d2d8ec8",
   "metadata": {},
   "source": [
    "# 3 Lambda used as an argument in the map function"
   ]
  },
  {
   "cell_type": "markdown",
   "id": "fbfa3269",
   "metadata": {},
   "source": [
    "## 3.1 What is map function?"
   ]
  },
  {
   "cell_type": "markdown",
   "id": "332b260e",
   "metadata": {},
   "source": [
    "* The map function applies a specified mapping funciton to each element of an iterable data     type and returns an iterable data type."
   ]
  },
  {
   "cell_type": "markdown",
   "id": "7b08583e",
   "metadata": {},
   "source": [
    "## 3.2 Example without using the map function"
   ]
  },
  {
   "cell_type": "code",
   "execution_count": 7,
   "id": "919533f0",
   "metadata": {},
   "outputs": [
    {
     "name": "stdout",
     "output_type": "stream",
     "text": [
      "[1, 4, 9, 16, 25, 36, 49]\n"
     ]
    }
   ],
   "source": [
    "a = [1,2,3,4,5,6,7]\n",
    "square_a = []\n",
    "for n in a :\n",
    "    square_a.append(n**2)\n",
    "print(square_a)"
   ]
  },
  {
   "cell_type": "markdown",
   "id": "b5b69b7d",
   "metadata": {},
   "source": [
    "## 3.4 Example using map function: Regular function"
   ]
  },
  {
   "cell_type": "markdown",
   "id": "c71a56dc",
   "metadata": {},
   "source": [
    "* By using the map funciton and the square function, the previous code can be simplified as follows. The syntax of the map function is as follows.\n",
    "\n",
    "    map(funciton_to_apply,iterable,...)\n",
    "  \n",
    "* The map function takes two or more agruments. The first argument is the mapping function, and the second argument is an iterable data type such as a list that will be inputted into the mapping funciton."
   ]
  },
  {
   "cell_type": "code",
   "execution_count": 1,
   "id": "6d2ba696",
   "metadata": {},
   "outputs": [
    {
     "name": "stdout",
     "output_type": "stream",
     "text": [
      "[1, 4, 9, 16, 25, 36, 49]\n"
     ]
    }
   ],
   "source": [
    "a = [1,2,3,4,5,6,7]\n",
    "square_a = list(map(lambda x : x ** 2,a))\n",
    "print(square_a)"
   ]
  },
  {
   "cell_type": "markdown",
   "id": "ec1abfc3",
   "metadata": {},
   "source": [
    "### 4. Using lambda as an argument for the reduce function"
   ]
  },
  {
   "cell_type": "markdown",
   "id": "80bfb4db",
   "metadata": {},
   "source": [
    "### 4.1 What is the reduce function ?"
   ]
  },
  {
   "cell_type": "markdown",
   "id": "68acf297",
   "metadata": {},
   "source": [
    "* The 'reduce' function is include in a module calleed 'functools' and can   be used to perform operations on items of an iterable data type using a   given function and obtain a single value."
   ]
  },
  {
   "cell_type": "markdown",
   "id": "16a4161e",
   "metadata": {},
   "source": [
    "### 4.2 Example of using the reduce function"
   ]
  },
  {
   "cell_type": "code",
   "execution_count": 2,
   "id": "63bba7bb",
   "metadata": {},
   "outputs": [
    {
     "name": "stdout",
     "output_type": "stream",
     "text": [
      "10\n"
     ]
    }
   ],
   "source": [
    "from functools import reduce\n",
    "\n",
    "a = [1,2,3,4]\n",
    "n = reduce(lambda x,y : x + y,a)\n",
    "print(n)"
   ]
  },
  {
   "cell_type": "markdown",
   "id": "bbcdbfb5",
   "metadata": {},
   "source": [
    "* Firstly, the lambda funtion 'lambda x,y : x + y', whick adds two input     values, is applied to the first two values, 1 and  2, resulting in the     3. The reduce function applies this process to all elements of the list.\n",
    "* Therefore, the return value of 3 is then passed along with the third       element,3,as the argument to put the lambda function, which returns the   sum of the two numbers, 6.\n",
    "* This 6 value is then passed along with final element,4, as the argument   to put the lambda function, which returns in a final return value of 10."
   ]
  },
  {
   "cell_type": "markdown",
   "id": "d572b56f",
   "metadata": {},
   "source": [
    "## 5 One-liners and lambda"
   ]
  },
  {
   "cell_type": "markdown",
   "id": "08930922",
   "metadata": {},
   "source": [
    "### 5.1. One-liners"
   ]
  },
  {
   "cell_type": "markdown",
   "id": "d32978c0",
   "metadata": {},
   "source": [
    "* Let's review one-liners.\n",
    "* Among the syntaxes one-liners, list comprehensions are as follows : \n",
    "\n",
    "* [ expression for variable in iterable or sequence data type ]\n",
    "* [ expression for variable in iterable or sequence data type if condition]"
   ]
  },
  {
   "cell_type": "code",
   "execution_count": 4,
   "id": "3c5d7379",
   "metadata": {},
   "outputs": [
    {
     "name": "stdout",
     "output_type": "stream",
     "text": [
      "[0, 1, 2, 3, 4, 5, 6, 7, 8, 9]\n"
     ]
    }
   ],
   "source": [
    "print([x for x in range(10)])"
   ]
  },
  {
   "cell_type": "code",
   "execution_count": 5,
   "id": "f5a6a2c2",
   "metadata": {},
   "outputs": [
    {
     "name": "stdout",
     "output_type": "stream",
     "text": [
      "[0, 1, 4, 9, 16, 25, 36, 49, 64, 81]\n"
     ]
    }
   ],
   "source": [
    "print([x * x for x in range(10)])"
   ]
  },
  {
   "cell_type": "code",
   "execution_count": 10,
   "id": "671d0e91",
   "metadata": {},
   "outputs": [
    {
     "name": "stdout",
     "output_type": "stream",
     "text": [
      "[0, 2, 4, 6, 8]\n"
     ]
    }
   ],
   "source": [
    "print([x for x in range(10) if x % 2 == 0])"
   ]
  },
  {
   "cell_type": "code",
   "execution_count": 11,
   "id": "cba5e8c5",
   "metadata": {},
   "outputs": [
    {
     "name": "stdout",
     "output_type": "stream",
     "text": [
      "[1, 3, 5, 7, 9]\n"
     ]
    }
   ],
   "source": [
    "print([x for x in range(10) if x % 2 == 1])"
   ]
  },
  {
   "cell_type": "code",
   "execution_count": 12,
   "id": "b27f7f66",
   "metadata": {},
   "outputs": [
    {
     "name": "stdout",
     "output_type": "stream",
     "text": [
      "[0, 4, 16, 36, 64]\n"
     ]
    }
   ],
   "source": [
    "print([x * x for x in range(10) if x % 2 == 0])"
   ]
  },
  {
   "cell_type": "code",
   "execution_count": 13,
   "id": "f94474bc",
   "metadata": {},
   "outputs": [
    {
     "name": "stdout",
     "output_type": "stream",
     "text": [
      "[1, 9, 25, 49, 81]\n"
     ]
    }
   ],
   "source": [
    "print([x * x for x in range(10) if x % 2 == 1])"
   ]
  },
  {
   "cell_type": "code",
   "execution_count": 14,
   "id": "46efd1c5",
   "metadata": {},
   "outputs": [
    {
     "name": "stdout",
     "output_type": "stream",
     "text": [
      "Enter multiple integers : 1 2 3 4 5 6 7 8 9\n",
      "[1, 2, 3, 4, 5, 6, 7, 8, 9]\n"
     ]
    }
   ],
   "source": [
    "s = input(\"Enter multiple integers : \").split()\n",
    "\n",
    "lst = [int(x) for x in s]\n",
    "print(lst)"
   ]
  },
  {
   "cell_type": "code",
   "execution_count": 115,
   "id": "ab062017",
   "metadata": {},
   "outputs": [
    {
     "name": "stdout",
     "output_type": "stream",
     "text": [
      "Enter multiple integers : 3.4.5\n",
      "[3, 4, 5]\n"
     ]
    }
   ],
   "source": [
    "print([int(x) for x in input(\"Enter multiple integers : \").split(\".\")])"
   ]
  },
  {
   "cell_type": "code",
   "execution_count": 19,
   "id": "a8212e04",
   "metadata": {},
   "outputs": [
    {
     "name": "stdout",
     "output_type": "stream",
     "text": [
      "Nested loop : [2, 4, 6, 4, 8, 12, 6, 12, 18]\n",
      "One-liner : [2, 4, 6, 4, 8, 12, 6, 12, 18]\n"
     ]
    }
   ],
   "source": [
    "# nested loop\n",
    "product_xy = []\n",
    "for x in [1,2,3] :\n",
    "    for y in [2,4,6] :\n",
    "        product_xy.append(x * y)\n",
    "print(\"Nested loop :\",product_xy)\n",
    "\n",
    "\n",
    "# one-liner\n",
    "product_yx = [x * y for x in [1,2,3] for y in [2,4,6]]\n",
    "print(\"One-liner :\",product_yx)"
   ]
  },
  {
   "cell_type": "markdown",
   "id": "fcb987e1",
   "metadata": {},
   "source": [
    "### 5.2 Comparing one-liners and lambda functions\n",
    "* Calculating the squares of a list using the one-liner."
   ]
  },
  {
   "cell_type": "code",
   "execution_count": 23,
   "id": "6d369af8",
   "metadata": {},
   "outputs": [
    {
     "name": "stdout",
     "output_type": "stream",
     "text": [
      "one-liner : [1, 4, 9, 16, 25, 36, 49]\n"
     ]
    }
   ],
   "source": [
    "#one-liner\n",
    "a = [1,2,3,4,5,6,7]\n",
    "a = [x ** 2 for x in a]\n",
    "print(\"one-liner :\",a)"
   ]
  },
  {
   "cell_type": "code",
   "execution_count": 24,
   "id": "94a54c4e",
   "metadata": {},
   "outputs": [
    {
     "name": "stdout",
     "output_type": "stream",
     "text": [
      "one-liner : [1, 4, 9, 16, 25, 36, 49]\n"
     ]
    }
   ],
   "source": [
    "#one-liner\n",
    "a = [x ** 2 for x in range(1,8)]\n",
    "print(\"one-liner :\",a)"
   ]
  },
  {
   "cell_type": "code",
   "execution_count": 26,
   "id": "1374489d",
   "metadata": {},
   "outputs": [
    {
     "name": "stdout",
     "output_type": "stream",
     "text": [
      "lambda : [1, 4, 9, 16, 25, 36, 49]\n"
     ]
    }
   ],
   "source": [
    "# lambda functions\n",
    "a = [1,2,3,4,5,6,7]\n",
    "a = list(map(lambda x : x ** 2, a))\n",
    "print(\"lambda :\",a)"
   ]
  },
  {
   "cell_type": "code",
   "execution_count": 28,
   "id": "725c477b",
   "metadata": {},
   "outputs": [
    {
     "name": "stdout",
     "output_type": "stream",
     "text": [
      "The lsit of adult : [34, 39, 20, 54]\n"
     ]
    }
   ],
   "source": [
    "# filter and lambda\n",
    "\n",
    "ages = [34,39,20,18,13,54]\n",
    "adult_ages = list(filter(lambda x : x >= 19,ages))\n",
    "print(\"The lsit of adult :\",adult_ages)"
   ]
  },
  {
   "cell_type": "code",
   "execution_count": 29,
   "id": "913a9835",
   "metadata": {},
   "outputs": [
    {
     "name": "stdout",
     "output_type": "stream",
     "text": [
      "The lsit of adult : [34, 39, 20, 54]\n"
     ]
    }
   ],
   "source": [
    "#one-liner \n",
    "\n",
    "ages = [34,39,20,18,13,54]\n",
    "print(\"The lsit of adult :\",[x for x in ages if x >= 19])"
   ]
  },
  {
   "cell_type": "markdown",
   "id": "742c382a",
   "metadata": {},
   "source": [
    "* using one-liners and lambda to get a list of multiples of 2 and 3"
   ]
  },
  {
   "cell_type": "code",
   "execution_count": 30,
   "id": "2386b7e9",
   "metadata": {},
   "outputs": [
    {
     "name": "stdout",
     "output_type": "stream",
     "text": [
      "[6, 12, 18, 24, 30]\n"
     ]
    }
   ],
   "source": [
    "#one-liner\n",
    "\n",
    "print([n for n in range(1,31) if n %2 ==0 and n % 3 == 0])"
   ]
  },
  {
   "cell_type": "code",
   "execution_count": 31,
   "id": "852e0a45",
   "metadata": {},
   "outputs": [
    {
     "name": "stdout",
     "output_type": "stream",
     "text": [
      "[6, 12, 18, 24, 30]\n"
     ]
    }
   ],
   "source": [
    "# lambda functions\n",
    "\n",
    "num = list(filter(lambda x : (x % 2 == 0 and x % 3 == 0),range(1,31)))\n",
    "print(num)"
   ]
  },
  {
   "cell_type": "markdown",
   "id": "f9247a5a",
   "metadata": {},
   "source": [
    "* using one-liners and lambda to get a list of multiples of 2,3 and 5"
   ]
  },
  {
   "cell_type": "code",
   "execution_count": 32,
   "id": "f622c6bd",
   "metadata": {},
   "outputs": [
    {
     "name": "stdout",
     "output_type": "stream",
     "text": [
      "[30]\n"
     ]
    }
   ],
   "source": [
    "#one-liner\n",
    "\n",
    "print([n for n in range(1,31) if n % 2 ==0 if n % 3 == 0 if n % 5 == 0])"
   ]
  },
  {
   "cell_type": "code",
   "execution_count": 33,
   "id": "453639d3",
   "metadata": {},
   "outputs": [
    {
     "name": "stdout",
     "output_type": "stream",
     "text": [
      "[30]\n"
     ]
    }
   ],
   "source": [
    "# lambda functions\n",
    "\n",
    "num = list(filter(lambda x : (x % 2 == 0 and x % 3 == 0 and x % 5 == 0),range(1,31)))\n",
    "print(num)"
   ]
  },
  {
   "cell_type": "markdown",
   "id": "67e7f935",
   "metadata": {},
   "source": [
    "### 19. 3 Paper coding"
   ]
  },
  {
   "cell_type": "code",
   "execution_count": 64,
   "id": "133f9601",
   "metadata": {},
   "outputs": [
    {
     "name": "stdout",
     "output_type": "stream",
     "text": [
      "[2, 4, 6, 8, 10]\n"
     ]
    }
   ],
   "source": [
    "#Q1\n",
    "n_list = [1,2,3,4,5,6,7,8,9,10]\n",
    "even_list =[]\n",
    "for x in filter(lambda x : (x%2 == 0),n_list) :\n",
    "    even_list.append(x)\n",
    "\n",
    "\n",
    "print(even_list)"
   ]
  },
  {
   "cell_type": "code",
   "execution_count": 65,
   "id": "8c2a5102",
   "metadata": {},
   "outputs": [
    {
     "name": "stdout",
     "output_type": "stream",
     "text": [
      "[2, 4, 6, 8, 10]\n"
     ]
    }
   ],
   "source": [
    "#Q2\n",
    "\n",
    "n_list = [1,2,3,4,5,6,7,8,9,10]\n",
    "even_list = list(filter(lambda x : (x%2 == 0),n_list))\n",
    "\n",
    "print(even_list)"
   ]
  },
  {
   "cell_type": "code",
   "execution_count": 75,
   "id": "cd0bdda5",
   "metadata": {},
   "outputs": [
    {
     "name": "stdout",
     "output_type": "stream",
     "text": [
      "['A', 'B', 'C', 'D']\n"
     ]
    }
   ],
   "source": [
    "#Q3 \n",
    "\n",
    "def to_upper (letter) :\n",
    "    return letter.upper() \n",
    "\n",
    "a_list = ['a','b','c','d']\n",
    "upper_a_list = list(map(lambda x : to_upper(x),a_list))\n",
    "\n",
    "print(upper_a_list)\n"
   ]
  },
  {
   "cell_type": "code",
   "execution_count": 97,
   "id": "6db91517",
   "metadata": {},
   "outputs": [
    {
     "name": "stdout",
     "output_type": "stream",
     "text": [
      "The sum of integers from 1 to 100 : 5050\n"
     ]
    }
   ],
   "source": [
    "#Q4\n",
    "from functools import reduce\n",
    "\n",
    "sum_num = reduce(lambda x,y: (x+y),range(1,101))\n",
    "\n",
    "print(\"The sum of integers from 1 to 100 :\",sum_num)"
   ]
  },
  {
   "cell_type": "markdown",
   "id": "fcacd606",
   "metadata": {},
   "source": [
    "### 19.4 Let's Code"
   ]
  },
  {
   "cell_type": "code",
   "execution_count": 118,
   "id": "faeb1547",
   "metadata": {},
   "outputs": [
    {
     "name": "stdout",
     "output_type": "stream",
     "text": [
      "Enter multiple integers : 1887.3.3\n",
      "<function check_year.<locals>.<lambda> at 0x10ec7b5b0>\n"
     ]
    }
   ],
   "source": [
    "\n",
    "# date = input(\"Please enter date separately by '.' (e.g., 1917.6.10): \").split(\".\")\n",
    "# date = [int(x) for x in date]\n",
    "date = [int(x) for x in input(\"Enter multiple integers : \").split(\".\")]\n",
    "\n",
    "def check_year (date) :\n",
    "    sherlock_series = [1887,1890,1892,1894,1901,1905,1915,1917,1927]\n",
    "    isYear = lambda year : year in sherlock_series\n",
    "    return isYear\n",
    "\n",
    "print(check_year(date[0]))\n",
    "\n",
    "\n"
   ]
  },
  {
   "cell_type": "code",
   "execution_count": 124,
   "id": "c6406e74",
   "metadata": {},
   "outputs": [
    {
     "name": "stdout",
     "output_type": "stream",
     "text": [
      "Please enter date separately by '.' (e.g., 1917.6.10 :)1892.32.24\n",
      "Invalid month.\n",
      "This is not a publication date of Sherlock Holmes or you entered it incorrectly.\n"
     ]
    }
   ],
   "source": [
    "def valid_date(date) : \n",
    "        sherlock_series = [1887,1890,1892,1894,1901,1905,1915,1917,1927]\n",
    "        days=[31,29,31,30,31,30,31,31,30,31,30,31]\n",
    "        splitted = date.split('.')\n",
    "        year = int(splitted[0])\n",
    "        month = int(splitted[1])\n",
    "        day = int(splitted[2])\n",
    "        is_Sherlock_book_yr = lambda x : x in sherlock_series\n",
    "        \n",
    "        if not is_Sherlock_book_yr(year) :\n",
    "            print(\"This is not a publication year of Sherlock Holmes series.\")\n",
    "            return False\n",
    "        if month < 1 or month > 12 :\n",
    "            print(\"Invalid month.\")\n",
    "            return False\n",
    "        if day < 1 or day > days[month-1]:\n",
    "            print(\"Invalid day.\")\n",
    "            return False        \n",
    "        \n",
    "        return True\n",
    "    \n",
    "date = input(\"Please enter date separately by '.' (e.g., 1917.6.10 :)\")\n",
    "if valid_date(date) == True :\n",
    "    print(\"This is a publication date of Sherlock Holmes!\")\n",
    "else:\n",
    "    print(\"This is not a publication date of Sherlock Holmes or you entered it incorrectly.\")\n"
   ]
  },
  {
   "cell_type": "markdown",
   "id": "4c0b37d2",
   "metadata": {},
   "source": [
    "### 19.5 Pair Programming"
   ]
  },
  {
   "cell_type": "code",
   "execution_count": 126,
   "id": "dc7cd9b3",
   "metadata": {},
   "outputs": [
    {
     "name": "stdout",
     "output_type": "stream",
     "text": [
      "6.0\n"
     ]
    }
   ],
   "source": [
    "scores = [100,90,95,90,80,70,0,80,90,90,0,90,100,75,20,30,50,90]\n",
    "a=0\n",
    "b=3\n",
    "for i in range(0,len(scores)/6) :\n",
    "    print"
   ]
  },
  {
   "cell_type": "code",
   "execution_count": null,
   "id": "f75c0229",
   "metadata": {},
   "outputs": [],
   "source": []
  },
  {
   "cell_type": "code",
   "execution_count": null,
   "id": "0a771b76",
   "metadata": {},
   "outputs": [],
   "source": []
  },
  {
   "cell_type": "code",
   "execution_count": null,
   "id": "a5d7c7c6",
   "metadata": {},
   "outputs": [],
   "source": []
  },
  {
   "cell_type": "code",
   "execution_count": null,
   "id": "a9af2de9",
   "metadata": {},
   "outputs": [],
   "source": []
  },
  {
   "cell_type": "code",
   "execution_count": null,
   "id": "970da178",
   "metadata": {},
   "outputs": [],
   "source": []
  },
  {
   "cell_type": "code",
   "execution_count": null,
   "id": "b3b6f8f7",
   "metadata": {},
   "outputs": [],
   "source": []
  },
  {
   "cell_type": "code",
   "execution_count": null,
   "id": "841eeb07",
   "metadata": {},
   "outputs": [],
   "source": []
  }
 ],
 "metadata": {
  "kernelspec": {
   "display_name": "Python 3 (ipykernel)",
   "language": "python",
   "name": "python3"
  },
  "language_info": {
   "codemirror_mode": {
    "name": "ipython",
    "version": 3
   },
   "file_extension": ".py",
   "mimetype": "text/x-python",
   "name": "python",
   "nbconvert_exporter": "python",
   "pygments_lexer": "ipython3",
   "version": "3.10.9"
  }
 },
 "nbformat": 4,
 "nbformat_minor": 5
}
