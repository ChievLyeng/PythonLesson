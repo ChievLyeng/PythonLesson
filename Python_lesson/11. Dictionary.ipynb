{
 "cells": [
  {
   "cell_type": "markdown",
   "id": "62d1d814",
   "metadata": {},
   "source": [
    "Key_Concept"
   ]
  },
  {
   "cell_type": "markdown",
   "id": "c125b9db",
   "metadata": {},
   "source": [
    "Dictionary_syntax"
   ]
  },
  {
   "cell_type": "code",
   "execution_count": 1,
   "id": "92e60914",
   "metadata": {},
   "outputs": [
    {
     "name": "stdout",
     "output_type": "stream",
     "text": [
      "{'Name': 'Lyeng Chiev', 'Age': 18, 'Weight': 82}\n"
     ]
    }
   ],
   "source": [
    "person={\"Name\":\"Lyeng Chiev\",\"Age\":18,\"Weight\":82}\n",
    "\n",
    "print(person)\n"
   ]
  },
  {
   "cell_type": "markdown",
   "id": "50ca2892",
   "metadata": {},
   "source": [
    "2.2 Empty Dicitonary /2.3 Initializing dictionary"
   ]
  },
  {
   "cell_type": "code",
   "execution_count": 5,
   "id": "055e0e85",
   "metadata": {},
   "outputs": [
    {
     "name": "stdout",
     "output_type": "stream",
     "text": [
      "{'David': '010-1234-5678', 'Daniel': '010-1234-5680', 'Jonh': '010-1234-5679'}\n"
     ]
    }
   ],
   "source": [
    "phone_book={} #empty dictionary\n",
    "\n",
    "phone_book[\"David\"]=\"010-1234-5678\"  # add item to dicitonary\n",
    "phone_book[\"Daniel\"]=\"010-1234-5680\"\n",
    "phone_book[\"Jonh\"]=\"010-1234-5679\"\n",
    "\n",
    "\n",
    "print(phone_book)"
   ]
  },
  {
   "cell_type": "markdown",
   "id": "47704536",
   "metadata": {},
   "source": [
    "3.1/3.2 Retrieve,Modify value to Dictionay"
   ]
  },
  {
   "cell_type": "code",
   "execution_count": 9,
   "id": "a267aa41",
   "metadata": {},
   "outputs": [
    {
     "name": "stdout",
     "output_type": "stream",
     "text": [
      "Lyeng Chiev 18 82\n",
      "{'Name': 'Jonas', 'Age': 10, 'Weight': 82}\n"
     ]
    }
   ],
   "source": [
    "person={\"Name\":\"Lyeng Chiev\",\"Age\":18,\"Weight\":82}\n",
    "\n",
    "# use key to retrieve value\n",
    "print(person[\"Name\"],person[\"Age\"],person[\"Weight\"])\n",
    "\n",
    "#modify value using key\n",
    "person[\"Age\"]=10\n",
    "person[\"Name\"]=\"Jonas\"\n",
    "\n",
    "print(person)"
   ]
  },
  {
   "cell_type": "markdown",
   "id": "917f87e7",
   "metadata": {},
   "source": [
    "3.3/3.4 Insert,Delete value in Dictionary"
   ]
  },
  {
   "cell_type": "code",
   "execution_count": 13,
   "id": "845c0878",
   "metadata": {},
   "outputs": [
    {
     "name": "stdout",
     "output_type": "stream",
     "text": [
      "Jos is inserted\n",
      " {'Name': 'Lyeng Chiev', 'Age': 18, 'Weight': 82, 'Job': 'Data Scientist'}\n",
      "Age is deleted\n",
      " {'Name': 'Lyeng Chiev', 'Weight': 82, 'Job': 'Data Scientist'}\n"
     ]
    }
   ],
   "source": [
    "person={\"Name\":\"Lyeng Chiev\",\"Age\":18,\"Weight\":82}\n",
    "\n",
    "person[\"Job\"]=\"Data Scientist\" #insert value to dic\n",
    "\n",
    "print(\"Jos is inserted\\n\",person)\n",
    "\n",
    "del person [\"Age\"]\n",
    "print(\"Age is deleted\\n\",person) #delete value from dic"
   ]
  },
  {
   "cell_type": "markdown",
   "id": "2c2efbc2",
   "metadata": {},
   "source": [
    "4.2 Operator for Dictionary"
   ]
  },
  {
   "cell_type": "code",
   "execution_count": 16,
   "id": "34668b0b",
   "metadata": {},
   "outputs": [
    {
     "name": "stdout",
     "output_type": "stream",
     "text": [
      "True\n",
      "False\n",
      "False\n",
      "True\n"
     ]
    }
   ],
   "source": [
    "person={\"Name\":\"Lyeng Chiev\",\"Age\":18,\"Weight\":82}\n",
    "\n",
    "# check if the key in dic or not\n",
    "print(\"Name\" in person)\n",
    "print(\"Job\" in person)\n",
    "      \n",
    "#we cannot check the item in dictionary base on value \n",
    "#only can check base on key\n",
    "print(\"Lyeng chiev\" in person)\n",
    "print(\"Lyeng chiev\" not in person)"
   ]
  },
  {
   "cell_type": "markdown",
   "id": "752aab3b",
   "metadata": {},
   "source": [
    "4.3 Comparision Operator"
   ]
  },
  {
   "cell_type": "code",
   "execution_count": 19,
   "id": "c9cfb678",
   "metadata": {},
   "outputs": [
    {
     "name": "stdout",
     "output_type": "stream",
     "text": [
      "True\n",
      "False\n"
     ]
    }
   ],
   "source": [
    "d1={\"Name\":\"David\",\"Age\":26}\n",
    "d2={\"Age\":26,\"Name\":\"David\"}\n",
    "\n",
    "print(d1==d2) #return true if 2 dic have the same items\n",
    "print(d1!=d2)"
   ]
  },
  {
   "cell_type": "markdown",
   "id": "96aac8d4",
   "metadata": {},
   "source": [
    "5. Dictionary Method"
   ]
  },
  {
   "cell_type": "markdown",
   "id": "05e82ce4",
   "metadata": {},
   "source": [
    "5.1 Pop method"
   ]
  },
  {
   "cell_type": "code",
   "execution_count": 21,
   "id": "db04d376",
   "metadata": {},
   "outputs": [
    {
     "name": "stdout",
     "output_type": "stream",
     "text": [
      "10\n",
      "{'b': 20, 'c': 30, 'd': 40}\n",
      "8\n"
     ]
    }
   ],
   "source": [
    "dic={\"a\":10,\"b\":20,\"c\":30,\"d\":40}\n",
    "\n",
    "print(dic.pop(\"a\")) #delete the item and return value\n",
    "print(dic)\n",
    "\n",
    "print(dic.pop(\"f\",8)) # since f is not the key it return 8(default value)"
   ]
  },
  {
   "cell_type": "markdown",
   "id": "b386365d",
   "metadata": {},
   "source": [
    "5.2 PopItem Method"
   ]
  },
  {
   "cell_type": "code",
   "execution_count": 23,
   "id": "4bc36d1f",
   "metadata": {},
   "outputs": [
    {
     "name": "stdout",
     "output_type": "stream",
     "text": [
      "('d', 40)\n",
      "{'a': 10, 'b': 20, 'c': 30}\n"
     ]
    }
   ],
   "source": [
    "dic={\"a\":10,\"b\":20,\"c\":30,\"d\":40}\n",
    "\n",
    "#delete the last or an arbitrary key-value pair from the dictionary \n",
    "#and returns the deleted pair as a tuple\n",
    "print(dic.popitem()) \n",
    "print(dic)"
   ]
  },
  {
   "cell_type": "markdown",
   "id": "896c04ad",
   "metadata": {},
   "source": [
    "5.3 clear method"
   ]
  },
  {
   "cell_type": "code",
   "execution_count": 24,
   "id": "6f77e2ea",
   "metadata": {},
   "outputs": [
    {
     "name": "stdout",
     "output_type": "stream",
     "text": [
      "{'a': 10, 'b': 20, 'c': 30, 'd': 40}\n",
      "{}\n"
     ]
    }
   ],
   "source": [
    "dic={\"a\":10,\"b\":20,\"c\":30,\"d\":40}\n",
    "\n",
    "print(dic)\n",
    "dic.clear() #delete all key value pair in dictionary result an empty dic\n",
    "print(dic)"
   ]
  },
  {
   "cell_type": "markdown",
   "id": "1d64c6f1",
   "metadata": {},
   "source": [
    "5.4 Update Method"
   ]
  },
  {
   "cell_type": "code",
   "execution_count": 30,
   "id": "c268c7bd",
   "metadata": {},
   "outputs": [
    {
     "name": "stdout",
     "output_type": "stream",
     "text": [
      "{'a': 10, 'b': 20, 'c': 30, 'd': 40, 'e': 50}\n",
      "a is updated to 90 {'a': 90, 'b': 20, 'c': 30, 'd': 40, 'e': 50}\n",
      "a is updated to 900 and add key f=60\n",
      " {'a': 900, 'b': 20, 'c': 30, 'd': 40, 'e': 50, 'f': 60}\n",
      "============================================================\n",
      "\n",
      "{1: 'ONE', 2: 'two', 3: 'THREE'}\n"
     ]
    }
   ],
   "source": [
    "dic={\"a\":10,\"b\":20,\"c\":30,\"d\":40}\n",
    "\n",
    "dic.update(e=50) #update a new key and value into dic (e does not exist)\n",
    "print(dic)\n",
    "\n",
    "dic.update(a=90) # update value of key a (a is exist)\n",
    "print(\"a is updated to 90\",dic)\n",
    "\n",
    "dic.update(a=900,f=60)\n",
    "print(\"a is updated to 900 and add key f=60\\n\",dic)\n",
    "\n",
    "print(\"=\"*60)\n",
    "print()\n",
    "\n",
    "dic2={1:\"one\",2:\"two\"}\n",
    "dic2.update({1:\"ONE\",3:\"THREE\"})\n",
    "print(dic2)"
   ]
  },
  {
   "cell_type": "code",
   "execution_count": 34,
   "id": "509cf72a",
   "metadata": {},
   "outputs": [
    {
     "name": "stdout",
     "output_type": "stream",
     "text": [
      "{1: 'one', 2: 'TWO', 4: 'FOUR'}\n",
      "{1: 'ONE', 2: 'TWO', 4: 'FOUR', 5: 'FIVE'}\n"
     ]
    }
   ],
   "source": [
    "dic2={1:\"one\",2:\"two\"}\n",
    "\n",
    "#list\n",
    "dic2.update([[2,\"TWO\"],[4,\"FOUR\"]]) #use list to update dictionary\n",
    "print(dic2)\n",
    "\n",
    "#tuple\n",
    "dic2.update(((1,\"ONE\"),(5,\"FIVE\"))) # use tuple to update dictionary\n",
    "print(dic2)"
   ]
  },
  {
   "cell_type": "markdown",
   "id": "98964586",
   "metadata": {},
   "source": [
    "5.5 Get Method"
   ]
  },
  {
   "cell_type": "code",
   "execution_count": 38,
   "id": "cc1dc925",
   "metadata": {},
   "outputs": [
    {
     "name": "stdout",
     "output_type": "stream",
     "text": [
      "None\n",
      "10\n",
      "0\n"
     ]
    }
   ],
   "source": [
    "dic={\"a\":10,\"b\":20,\"c\":30,\"d\":40}\n",
    "\n",
    "print(dic.get(\"e\")) # key e does not exist\n",
    "print(dic.get(\"a\")) \n",
    "\n",
    "\n",
    "# with get(key,default), if a default value is specified, it returns the \n",
    "#value of the key in the dic, but if the key does not exist, it returns the default value\n",
    "b=dic.get(\"z\",0)\n",
    "print(b)"
   ]
  },
  {
   "cell_type": "markdown",
   "id": "78d671dd",
   "metadata": {},
   "source": [
    "5.6 Key method"
   ]
  },
  {
   "cell_type": "code",
   "execution_count": 39,
   "id": "4cb94abb",
   "metadata": {},
   "outputs": [
    {
     "name": "stdout",
     "output_type": "stream",
     "text": [
      "dict_keys(['a', 'b', 'c', 'd'])\n"
     ]
    }
   ],
   "source": [
    "dic={\"a\":10,\"b\":20,\"c\":30,\"d\":40}\n",
    "\n",
    "print(dic.keys())"
   ]
  },
  {
   "cell_type": "markdown",
   "id": "ac9c3187",
   "metadata": {},
   "source": [
    "5.7 Value Method"
   ]
  },
  {
   "cell_type": "code",
   "execution_count": 40,
   "id": "0c927aa2",
   "metadata": {},
   "outputs": [
    {
     "name": "stdout",
     "output_type": "stream",
     "text": [
      "dict_values([10, 20, 30, 40])\n"
     ]
    }
   ],
   "source": [
    "dic={\"a\":10,\"b\":20,\"c\":30,\"d\":40}\n",
    "\n",
    "print(dic.values())"
   ]
  },
  {
   "cell_type": "markdown",
   "id": "39d4924e",
   "metadata": {},
   "source": [
    "5.8 Items Method"
   ]
  },
  {
   "cell_type": "code",
   "execution_count": 44,
   "id": "d92954ec",
   "metadata": {},
   "outputs": [
    {
     "name": "stdout",
     "output_type": "stream",
     "text": [
      "dict_items([('a', 10), ('b', 20), ('c', 30), ('d', 40)])\n",
      "a : 10\n",
      "b : 20\n",
      "c : 30\n",
      "d : 40\n",
      "4\n"
     ]
    }
   ],
   "source": [
    "dic={\"a\":10,\"b\":20,\"c\":30,\"d\":40}\n",
    "\n",
    "print(dic.items())\n",
    "\n",
    "for str1,num in dic.items():\n",
    "    print(str1,\":\",num)\n",
    "    \n",
    "print(len(dic))"
   ]
  },
  {
   "cell_type": "markdown",
   "id": "91914b4f",
   "metadata": {},
   "source": [
    "11.3 Paper Coding"
   ]
  },
  {
   "cell_type": "code",
   "execution_count": 18,
   "id": "7911c607",
   "metadata": {},
   "outputs": [
    {
     "name": "stdout",
     "output_type": "stream",
     "text": [
      "Seoul\n",
      "Beijing\n"
     ]
    }
   ],
   "source": [
    "capital_dic={\"Korea\":\"Seoul\",\"China\":\"Beijing\",\"USA\":\"New York\"}\n",
    "\n",
    "print(capital_dic[\"Korea\"])\n",
    "print(capital_dic.get(\"China\"))"
   ]
  },
  {
   "cell_type": "code",
   "execution_count": 16,
   "id": "7211409d",
   "metadata": {},
   "outputs": [
    {
     "name": "stdout",
     "output_type": "stream",
     "text": [
      "The price of apple is 5000 won.\n",
      "The price of banana is 4000 won.\n",
      "The price of grape is 5300 won.\n",
      "The price of melon is 6500 won.\n"
     ]
    }
   ],
   "source": [
    "fruits_dic={\"apple\":5000,\"banana\":4000,\"grape\":5300,\"melon\":6500}\n",
    "\n",
    "for fruit,price in fruits_dic.items():\n",
    "    print(\"The price of {} is {} won.\".format(fruit,price))\n",
    "\n"
   ]
  },
  {
   "cell_type": "markdown",
   "id": "acd3b959",
   "metadata": {},
   "source": [
    "11.4 Let's Code"
   ]
  },
  {
   "cell_type": "code",
   "execution_count": 50,
   "id": "a1c0d67f",
   "metadata": {},
   "outputs": [
    {
     "name": "stdout",
     "output_type": "stream",
     "text": [
      "Americano        price : 3000 won\n",
      "Iced Americano   price : 3500 won\n",
      "Cappuccino       price : 4000 won\n",
      "Ice Latte        price : 4500 won\n",
      "Espresso         price : 3600 won\n",
      "Please choose one of the above menu: ice latte\n",
      "the price of Ice Latte is 4500 won. Please pay the amount.\n"
     ]
    }
   ],
   "source": [
    "cafeMenu={\"Americano\":3000,\"Iced Americano\":3500,\"Cappuccino\":4000,\"Ice Latte\":4500,\"Espresso\":3600}\n",
    "\n",
    "for i,j in cafeMenu.items():\n",
    "    print(\"{:16s} price : {} won\".format(i,j))\n",
    "    \n",
    "    \n",
    "choice=input(\"Please choose one of the above menu: \")\n",
    "choice=choice.title()\n",
    "\n",
    "if choice in cafeMenu.keys():\n",
    "    print(\"the price of {} is {} won. Please pay the amount.\".format(choice,cafeMenu[choice]))\n",
    "else:\n",
    "    print(\"Sorry. Coffee is not in the menu\")\n"
   ]
  },
  {
   "cell_type": "markdown",
   "id": "78debfa0",
   "metadata": {},
   "source": [
    "11.5 Pair programming"
   ]
  },
  {
   "cell_type": "code",
   "execution_count": 59,
   "id": "f2925442",
   "metadata": {},
   "outputs": [
    {
     "name": "stdout",
     "output_type": "stream",
     "text": [
      "dict_keys(['apple', 'banana', 'grape', 'melon'])\n",
      "apple is in the fruits_dic.\n",
      "mango is not in fruits_dic.\n"
     ]
    }
   ],
   "source": [
    "fruits_dic={\"apple\":5000,\"banana\":4000,\"grape\":5300,\"melon\":6500}\n",
    "\n",
    "print(fruits_dic.keys())\n",
    "\n",
    "\n",
    "if \"apple\" in fruits_dic.keys():\n",
    "    print(\"apple is in the fruits_dic.\") \n",
    "else:\n",
    "    print(\"apple is not in fruits_dic.\")\n",
    "    \n",
    "if \"mango\" in fruits_dic.keys():\n",
    "    print(\"mango is in the fruits_dic.\")\n",
    "else:\n",
    "    print(\"mango is not in the fruits_dic.\")\n",
    "    \n"
   ]
  },
  {
   "cell_type": "code",
   "execution_count": null,
   "id": "8b7b7c3b",
   "metadata": {},
   "outputs": [],
   "source": []
  }
 ],
 "metadata": {
  "kernelspec": {
   "display_name": "Python 3 (ipykernel)",
   "language": "python",
   "name": "python3"
  },
  "language_info": {
   "codemirror_mode": {
    "name": "ipython",
    "version": 3
   },
   "file_extension": ".py",
   "mimetype": "text/x-python",
   "name": "python",
   "nbconvert_exporter": "python",
   "pygments_lexer": "ipython3",
   "version": "3.10.9"
  }
 },
 "nbformat": 4,
 "nbformat_minor": 5
}
