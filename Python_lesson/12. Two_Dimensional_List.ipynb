{
 "cells": [
  {
   "cell_type": "markdown",
   "id": "70383a62",
   "metadata": {},
   "source": [
    "Key Concept"
   ]
  },
  {
   "cell_type": "markdown",
   "id": "30621086",
   "metadata": {},
   "source": [
    "1.creating 2 dimensional list"
   ]
  },
  {
   "cell_type": "code",
   "execution_count": 2,
   "id": "3ac4d269",
   "metadata": {},
   "outputs": [
    {
     "name": "stdout",
     "output_type": "stream",
     "text": [
      "[1, 2, 3]\n",
      "[4, 5, 6]\n",
      "[7, 8, 9]\n"
     ]
    }
   ],
   "source": [
    "list_arr=[[1,2,3],[4,5,6],[7,8,9]]\n",
    "\n",
    "print(list_arr[0])\n",
    "print(list_arr[1])\n",
    "print(list_arr[2])"
   ]
  },
  {
   "cell_type": "code",
   "execution_count": 3,
   "id": "604510ba",
   "metadata": {},
   "outputs": [
    {
     "name": "stdout",
     "output_type": "stream",
     "text": [
      "[[0, 0], [0, 0], [0, 0]]\n"
     ]
    }
   ],
   "source": [
    "list1=[]\n",
    "\n",
    "for i in range(3):\n",
    "    line=[]\n",
    "    for j in range(2):\n",
    "        line.append(0)\n",
    "    list1.append(line)\n",
    "    \n",
    "print(list1)"
   ]
  },
  {
   "cell_type": "code",
   "execution_count": 10,
   "id": "d110039f",
   "metadata": {},
   "outputs": [
    {
     "name": "stdout",
     "output_type": "stream",
     "text": [
      "List_arr : [[0, 0], [0, 0], [0, 0]]\n",
      "List_arr2 : [[0, 0], [0, 0], [0, 0]]\n"
     ]
    }
   ],
   "source": [
    "list_arr=[[0] * 2 for i in range(3)]\n",
    "\n",
    "print(\"List_arr :\",list_arr)\n",
    "\n",
    "list_arr2=[[0 for j in range(2)] for i in range(3)]\n",
    "print(\"List_arr2 :\",list_arr2)"
   ]
  },
  {
   "cell_type": "code",
   "execution_count": 8,
   "id": "97f27751",
   "metadata": {},
   "outputs": [
    {
     "name": "stdout",
     "output_type": "stream",
     "text": [
      "a : [1, 4, 9, 16, 25]\n",
      "b : [0, 2, 4, 6, 8]\n",
      "c : [1, 3, 5, 7, 9]\n"
     ]
    }
   ],
   "source": [
    "a=[i ** 2 for i in [1,2,3,4,5]]\n",
    "print(\"a :\",a)\n",
    "\n",
    "b=[i for i in range(10) if i%2 == 0]\n",
    "print(\"b :\",b)\n",
    "\n",
    "c=[i for i in range(10) if i%2==1]\n",
    "print(\"c :\",c)"
   ]
  },
  {
   "cell_type": "markdown",
   "id": "d9d6c064",
   "metadata": {},
   "source": [
    "2. Accessing elements of a 2D list"
   ]
  },
  {
   "cell_type": "markdown",
   "id": "148a767d",
   "metadata": {},
   "source": [
    "2.1 Indexing for element access"
   ]
  },
  {
   "cell_type": "code",
   "execution_count": 17,
   "id": "10f41454",
   "metadata": {},
   "outputs": [
    {
     "name": "stdout",
     "output_type": "stream",
     "text": [
      "1\n",
      "2\n",
      "6\n",
      "9\n",
      "300\n",
      "[[1, 2, 3], [4, 300, 6], [7, 8, 9]]\n"
     ]
    }
   ],
   "source": [
    "list_arr=[[1,2,3],[4,5,6],[7,8,9]]\n",
    "\n",
    "print(list_arr[0][0]) #1\n",
    "print(list_arr[0][1])  #2\n",
    "print(list_arr[1][2]) #6\n",
    "print(list_arr[2][2]) #\n",
    "\n",
    "list_arr[1][1]=300\n",
    "\n",
    "print(list_arr[1][1])\n",
    "print(list_arr)"
   ]
  },
  {
   "cell_type": "markdown",
   "id": "9b939ab1",
   "metadata": {},
   "source": [
    "3.1 Using a for statement to print 2D list"
   ]
  },
  {
   "cell_type": "code",
   "execution_count": 18,
   "id": "367a0581",
   "metadata": {},
   "outputs": [
    {
     "name": "stdout",
     "output_type": "stream",
     "text": [
      "item : [1, 2, 3]\n",
      "item : [4, 5, 6]\n",
      "item : [7, 8, 9]\n"
     ]
    }
   ],
   "source": [
    "list_arr=[[1,2,3],[4,5,6],[7,8,9]]\n",
    "\n",
    "for i in list_arr:\n",
    "    print(\"item :\",i)"
   ]
  },
  {
   "cell_type": "code",
   "execution_count": 20,
   "id": "70d8b14b",
   "metadata": {},
   "outputs": [
    {
     "name": "stdout",
     "output_type": "stream",
     "text": [
      "1 2 3\n",
      "4 5 6\n",
      "7 8 9\n"
     ]
    }
   ],
   "source": [
    "list_arr=[[1,2,3],[4,5,6],[7,8,9]]\n",
    "\n",
    "for i,j,k in list_arr:\n",
    "    print(i,j,k)"
   ]
  },
  {
   "cell_type": "markdown",
   "id": "6dffb827",
   "metadata": {},
   "source": [
    "3.3 Print 2D list using nested loop"
   ]
  },
  {
   "cell_type": "code",
   "execution_count": 22,
   "id": "dfb40b68",
   "metadata": {},
   "outputs": [
    {
     "name": "stdout",
     "output_type": "stream",
     "text": [
      "1 2 3 \n",
      "4 5 6 \n",
      "7 8 9 \n",
      "==============================\n",
      "1 2 3 \n",
      "4 5 \n",
      "7 \n"
     ]
    }
   ],
   "source": [
    "list_arr=[[1,2,3],[4,5,6],[7,8,9]]\n",
    "\n",
    "for i in list_arr:\n",
    "    for j in i:\n",
    "        print(j,end=\" \")\n",
    "    print()\n",
    "    \n",
    "print(\"=\"*30)\n",
    "\n",
    "list_arr=[[1,2,3],[4,5],[7]]\n",
    "\n",
    "for i in list_arr:\n",
    "    for j in i:\n",
    "        print(j,end=\" \")\n",
    "    print()"
   ]
  },
  {
   "cell_type": "markdown",
   "id": "6dc24893",
   "metadata": {},
   "source": [
    "3.4 Output using index"
   ]
  },
  {
   "cell_type": "code",
   "execution_count": 25,
   "id": "34c2c85a",
   "metadata": {},
   "outputs": [
    {
     "name": "stdout",
     "output_type": "stream",
     "text": [
      "1 2 3 \n",
      "4 5 6 \n",
      "7 8 9 \n",
      "==============================\n",
      "1 2 3 \n",
      "4 5 \n",
      "7 \n"
     ]
    }
   ],
   "source": [
    "list_arr=[[1,2,3],[4,5,6],[7,8,9]]\n",
    "for i in range(len(list_arr)):\n",
    "    for j in range(len(list_arr[i])):\n",
    "        print(list_arr[i][j],end=\" \")\n",
    "    print()\n",
    "\n",
    "print(\"=\"*30)\n",
    "\n",
    "list_arr=[[1,2,3],[4,5],[7]]\n",
    "for i in range(len(list_arr)):\n",
    "    for j in range(len(list_arr[i])):\n",
    "        print(list_arr[i][j],end=\" \")\n",
    "    print()"
   ]
  },
  {
   "cell_type": "markdown",
   "id": "136ce79b",
   "metadata": {},
   "source": [
    "3.5 Printing 2D list using while statement"
   ]
  },
  {
   "cell_type": "code",
   "execution_count": 26,
   "id": "cfae0e93",
   "metadata": {},
   "outputs": [
    {
     "name": "stdout",
     "output_type": "stream",
     "text": [
      "1 2 3\n",
      "4 5 6\n",
      "7 8 9\n"
     ]
    }
   ],
   "source": [
    "list_arr=[[1,2,3],[4,5,6],[7,8,9]]\n",
    "\n",
    "i=0\n",
    "while i < len(list_arr):\n",
    "    a,b,c=list_arr[i]\n",
    "    print(a,b,c)\n",
    "    i+=1\n",
    "    \n"
   ]
  },
  {
   "cell_type": "markdown",
   "id": "aea1d846",
   "metadata": {},
   "source": [
    "4.1 Reference vs Copy"
   ]
  },
  {
   "cell_type": "code",
   "execution_count": 31,
   "id": "eed18e6c",
   "metadata": {},
   "outputs": [
    {
     "name": "stdout",
     "output_type": "stream",
     "text": [
      "list1 : [[1, 2, 3], [4, 5, 6], [7, 8, 9]]\n",
      "list1 : [[90, 2, 3], [4, 5, 6], [7, 8, 9]]\n",
      "list_arr: [[90, 2, 3], [4, 5, 6], [7, 8, 9]]\n",
      "list_arr is list1 : True\n"
     ]
    }
   ],
   "source": [
    "list_arr=[[1,2,3],[4,5,6],[7,8,9]]\n",
    "\n",
    "list1=list_arr #list1 and list_arr point to the same obj (referred to as reference)\n",
    "print(\"list1 :\",list1)\n",
    "\n",
    "list1[0][0]=90\n",
    "\n",
    "# they refer to the same obj, \n",
    "# if the value of the obj changes, they will show the same value\n",
    "print(\"list1 :\",list1) \n",
    "print(\"list_arr:\",list_arr)\n",
    "print(\"list_arr is list1 :\",list_arr is list1)"
   ]
  },
  {
   "cell_type": "markdown",
   "id": "ae960aac",
   "metadata": {},
   "source": [
    "Deep copy method"
   ]
  },
  {
   "cell_type": "code",
   "execution_count": 30,
   "id": "21b83047",
   "metadata": {},
   "outputs": [
    {
     "name": "stdout",
     "output_type": "stream",
     "text": [
      "list1 : [[90, 2, 3], [4, 5, 6], [7, 8, 9]]\n",
      "list_arr: [[1, 2, 3], [4, 5, 6], [7, 8, 9]]\n",
      "list_arr is list1 : False\n"
     ]
    }
   ],
   "source": [
    "from copy import deepcopy\n",
    "\n",
    "list_arr=[[1,2,3],[4,5,6],[7,8,9]]\n",
    "list1=deepcopy(list_arr)\n",
    "list1[0][0]=90\n",
    "\n",
    "\n",
    "print(\"list1 :\",list1) \n",
    "print(\"list_arr:\",list_arr)\n",
    "\n",
    "print(\"list_arr is list1 :\",list_arr is list1)"
   ]
  },
  {
   "cell_type": "markdown",
   "id": "54b76a88",
   "metadata": {},
   "source": [
    "5.1 Jagged list"
   ]
  },
  {
   "cell_type": "code",
   "execution_count": 34,
   "id": "9407b296",
   "metadata": {},
   "outputs": [
    {
     "name": "stdout",
     "output_type": "stream",
     "text": [
      "[[1], [1, 2], [1, 2, 3], [1, 2, 3, 4], [1, 2, 3, 4, 5]]\n"
     ]
    }
   ],
   "source": [
    "list1=[1,2,3,4,5]\n",
    "list2=[]\n",
    "\n",
    "for i in list1:\n",
    "    line=[]\n",
    "    for j in range(i):\n",
    "        line.append(j)\n",
    "    list2.append(line)\n",
    "    \n",
    "print(list2)"
   ]
  },
  {
   "cell_type": "markdown",
   "id": "645ab203",
   "metadata": {},
   "source": [
    "5.2 create jagged list with nested loop"
   ]
  },
  {
   "cell_type": "code",
   "execution_count": 35,
   "id": "ad985c03",
   "metadata": {},
   "outputs": [
    {
     "name": "stdout",
     "output_type": "stream",
     "text": [
      "0 \n",
      "0 1 \n",
      "0 1 2 \n",
      "0 1 2 3 \n",
      "0 1 2 3 4 \n"
     ]
    }
   ],
   "source": [
    "list1=[1,2,3,4,5]\n",
    "list2=[]\n",
    "\n",
    "for i in list1:\n",
    "    line=[]\n",
    "    for j in range(i):\n",
    "        line.append(j)\n",
    "        print(j,end=\" \")\n",
    "    list2.append(line)\n",
    "    print()\n",
    "    "
   ]
  },
  {
   "cell_type": "markdown",
   "id": "300a4831",
   "metadata": {},
   "source": [
    "5.3 create jagged list using nested loop and randint method"
   ]
  },
  {
   "cell_type": "code",
   "execution_count": 56,
   "id": "8cf71db6",
   "metadata": {},
   "outputs": [
    {
     "name": "stdout",
     "output_type": "stream",
     "text": [
      "93 \n",
      "72 50 \n",
      "66 33 48 \n",
      "96 100 67 19 \n",
      "10 60 62 59 31 \n"
     ]
    }
   ],
   "source": [
    "from random import randint\n",
    "\n",
    "list1=[1,2,3,4,5]\n",
    "list2=[]\n",
    "\n",
    "for i in list1:\n",
    "    line=[]\n",
    "    for j in range(i):\n",
    "        line.append(randint(1,100))\n",
    "    list2.append(line)\n",
    "    \n",
    "for i in list2:\n",
    "    for j in i:\n",
    "        print(j,end=\" \")\n",
    "    print()"
   ]
  },
  {
   "cell_type": "markdown",
   "id": "c5bab683",
   "metadata": {},
   "source": [
    "5.4 create jagged list with one-liner expression"
   ]
  },
  {
   "cell_type": "code",
   "execution_count": 63,
   "id": "03a8ac34",
   "metadata": {},
   "outputs": [
    {
     "name": "stdout",
     "output_type": "stream",
     "text": [
      "[[0], [0, 0], [0, 0, 0], [0, 0, 0, 0], [0, 0, 0, 0, 0]]\n",
      "0 \n",
      "0 0 \n",
      "0 0 0 \n",
      "0 0 0 0 \n",
      "0 0 0 0 0 \n"
     ]
    }
   ],
   "source": [
    "list1=[[0] * i for i in [1,2,3,4,5]]\n",
    "\n",
    "print(list1)\n",
    "    \n",
    "for i in list1:\n",
    "    for j in i:\n",
    "        print(j,end=\" \")\n",
    "    print()"
   ]
  },
  {
   "cell_type": "code",
   "execution_count": 68,
   "id": "34dd385f",
   "metadata": {},
   "outputs": [
    {
     "name": "stdout",
     "output_type": "stream",
     "text": [
      "[[10], [20, 20], [30, 30, 30], [40, 40, 40, 40], [50, 50, 50, 50, 50]]\n",
      "[10, 99]\n",
      "[20, 20, 77]\n",
      "[30, 30, 30]\n",
      "[40, 40, 40, 40]\n",
      "[50, 50, 50, 50, 50]\n"
     ]
    }
   ],
   "source": [
    "list1=[[10 * i] * i for i in [1,2,3,4,5]]\n",
    "\n",
    "print(list1)\n",
    "\n",
    "list1[0].append(99)\n",
    "list1[1].append(77)\n",
    "\n",
    "for i in list1:\n",
    "    print(i)"
   ]
  },
  {
   "cell_type": "markdown",
   "id": "9552ed97",
   "metadata": {},
   "source": [
    "12.3 Paper coding"
   ]
  },
  {
   "cell_type": "code",
   "execution_count": 1,
   "id": "5aa54ec3",
   "metadata": {},
   "outputs": [
    {
     "name": "stdout",
     "output_type": "stream",
     "text": [
      "1 2 3 4\n",
      "5 6 7 8\n",
      "9 10 11 12\n",
      "13 14 15 16\n"
     ]
    }
   ],
   "source": [
    "# lst=[[1,2,3,4],[5,6,7,8],[9,10,11,12],[13,14,15,16]]\n",
    "\n",
    "# for i,j,k,l in lst:\n",
    "#     print(i,j,k,l)\n",
    "a=1\n",
    "\n",
    "lst=[]\n",
    "\n",
    "for i in range(4):\n",
    "    line=[]\n",
    "    for j in range(4):\n",
    "        line.append(a)\n",
    "        a+=1\n",
    "    lst.append(line)\n",
    "    \n",
    "        \n",
    "for i,j,k,l in lst:\n",
    "    print(i,j,k,l)"
   ]
  },
  {
   "cell_type": "markdown",
   "id": "5ca03c7a",
   "metadata": {},
   "source": [
    "12.4 Let's Code"
   ]
  },
  {
   "cell_type": "code",
   "execution_count": 33,
   "id": "88bd17d7",
   "metadata": {},
   "outputs": [
    {
     "name": "stdout",
     "output_type": "stream",
     "text": [
      "Input Rows   : 3\n",
      "Input Colums : 6\n",
      "==================================================\n",
      "0 0 1 1 1 0 \n",
      "1 1 1 0 1 0 \n",
      "0 1 0 1 0 1 \n",
      "==================================================\n",
      "Number of avialable seats : 8\n",
      "Number of seats : 1 2 6 10 12 13 15 17 "
     ]
    }
   ],
   "source": [
    "from random import randint\n",
    "seat=[]\n",
    "lst=[]\n",
    "\n",
    "r=int(input(\"Input Rows   : \"))\n",
    "c=int(input(\"Input Colums : \"))\n",
    "\n",
    "for i in range(r):\n",
    "    line=[]\n",
    "    for j in range(c):\n",
    "        line.append(randint(0,1))\n",
    "    seat.append(line)\n",
    "    \n",
    "print(\"=\" * 50)\n",
    "    \n",
    "for l in range(len(seat)):\n",
    "    for k in range(len(seat[l])):\n",
    "        print(seat[l][k],end=\" \")\n",
    "        lst.append(seat[l][k])\n",
    "    print()\n",
    "\n",
    "print(\"=\" * 50)\n",
    "print(\"Number of avialable seats :\",lst.count(0))\n",
    "print(\"Number of seats :\",end=\" \")\n",
    "\n",
    "for i in range(len(lst)):\n",
    "    if lst[i] == 0:\n",
    "        print(i+1 ,end=\" \")"
   ]
  },
  {
   "cell_type": "markdown",
   "id": "7fd38217",
   "metadata": {},
   "source": [
    "12.5 Pair Programming"
   ]
  },
  {
   "cell_type": "code",
   "execution_count": 9,
   "id": "ebffb284",
   "metadata": {},
   "outputs": [
    {
     "name": "stdout",
     "output_type": "stream",
     "text": [
      "Enter n : 9\n",
      "Enter First number  : 1\n",
      "Enter Second number : 0\n",
      "==============================\n",
      "1 0 1 0 1 0 1 0 1 \n",
      "0 1 0 1 0 1 0 1 0 \n",
      "1 0 1 0 1 0 1 0 1 \n",
      "0 1 0 1 0 1 0 1 0 \n",
      "1 0 1 0 1 0 1 0 1 \n",
      "0 1 0 1 0 1 0 1 0 \n",
      "1 0 1 0 1 0 1 0 1 \n",
      "0 1 0 1 0 1 0 1 0 \n",
      "1 0 1 0 1 0 1 0 1 \n",
      "==============================\n"
     ]
    }
   ],
   "source": [
    "lst=[]\n",
    "\n",
    "while True:\n",
    "    n=int(input(\"Enter n : \"))\n",
    "    a=int(input(\"Enter First number  : \"))\n",
    "    b=int(input(\"Enter Second number : \"))\n",
    "    if n>=2:\n",
    "        break\n",
    "    \n",
    "print(\"=\" *30)\n",
    "\n",
    "for i in range(1,n+1):\n",
    "    line=[]\n",
    "    for j in range(1,n+1):\n",
    "        if i%2!=0:\n",
    "            if j%2 != 0:\n",
    "                line.append(a)\n",
    "            else:\n",
    "                line.append(b)\n",
    "        else:\n",
    "            if j%2 != 0:\n",
    "                line.append(b)\n",
    "            else:\n",
    "                line.append(a)            \n",
    "    lst.append(line)\n",
    "    \n",
    "for l in range(len(lst)):\n",
    "    for k in range(len(lst[l])):\n",
    "        print(lst[l][k],end=\" \")\n",
    "    print()\n",
    "    \n",
    "print(\"=\" *30)"
   ]
  },
  {
   "cell_type": "code",
   "execution_count": null,
   "id": "d1a9926c",
   "metadata": {},
   "outputs": [],
   "source": [
    "# for i in range(1,n):\n",
    "#     line=[]\n",
    "#     for j in range(1,n):\n",
    "#         if i%2!=0:\n",
    "#             if j%2 != 0:\n",
    "#                 line.append(1)\n",
    "#             else:\n",
    "#                 line.append(0)\n",
    "#         elif i%2 == 0:\n",
    "#             if j%2 != 0:\n",
    "#                 line.append(0)\n",
    "#             else:\n",
    "#                 line.append(1)            \n",
    "#     lst.append(line)\n",
    "    \n",
    "# for l in range(len(lst)):\n",
    "#     for k in range(len(lst[l])):\n",
    "#         print(lst[l][k],end=\" \")\n",
    "#     print()"
   ]
  }
 ],
 "metadata": {
  "kernelspec": {
   "display_name": "Python 3 (ipykernel)",
   "language": "python",
   "name": "python3"
  },
  "language_info": {
   "codemirror_mode": {
    "name": "ipython",
    "version": 3
   },
   "file_extension": ".py",
   "mimetype": "text/x-python",
   "name": "python",
   "nbconvert_exporter": "python",
   "pygments_lexer": "ipython3",
   "version": "3.10.9"
  }
 },
 "nbformat": 4,
 "nbformat_minor": 5
}
