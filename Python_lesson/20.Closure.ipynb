{
 "cells": [
  {
   "cell_type": "markdown",
   "id": "5b3a7a49",
   "metadata": {},
   "source": [
    "# 1. Scoping rule in python"
   ]
  },
  {
   "cell_type": "markdown",
   "id": "5f344c5f",
   "metadata": {},
   "source": [
    "## 1.1 What is a scoping rule ?"
   ]
  },
  {
   "cell_type": "markdown",
   "id": "2c548204",
   "metadata": {},
   "source": [
    "* In this unit, we will focus on examining the extent to which the names of variables or functions are valid.\n",
    "* Programming languages, including Python, have the rule for determining the scope of variable accessibility and the scope of the context in which variables are valid. This is calledd 'scoping rul'."
   ]
  },
  {
   "cell_type": "markdown",
   "id": "7dd3a220",
   "metadata": {},
   "source": [
    "* In python, the scope of variables can be divided as follows.\n",
    "* L (Local) : Local variable defined within a function\n",
    "* E (Enclosing Function Local) : Local variable defined within nested functions, python allows defining another function within a function(nested function).\n",
    "* G (Global) : Global variable defined outside of functions\n",
    "* B (Built-in) : Variable in the built-in scope"
   ]
  },
  {
   "cell_type": "code",
   "execution_count": null,
   "id": "bd2c74cc",
   "metadata": {},
   "outputs": [],
   "source": [
    "x = 10 # G scope\n",
    "y = 11 # G scope\n",
    "def foo() : \n",
    "    x = 20 # L scope\n",
    "    def bar() :\n",
    "        a = 30 # E scope\n",
    "        print(a,x,y)\n",
    "    bar()\n",
    "    x = 40 # L scope\n",
    "    bar()\n",
    "\n",
    "foo()"
   ]
  },
  {
   "cell_type": "markdown",
   "id": "e2f1d75f",
   "metadata": {},
   "source": [
    "## 1.2 Local variables and global variables"
   ]
  },
  {
   "cell_type": "code",
   "execution_count": 1,
   "id": "6517ae2d",
   "metadata": {},
   "outputs": [
    {
     "name": "stdout",
     "output_type": "stream",
     "text": [
      "counter = 200\n",
      "counter = 100\n"
     ]
    }
   ],
   "source": [
    "def print_counter() :\n",
    "    counter = 200\n",
    "    print('counter =',counter)\n",
    "    \n",
    "counter = 100\n",
    "print_counter()\n",
    "print('counter =',counter) "
   ]
  },
  {
   "cell_type": "markdown",
   "id": "c19c7da4",
   "metadata": {},
   "source": [
    "* If you want to use global variable 'counter' without creating a new variable inside the function, you can use the \"global\" keyword as follows. \"global counter\" declares the use of the global variable \"counter\" outside the function."
   ]
  },
  {
   "cell_type": "code",
   "execution_count": 3,
   "id": "e2901ee7",
   "metadata": {},
   "outputs": [
    {
     "name": "stdout",
     "output_type": "stream",
     "text": [
      "counter = 200\n",
      "counter = 200\n"
     ]
    }
   ],
   "source": [
    "def print_counter() :\n",
    "    global counter\n",
    "    counter = 200\n",
    "    print('counter =',counter)\n",
    "    \n",
    "counter = 100 # this assigment do not work cause it will print the global value\n",
    "print_counter()\n",
    "print('counter =',counter) "
   ]
  },
  {
   "cell_type": "markdown",
   "id": "ad71f25b",
   "metadata": {},
   "source": [
    "# 2. First-class function"
   ]
  },
  {
   "cell_type": "markdown",
   "id": "8538a68f",
   "metadata": {},
   "source": [
    "## 2.1 What is a first-class function ?"
   ]
  },
  {
   "cell_type": "markdown",
   "id": "31ed9681",
   "metadata": {},
   "source": [
    "* Functions can be passed as arguments, assigned to other variables, and even used as return values. They can also be stored in data structures like lists or dictionaries. \n",
    "* The following code shows that the 'callfunc' function takes a function as a parameter and executes it."
   ]
  },
  {
   "cell_type": "code",
   "execution_count": 4,
   "id": "4cda7aef",
   "metadata": {},
   "outputs": [
    {
     "name": "stdout",
     "output_type": "stream",
     "text": [
      "Calling the function callfunc(greet)\n",
      "Hello\n"
     ]
    }
   ],
   "source": [
    "def callfunc(func) :\n",
    "    func()\n",
    "    \n",
    "def greet() :\n",
    "    print(\"Hello\")\n",
    "    \n",
    "print(\"Calling the function callfunc(greet)\")\n",
    "callfunc(greet)"
   ]
  },
  {
   "cell_type": "code",
   "execution_count": 7,
   "id": "7c44e527",
   "metadata": {},
   "outputs": [
    {
     "name": "stdout",
     "output_type": "stream",
     "text": [
      "a = 300\n",
      "b = 100\n"
     ]
    }
   ],
   "source": [
    "def plus(a,b) : \n",
    "    return a + b\n",
    "def minus(a,b) :\n",
    "    return a - b\n",
    "\n",
    "l_list = [plus,minus]\n",
    "\n",
    "a = l_list[0](100,200)\n",
    "b = l_list[1](200,100)\n",
    "\n",
    "print(\"a =\",a)\n",
    "print(\"b =\",b)"
   ]
  },
  {
   "cell_type": "markdown",
   "id": "368295c4",
   "metadata": {},
   "source": [
    "## 2.2 Advanced features implemented using first-class functions"
   ]
  },
  {
   "cell_type": "markdown",
   "id": "cd0df1ed",
   "metadata": {},
   "source": [
    "* Using the characteristics of first-class functions, we can perform complex tasks like the following.\n",
    "    * Funtions can be passed as arguments to other funcitons.\n",
    "        * Functions can be stored in variables.\n",
    "    * Funcitons can be passed as return values from functions.\n",
    "        * Functions can be used as return values.\n",
    "    * Functions can be stored in variables or data structures."
   ]
  },
  {
   "cell_type": "code",
   "execution_count": 13,
   "id": "82f6065c",
   "metadata": {},
   "outputs": [
    {
     "name": "stdout",
     "output_type": "stream",
     "text": [
      "7\n"
     ]
    }
   ],
   "source": [
    "def add(a,b) :\n",
    "    return a + b\n",
    "\n",
    "def f(g,a,b) :\n",
    "    return g(a,b)\n",
    "    \n",
    "print(f(add,3,4))"
   ]
  },
  {
   "cell_type": "markdown",
   "id": "ea627851",
   "metadata": {},
   "source": [
    "# 3. Nested function"
   ]
  },
  {
   "cell_type": "markdown",
   "id": "3d7552ce",
   "metadata": {},
   "source": [
    "## 3.1 What is a nested function ?"
   ]
  },
  {
   "cell_type": "markdown",
   "id": "76bd3a21",
   "metadata": {},
   "source": [
    "* This is an example utilizing the characteristic that 'python allows defining functions within funcitons and passing functions as return values'.\n",
    "* It allows for more structured code writing compared to other languages where similar code would be written using control statements.\n",
    "* It reduces the frequency of using control statements and enables concise code writing."
   ]
  },
  {
   "cell_type": "code",
   "execution_count": 15,
   "id": "f09924ef",
   "metadata": {},
   "outputs": [
    {
     "name": "stdout",
     "output_type": "stream",
     "text": [
      "<i>hello</i>\n",
      "<b>hello</b>\n"
     ]
    }
   ],
   "source": [
    "def decorate(style = 'italic') :\n",
    "    def italic(s) :\n",
    "        return '<i>' + s + '</i>'\n",
    "    def bold(s) : \n",
    "        return '<b>' + s + '</b>'\n",
    "    if style == 'italic' :\n",
    "        return italic\n",
    "    else:\n",
    "        return bold\n",
    "    \n",
    "dec = decorate()\n",
    "print(dec('hello'))\n",
    "dec2 = decorate('bold')\n",
    "print(dec2('hello'))"
   ]
  },
  {
   "cell_type": "markdown",
   "id": "e0647a3b",
   "metadata": {},
   "source": [
    "## 3.2 Reasons for using nested functions"
   ]
  },
  {
   "cell_type": "markdown",
   "id": "c101feaa",
   "metadata": {},
   "source": [
    "* Nested functions have the advantages of being albe to freely access variables from the paraent function,unlike functions located outside.\n",
    "* Additionally, they can enhance redability.\n",
    "* However, if the purpose is simply to improve readability, functions can be defined externally instead of within the function. Let's consider the following code."
   ]
  },
  {
   "cell_type": "code",
   "execution_count": 18,
   "id": "43b6ab92",
   "metadata": {},
   "outputs": [
    {
     "name": "stdout",
     "output_type": "stream",
     "text": [
      "hello\n"
     ]
    }
   ],
   "source": [
    "def another_func() :\n",
    "    print(\"hello\")\n",
    "\n",
    "def outer_func() :\n",
    "    return another_func()\n",
    "\n",
    "\n",
    "outer_func()"
   ]
  },
  {
   "cell_type": "markdown",
   "id": "8358f0b4",
   "metadata": {},
   "source": [
    "* The more important reason for using nested functions is to utlize the concept referred to as the 'closure'.\n",
    "* 'Closure' has the characteristic that when an outer function and an inner nested function are defined, the inner function can still access the variables within the outer function even after the execution of the function has ended.\n",
    "* We will learn about closures in this lesson.\n",
    "* One of the necessary conditions for implementing closures is the implementation of nested functions."
   ]
  },
  {
   "cell_type": "markdown",
   "id": "926919bb",
   "metadata": {},
   "source": [
    "# 4 Nonlocal keyword"
   ]
  },
  {
   "cell_type": "markdown",
   "id": "e58c5f58",
   "metadata": {},
   "source": [
    "## 4.1 Global keyword and global variables"
   ]
  },
  {
   "cell_type": "markdown",
   "id": "907eb5eb",
   "metadata": {},
   "source": [
    "* When 'n1' is declared as a global variable and you want to modify it within a function, you can declare 'I will use the global variable 'n1', not the 'n1' inside the function\" by using 'global n1'. Then it can be used without any issues."
   ]
  },
  {
   "cell_type": "code",
   "execution_count": 27,
   "id": "92e9db7f",
   "metadata": {},
   "outputs": [
    {
     "name": "stdout",
     "output_type": "stream",
     "text": [
      "2\n"
     ]
    }
   ],
   "source": [
    "n1 = 1\n",
    "def func1() :\n",
    "    def func2() :\n",
    "        global n1\n",
    "        n1 += 1\n",
    "        print(n1)\n",
    "    func2()\n",
    "    \n",
    "    \n",
    "func1()\n",
    "        "
   ]
  },
  {
   "cell_type": "code",
   "execution_count": 29,
   "id": "e30de901",
   "metadata": {},
   "outputs": [
    {
     "name": "stdout",
     "output_type": "stream",
     "text": [
      "6\n"
     ]
    }
   ],
   "source": [
    "def func1() : \n",
    "    n3 = 5\n",
    "    def func2() :\n",
    "        nonlocal n3\n",
    "        n3 += 1\n",
    "        print(n3)\n",
    "    func2()\n",
    "    \n",
    "func1()"
   ]
  },
  {
   "cell_type": "markdown",
   "id": "6cf73f80",
   "metadata": {},
   "source": [
    "* The variable 'nonlocal n3' is not a local variable in the current scope and is also not a global variable, so is instead connected to the closet 'n3' variable.\n",
    "* By specifying 'nonlocal n3', it means \"I will use the 'n3' variable defined in the closet scope that is not a local variable\". In this way the 'n3' variable can be used without any issues.\n",
    "* This connection with the closest variable is called binding."
   ]
  },
  {
   "cell_type": "markdown",
   "id": "251f6de5",
   "metadata": {},
   "source": [
    "## 4.3 Nonlocal keyword and binding"
   ]
  },
  {
   "cell_type": "code",
   "execution_count": 31,
   "id": "e68757e9",
   "metadata": {},
   "outputs": [
    {
     "name": "stdout",
     "output_type": "stream",
     "text": [
      "80\n",
      "20\n"
     ]
    }
   ],
   "source": [
    "x = 20\n",
    "def f() :\n",
    "    x = 40\n",
    "    def g() :\n",
    "        nonlocal x\n",
    "        x = 80\n",
    "    g()\n",
    "    print(x) # the variable has been changed t0 80 \n",
    "             # due to the influence of nonlocal in function\n",
    "    \n",
    "f()\n",
    "print(x) # the output value is the initial value of 20"
   ]
  },
  {
   "cell_type": "code",
   "execution_count": 32,
   "id": "e844b3d3",
   "metadata": {},
   "outputs": [
    {
     "ename": "SyntaxError",
     "evalue": "no binding for nonlocal 'x' found (735938235.py, line 3)",
     "output_type": "error",
     "traceback": [
      "\u001b[0;36m  Cell \u001b[0;32mIn[32], line 3\u001b[0;36m\u001b[0m\n\u001b[0;31m    nonlocal x\u001b[0m\n\u001b[0m    ^\u001b[0m\n\u001b[0;31mSyntaxError\u001b[0m\u001b[0;31m:\u001b[0m no binding for nonlocal 'x' found\n"
     ]
    }
   ],
   "source": [
    "# it is not allowed to define only one function and then \n",
    "# use the nonlocal declaration to affect global variables\n",
    "\n",
    "x = 70 \n",
    "def f() : \n",
    "    nonlocal x\n",
    "    x = 140\n",
    "    \n",
    "f()\n",
    "print(x)"
   ]
  },
  {
   "cell_type": "markdown",
   "id": "ec2cbbaa",
   "metadata": {},
   "source": [
    "## 4.5 Order of searching for nonlocal variables"
   ]
  },
  {
   "cell_type": "markdown",
   "id": "52bc352e",
   "metadata": {},
   "source": [
    "* Let's consider a case where the funciton 'g' is defined inside the function 'g' is defined inside the function 'f', and the function 'h' is defined inside the function 'g'.\n",
    "* After the execution of the funciton 'h' within 'g', the value of 'a' changes because it references 'a' of 'g' through nonlocal."
   ]
  },
  {
   "cell_type": "code",
   "execution_count": 35,
   "id": "6da572f2",
   "metadata": {},
   "outputs": [
    {
     "name": "stdout",
     "output_type": "stream",
     "text": [
      "[Level 2] a = 33\n",
      "[Level 1] a = 777\n"
     ]
    }
   ],
   "source": [
    "def f() :\n",
    "    a = 777 \n",
    "    def g() : \n",
    "        a = 100\n",
    "        def h() :\n",
    "            nonlocal a \n",
    "            a = 33 \n",
    "        h() \n",
    "        print(\"[Level 2] a = {}\".format(a))\n",
    "    g()\n",
    "    print(\"[Level 1] a = {}\".format(a))\n",
    "\n",
    "f()"
   ]
  },
  {
   "cell_type": "markdown",
   "id": "5b4c2a7e",
   "metadata": {},
   "source": [
    "* Let's consider a case  where the function 'g' is defined inside the function 'f', and the function 'h' is defined inside the function 'g'.\n",
    "* After the executuon of the function 'h' within 'g', the value of 'a' changes because it references'a' of 'g' through nonlocal.\n",
    "* After the execution of the function 'g' within 'f', 'a' does not change. This is because it does not reference 'a' of 'f' through nonlocal.\n",
    "* In other words, nonlocal searches for varialbes from the closest namespace."
   ]
  },
  {
   "cell_type": "markdown",
   "id": "9071c9e3",
   "metadata": {},
   "source": [
    "# 5. Closure"
   ]
  },
  {
   "cell_type": "markdown",
   "id": "d930b882",
   "metadata": {},
   "source": [
    "## 5.1 What is a closure ?"
   ]
  },
  {
   "cell_type": "markdown",
   "id": "85e0a036",
   "metadata": {},
   "source": [
    "* The basic form of a function closure is when you create an inner function within a single function and then return the inner function as a return value.\n",
    "* When the inner function is used in this way, we said that 'It have become a function closure\".\n",
    "* Once a function becomes a 'function closure', even if the outer function is terminated, the variables inside it do not disappear from memory and can be used by the inner function in the next invocation. "
   ]
  },
  {
   "cell_type": "code",
   "execution_count": 36,
   "id": "58374015",
   "metadata": {},
   "outputs": [
    {
     "name": "stdout",
     "output_type": "stream",
     "text": [
      "2 4 6\n"
     ]
    }
   ],
   "source": [
    "def clouser_calc() :\n",
    "    a = 2 \n",
    "    def mult(x) : \n",
    "        return a * x\n",
    "    return mult\n",
    "\n",
    "c = clouser_calc()\n",
    "print(c(1),c(2),c(3))"
   ]
  },
  {
   "cell_type": "markdown",
   "id": "a1a0df19",
   "metadata": {},
   "source": [
    "* A free variable is a variable that is used within a code block but is not a global variable and is not defined within that block.\n",
    "* This is a relative concept.\n",
    "* In the case of the 'mult' funciton, the variable 'a' becomes a free variable.\n",
    "* However, from the perspective of 'clouser_calc', 'a' is just a local variable.\n",
    "* Since the return value of 'closure_calc' is 'mult', it is possible to call 'mult' using 'c' because Python functions are first-class functions."
   ]
  },
  {
   "cell_type": "markdown",
   "id": "035ea455",
   "metadata": {},
   "source": [
    "* To create a function closure, you define the variable and the function area you want to make a closure for , and then wrap it with another function. \n",
    "* If there is an outer function that wraps the funciton closure, the type returned by this outer function becomes the closure.\n",
    "* This way, you can reduce the frequency of using global variables and hide the internal functionality of the function."
   ]
  },
  {
   "cell_type": "markdown",
   "id": "acee39cc",
   "metadata": {},
   "source": [
    "## 5.2 Main uses of closures"
   ]
  },
  {
   "cell_type": "markdown",
   "id": "01e537c3",
   "metadata": {},
   "source": [
    "*  The main uses of using function closures are as follow.\n",
    "* From the perspective of memory operation efficiency, closures may be inefficient. However, they can be effective in readucing the use of global variables.\n",
    "* If you want to hide data, declare it as a local variable of the function that wreaps the closure.\n",
    "* Funciton closures have the advantage of providing independent namespace for each function. This allows defining functions with the "
   ]
  },
  {
   "cell_type": "code",
   "execution_count": 37,
   "id": "1374a468",
   "metadata": {},
   "outputs": [
    {
     "name": "stdout",
     "output_type": "stream",
     "text": [
      "c1 : 1\n",
      "c1 : 2\n",
      "c2 : 1\n"
     ]
    }
   ],
   "source": [
    "# clousers have seperate memory space for each variable.\n",
    "\n",
    "def makecounter() :\n",
    "    count = 0\n",
    "    def counter() :\n",
    "        nonlocal count\n",
    "        count += 1\n",
    "        return count\n",
    "    return counter\n",
    "\n",
    "c1 = makecounter()\n",
    "c2 = makecounter()\n",
    "\n",
    "print('c1 :',c1())\n",
    "print('c1 :',c1())\n",
    "print('c2 :',c2())"
   ]
  },
  {
   "cell_type": "markdown",
   "id": "2afd7fb6",
   "metadata": {},
   "source": [
    "## 5.3 Approach 1 to create a closure: nested functions"
   ]
  },
  {
   "cell_type": "code",
   "execution_count": 38,
   "id": "e14a52b6",
   "metadata": {},
   "outputs": [
    {
     "name": "stdout",
     "output_type": "stream",
     "text": [
      "8 11 14 17 20\n"
     ]
    }
   ],
   "source": [
    "def calc() :\n",
    "    a = 3\n",
    "    b = 5\n",
    "    def mul_add(x) :\n",
    "        return a * x + b\n",
    "    return mul_add\n",
    "\n",
    "c = calc()\n",
    "print(c(1) , c(2) , c(3), c(4), c(5))"
   ]
  },
  {
   "cell_type": "markdown",
   "id": "7563dd13",
   "metadata": {},
   "source": [
    "## 5.4 Approach 2 to create a closure: lambda"
   ]
  },
  {
   "cell_type": "code",
   "execution_count": 40,
   "id": "538fea01",
   "metadata": {},
   "outputs": [
    {
     "name": "stdout",
     "output_type": "stream",
     "text": [
      "5 7 9 11 13\n"
     ]
    }
   ],
   "source": [
    "def clouser_calc() :\n",
    "    a = 2 \n",
    "    b = 3\n",
    "    return lambda x : a * x + b\n",
    "\n",
    "c = clouser_calc()\n",
    "print(c(1) , c(2) , c(3), c(4), c(5))"
   ]
  },
  {
   "cell_type": "markdown",
   "id": "148f0905",
   "metadata": {},
   "source": [
    "## 5.5 Modifying local variables in closures : nonloca keyword"
   ]
  },
  {
   "cell_type": "markdown",
   "id": "40c98279",
   "metadata": {},
   "source": [
    "* To modify the local variables of a closure, you can use the nonlocal keyword.\n",
    "* The following example accumulates the result of 'a * x + b' in the local variable 'total' of the 'calc' funciton."
   ]
  },
  {
   "cell_type": "code",
   "execution_count": 41,
   "id": "ceb97417",
   "metadata": {},
   "outputs": [
    {
     "name": "stdout",
     "output_type": "stream",
     "text": [
      "5 12 21 32 45\n"
     ]
    }
   ],
   "source": [
    "def calc() :\n",
    "    a = 2\n",
    "    b = 3\n",
    "    total = 0\n",
    "    def mult_add(x) :\n",
    "        nonlocal total\n",
    "        total = total + a * x + b\n",
    "        return total\n",
    "    return mult_add\n",
    "\n",
    "c = calc()\n",
    "print(c(1) , c(2) , c(3), c(4), c(5))"
   ]
  },
  {
   "cell_type": "markdown",
   "id": "1a170d74",
   "metadata": {},
   "source": [
    "# 20.3 Paper coding"
   ]
  },
  {
   "cell_type": "code",
   "execution_count": 42,
   "id": "f5eecce5",
   "metadata": {},
   "outputs": [
    {
     "name": "stdout",
     "output_type": "stream",
     "text": [
      "hello\n"
     ]
    }
   ],
   "source": [
    "#Q1\n",
    "def greetings() :\n",
    "    def say_hi() :\n",
    "        print(\"hello\")\n",
    "    say_hi()\n",
    "    \n",
    "greetings()"
   ]
  },
  {
   "cell_type": "code",
   "execution_count": 43,
   "id": "0bbcc7b6",
   "metadata": {},
   "outputs": [
    {
     "name": "stdout",
     "output_type": "stream",
     "text": [
      "14\n"
     ]
    }
   ],
   "source": [
    "#Q2\n",
    "\n",
    "def calc() :\n",
    "    a = 3\n",
    "    b = 5\n",
    "    def mul_add(x) :\n",
    "        return a * x + b\n",
    "    return mul_add\n",
    "\n",
    "num = calc()\n",
    "print(num(3))"
   ]
  },
  {
   "cell_type": "code",
   "execution_count": 46,
   "id": "01c9f23e",
   "metadata": {},
   "outputs": [
    {
     "name": "stdout",
     "output_type": "stream",
     "text": [
      "14\n"
     ]
    }
   ],
   "source": [
    "#Q3\n",
    "\n",
    "def calc() :\n",
    "    a = 3\n",
    "    b = 5\n",
    "    return lambda x : a * x + b\n",
    "\n",
    "num = calc()\n",
    "print(num(3))"
   ]
  },
  {
   "cell_type": "markdown",
   "id": "009b9d66",
   "metadata": {},
   "source": [
    "## 20.4 Let's code"
   ]
  },
  {
   "cell_type": "code",
   "execution_count": 52,
   "id": "3e6ef09b",
   "metadata": {},
   "outputs": [
    {
     "name": "stdout",
     "output_type": "stream",
     "text": [
      "Maximum population : 9764\n",
      "Minimum population : 1531\n",
      "Difference between minimum and maximum population : 8233\n",
      "Average population : 4422.5\n"
     ]
    }
   ],
   "source": [
    "def urban() :\n",
    "    max_pop = 0\n",
    "    min_pop = 1000000\n",
    "    pop_sum = 0\n",
    "    n = 0\n",
    "    def analyze(city) :\n",
    "        nonlocal max_pop,min_pop,pop_sum,n\n",
    "        for name, pop in city.items() : \n",
    "            if pop > max_pop :\n",
    "                max_pop = pop\n",
    "            if pop < min_pop :\n",
    "                min_pop = pop\n",
    "            pop_sum += pop\n",
    "            n += 1\n",
    "        print(\"Maximum population :\",max_pop)\n",
    "        print(\"Minimum population :\",min_pop)\n",
    "        print(\"Difference between minimum and maximum population :\",max_pop -  min_pop)\n",
    "        print(\"Average population :\",pop_sum/n)\n",
    "        \n",
    "    return analyze\n",
    "\n",
    "city_pop = {\n",
    "    \"A\" : 9764,\n",
    "    \"B\" : 3441,\n",
    "    \"C\" : 2954,\n",
    "    \"D\" : 1531,\n",
    "}\n",
    "\n",
    "urban_analyzer = urban()\n",
    "urban_analyzer(city_pop)"
   ]
  },
  {
   "cell_type": "markdown",
   "id": "099dcefe",
   "metadata": {},
   "source": [
    "## 20.5 Pair Programming"
   ]
  },
  {
   "cell_type": "code",
   "execution_count": 77,
   "id": "daec5d37",
   "metadata": {},
   "outputs": [
    {
     "ename": "SyntaxError",
     "evalue": "name 'a' is parameter and global (671511114.py, line 5)",
     "output_type": "error",
     "traceback": [
      "\u001b[0;36m  Cell \u001b[0;32mIn[77], line 5\u001b[0;36m\u001b[0m\n\u001b[0;31m    global a\u001b[0m\n\u001b[0m    ^\u001b[0m\n\u001b[0;31mSyntaxError\u001b[0m\u001b[0;31m:\u001b[0m name 'a' is parameter and global\n"
     ]
    }
   ],
   "source": [
    "\n",
    "lst =[1,2,3,4,5,6,7,8,9,10,11,12,13,14,15,16,17,18,19,20,21,22,23,24,25,2,6,27,28,29,30]\n",
    "\n",
    "\n",
    "def func1(a) :\n",
    "    \n",
    "    def func2():\n",
    "        result1=[]\n",
    "        for i in a:\n",
    "            if i % 5 == 0:\n",
    "                result1.append(i)\n",
    "        return result1\n",
    "\n",
    "    def func3() :\n",
    "        result2=[]\n",
    "        for i in a :\n",
    "            if i % 7 == 0:\n",
    "                result2.append(i)\n",
    "        return result2\n",
    "\n",
    "           \n",
    "    result = func2() + func3()\n",
    "    return result\n",
    "\n",
    "\n",
    "\n",
    "\n",
    "f = func1()\n",
    "print(f(lst))"
   ]
  },
  {
   "cell_type": "code",
   "execution_count": null,
   "id": "1be80f3f",
   "metadata": {},
   "outputs": [],
   "source": []
  },
  {
   "cell_type": "code",
   "execution_count": null,
   "id": "4bcd32fe",
   "metadata": {},
   "outputs": [],
   "source": []
  },
  {
   "cell_type": "code",
   "execution_count": null,
   "id": "9e72053d",
   "metadata": {},
   "outputs": [],
   "source": []
  },
  {
   "cell_type": "code",
   "execution_count": null,
   "id": "e15c1628",
   "metadata": {},
   "outputs": [],
   "source": []
  },
  {
   "cell_type": "code",
   "execution_count": null,
   "id": "21b2647e",
   "metadata": {},
   "outputs": [],
   "source": []
  },
  {
   "cell_type": "code",
   "execution_count": null,
   "id": "ee69b4cf",
   "metadata": {},
   "outputs": [],
   "source": []
  },
  {
   "cell_type": "code",
   "execution_count": null,
   "id": "8340df40",
   "metadata": {},
   "outputs": [],
   "source": []
  },
  {
   "cell_type": "code",
   "execution_count": null,
   "id": "bff0b905",
   "metadata": {},
   "outputs": [],
   "source": []
  },
  {
   "cell_type": "code",
   "execution_count": null,
   "id": "4b9a84ab",
   "metadata": {},
   "outputs": [],
   "source": []
  },
  {
   "cell_type": "code",
   "execution_count": null,
   "id": "c167e787",
   "metadata": {},
   "outputs": [],
   "source": []
  },
  {
   "cell_type": "code",
   "execution_count": null,
   "id": "252f2444",
   "metadata": {},
   "outputs": [],
   "source": []
  },
  {
   "cell_type": "code",
   "execution_count": null,
   "id": "739187a5",
   "metadata": {},
   "outputs": [],
   "source": []
  },
  {
   "cell_type": "code",
   "execution_count": null,
   "id": "13aec441",
   "metadata": {},
   "outputs": [],
   "source": []
  }
 ],
 "metadata": {
  "kernelspec": {
   "display_name": "Python 3 (ipykernel)",
   "language": "python",
   "name": "python3"
  },
  "language_info": {
   "codemirror_mode": {
    "name": "ipython",
    "version": 3
   },
   "file_extension": ".py",
   "mimetype": "text/x-python",
   "name": "python",
   "nbconvert_exporter": "python",
   "pygments_lexer": "ipython3",
   "version": "3.10.9"
  }
 },
 "nbformat": 4,
 "nbformat_minor": 5
}
