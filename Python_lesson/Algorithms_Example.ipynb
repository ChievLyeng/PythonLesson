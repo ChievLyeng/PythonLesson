{
 "cells": [
  {
   "cell_type": "markdown",
   "id": "45ccd108",
   "metadata": {},
   "source": [
    "# 1.Introduction to problem solving [1] : what is problem solving?"
   ]
  },
  {
   "cell_type": "code",
   "execution_count": 6,
   "id": "b2c30077",
   "metadata": {},
   "outputs": [
    {
     "name": "stdout",
     "output_type": "stream",
     "text": [
      "Enter : 3 4\n",
      "3\n",
      "4\n",
      "<class 'int'>\n",
      "<class 'int'>\n",
      "Enter Matrix A : 1 2 3 4\n",
      "Enter Matrix A : 1 2 3 4\n",
      "Enter Matrix A : 1 2 3 4\n",
      "Enter Matrix B : 5 6 7 78\n",
      "Enter Matrix B : 5 6 7 8\n",
      "Enter Matrix B : 5 6 7 8\n",
      "\n",
      "A : [[1, 2, 3, 4], [1, 2, 3, 4], [1, 2, 3, 4]]\n",
      "<class 'list'>\n",
      "\n",
      "B : [[5, 6, 7, 78], [5, 6, 7, 8], [5, 6, 7, 8]]\n",
      "<class 'list'>\n"
     ]
    }
   ],
   "source": [
    "# map \n",
    "\n",
    "a,b = map(int, input(\"Enter : \").split()) \n",
    "# a,b =  input(\"Enter : \").split() \n",
    "\n",
    "print(a)\n",
    "print(b)\n",
    "\n",
    "print(type(a))\n",
    "print(type(b))\n",
    "\n",
    "A = [list(map(int, input(\"Enter Matrix A : \").split())) for _ in range(a)]\n",
    "B = [list(map(int, input(\"Enter Matrix B : \").split())) for _ in range(a)]\n",
    "\n",
    "print()\n",
    "print(\"A :\",A)\n",
    "print(type(A))\n",
    "\n",
    "print()\n",
    "print(\"B :\",B)\n",
    "print(type(B))"
   ]
  },
  {
   "cell_type": "code",
   "execution_count": null,
   "id": "afb67fdf",
   "metadata": {},
   "outputs": [],
   "source": []
  },
  {
   "cell_type": "code",
   "execution_count": null,
   "id": "7bd03a3b",
   "metadata": {},
   "outputs": [],
   "source": []
  },
  {
   "cell_type": "code",
   "execution_count": null,
   "id": "a0d81680",
   "metadata": {},
   "outputs": [],
   "source": []
  },
  {
   "cell_type": "code",
   "execution_count": null,
   "id": "35b789e2",
   "metadata": {},
   "outputs": [],
   "source": []
  },
  {
   "cell_type": "code",
   "execution_count": null,
   "id": "eb8df181",
   "metadata": {},
   "outputs": [],
   "source": []
  }
 ],
 "metadata": {
  "kernelspec": {
   "display_name": "Python 3 (ipykernel)",
   "language": "python",
   "name": "python3"
  },
  "language_info": {
   "codemirror_mode": {
    "name": "ipython",
    "version": 3
   },
   "file_extension": ".py",
   "mimetype": "text/x-python",
   "name": "python",
   "nbconvert_exporter": "python",
   "pygments_lexer": "ipython3",
   "version": "3.10.9"
  }
 },
 "nbformat": 4,
 "nbformat_minor": 5
}
