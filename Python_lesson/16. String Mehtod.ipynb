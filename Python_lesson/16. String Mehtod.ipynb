{
 "cells": [
  {
   "cell_type": "markdown",
   "id": "508a28fc",
   "metadata": {},
   "source": [
    "1. Strings"
   ]
  },
  {
   "cell_type": "markdown",
   "id": "d62d1c3d",
   "metadata": {},
   "source": [
    "1.1 str type"
   ]
  },
  {
   "cell_type": "markdown",
   "id": "90a8721f",
   "metadata": {},
   "source": [
    "str.format()\n",
    "str.split()\n",
    "str.isdigit()"
   ]
  },
  {
   "cell_type": "markdown",
   "id": "597e7666",
   "metadata": {},
   "source": [
    "1.2 Reviewing Concatenation Operator and Repetition Operator"
   ]
  },
  {
   "cell_type": "code",
   "execution_count": 2,
   "id": "b9d82fca",
   "metadata": {},
   "outputs": [
    {
     "name": "stdout",
     "output_type": "stream",
     "text": [
      "AidenKim\n",
      "Aiden Kim\n",
      "8\n",
      "9\n"
     ]
    }
   ],
   "source": [
    "# concatenation\n",
    "\n",
    "first = \"Aiden\"\n",
    "last = \"Kim\"\n",
    "\n",
    "full_name_a = first + last\n",
    "full_name_b = first +' '+last\n",
    "\n",
    "print(full_name_a)\n",
    "print(full_name_b)\n",
    "\n",
    "print(len(full_name_a))\n",
    "print(len(full_name_b))"
   ]
  },
  {
   "cell_type": "code",
   "execution_count": 4,
   "id": "e951f9ec",
   "metadata": {},
   "outputs": [
    {
     "name": "stdout",
     "output_type": "stream",
     "text": [
      "------------------------------\n"
     ]
    }
   ],
   "source": [
    "# Repetition\n",
    "\n",
    "print(\"-\" *30)"
   ]
  },
  {
   "cell_type": "markdown",
   "id": "8fc6c429",
   "metadata": {},
   "source": [
    "1.3 Reviewing Membership Operator"
   ]
  },
  {
   "cell_type": "code",
   "execution_count": null,
   "id": "671f83b8",
   "metadata": {},
   "outputs": [],
   "source": [
    "print(\"X\" in 'blockmdmask')\n",
    "\n",
    "print(\"a\" in \"apple\")"
   ]
  },
  {
   "cell_type": "markdown",
   "id": "0a803dc1",
   "metadata": {},
   "source": [
    "1.4 String Slicing"
   ]
  },
  {
   "cell_type": "code",
   "execution_count": 12,
   "id": "f70d9f90",
   "metadata": {},
   "outputs": [
    {
     "name": "stdout",
     "output_type": "stream",
     "text": [
      "CDEFG\n",
      "BCDEF\n",
      "C\n",
      "AB\n",
      "EFGH\n",
      "ABCDEFGH\n",
      "BCDEFGH\n",
      "ABCDEFGH\n",
      "ACEG\n",
      "HGFEDCBA\n"
     ]
    }
   ],
   "source": [
    "print(\"ABCDEFGH\"[2:7])\n",
    "print(\"ABCDEFGH\"[-7:-2])\n",
    "print(\"ABCDEFGH\"[2:-5])\n",
    "\n",
    "print(\"ABCDEFGH\"[:2]) #start from index zero\n",
    "\n",
    "print(\"ABCDEFGH\"[4:]) # slice till last index\n",
    "\n",
    "print(\"ABCDEFGH\"[:]) # slice from zero till last index\n",
    "\n",
    "print(\"ABCDEFGH\"[1:100]) # it is acceptable if the value after the colon exceeds the end index\n",
    "\n",
    "print(\"ABCDEFGH\"[::1]) # we can specify how many step to move\n",
    "print(\"ABCDEFGH\"[::2]) \n",
    "\n",
    "print(\"ABCDEFGH\"[::-1]) # reverse string "
   ]
  },
  {
   "cell_type": "markdown",
   "id": "b962c647",
   "metadata": {},
   "source": [
    "2. String methods"
   ]
  },
  {
   "cell_type": "markdown",
   "id": "6a7415aa",
   "metadata": {},
   "source": [
    "2.1 Removing whitespace with strip, lstrip, rstrip method"
   ]
  },
  {
   "cell_type": "code",
   "execution_count": 20,
   "id": "a0a16cfa",
   "metadata": {},
   "outputs": [
    {
     "name": "stdout",
     "output_type": "stream",
     "text": [
      "split by comma but not yet remove space :  ['Welcome', ' to', ' Python', ' and ', ' bla', ' bla ']\n",
      "remove spaces :  ['Welcome', 'to', 'Python', 'and', 'bla', 'bla']\n"
     ]
    }
   ],
   "source": [
    "s = \"Welcome, to, Python, and , bla, bla \"\n",
    "print(\"split by comma but not yet remove space : \",s.split(\",\"))\n",
    "\n",
    "print(\"remove spaces : \",[x.strip() for x in s.split(\",\")])"
   ]
  },
  {
   "cell_type": "code",
   "execution_count": 26,
   "id": "ff646f50",
   "metadata": {},
   "outputs": [
    {
     "name": "stdout",
     "output_type": "stream",
     "text": [
      "Both side  : Hello, world! s\n",
      "Left side  : Hello, world!   s\n",
      "Right side :    Hello, world! s\n"
     ]
    }
   ],
   "source": [
    "s = \"  Hello, world!  \"\n",
    "\n",
    "print(\"Both side  :\",s.strip(),\"s\")  # remove spaces both side\n",
    "print(\"Left side  :\",s.lstrip(),\"s\") # remove spaces from left side\n",
    "print(\"Right side : \",s.rstrip(),\"s\") # remove spaces from right side"
   ]
  },
  {
   "cell_type": "code",
   "execution_count": 27,
   "id": "d682dc6b",
   "metadata": {},
   "outputs": [
    {
     "name": "stdout",
     "output_type": "stream",
     "text": [
      "this is an example\n",
      "this is an example#####\n",
      "#####this is an example\n"
     ]
    }
   ],
   "source": [
    "s = \"#####this is an example#####\"\n",
    "\n",
    "print(s.strip(\"#\"))\n",
    "print(s.lstrip(\"#\"))\n",
    "print(s.rstrip(\"#\"))"
   ]
  },
  {
   "cell_type": "markdown",
   "id": "436450b5",
   "metadata": {},
   "source": [
    "2.2 Creating a single string from multiple strings using the join method"
   ]
  },
  {
   "cell_type": "markdown",
   "id": "134f808f",
   "metadata": {},
   "source": [
    ". We learned and reviewed that strings can be concatenation (+) operator     to create a single string from multiple strings.\n",
    ". However, this method becomes inefficent when there are many strings to concatenate. The concatenation operator repeatedly creates completely new strings in memory.\n",
    ". This can be improved with 'join'. It can concatenate all strings in a     list to create a large string.\n",
    ". While 'split' is a function that separates a string into substrings,       'join' on the other hand, is a function that collects substrings to       create  a single string."
   ]
  },
  {
   "cell_type": "code",
   "execution_count": 28,
   "id": "d3be0bea",
   "metadata": {},
   "outputs": [
    {
     "name": "stdout",
     "output_type": "stream",
     "text": [
      "apple,grape,banana\n"
     ]
    }
   ],
   "source": [
    "print(\",\".join(['apple','grape','banana'])) #when calling a join, you can specify the adhesive string.\n",
    "\n"
   ]
  },
  {
   "cell_type": "code",
   "execution_count": 34,
   "id": "96f42b90",
   "metadata": {},
   "outputs": [
    {
     "name": "stdout",
     "output_type": "stream",
     "text": [
      "['0-1-0---1-2-3-4---5-6-7-8']\n",
      "apple and grape and banana\n",
      "applegrapebanana\n"
     ]
    }
   ],
   "source": [
    "print(\"-\".join(\"010-1234-5678\").split('.'))\n",
    "\n",
    "\n",
    "print(\" and \".join([\"apple\",\"grape\",\"banana\"]))\n",
    "print(\"\".join([\"apple\",\"grape\",\"banana\"]))"
   ]
  },
  {
   "cell_type": "code",
   "execution_count": 36,
   "id": "ffdd59f4",
   "metadata": {},
   "outputs": [
    {
     "name": "stdout",
     "output_type": "stream",
     "text": [
      "['h', 'e', 'l', 'l', 'o', ' ', 'w', 'o', 'r', 'l', 'd']\n",
      "hello world\n"
     ]
    }
   ],
   "source": [
    "# join also used to collect separated characters.\n",
    "# It is also used with the join function to collect the seperated characters back into the original string.\n",
    "\n",
    "s = \"hello world\"\n",
    "clist = list(s)\n",
    "print(clist)\n",
    "\n",
    "print(''.join(clist))"
   ]
  },
  {
   "cell_type": "code",
   "execution_count": 37,
   "id": "453ed01e",
   "metadata": {},
   "outputs": [
    {
     "name": "stdout",
     "output_type": "stream",
     "text": [
      "Action \n",
      "\t speak louder than words\n"
     ]
    }
   ],
   "source": [
    "a_string = 'Action \\n\\t speak louder than words'\n",
    "print(a_string)"
   ]
  },
  {
   "cell_type": "code",
   "execution_count": 40,
   "id": "1136624b",
   "metadata": {},
   "outputs": [
    {
     "name": "stdout",
     "output_type": "stream",
     "text": [
      "['Action', 'speak', 'louder', 'than', 'words']\n",
      "Action speak louder than words\n"
     ]
    }
   ],
   "source": [
    "a_string = 'Action \\n\\t speak louder than words'\n",
    "word_list = a_string.split()\n",
    "print(word_list)\n",
    "\n",
    "refined_string = \" \".join(word_list)\n",
    "print(refined_string)"
   ]
  },
  {
   "cell_type": "code",
   "execution_count": 42,
   "id": "2366eea1",
   "metadata": {},
   "outputs": [
    {
     "name": "stdout",
     "output_type": "stream",
     "text": [
      "['Yesterday', 'All', 'my', 'trobles', 'seemed', 'so', 'far', 'away', 'Now', 'it', 'looks', 'as', 'though', \"they're\", 'here', 'to', 'stay', 'oh,', 'I', 'believe', 'in', 'yesterday']\n",
      "Yesterday-All-my-trobles-seemed-so-far-away-Now-it-looks-as-though-they're-here-to-stay-oh,-I-believe-in-yesterday\n",
      "Yesterday,All,my,trobles,seemed,so,far,away,Now,it,looks,as,though,they're,here,to,stay,oh,,I,believe,in,yesterday\n",
      "Yesterday All my trobles seemed so far away Now it looks as though they're here to stay oh, I believe in yesterday\n"
     ]
    }
   ],
   "source": [
    "string = \"\"\"Yesterday All my trobles seemed so far away \n",
    "Now it looks as though they're here to stay \n",
    "oh, I believe in yesterday\"\"\"\n",
    "\n",
    "song = string.split()\n",
    "print(song)\n",
    "\n",
    "data_a = \"-\".join(song)\n",
    "data_b = \",\".join(song)\n",
    "data_c = \" \".join(song)\n",
    "\n",
    "print(data_a)\n",
    "print(data_b)\n",
    "print(data_c)"
   ]
  },
  {
   "cell_type": "markdown",
   "id": "df026c32",
   "metadata": {},
   "source": [
    "2.3 Methods related to uppercase and lowercase"
   ]
  },
  {
   "cell_type": "code",
   "execution_count": 46,
   "id": "c3117e8b",
   "metadata": {},
   "outputs": [
    {
     "name": "stdout",
     "output_type": "stream",
     "text": [
      "hello, world!\n",
      "HELLO, WORLD!\n",
      "Hello, world!\n",
      "Hello, World!\n"
     ]
    }
   ],
   "source": [
    "s = \"Hello, World!\"\n",
    "s2 = \"hello, world!\"\n",
    "\n",
    "print(s.lower())  # convert to lowercase\n",
    "\n",
    "print(s.upper())  # convert to uppercase\n",
    "\n",
    "print(s.capitalize())  # capitalize the first character\n",
    "\n",
    "print(s2.title())  # make it to title"
   ]
  },
  {
   "cell_type": "code",
   "execution_count": 52,
   "id": "b7896932",
   "metadata": {},
   "outputs": [
    {
     "name": "stdout",
     "output_type": "stream",
     "text": [
      "i lOVE pYTHON\n",
      "True\n",
      "False\n"
     ]
    }
   ],
   "source": [
    "# Swapcase method is used to toggle the case of the characters in the string\n",
    "# In other words, it converts uppercase letters to lowercase and lowercase letters to uppercase.\n",
    "\n",
    "print(\"I Love Python\".swapcase())\n",
    "print(\"I Love Python\".istitle()) # true when the first letter of each word is uppercase\n",
    "print(\"I love Python\".istitle())"
   ]
  },
  {
   "cell_type": "markdown",
   "id": "8f3fd1c7",
   "metadata": {},
   "source": [
    "2.4 startswith method to check the first character in a specific range"
   ]
  },
  {
   "cell_type": "code",
   "execution_count": 55,
   "id": "e82abe4a",
   "metadata": {},
   "outputs": [
    {
     "name": "stdout",
     "output_type": "stream",
     "text": [
      "True\n",
      "True\n",
      "False\n"
     ]
    }
   ],
   "source": [
    "s = \"ABCDEFGHIJKLMNOPQRSTUVWXYZ\"\n",
    "\n",
    "print(s.startswith(\"A\"))\n",
    "print(s.startswith(\"B\",1)) # second agrument used to specify the starting position\n",
    "print(s.startswith(\"B\",5))"
   ]
  },
  {
   "cell_type": "markdown",
   "id": "e65b61ef",
   "metadata": {},
   "source": [
    "2.5 endswith method to check the first character in a specific range"
   ]
  },
  {
   "cell_type": "code",
   "execution_count": 56,
   "id": "0d3dddf0",
   "metadata": {},
   "outputs": [
    {
     "name": "stdout",
     "output_type": "stream",
     "text": [
      "True\n"
     ]
    }
   ],
   "source": [
    "s = \"ABCDEFGHIJKLMNOPQRSTUVWXYZ\"\n",
    "print(s.endswith(\"Z\"))"
   ]
  },
  {
   "cell_type": "markdown",
   "id": "27f6e3c7",
   "metadata": {},
   "source": [
    ". endswith indicates whether a string ends with a specific character.\n",
    ". The endswith method can take a second argument to specify the starting     position of the search in the string, and a third agrument to specify     the ending position of the search.\n",
    "\n",
    "endswith(search_string, start_position,end_position)"
   ]
  },
  {
   "cell_type": "code",
   "execution_count": 61,
   "id": "49c018f8",
   "metadata": {},
   "outputs": [
    {
     "name": "stdout",
     "output_type": "stream",
     "text": [
      "True\n",
      "False\n"
     ]
    }
   ],
   "source": [
    "s = \"ABCDEFGHIJKLMNOPQRSTUVWXYZ\"\n",
    "\n",
    "print(s.endswith(\"C\",1,3))\n",
    "\n",
    "print(s.endswith(\"C\",1,10))"
   ]
  },
  {
   "cell_type": "markdown",
   "id": "332b3fcc",
   "metadata": {},
   "source": [
    "2.6 The replace method for replacing a substring in a string"
   ]
  },
  {
   "cell_type": "markdown",
   "id": "2339909d",
   "metadata": {},
   "source": [
    ". replace can be used to replace a specific character in a string with       another character.\n",
    ". The usage of replace is as follows.\n",
    "  \n",
    "  syntax : str.replace(old,new,[count])"
   ]
  },
  {
   "cell_type": "code",
   "execution_count": 5,
   "id": "1982640a",
   "metadata": {},
   "outputs": [
    {
     "name": "stdout",
     "output_type": "stream",
     "text": [
      "Phone Number : \n",
      "123456789999\n",
      "123456,789,999\n",
      "123456789,999\n",
      "123456789999\n",
      "Heeeo\n"
     ]
    }
   ],
   "source": [
    "text = \"123,456,789,999\"\n",
    "\n",
    "replaceAll = text.replace(\",\",\"\")\n",
    "replace_t1 = text.replace(\",\",\"\",1)\n",
    "replace_t2 = text.replace(\",\",\"\",2)\n",
    "replace_t3 = text.replace(\",\",\"\",3)\n",
    "\n",
    "print(\"Phone Number : \")\n",
    "print(replaceAll)\n",
    "print(replace_t1)\n",
    "print(replace_t2 )\n",
    "print(replace_t3)\n",
    "\n",
    "s=\"Hello\"\n",
    "print(s.replace(\"l\",\"e\",2))\n"
   ]
  },
  {
   "cell_type": "markdown",
   "id": "de6a08e2",
   "metadata": {},
   "source": [
    "2.7 The count method for counting the occurences of a substring in a           string"
   ]
  },
  {
   "cell_type": "markdown",
   "id": "b32c3653",
   "metadata": {},
   "source": [
    ". The count method returns the number of occurences of a substring in a     string.\n",
    ". The usage of count is as follow\n",
    "   str.count(sub[,start,end])\n",
    "   \n",
    ". By default, the search is performed from the beginning to the end of the   string, but the second and third arguments can be used to specify the     search range."
   ]
  },
  {
   "cell_type": "code",
   "execution_count": 14,
   "id": "3c801248",
   "metadata": {},
   "outputs": [
    {
     "name": "stdout",
     "output_type": "stream",
     "text": [
      "2\n",
      "1\n",
      "0\n",
      "1\n"
     ]
    }
   ],
   "source": [
    "s = \"blockdmask\"\n",
    "\n",
    "print(s.count(\"k\"))\n",
    "print(s.count(\"k\",3,6)) #count from index 3 to 5\n",
    "print(s.count(\"m\",3,6))\n",
    "print(s.count(\"m\",5,7)) # index from 1 to 7"
   ]
  },
  {
   "cell_type": "code",
   "execution_count": 16,
   "id": "ffe4b2ca",
   "metadata": {},
   "outputs": [
    {
     "name": "stdout",
     "output_type": "stream",
     "text": [
      "2\n"
     ]
    }
   ],
   "source": [
    "birth = \"1998.05.13\"\n",
    "print(birth.count(\".\"))"
   ]
  },
  {
   "cell_type": "code",
   "execution_count": 21,
   "id": "4aab37d9",
   "metadata": {},
   "outputs": [
    {
     "name": "stdout",
     "output_type": "stream",
     "text": [
      "4\n",
      "2\n",
      "1\n",
      "3\n"
     ]
    }
   ],
   "source": [
    "s = '''Yesterday\n",
    "All my troubles seemed so far away\n",
    "Now it looks as though they're here to stay\n",
    "Oh, I believe in yesterday\n",
    "Suddenly\n",
    "I'm not half the man I used to be\n",
    "There's a shadow hagin' over me\n",
    "Oh, yesterday came suddenly\n",
    "Why she had to go, I don't know, she wouldn't say\n",
    "I said something wrong, now I long for yesterday\n",
    "Yesterday\n",
    "Love was such an easy game to play\n",
    "Now I need a place to hide away\n",
    "Oh I believe in yesterday'''\n",
    "\n",
    "print(s.count(\"yesterday\"))\n",
    "print(s.count(\"Yesterday\"))\n",
    "print(s.count(\"Love\"))\n",
    "print(s.count(\"Oh\"))"
   ]
  },
  {
   "cell_type": "markdown",
   "id": "54150cc0",
   "metadata": {},
   "source": [
    "2.8 Methods for finding the first occurence of  a substring:                   find,rfind,index"
   ]
  },
  {
   "cell_type": "markdown",
   "id": "67825c5d",
   "metadata": {},
   "source": [
    ". The find method returns the index of first occurence of the specified substring within the string.\n",
    ". If the substring is not found in the string, it returns -1.\n",
    ". The usage of count is as follows.\n",
    ". The Usage of count is as follows\n",
    "   str.find(sub[,start[,end]])\n",
    "   \n",
    ". By default, the search is performed the beginning to the end of the       string, but the second and third arguments can be used to specify the     search range."
   ]
  },
  {
   "cell_type": "code",
   "execution_count": 22,
   "id": "3184cd15",
   "metadata": {},
   "outputs": [
    {
     "name": "stdout",
     "output_type": "stream",
     "text": [
      "11\n",
      "-1\n"
     ]
    }
   ],
   "source": [
    "print(\"I Love Python\".find(\"on\")) # return the first index of searching string\n",
    "print(\"I Love Python\".find(\"i\"))"
   ]
  },
  {
   "cell_type": "code",
   "execution_count": 24,
   "id": "9b6463be",
   "metadata": {},
   "outputs": [
    {
     "name": "stdout",
     "output_type": "stream",
     "text": [
      "3\n",
      "11\n"
     ]
    }
   ],
   "source": [
    "# The rfind method, unlike the find mehtod, returns the \n",
    "# index of the last occurence of the search result if there are dublicates.\n",
    "# otherwise, it behaves the same as find\n",
    "\n",
    "print(\"I Love Python\".find(\"o\")) # if dublicate it return the first on\n",
    "\n",
    "print(\"I Love Python\".rfind(\"o\")) # if dublicate it return the last on\n",
    "\n",
    "# The reason for this is that the rfind method searches for specified substring \n",
    "# form the end of the string and returns the index of the first occurence\n",
    "\n",
    "# in other word it performs search from the right side"
   ]
  },
  {
   "cell_type": "markdown",
   "id": "9d133e4d",
   "metadata": {},
   "source": [
    ". The index method also returns the index of the first occurence of the specified substring within the string.\n",
    ". The difference is that if the substring is not found in the string, it raises a ValueError exception\n",
    ". The usage of index is as follow\n",
    "  str.index(sub[,start[,end]])"
   ]
  },
  {
   "cell_type": "code",
   "execution_count": 27,
   "id": "6b7b7345",
   "metadata": {},
   "outputs": [
    {
     "name": "stdout",
     "output_type": "stream",
     "text": [
      "0\n",
      "2\n"
     ]
    }
   ],
   "source": [
    "print(\"ABCDEFGHIJKLMNOPQRSTUVWXYZ\".index(\"A\"))\n",
    "print(\"ABCDEFGHIJKLMNOPQRSTUVWXYZ\".index(\"C\"))"
   ]
  },
  {
   "cell_type": "markdown",
   "id": "ae7bf3ac",
   "metadata": {},
   "source": [
    "2.9 Boolean methods"
   ]
  },
  {
   "cell_type": "markdown",
   "id": "b3c93228",
   "metadata": {},
   "source": [
    ". Boolean methods are methods that return a boolean value (True of False).\n",
    "  Typically, any method starting with 'is' is considered a boolean method.\n",
    ". There are boolean methods for strings as well. String boolean methods     can be used for both short and long strings, but for long strings, all     data must pass for it to return True."
   ]
  },
  {
   "cell_type": "code",
   "execution_count": 28,
   "id": "b522a294",
   "metadata": {},
   "outputs": [
    {
     "name": "stdout",
     "output_type": "stream",
     "text": [
      "True\n",
      "False\n",
      "True\n",
      "False\n"
     ]
    }
   ],
   "source": [
    "# isalnum()\n",
    "string1 = 'Hello123'\n",
    "print(string1.isalnum())\n",
    "\n",
    "string2 = \"Hello!\"\n",
    "print(string2.isalnum()) # false because it has special character\n",
    "\n",
    "string3 = \"12345\"\n",
    "print(string3.isalnum())\n",
    "\n",
    "string4 = \"Hello World\"\n",
    "print(string4.isalnum()) # flase because it has whitespace"
   ]
  },
  {
   "cell_type": "code",
   "execution_count": 30,
   "id": "3d18e9cb",
   "metadata": {},
   "outputs": [
    {
     "name": "stdout",
     "output_type": "stream",
     "text": [
      "True\n",
      "False\n",
      "False\n",
      "False\n"
     ]
    }
   ],
   "source": [
    "# isalpha()\n",
    "\n",
    "string1 = 'Hello'\n",
    "print(string1.isalpha())\n",
    "\n",
    "string2 = \"Hello123\"\n",
    "print(string2.isalpha()) # false because it contains numbers\n",
    "\n",
    "string3 = \"12345\"\n",
    "print(string3.isalpha()) # false because it consists only numbers\n",
    "\n",
    "string4 = \"Hello World\"\n",
    "print(string4.isalpha()) # false because it contain whitespace"
   ]
  },
  {
   "cell_type": "code",
   "execution_count": 31,
   "id": "4f769cb3",
   "metadata": {},
   "outputs": [
    {
     "name": "stdout",
     "output_type": "stream",
     "text": [
      "True\n",
      "False\n",
      "False\n",
      "True\n"
     ]
    }
   ],
   "source": [
    "string1 = 'HELLO'\n",
    "print(string1.isupper())\n",
    "\n",
    "string2 = \"Hello\"\n",
    "print(string2.isupper())\n",
    "\n",
    "string3 = \"12345\"\n",
    "print(string3.isupper()) \n",
    "\n",
    "string4 = \"UPPERCASE\"\n",
    "print(string4.isupper()) "
   ]
  },
  {
   "cell_type": "code",
   "execution_count": 33,
   "id": "30491ba9",
   "metadata": {},
   "outputs": [
    {
     "name": "stdout",
     "output_type": "stream",
     "text": [
      "H is uppercase .\n",
      "e is lowercase .\n",
      "l is lowercase .\n",
      "l is lowercase .\n",
      "o is lowercase .\n"
     ]
    }
   ],
   "source": [
    "string = \"Hello\"\n",
    "\n",
    "for i in range(len(string)) :\n",
    "    if string[i].isupper() : \n",
    "        print(string[i],\"is uppercase .\")\n",
    "    else :\n",
    "        print(string[i],\"is lowercase .\")"
   ]
  },
  {
   "cell_type": "markdown",
   "id": "b70d65ee",
   "metadata": {},
   "source": [
    "3. String-related functions"
   ]
  },
  {
   "cell_type": "markdown",
   "id": "86768e3e",
   "metadata": {},
   "source": [
    "3.1 Unicode-related max,min,ord,chr functions"
   ]
  },
  {
   "cell_type": "markdown",
   "id": "f7fe435c",
   "metadata": {},
   "source": [
    ". The max and min functions can be used to obtain the largest and smallest   characters, respectively. The comparison is based on Unicode values.\n",
    ". Unicode is an industry-standard character encoding system that defines     the available characters for use in computers.\n",
    ". The ord function returns the Unicode value for a character, and the chr   function returns the character corresponding to the given Unicode value."
   ]
  },
  {
   "cell_type": "code",
   "execution_count": 35,
   "id": "90006672",
   "metadata": {},
   "outputs": [
    {
     "name": "stdout",
     "output_type": "stream",
     "text": [
      "9\n",
      "57\n",
      "46\n",
      "9\n",
      ".\n"
     ]
    }
   ],
   "source": [
    "birth = '1998.05.13'\n",
    "print(max(birth))\n",
    "\n",
    "print(ord(max(birth)))\n",
    "print(ord(min(birth)))\n",
    "print(chr(57))\n",
    "print(chr(46))"
   ]
  },
  {
   "cell_type": "code",
   "execution_count": 37,
   "id": "0c2bba11",
   "metadata": {},
   "outputs": [
    {
     "name": "stdout",
     "output_type": "stream",
     "text": [
      "107\n",
      "k\n",
      "12613\n",
      "ㅅ\n"
     ]
    }
   ],
   "source": [
    "print(ord('k'))\n",
    "print(chr(107))\n",
    "print(ord('ㅅ'))\n",
    "print(chr(12613))"
   ]
  },
  {
   "cell_type": "code",
   "execution_count": 38,
   "id": "25deb964",
   "metadata": {},
   "outputs": [
    {
     "name": "stdout",
     "output_type": "stream",
     "text": [
      "['a', 'b', 'c', 'd', 'e', 'f', 'g', 'h', 'i', 'j', 'k', 'l', 'm', 'n', 'o', 'p', 'q', 'r', 's', 't', 'u', 'v', 'w', 'x', 'y', 'z']\n",
      "[97, 98, 99, 100, 101, 102, 103, 104, 105, 106, 107, 108, 109, 110, 111, 112, 113, 114, 115, 116, 117, 118, 119, 120, 121, 122]\n"
     ]
    }
   ],
   "source": [
    "alphabet = []\n",
    "\n",
    "for i in range(97,123) :\n",
    "    alphabet.append(chr(i))\n",
    "    \n",
    "print(alphabet)\n",
    "\n",
    "unicode = []\n",
    "\n",
    "for i in alphabet :\n",
    "    unicode.append(ord(i))\n",
    "    \n",
    "print(unicode)"
   ]
  },
  {
   "cell_type": "markdown",
   "id": "9456e349",
   "metadata": {},
   "source": [
    "3.2 Len function"
   ]
  },
  {
   "cell_type": "code",
   "execution_count": 39,
   "id": "05222e66",
   "metadata": {},
   "outputs": [
    {
     "name": "stdout",
     "output_type": "stream",
     "text": [
      "6\n"
     ]
    }
   ],
   "source": [
    "print(len(\"stting\"))"
   ]
  },
  {
   "cell_type": "markdown",
   "id": "4d3408b3",
   "metadata": {},
   "source": [
    "4.1 Built-in module: string"
   ]
  },
  {
   "cell_type": "markdown",
   "id": "50314c17",
   "metadata": {},
   "source": [
    ". The 'string' module is one of the built-in modules in the python           standard library.\n",
    ". It provides constants related to strings, making string manipullation     and formatting easier."
   ]
  },
  {
   "cell_type": "code",
   "execution_count": 40,
   "id": "599b49ba",
   "metadata": {},
   "outputs": [
    {
     "name": "stdout",
     "output_type": "stream",
     "text": [
      "src_str :  ABCDEFGHIJKLMNOPQRSTUVWXYZ\n"
     ]
    }
   ],
   "source": [
    "import string\n",
    "\n",
    "src_str = string.ascii_uppercase\n",
    "print('src_str : ',src_str)"
   ]
  },
  {
   "cell_type": "code",
   "execution_count": 41,
   "id": "9c020e26",
   "metadata": {},
   "outputs": [
    {
     "name": "stdout",
     "output_type": "stream",
     "text": [
      "src_str :  abcdefghijklmnopqrstuvwxyz\n"
     ]
    }
   ],
   "source": [
    "import string\n",
    "\n",
    "src_str = string.ascii_lowercase\n",
    "print('src_str : ',src_str)"
   ]
  },
  {
   "cell_type": "code",
   "execution_count": 42,
   "id": "0d99b537",
   "metadata": {},
   "outputs": [
    {
     "name": "stdout",
     "output_type": "stream",
     "text": [
      "dst_str :  BCDEFGHIJKLMNOPQRSTUVWXYZA\n"
     ]
    }
   ],
   "source": [
    "import string\n",
    "\n",
    "src_str = string.ascii_uppercase\n",
    "dst_str = src_str[1:] + src_str[:1]\n",
    "print('dst_str : ',dst_str)"
   ]
  },
  {
   "cell_type": "markdown",
   "id": "73d5a88b",
   "metadata": {},
   "source": [
    "5. String formatting"
   ]
  },
  {
   "cell_type": "markdown",
   "id": "7509f9a4",
   "metadata": {},
   "source": [
    "5.1 f-string"
   ]
  },
  {
   "cell_type": "markdown",
   "id": "f066c6a9",
   "metadata": {},
   "source": [
    ". String formatting is a way to insert variables or values inot a string.    In addition to using the formath method of strings, various string        formatting methods are availabe.\n",
    ". f-string stands for 'formatted string literal' and allows easy insertion   of variables or expressions into a string. f-strings were introduced in   Python 3.6 .\n",
    ". f-string formatting is achieved by using the prefix f or F before the     string and using curly braces ({}) inside the string to dynamically       insert variables or expressions, similar to the format method .\n",
    ". An example of f-string formatting usage is as follows."
   ]
  },
  {
   "cell_type": "code",
   "execution_count": 43,
   "id": "e217d55c",
   "metadata": {},
   "outputs": [
    {
     "name": "stdout",
     "output_type": "stream",
     "text": [
      "Please enter your name and age in spaces :Emcast 100\n",
      "Hello, Emcast! You are 100 years old.\n"
     ]
    }
   ],
   "source": [
    "name ,age = (input(\"Please enter your name and age in spaces :\")).split()\n",
    "\n",
    "print(f\"Hello, {name}! You are {age} years old.\")"
   ]
  },
  {
   "cell_type": "markdown",
   "id": "c5c10091",
   "metadata": {},
   "source": [
    "5.2 Example of using f-string"
   ]
  },
  {
   "cell_type": "code",
   "execution_count": 44,
   "id": "8e33161e",
   "metadata": {},
   "outputs": [
    {
     "name": "stdout",
     "output_type": "stream",
     "text": [
      "Comparison result of r and r is True\n",
      "Comparison result of a and a is True\n",
      "Comparison result of c and c is True\n",
      "Comparison result of e and a is False\n",
      "Comparison result of a and e is False\n",
      "Comparison result of c and c is True\n",
      "Comparison result of a and a is True\n",
      "Comparison result of r and r is True\n"
     ]
    }
   ],
   "source": [
    "string = \"race a car\"\n",
    "\n",
    "new_str = string.replace(' ','')\n",
    "\n",
    "for i in range(len(new_str)) :\n",
    "    x = (len(new_str) - i) - 1\n",
    "    if new_str[i] == new_str[x] :\n",
    "        print(f\"Comparison result of {new_str[i]} and {new_str[x]} is True\")\n",
    "    else:\n",
    "        print(f\"Comparison result of {new_str[i]} and {new_str[x]} is False\")"
   ]
  },
  {
   "cell_type": "markdown",
   "id": "c303852e",
   "metadata": {},
   "source": [
    "16.3 Paper coding"
   ]
  },
  {
   "cell_type": "code",
   "execution_count": 56,
   "id": "3eda87ef",
   "metadata": {},
   "outputs": [
    {
     "name": "stdout",
     "output_type": "stream",
     "text": [
      "a,b,c,d\n"
     ]
    }
   ],
   "source": [
    "# Q1\n",
    "string = \"*******a:b:c:d*******\"\n",
    "# string = string.strip(\"*\")\n",
    "# string = \",\".join(string.split(\":\"))\n",
    "\n",
    "string = \",\".join(string.strip(\"*\").split(\":\"))\n",
    "\n",
    "print(string)"
   ]
  },
  {
   "cell_type": "code",
   "execution_count": 62,
   "id": "14e05e4c",
   "metadata": {},
   "outputs": [
    {
     "name": "stdout",
     "output_type": "stream",
     "text": [
      "A B C D E F G H I J K L M N O P Q R S T U V W X Y Z \n",
      "a b c d e f g h i j k l m n o p q r s t u v w x y z "
     ]
    }
   ],
   "source": [
    "# Q2\n",
    "import string\n",
    "\n",
    "upper_alphabet = string.ascii_uppercase\n",
    "lower_alphabet = string.ascii_lowercase\n",
    "\n",
    "for i in upper_alphabet :\n",
    "    print(i,end = \" \")\n",
    "print()\n",
    "for j in lower_alphabet :\n",
    "    print(j,end=\" \")"
   ]
  },
  {
   "cell_type": "markdown",
   "id": "34ce9a4e",
   "metadata": {},
   "source": [
    "16.4 Let's code"
   ]
  },
  {
   "cell_type": "code",
   "execution_count": 29,
   "id": "dc580c44",
   "metadata": {},
   "outputs": [
    {
     "name": "stdout",
     "output_type": "stream",
     "text": [
      "start the cafe menu program.\n",
      "Enter q to exit.\n",
      "Enter the input command as follows.\n",
      "    < Menu : Price\n",
      "For search commands, enter the menu after > .\n",
      "    > Americano\n",
      "==================================================\n",
      "$ < Milk:1000\n",
      "$ > Milk\n",
      "1000\n",
      "$ > Americano\n",
      "3000\n",
      "$ < Coke:500\n",
      "$ > Coke\n",
      "500\n",
      "$ q\n"
     ]
    }
   ],
   "source": [
    "cafe_menu = {\"Americano\":3000}\n",
    "\n",
    "\n",
    "print(\"\"\"start the cafe menu program.\n",
    "Enter q to exit.\n",
    "Enter the input command as follows.\n",
    "    < Menu : Price\n",
    "For search commands, enter the menu after > .\n",
    "    > Americano\"\"\")\n",
    "print(\"=\"*50)\n",
    "\n",
    "while True:\n",
    "    command=input(\"$ \")\n",
    "    if command.startswith(\"q\"):\n",
    "        break\n",
    "    elif command.startswith(\"<\") :\n",
    "        command = command.replace('<','')\n",
    "        new_menu = command.split(\":\")\n",
    "        if len(new_menu) < 2:\n",
    "            print(\"An input error has occurred.\")\n",
    "            continue\n",
    "        else:\n",
    "            cafe_menu[new_menu[0].strip()] = new_menu[1].strip()\n",
    "    elif command.startswith(\">\"):\n",
    "        command = command.replace('>','')\n",
    "        menu = command.strip()\n",
    "        if menu in cafe_menu:\n",
    "            print(cafe_menu[menu])\n",
    "        else:\n",
    "            print(f\"{menu}is not in the menu.\")\n",
    "            \n",
    "print(\"Exit the cafe Menu program.\")"
   ]
  },
  {
   "cell_type": "markdown",
   "id": "7cc7c386",
   "metadata": {},
   "source": [
    "16.5 Pair Programming"
   ]
  },
  {
   "cell_type": "code",
   "execution_count": 41,
   "id": "c6e56c01",
   "metadata": {},
   "outputs": [
    {
     "name": "stdout",
     "output_type": "stream",
     "text": [
      "Enter the prices of items : 123000;4500;1000000;23000;12500;7500;78000;199000\n",
      "1,000,000\n",
      "199,000\n",
      "123,000\n",
      "78,000\n",
      "23,000\n",
      "12,500\n",
      "7,500\n",
      "4,500\n"
     ]
    }
   ],
   "source": [
    "num = input(\"Enter the prices of items : \").split(\";\")\n",
    "\n",
    "for i in range(len(num)) :\n",
    "    num[i] = int(num[i])\n",
    "\n",
    "num.sort(reverse=True)\n",
    "\n",
    "for i in num :\n",
    "    print(\"{:,}\".format(i))"
   ]
  },
  {
   "cell_type": "code",
   "execution_count": null,
   "id": "bd25cbd3",
   "metadata": {},
   "outputs": [],
   "source": []
  },
  {
   "cell_type": "code",
   "execution_count": null,
   "id": "e907b3b3",
   "metadata": {},
   "outputs": [],
   "source": []
  },
  {
   "cell_type": "code",
   "execution_count": null,
   "id": "c35e0c4a",
   "metadata": {},
   "outputs": [],
   "source": []
  }
 ],
 "metadata": {
  "kernelspec": {
   "display_name": "Python 3 (ipykernel)",
   "language": "python",
   "name": "python3"
  },
  "language_info": {
   "codemirror_mode": {
    "name": "ipython",
    "version": 3
   },
   "file_extension": ".py",
   "mimetype": "text/x-python",
   "name": "python",
   "nbconvert_exporter": "python",
   "pygments_lexer": "ipython3",
   "version": "3.10.9"
  }
 },
 "nbformat": 4,
 "nbformat_minor": 5
}
