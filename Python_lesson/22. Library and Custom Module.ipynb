{
 "cells": [
  {
   "cell_type": "markdown",
   "id": "de481107",
   "metadata": {},
   "source": [
    "# 1. Module"
   ]
  },
  {
   "cell_type": "markdown",
   "id": "1538b256",
   "metadata": {},
   "source": [
    "## 1.1 What is a module?"
   ]
  },
  {
   "cell_type": "markdown",
   "id": "64a38e0a",
   "metadata": {},
   "source": [
    "* A moudle is used to logically group and manage Python code, allowing it to used. Typically, a single Python.py file becomes a module.\n",
    "* A module can contain functions, classes, or variables, and it can also include executable code.\n",
    "* Modules are divided into standard modules and external modules.\n",
    "    * Standard modules refer to those that are built-in by default in Python.\n",
    "    * Other modules created by third parties are called external modules."
   ]
  },
  {
   "cell_type": "markdown",
   "id": "76e8786c",
   "metadata": {},
   "source": [
    "## 1.3 External modules, external libraries"
   ]
  },
  {
   "cell_type": "markdown",
   "id": "602d7691",
   "metadata": {},
   "source": [
    "* External modules are code written by others (such as open-source libraries), so in order to use them in your code, you need to install them first.\n",
    "* The most recommended and secure way to install external libraries is by using 'pip'. Starting from Python 3.4, 'pip' is included in the Python binary installation program, making it easy to use.\n",
    "* 'pip' is a utility that accesses the widely used Python Package Index(PyPI)."
   ]
  },
  {
   "cell_type": "markdown",
   "id": "cbf1a5a7",
   "metadata": {},
   "source": [
    "## Install External module and libraries\n",
    "\n",
    "* search the module in pypi.org\n",
    "* go to copy the pip install command \n",
    "* Open terminal in Anaconda Navigator for the virtual environment\n",
    "* First run anaconda and click on environment\n",
    "* This will change the screen to display the virtual environment list and the list of installed libraries on the right side.\n",
    "* Next to the virtual environment name, click the triangular button, and a popup menu will appear. At the top of popup menu, you can see [Open terminal].\n",
    "* Click on Open terminal \n",
    "* The paste the copied pip install command then execute"
   ]
  },
  {
   "cell_type": "code",
   "execution_count": 2,
   "id": "d9bf3c6e",
   "metadata": {},
   "outputs": [
    {
     "name": "stdout",
     "output_type": "stream",
     "text": [
      "▇        \n",
      "▇        \n",
      "▇        \n",
      "▇        \n",
      "▇ ▇      \n",
      "▇ ▇      \n",
      "▇ ▇      \n",
      "▇ ▇     ▇\n",
      "▇ ▇     ▇\n",
      "▇ ▇   ▇ ▇\n",
      "\n"
     ]
    }
   ],
   "source": [
    "import chart\n",
    "x = [1,2,4,3,3,1,7,9,9,1,3,2,1,2]\n",
    "chart.histogram(x)"
   ]
  },
  {
   "cell_type": "markdown",
   "id": "bd6a7ba3",
   "metadata": {},
   "source": [
    "## 1.4 User-defined modules"
   ]
  },
  {
   "cell_type": "code",
   "execution_count": 1,
   "id": "dd70f070",
   "metadata": {},
   "outputs": [
    {
     "name": "stdout",
     "output_type": "stream",
     "text": [
      "Enter the total number of people attending the hospital fund event1\n",
      "Total fundrasing is :  4\n"
     ]
    }
   ],
   "source": [
    "import fund_cal\n",
    "\n",
    "def main() :\n",
    "    t = int(input(\"Enter the total number of people attending the hospital fund event\"))\n",
    "    total = fund_cal.fund(t)\n",
    "    \n",
    "    print(\"Total fundrasing is : \",total)\n",
    "    \n",
    "main()"
   ]
  },
  {
   "cell_type": "code",
   "execution_count": 1,
   "id": "1f78f193",
   "metadata": {
    "scrolled": true
   },
   "outputs": [
    {
     "name": "stdout",
     "output_type": "stream",
     "text": [
      "Enter the number you want to calculate :3\n",
      "The sum of all the numbers from 1 to 3 is : 6\n",
      "The value of adding all the consecutive numbers from 1 to 3 is : 6\n"
     ]
    }
   ],
   "source": [
    "import cal_n \n",
    "\n",
    "def main() :\n",
    "    n = int(input(\"Enter the number you want to calculate :\"))\n",
    "    \n",
    "    sum_v = cal_n.sum_n(n)\n",
    "    print(\"The sum of all the numbers from 1 to\",n,\"is :\",sum_v)\n",
    "    \n",
    "    sum_vv = cal_n.sum_n2(n) \n",
    "    print(\"The value of adding all the consecutive numbers from 1 to\",n, \"is :\",sum_vv)\n",
    "    \n",
    "main()\n",
    "    "
   ]
  },
  {
   "cell_type": "markdown",
   "id": "befb43d2",
   "metadata": {},
   "source": [
    "# 2. Using Representative Standart Libraries"
   ]
  },
  {
   "cell_type": "markdown",
   "id": "82d5a15b",
   "metadata": {},
   "source": [
    "## 2.1 Basic usage of the random module for generating random numbers"
   ]
  },
  {
   "cell_type": "code",
   "execution_count": 2,
   "id": "d71fce7a",
   "metadata": {},
   "outputs": [
    {
     "name": "stdout",
     "output_type": "stream",
     "text": [
      "0.3122197257719681\n",
      "0.09935295600274552\n",
      "0.9155102892756819\n",
      "0.19088836124068376\n",
      "0.7003613556797972\n",
      "0.33112083455277075\n",
      "0.7515552666410066\n",
      "0.8699738799222799\n",
      "0.5945051273757274\n",
      "0.9463939434131796\n"
     ]
    }
   ],
   "source": [
    "import random as r\n",
    "i = 0\n",
    "for i in range(10) :\n",
    "    a = r.random()\n",
    "    print(a)"
   ]
  },
  {
   "cell_type": "code",
   "execution_count": 7,
   "id": "36e712f0",
   "metadata": {},
   "outputs": [
    {
     "name": "stdout",
     "output_type": "stream",
     "text": [
      "[9, 1, 3, 10, 6, 14]\n"
     ]
    }
   ],
   "source": [
    "# example of sampling and extracting parts randomly from a list or tuple\n",
    "\n",
    "import random\n",
    "\n",
    "data = [1,2,3,4,5,6,7,8,9,10,11,12,13,14,15]\n",
    "a = random.sample(data,6)\n",
    "\n",
    "print(a)"
   ]
  },
  {
   "cell_type": "code",
   "execution_count": 22,
   "id": "b2a20de7",
   "metadata": {},
   "outputs": [
    {
     "name": "stdout",
     "output_type": "stream",
     "text": [
      "Bulldog\n"
     ]
    }
   ],
   "source": [
    "import random\n",
    "\n",
    "dog_list = (\"Labrador Retriever\", \"German Shepherd\", \"Bulldog\",\"Yorkshire Terrier\")\n",
    "my_lovely_dog = random.choice(dog_list)\n",
    "\n",
    "print(my_lovely_dog)"
   ]
  },
  {
   "cell_type": "markdown",
   "id": "c8c1f077",
   "metadata": {},
   "source": [
    "## 2.2 Functions of the random Module for Generating Floating-Point Distributions"
   ]
  },
  {
   "cell_type": "markdown",
   "id": "1f442663",
   "metadata": {},
   "source": [
    "* random.random() : returns the next random floating-point number from the interval [0.0,1.0]"
   ]
  },
  {
   "cell_type": "code",
   "execution_count": 24,
   "id": "5a03b250",
   "metadata": {},
   "outputs": [
    {
     "name": "stdout",
     "output_type": "stream",
     "text": [
      "0.8714355179439557\n"
     ]
    }
   ],
   "source": [
    "print(random.random())"
   ]
  },
  {
   "cell_type": "markdown",
   "id": "d9200519",
   "metadata": {},
   "source": [
    "* random.uniform(a,b)\n",
    "    * if a <= b : it returns a random floating-point number N that satisfies a <= N <= b.\n",
    "    * if b < a : it returns a random floating-point number N that satifies b < N < a.\n",
    "    * The endpoint value : may or may not be included in the range depending on the rounding of the floating-point value of the equation 'a + (b-a)*random()'."
   ]
  },
  {
   "cell_type": "code",
   "execution_count": 25,
   "id": "6c4068f0",
   "metadata": {},
   "outputs": [
    {
     "name": "stdout",
     "output_type": "stream",
     "text": [
      "6\n"
     ]
    }
   ],
   "source": [
    "# random.randint(a,b)\n",
    "# returns a random integer(a<N<b) between the minimum value 'a'\n",
    "# and the maximum value 'b'\n",
    "\n",
    "import random\n",
    "\n",
    "x = random.randint(1,100)\n",
    "print(x)"
   ]
  },
  {
   "cell_type": "code",
   "execution_count": 26,
   "id": "d54dc9f7",
   "metadata": {},
   "outputs": [
    {
     "name": "stdout",
     "output_type": "stream",
     "text": [
      "83\n"
     ]
    }
   ],
   "source": [
    "#random.randrange(start,stop,step)\n",
    "\n",
    "# returns a random integer from a range of values starting from the 'start'\n",
    "# value up to, but not including, the 'stop' value, with a step size of 'step'\n",
    "\n",
    "\n",
    "x = random.randrange(1,100,2)\n",
    "print(x)"
   ]
  },
  {
   "cell_type": "code",
   "execution_count": 29,
   "id": "57823f5e",
   "metadata": {},
   "outputs": [
    {
     "name": "stdout",
     "output_type": "stream",
     "text": [
      "You rolled 8.\n"
     ]
    }
   ],
   "source": [
    "roll = random.randint(1,10)\n",
    "print(f\"You rolled {roll}.\")"
   ]
  },
  {
   "cell_type": "markdown",
   "id": "f9329ce1",
   "metadata": {},
   "source": [
    "## 2.4 Basic Usage of the 'time' Module for Time-related Operations"
   ]
  },
  {
   "cell_type": "markdown",
   "id": "88b058cb",
   "metadata": {},
   "source": [
    "* time.sleep(secs)\n",
    "* This is the most commonly used function among the funcitons in the 'time' module.\n",
    "* It temporarily suspends the execution of a thread for the given number of seconds."
   ]
  },
  {
   "cell_type": "code",
   "execution_count": 31,
   "id": "7dc71a86",
   "metadata": {},
   "outputs": [
    {
     "name": "stdout",
     "output_type": "stream",
     "text": [
      "Hello 1\n",
      "Hello 2\n",
      "Hello 3\n",
      "Hello 4\n",
      "Hello 5\n",
      "Hello 6\n",
      "Hello 7\n",
      "Hello 8\n",
      "Hello 9\n",
      "Hello 10\n"
     ]
    }
   ],
   "source": [
    "# it paused 2 second per print\n",
    "\n",
    "import time \n",
    "\n",
    "for i in range(10) :\n",
    "    print(\"Hello\", i + 1)\n",
    "    time.sleep(2)"
   ]
  },
  {
   "cell_type": "markdown",
   "id": "c15dbf5b",
   "metadata": {},
   "source": [
    "### time.time()\n",
    "* It is a funciton that obtains the current time.\n",
    "* It provides the elapsed time in seconds based on the Unix timestamp.\n",
    "* However, the return values is a floating-point value that is difficult to interpret.\n",
    "\n",
    "* Unix time\n",
    "* It is also called Epoch time. It represents the elapsed time since January 1,1970, 00:00:00 (UTC) as an integer, calculated in seconds."
   ]
  },
  {
   "cell_type": "markdown",
   "id": "8e461012",
   "metadata": {},
   "source": [
    "### time.ctime()\n",
    "\n",
    "* It is a function to obtain the time in a form that we can understand."
   ]
  },
  {
   "cell_type": "code",
   "execution_count": 32,
   "id": "7da15bec",
   "metadata": {},
   "outputs": [
    {
     "name": "stdout",
     "output_type": "stream",
     "text": [
      "1695613695.5755148\n",
      "Mon Sep 25 10:48:15 2023\n"
     ]
    }
   ],
   "source": [
    "import time\n",
    "\n",
    "a = time.time()\n",
    "b = time.ctime()\n",
    "\n",
    "print(a)\n",
    "print(b)"
   ]
  },
  {
   "cell_type": "code",
   "execution_count": 33,
   "id": "afb99466",
   "metadata": {},
   "outputs": [
    {
     "name": "stdout",
     "output_type": "stream",
     "text": [
      "Mon Sep 25 10:49:28 2023\n",
      "Mon Sep 25 10:49:29 2023\n",
      "Mon Sep 25 10:49:30 2023\n",
      "Mon Sep 25 10:49:31 2023\n",
      "Mon Sep 25 10:49:32 2023\n",
      "Mon Sep 25 10:49:33 2023\n",
      "Mon Sep 25 10:49:34 2023\n",
      "Mon Sep 25 10:49:35 2023\n",
      "Mon Sep 25 10:49:36 2023\n",
      "Mon Sep 25 10:49:37 2023\n"
     ]
    }
   ],
   "source": [
    "import time\n",
    "\n",
    "for i in range(10) :\n",
    "    time.sleep(1)\n",
    "    print(time.ctime())"
   ]
  },
  {
   "cell_type": "markdown",
   "id": "f7c53278",
   "metadata": {},
   "source": [
    "### time.strftime('format',time_object)\n",
    "\n",
    "* It is a function that returns the date and time information as a string in a specific format.\n",
    "* If the %y format code is provided, it represents the two-digit year. Values 69-99 represent 1969-1999, and values 0-68 represent 2000-2068\n",
    "    * %a : abbreviated weekday name\n",
    "    * %b : abbreviated month name\n",
    "    * %d : date as a two-digit decimal\n",
    "    * %Y : year as a four-digit decimal"
   ]
  },
  {
   "cell_type": "code",
   "execution_count": 36,
   "id": "0727eb4c",
   "metadata": {},
   "outputs": [
    {
     "name": "stdout",
     "output_type": "stream",
     "text": [
      "Mon, 25, Sep, 2023, 03:56:24 +0000\n"
     ]
    }
   ],
   "source": [
    "from time import gmtime, strftime\n",
    "\n",
    "print(strftime('%a, %d, %b, %Y, %H:%M:%S +0000',gmtime()))"
   ]
  },
  {
   "cell_type": "code",
   "execution_count": 40,
   "id": "d36566a2",
   "metadata": {},
   "outputs": [
    {
     "name": "stdout",
     "output_type": "stream",
     "text": [
      "Mon, 25, Sep, 2023, 10:58:35 +0000\n"
     ]
    }
   ],
   "source": [
    "from time import localtime, strftime\n",
    "print(strftime('%a, %d, %b, %Y, %H:%M:%S +0000',localtime()))"
   ]
  },
  {
   "cell_type": "markdown",
   "id": "0753aa12",
   "metadata": {},
   "source": [
    "## 2.5 Basic usage of the 'datetime' module related to date and time"
   ]
  },
  {
   "cell_type": "code",
   "execution_count": 42,
   "id": "e0270a34",
   "metadata": {},
   "outputs": [
    {
     "name": "stdout",
     "output_type": "stream",
     "text": [
      "2023-09-25\n",
      "2023 year\n",
      "9 month\n",
      "25 day\n"
     ]
    }
   ],
   "source": [
    "# datetime.date.today()\n",
    "\n",
    "import datetime\n",
    "\n",
    "today = datetime.date.today()\n",
    "\n",
    "print(today)\n",
    "print(today.year,'year')\n",
    "print(today.month,'month')\n",
    "print(today.day,'day')"
   ]
  },
  {
   "cell_type": "code",
   "execution_count": 47,
   "id": "f4958c4b",
   "metadata": {},
   "outputs": [
    {
     "name": "stdout",
     "output_type": "stream",
     "text": [
      "2023-09-25 11:42:04.220338\n",
      "2023 year\n",
      "9 month\n",
      "25 day\n",
      "11 hour\n",
      "42 minute\n",
      "4 second\n"
     ]
    }
   ],
   "source": [
    "import datetime\n",
    "\n",
    "now = datetime.datetime.now()\n",
    "\n",
    "print(now)\n",
    "print(now.year,'year')\n",
    "print(now.month,'month')\n",
    "print(now.day,'day')\n",
    "print(now.hour,'hour')\n",
    "print(now.minute,'minute')\n",
    "print(now.second,'second')"
   ]
  },
  {
   "cell_type": "markdown",
   "id": "8ec50d53",
   "metadata": {},
   "source": [
    "### datetime.timedelta(days=0, seconds=0, microseconds=0, milliseconds=0,minutes=0, hours=0, weeks=0)\n",
    "\n",
    "* Represents the duration between two dates and times\n",
    "* All arguments are not required, optional and have a default value of 0.\n",
    "* They can be entered as integers or floating-point numbers, and positive and negative values can be used.\n",
    "    * Milliseconds are converted to 1000 microseconds.\n",
    "    * Minutes are converted to 60 seconds.\n",
    "    * Hours are converted to 3600 seconds.\n",
    "    * Weeks are conveted to 7 days"
   ]
  },
  {
   "cell_type": "code",
   "execution_count": 48,
   "id": "cd396d86",
   "metadata": {},
   "outputs": [
    {
     "name": "stdout",
     "output_type": "stream",
     "text": [
      "64 days, 8:05:27.000010\n"
     ]
    }
   ],
   "source": [
    "from datetime import timedelta\n",
    "\n",
    "delta = timedelta(\n",
    "    days = 50,\n",
    "    seconds = 27,\n",
    "    microseconds = 10,\n",
    "    minutes = 5,\n",
    "    hours = 8,\n",
    "    weeks = 2)\n",
    "\n",
    "print(delta)"
   ]
  },
  {
   "cell_type": "code",
   "execution_count": 50,
   "id": "1d725a5e",
   "metadata": {},
   "outputs": [
    {
     "name": "stdout",
     "output_type": "stream",
     "text": [
      "2000-06-02 00:00:00\n"
     ]
    }
   ],
   "source": [
    "# let find the date that is 30 days after may 3, 2000\n",
    "\n",
    "from datetime import timedelta\n",
    "\n",
    "d = datetime.datetime(2000,5,3)\n",
    "delta = datetime.timedelta(days = 30)\n",
    "\n",
    "print(d + delta)"
   ]
  },
  {
   "cell_type": "code",
   "execution_count": 51,
   "id": "0039564d",
   "metadata": {},
   "outputs": [
    {
     "name": "stdout",
     "output_type": "stream",
     "text": [
      "2023-09-25 11:53:30.602801\n",
      "2023-12-30 11:53:30.602801\n"
     ]
    }
   ],
   "source": [
    "from datetime import datetime\n",
    "\n",
    "now = datetime.now()\n",
    "print(now)\n",
    "\n",
    "replace_time = now.replace(month = 12, day = 30)\n",
    "print(replace_time)"
   ]
  },
  {
   "cell_type": "markdown",
   "id": "85515a04",
   "metadata": {},
   "source": [
    "## 2.6 Basic usage of the 'os' module related to operating systems"
   ]
  },
  {
   "cell_type": "markdown",
   "id": "a182c41f",
   "metadata": {},
   "source": [
    "* This module contains functions related to operating systems.\n",
    "    * It allows you to create a new folder on your computer or examine the list of files inside a folder using the os module.\n",
    "        * os.mkdir('folder name') : Creates a folder.\n",
    "        * os.rmdir('floder name') : Delete a folder.\n",
    "        * os.getcwd() : Returns the current path.\n",
    "        * os.listdir(): Retrieve a list of files and directories. "
   ]
  },
  {
   "cell_type": "code",
   "execution_count": 52,
   "id": "cb532687",
   "metadata": {},
   "outputs": [
    {
     "name": "stdout",
     "output_type": "stream",
     "text": [
      "/Users/anbschool0004/Documents/lesson/Python_lesson\n"
     ]
    }
   ],
   "source": [
    "import os \n",
    "\n",
    "print(os.getcwd())"
   ]
  },
  {
   "cell_type": "code",
   "execution_count": 53,
   "id": "98b7ac41",
   "metadata": {},
   "outputs": [
    {
     "name": "stdout",
     "output_type": "stream",
     "text": [
      "['5.Condition_Statement', '15. Set Data type and Iterable Data type.ipynb', '.DS_Store', '10. Turple_Datatype', '21. Class.ipynb', 'builtIn_Module.py', '16. String Mehtod.ipynb', 'input and output string.ipynb', '17. User-Defined_Function.ipynb', '__pycache__', 'Test.py', '7.List DataType', '22. Library and Custom Module.ipynb', \"Let's code.ipynb\", '8.Loop', '6.Conditional_Statement-2', '19. Lamda.ipynb', 'cal_n.py', '18. Function Recursion.ipynb', '9.While_Loop', 'variable and data type.ipynb', '.ipynb_checkpoints', \"Let's_code\", '20.Closure.ipynb', '4. Boolean expresion', 'Practice', 'fund_cal.py', 'data', '12. Two_Dimensional_List.ipynb', '11. Dictionary.ipynb', '13. File I_O.ipynb', '14. Dictionary Method.ipynb', '.idea']\n"
     ]
    }
   ],
   "source": [
    "import os\n",
    "print(os.listdir())"
   ]
  },
  {
   "cell_type": "markdown",
   "id": "3e47325b",
   "metadata": {},
   "source": [
    "# 3. Turtle Graphics"
   ]
  },
  {
   "cell_type": "markdown",
   "id": "eef3e6b3",
   "metadata": {},
   "source": [
    "## 3.1 A tool for drawing in Python, Turtle Graphics"
   ]
  },
  {
   "cell_type": "markdown",
   "id": "f10b75f3",
   "metadata": {},
   "source": [
    "* It is a way to draw pictures in Python\n",
    "* It is built into Python as a default module.\n",
    "* It has a large number of commands.\n",
    "* It has rich features."
   ]
  },
  {
   "cell_type": "markdown",
   "id": "41f19ac7",
   "metadata": {},
   "source": [
    "## 3.2 Drawing pictures using turtle"
   ]
  },
  {
   "cell_type": "code",
   "execution_count": null,
   "id": "0cebf3d3",
   "metadata": {},
   "outputs": [],
   "source": [
    "import turtle as t\n",
    "\n",
    "t.setup(width = 400,height = 400)\n",
    "for i in range(200) :\n",
    "    t.forward(i)\n",
    "    t.left(93)\n",
    "    \n",
    "t.done()"
   ]
  },
  {
   "cell_type": "code",
   "execution_count": 1,
   "id": "2a0ded74",
   "metadata": {},
   "outputs": [],
   "source": [
    "import turtle\n",
    "colors = ['red','yellow','blue','orange','green','red']\n",
    "\n",
    "aiden = turtle.Turtle()\n",
    "turtle.bgcolor('black')\n",
    "\n",
    "for n in range(36) :\n",
    "    for i in range(6) :\n",
    "        aiden.color(colors[i])\n",
    "        aiden.forward(100)\n",
    "        aiden.left(60)\n",
    "    aiden.right(10)\n",
    "    \n",
    "aiden.penup()\n",
    "aiden.color('White')\n",
    "for i in range(36) :\n",
    "    aiden.forward(220)\n",
    "    aiden.pendown()\n",
    "    aiden.circle(5)\n",
    "    aiden.penup()\n",
    "    aiden.backward(220)\n",
    "    aiden.right(10)\n",
    "    \n",
    "aiden.hideturtle()"
   ]
  },
  {
   "cell_type": "markdown",
   "id": "f9628da6",
   "metadata": {},
   "source": [
    "# 4. Regular Expressions and Meta Characters"
   ]
  },
  {
   "cell_type": "markdown",
   "id": "050a5873",
   "metadata": {},
   "source": [
    "## 4.2 Searching with Regular Expressions"
   ]
  },
  {
   "cell_type": "markdown",
   "id": "db461c5a",
   "metadata": {},
   "source": [
    "* Regular expressions have complex syntax. Here, we will focus on basic search funcitonality.\n",
    "* To use regular expressions in Python, you need to include the 're' module.\n",
    "* You can use the 'search' function to check if a specific string is present in a text.\n",
    "* Let's find out if the string 'Life' is present in the two strings, 'txt1' and 'txt2'."
   ]
  },
  {
   "cell_type": "code",
   "execution_count": 2,
   "id": "5a1f481c",
   "metadata": {},
   "outputs": [
    {
     "name": "stdout",
     "output_type": "stream",
     "text": [
      "<re.Match object; span=(0, 4), match='Life'>\n",
      "None\n"
     ]
    }
   ],
   "source": [
    "import re\n",
    "\n",
    "txt1 ='Life is too short, you need python.'\n",
    "txt2 = 'The best moments of my life.'\n",
    "print(re.search('Life',txt1))\n",
    "print(re.search('Life',txt2))"
   ]
  },
  {
   "cell_type": "markdown",
   "id": "235da033",
   "metadata": {},
   "source": [
    "* From the result above, we can see that 'txt1' contains 'Life' starting with an uppercase 'L', so the print statement indicates a match.\n",
    "* If there is a matching string, a message like '<re.Match object ..>' will be displayed.\n",
    "* 'txt2' does not contain 'Life' starting with an uppercase shows 'None'."
   ]
  },
  {
   "cell_type": "code",
   "execution_count": 6,
   "id": "3f188e49",
   "metadata": {},
   "outputs": [
    {
     "name": "stdout",
     "output_type": "stream",
     "text": [
      "Life\n",
      "\n",
      "0\n",
      "4\n",
      "(0, 4)\n",
      "Life\n"
     ]
    }
   ],
   "source": [
    "match = re.search('Life',txt1)\n",
    "print(match.group())\n",
    "\n",
    "print()\n",
    "print(match.start())\n",
    "print(match.end())\n",
    "print(match.span())\n",
    "print(txt1[0:4])"
   ]
  },
  {
   "cell_type": "markdown",
   "id": "20772682",
   "metadata": {},
   "source": [
    "* Let's call the 'group' funciton on the 'match' variable.Since 'Life\" appears once,only 'Life' is printed in the group.\n",
    "* When the 'group' function is called without any arguments, it returns the entire string that matches the regular expression. In this case, it prints 'Life'.\n",
    "* To interpret this output,let's call the 'start','end',and 'span' funcitons.\n",
    "* The 'group' function is necessary for grouping when the regular expression has multiple search results and 'start' and 'end' indicate the start and end index of the matching characters through the regular expression.\n",
    "* Finally, 'span' represents the index for slicing the matching segment."
   ]
  },
  {
   "cell_type": "code",
   "execution_count": 11,
   "id": "5632440c",
   "metadata": {},
   "outputs": [
    {
     "name": "stdout",
     "output_type": "stream",
     "text": [
      "010-2345-1234\n",
      "010\n",
      "2345-1234\n"
     ]
    }
   ],
   "source": [
    "import re\n",
    "\n",
    "text = 'please call 010-2345-1234'\n",
    "regex = re.compile('(\\d{3})-(\\d{4}-\\d{4})')\n",
    "match_obj = regex.search(text)\n",
    "print(match_obj.group())\n",
    "print(match_obj.group(1))\n",
    "print(match_obj.group(2))"
   ]
  },
  {
   "cell_type": "markdown",
   "id": "7f330e82",
   "metadata": {},
   "source": [
    "* '\\d{3}' : finds a pattern of three digits, and '\\d{4}' finds a pattern of four digits.\n",
    "* The parentheses group these patterns into group1 and group2\n",
    "* In other word, '\\d{3}' finds a pattern of three-digit integers like 010."
   ]
  },
  {
   "cell_type": "code",
   "execution_count": 14,
   "id": "4c3a316f",
   "metadata": {},
   "outputs": [
    {
     "name": "stdout",
     "output_type": "stream",
     "text": [
      "None\n"
     ]
    }
   ],
   "source": [
    "txt2 = \"The best moments of my life.\"\n",
    "print(re.search('Life',txt2))"
   ]
  },
  {
   "cell_type": "markdown",
   "id": "2cdb1f77",
   "metadata": {},
   "source": [
    "* There is a problem where it cannot find the lowercase 'life' starting with 'l' like in 'txt2' and only finds 'Life'. Let's try again using the following method."
   ]
  },
  {
   "cell_type": "code",
   "execution_count": 16,
   "id": "f6374ca0",
   "metadata": {},
   "outputs": [
    {
     "name": "stdout",
     "output_type": "stream",
     "text": [
      "<re.Match object; span=(23, 27), match='life'>\n"
     ]
    }
   ],
   "source": [
    "print(re.search('Life|life',txt2))"
   ]
  },
  {
   "cell_type": "markdown",
   "id": "11352e11",
   "metadata": {},
   "source": [
    "* In this case, since 'life' is present at the end of 'txt2', the result 'span(23,27)' correctly indentifies the index where 'life' is found and prints it.\n",
    "* The '|' symbol used here does not mean to search for 'Life|lift', but rather interprets it as meaning to search for the string 'Life' or 'life'."
   ]
  },
  {
   "cell_type": "markdown",
   "id": "fd2a640b",
   "metadata": {},
   "source": [
    "## 4.3 What are Meta Characters?"
   ]
  },
  {
   "cell_type": "code",
   "execution_count": 19,
   "id": "3db90ba1",
   "metadata": {},
   "outputs": [
    {
     "name": "stdout",
     "output_type": "stream",
     "text": [
      "<re.Match object; span=(23, 27), match='life'>\n"
     ]
    }
   ],
   "source": [
    "print(re.search('[Ll]ife',txt2))"
   ]
  },
  {
   "cell_type": "markdown",
   "id": "2255c915",
   "metadata": {},
   "source": [
    "* Similar to the previous example,'[Ll]ife' means 'Life' or 'life', where the square brackets [] represent a range of character choices."
   ]
  },
  {
   "cell_type": "code",
   "execution_count": 22,
   "id": "58cb08e2",
   "metadata": {},
   "outputs": [
    {
     "name": "stdout",
     "output_type": "stream",
     "text": [
      "None\n",
      "None\n"
     ]
    }
   ],
   "source": [
    "txt1 ='Life is too short, you need python.'\n",
    "txt2 = \"The best moments of my life.\"\n",
    "txt3 = 'My Life is My Choice'\n",
    "\n",
    "print(re.search('^Life',txt2))\n",
    "print(re.search('^Life',txt3))"
   ]
  },
  {
   "cell_type": "markdown",
   "id": "a740118e",
   "metadata": {},
   "source": [
    "* Looking at the above results, when searching 'txt3' using '^Life',only the sentences where the first word is 'Life' are searched due to the meta character '^', and despite the presence of 'Life' in the middle of a sentence, 'None' is printed."
   ]
  },
  {
   "cell_type": "code",
   "execution_count": 26,
   "id": "9783427b",
   "metadata": {},
   "outputs": [
    {
     "name": "stdout",
     "output_type": "stream",
     "text": [
      "None\n",
      "None\n"
     ]
    }
   ],
   "source": [
    "print(re.search('life$',txt1))\n",
    "print(re.search('life$',txt2)) # this is not yet the right output"
   ]
  },
  {
   "cell_type": "markdown",
   "id": "6e614fa1",
   "metadata": {},
   "source": [
    "## 4.4 Understanding key Meta Characters"
   ]
  },
  {
   "cell_type": "markdown",
   "id": "d181f4d2",
   "metadata": {},
   "source": [
    "* Let's first look at the dot(.) meta character.\n",
    "* This character represents any single character."
   ]
  },
  {
   "cell_type": "code",
   "execution_count": 27,
   "id": "784f8957",
   "metadata": {},
   "outputs": [
    {
     "name": "stdout",
     "output_type": "stream",
     "text": [
      "None\n"
     ]
    }
   ],
   "source": [
    "print(re.search('A..A','ABA'))"
   ]
  },
  {
   "cell_type": "code",
   "execution_count": 28,
   "id": "5a51d34f",
   "metadata": {},
   "outputs": [
    {
     "name": "stdout",
     "output_type": "stream",
     "text": [
      "<re.Match object; span=(0, 4), match='ABBA'>\n"
     ]
    }
   ],
   "source": [
    "print(re.search('A..A','ABBA'))"
   ]
  },
  {
   "cell_type": "code",
   "execution_count": 29,
   "id": "75b57b55",
   "metadata": {},
   "outputs": [
    {
     "name": "stdout",
     "output_type": "stream",
     "text": [
      "None\n"
     ]
    }
   ],
   "source": [
    "print(re.search('A..A','ABBBA'))"
   ]
  },
  {
   "cell_type": "code",
   "execution_count": 30,
   "id": "229ed4ca",
   "metadata": {},
   "outputs": [
    {
     "name": "stdout",
     "output_type": "stream",
     "text": [
      "<re.Match object; span=(0, 1), match='A'>\n"
     ]
    }
   ],
   "source": [
    "print(re.search('AB*','A'))"
   ]
  },
  {
   "cell_type": "code",
   "execution_count": 31,
   "id": "dce82a17",
   "metadata": {},
   "outputs": [
    {
     "name": "stdout",
     "output_type": "stream",
     "text": [
      "<re.Match object; span=(0, 1), match='A'>\n"
     ]
    }
   ],
   "source": [
    "print(re.search('AB*','AA'))"
   ]
  },
  {
   "cell_type": "code",
   "execution_count": 32,
   "id": "1003290c",
   "metadata": {},
   "outputs": [
    {
     "name": "stdout",
     "output_type": "stream",
     "text": [
      "None\n"
     ]
    }
   ],
   "source": [
    "print(re.search('AB','J-HOP'))"
   ]
  },
  {
   "cell_type": "code",
   "execution_count": 33,
   "id": "8d248709",
   "metadata": {},
   "outputs": [
    {
     "name": "stdout",
     "output_type": "stream",
     "text": [
      "<re.Match object; span=(3, 4), match='A'>\n"
     ]
    }
   ],
   "source": [
    "print(re.search('AB*','X-MAN'))"
   ]
  },
  {
   "cell_type": "code",
   "execution_count": 34,
   "id": "e7ea7b1c",
   "metadata": {},
   "outputs": [
    {
     "name": "stdout",
     "output_type": "stream",
     "text": [
      "<re.Match object; span=(1, 4), match='ABB'>\n"
     ]
    }
   ],
   "source": [
    "print(re.search('AB*','CABBA'))"
   ]
  },
  {
   "cell_type": "code",
   "execution_count": 35,
   "id": "59c722a2",
   "metadata": {},
   "outputs": [
    {
     "name": "stdout",
     "output_type": "stream",
     "text": [
      "<re.Match object; span=(1, 7), match='ABBBBB'>\n"
     ]
    }
   ],
   "source": [
    "print(re.search('AB*','CABBBBBA'))"
   ]
  },
  {
   "cell_type": "markdown",
   "id": "886c0096",
   "metadata": {},
   "source": [
    "* Among the meta characters, the asterisk (*) is a very powerful character.\n",
    "* This character matches a string that repeats the preceding character zero or more times."
   ]
  },
  {
   "cell_type": "code",
   "execution_count": 36,
   "id": "3839477d",
   "metadata": {},
   "outputs": [
    {
     "name": "stdout",
     "output_type": "stream",
     "text": [
      "<re.Match object; span=(0, 1), match='A'>\n"
     ]
    }
   ],
   "source": [
    "print(re.search('AB?','A'))"
   ]
  },
  {
   "cell_type": "code",
   "execution_count": 37,
   "id": "fdf36f2e",
   "metadata": {},
   "outputs": [
    {
     "name": "stdout",
     "output_type": "stream",
     "text": [
      "<re.Match object; span=(0, 1), match='A'>\n"
     ]
    }
   ],
   "source": [
    "print(re.search('AB?','AA'))"
   ]
  },
  {
   "cell_type": "code",
   "execution_count": 38,
   "id": "9c3b53ac",
   "metadata": {},
   "outputs": [
    {
     "name": "stdout",
     "output_type": "stream",
     "text": [
      "None\n"
     ]
    }
   ],
   "source": [
    "print(re.search('AB?','J-HOP'))"
   ]
  },
  {
   "cell_type": "code",
   "execution_count": 39,
   "id": "284dcd53",
   "metadata": {},
   "outputs": [
    {
     "name": "stdout",
     "output_type": "stream",
     "text": [
      "<re.Match object; span=(3, 4), match='A'>\n"
     ]
    }
   ],
   "source": [
    "print(re.search('AB?','X-MAN'))"
   ]
  },
  {
   "cell_type": "markdown",
   "id": "32cb1513",
   "metadata": {},
   "source": [
    "* Next, the widely used meta character? matches a string that repeats the"
   ]
  },
  {
   "cell_type": "code",
   "execution_count": null,
   "id": "1e502f7a",
   "metadata": {},
   "outputs": [],
   "source": []
  },
  {
   "cell_type": "code",
   "execution_count": null,
   "id": "0a1ba183",
   "metadata": {},
   "outputs": [],
   "source": []
  },
  {
   "cell_type": "code",
   "execution_count": null,
   "id": "dbe36948",
   "metadata": {},
   "outputs": [],
   "source": []
  },
  {
   "cell_type": "code",
   "execution_count": null,
   "id": "74488805",
   "metadata": {},
   "outputs": [],
   "source": []
  },
  {
   "cell_type": "code",
   "execution_count": null,
   "id": "6e0941ce",
   "metadata": {},
   "outputs": [],
   "source": []
  },
  {
   "cell_type": "code",
   "execution_count": null,
   "id": "c90ac357",
   "metadata": {},
   "outputs": [],
   "source": []
  },
  {
   "cell_type": "code",
   "execution_count": null,
   "id": "72de84ca",
   "metadata": {},
   "outputs": [],
   "source": []
  },
  {
   "cell_type": "code",
   "execution_count": null,
   "id": "ba07b5fd",
   "metadata": {},
   "outputs": [],
   "source": []
  }
 ],
 "metadata": {
  "kernelspec": {
   "display_name": "Python 3 (ipykernel)",
   "language": "python",
   "name": "python3"
  },
  "language_info": {
   "codemirror_mode": {
    "name": "ipython",
    "version": 3
   },
   "file_extension": ".py",
   "mimetype": "text/x-python",
   "name": "python",
   "nbconvert_exporter": "python",
   "pygments_lexer": "ipython3",
   "version": "3.10.9"
  }
 },
 "nbformat": 4,
 "nbformat_minor": 5
}
