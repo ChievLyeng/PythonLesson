{
 "cells": [
  {
   "cell_type": "code",
   "execution_count": 17,
   "id": "e9fae2f8",
   "metadata": {},
   "outputs": [
    {
     "name": "stdout",
     "output_type": "stream",
     "text": [
      "circuference : 31\n",
      "<class 'str'>\n",
      "Area : 78.5\n",
      "31.400000000000002\n"
     ]
    },
    {
     "data": {
      "text/plain": [
       "float"
      ]
     },
     "execution_count": 17,
     "metadata": {},
     "output_type": "execute_result"
    }
   ],
   "source": [
    "radius=5.0;\n",
    "pi=3.14;\n",
    "\n",
    "circumference=2*pi*radius;\n",
    "area=pi*pow(radius,2);\n",
    "\n",
    "print(\"circuference :\", int(circumference));\n",
    "print(type(str(circumference)))\n",
    "print(\"Area :\",area)\n",
    "print(str(circumference))\n",
    "type(circumference)"
   ]
  },
  {
   "cell_type": "code",
   "execution_count": 23,
   "id": "662751b6",
   "metadata": {},
   "outputs": [
    {
     "name": "stdout",
     "output_type": "stream",
     "text": [
      "120\n",
      "3628800\n"
     ]
    }
   ],
   "source": [
    "\n",
    "x=5*(5-1)*(5-2)*(5-3)\n",
    "print(x)\n",
    "\n",
    "n=10\n",
    "n=n*(n-1)*(n-2)*(n-3)*(n-4)*(n-5)*(n-6)*(n-7)*(n-8)*(n-9)\n",
    "print(n)"
   ]
  },
  {
   "cell_type": "code",
   "execution_count": null,
   "id": "3a44c7b6",
   "metadata": {},
   "outputs": [],
   "source": []
  }
 ],
 "metadata": {
  "kernelspec": {
   "display_name": "Python 3 (ipykernel)",
   "language": "python",
   "name": "python3"
  },
  "language_info": {
   "codemirror_mode": {
    "name": "ipython",
    "version": 3
   },
   "file_extension": ".py",
   "mimetype": "text/x-python",
   "name": "python",
   "nbconvert_exporter": "python",
   "pygments_lexer": "ipython3",
   "version": "3.10.9"
  }
 },
 "nbformat": 4,
 "nbformat_minor": 5
}
